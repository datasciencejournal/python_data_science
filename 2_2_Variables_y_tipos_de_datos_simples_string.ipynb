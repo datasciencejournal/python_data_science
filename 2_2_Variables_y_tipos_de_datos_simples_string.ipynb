{
  "nbformat": 4,
  "nbformat_minor": 0,
  "metadata": {
    "colab": {
      "name": "2.2 Variables y tipos de datos simples - string.ipynb",
      "provenance": [],
      "collapsed_sections": [],
      "toc_visible": true,
      "include_colab_link": true
    },
    "kernelspec": {
      "name": "python3",
      "display_name": "Python 3"
    }
  },
  "cells": [
    {
      "cell_type": "markdown",
      "metadata": {
        "id": "view-in-github",
        "colab_type": "text"
      },
      "source": [
        "<a href=\"https://colab.research.google.com/github/datasciencejournal/python_data_science/blob/main/2_2_Variables_y_tipos_de_datos_simples_string.ipynb\" target=\"_parent\"><img src=\"https://colab.research.google.com/assets/colab-badge.svg\" alt=\"Open In Colab\"/></a>"
      ]
    },
    {
      "cell_type": "markdown",
      "metadata": {
        "id": "Qf2obNMUdXBJ"
      },
      "source": [
        "## Strings\n",
        "\n",
        "El primer tipo de datos que vamos a ver son los Strings o cadenas. Los strings son bastantes simples a primera vista, pero podemos usarlos de muchas maneras diferentes.\n",
        "\n",
        "Un String es una serie de caracteres. Cualquier cosa dentro de comillas (`\"\"`). Podemos usar tanto comillas simples o apóstrofes (`''`) o comillas dobles.\n",
        "\n",
        "Veamos los siguientes ejemplos:"
      ]
    },
    {
      "cell_type": "code",
      "metadata": {
        "id": "SBxbYMYjbGQ4",
        "outputId": "f3b1e67e-a0dd-4aaf-d142-505a40723a94",
        "colab": {
          "base_uri": "https://localhost:8080/",
          "height": 35
        }
      },
      "source": [
        "\"Esto es un String\""
      ],
      "execution_count": 1,
      "outputs": [
        {
          "output_type": "execute_result",
          "data": {
            "application/vnd.google.colaboratory.intrinsic+json": {
              "type": "string"
            },
            "text/plain": [
              "'Esto es un String'"
            ]
          },
          "metadata": {
            "tags": []
          },
          "execution_count": 1
        }
      ]
    },
    {
      "cell_type": "code",
      "metadata": {
        "id": "ZWdI2J_VeGrQ",
        "outputId": "44f2e289-e79a-4e1d-b9fc-e4e641bfd57d",
        "colab": {
          "base_uri": "https://localhost:8080/",
          "height": 35
        }
      },
      "source": [
        "'Esto también es un String'"
      ],
      "execution_count": 2,
      "outputs": [
        {
          "output_type": "execute_result",
          "data": {
            "application/vnd.google.colaboratory.intrinsic+json": {
              "type": "string"
            },
            "text/plain": [
              "'Esto también es un String'"
            ]
          },
          "metadata": {
            "tags": []
          },
          "execution_count": 2
        }
      ]
    },
    {
      "cell_type": "markdown",
      "metadata": {
        "id": "pgE40uG_eQo2"
      },
      "source": [
        "Podemos usar comillas y apóstrofes dentro de nuestros Strings"
      ]
    },
    {
      "cell_type": "code",
      "metadata": {
        "id": "muHnwD4DeLkQ",
        "outputId": "0cbdb0d1-5fd9-4a3a-c3f4-4d62bd4e0732",
        "colab": {
          "base_uri": "https://localhost:8080/",
          "height": 35
        }
      },
      "source": [
        "' Como decía mi amigo \"Python es mi lenguaje favorito\" '"
      ],
      "execution_count": 3,
      "outputs": [
        {
          "output_type": "execute_result",
          "data": {
            "application/vnd.google.colaboratory.intrinsic+json": {
              "type": "string"
            },
            "text/plain": [
              "' Como decía mi amigo \"Python es mi lenguaje favorito\" '"
            ]
          },
          "metadata": {
            "tags": []
          },
          "execution_count": 3
        }
      ]
    },
    {
      "cell_type": "code",
      "metadata": {
        "id": "E5GFIoJ_eltE",
        "outputId": "d3b3b647-0f80-49d4-e783-7fc3c014aba3",
        "colab": {
          "base_uri": "https://localhost:8080/",
          "height": 35
        }
      },
      "source": [
        "\"El lenguaje 'Python' lleva el nombre de 'Monty Python' no de la serpiente\""
      ],
      "execution_count": 4,
      "outputs": [
        {
          "output_type": "execute_result",
          "data": {
            "application/vnd.google.colaboratory.intrinsic+json": {
              "type": "string"
            },
            "text/plain": [
              "\"El lenguaje 'Python' lleva el nombre de 'Monty Python' no de la serpiente\""
            ]
          },
          "metadata": {
            "tags": []
          },
          "execution_count": 4
        }
      ]
    },
    {
      "cell_type": "markdown",
      "metadata": {
        "id": "mqHMSohxeyfx"
      },
      "source": [
        "### Cambiando de mayúsculas y minúsculas en un String con métodos\n",
        "\n",
        "Una de las tareas simples que podemos hacer con String es cambiar a mayúsculas en un String."
      ]
    },
    {
      "cell_type": "code",
      "metadata": {
        "id": "m7LLYQZRev5f",
        "outputId": "fe1fe573-12d2-4504-ebc8-c5d606abfb8e",
        "colab": {
          "base_uri": "https://localhost:8080/",
          "height": 34
        }
      },
      "source": [
        "nombre = \"jahaziel ponce\"\n",
        "\n",
        "print(nombre.title())"
      ],
      "execution_count": 5,
      "outputs": [
        {
          "output_type": "stream",
          "text": [
            "Jahaziel Ponce\n"
          ],
          "name": "stdout"
        }
      ]
    },
    {
      "cell_type": "markdown",
      "metadata": {
        "id": "VOUJuq1jfnjO"
      },
      "source": [
        "En este ejemplo, la variable `nombre` se refiere al String en minúscula `\"jahaziel ponce\"`. El método `title()` aparece despues de la variable en la llamada `print()`.\n",
        "\n",
        "Un *método* es una acción que Python puede realizar en una pieza de datos. El punto (`.`) después de `nombre` en `nombre.title()` le dice a Python que el método `title()` actue sobre la variable `nombre`.\n",
        "\n",
        "Cada método es seguido por un paréntesis, porque a menudo necesitan información adicional, o parámetros, para hacer su trabajo. Esas informaciones se proporcionan dentro de los paréntesis. El método `title()` no necesita ninguna información adicional, por lo que el paréntesis está vacio.\n",
        "\n",
        "El método `title()` se utiliza para convertir el primer caracter de una palabra a mayúsculas y los caracteres restantes a minúsculas."
      ]
    },
    {
      "cell_type": "markdown",
      "metadata": {
        "id": "VsBH2Y1Ghx_P"
      },
      "source": [
        "Hay varios métodos útiles disponibles, por ejemplo, cambiar todos los caracteres de un String en mayúsculas o minúsculas"
      ]
    },
    {
      "cell_type": "code",
      "metadata": {
        "id": "VUnGsDXRfir1"
      },
      "source": [
        "nombre = \"Jahaziel Ponce\""
      ],
      "execution_count": 6,
      "outputs": []
    },
    {
      "cell_type": "code",
      "metadata": {
        "id": "4msAjoN3iCWW",
        "outputId": "86af2fd7-a961-49c9-fea0-dd0169222f70",
        "colab": {
          "base_uri": "https://localhost:8080/",
          "height": 34
        }
      },
      "source": [
        "print(nombre.upper())"
      ],
      "execution_count": 7,
      "outputs": [
        {
          "output_type": "stream",
          "text": [
            "JAHAZIEL PONCE\n"
          ],
          "name": "stdout"
        }
      ]
    },
    {
      "cell_type": "code",
      "metadata": {
        "id": "86XLqUMXiFxt",
        "outputId": "7c9e9b02-e8db-45e0-b021-468a0b25f915",
        "colab": {
          "base_uri": "https://localhost:8080/",
          "height": 34
        }
      },
      "source": [
        "print(nombre.lower())"
      ],
      "execution_count": 8,
      "outputs": [
        {
          "output_type": "stream",
          "text": [
            "jahaziel ponce\n"
          ],
          "name": "stdout"
        }
      ]
    },
    {
      "cell_type": "markdown",
      "metadata": {
        "id": "ipnQ9R3eiV6F"
      },
      "source": [
        "El método `lower()` es útil para guardar datos. Con este método aseguramos que todos los caracteres sean siempre en minúsculas, independientemente de si los usuarios escriben con mayúsculas o minúsculas"
      ]
    },
    {
      "cell_type": "markdown",
      "metadata": {
        "id": "WO42lhAji5lt"
      },
      "source": [
        "### Usando variables en String\n",
        "\n",
        "En algunas situaciones, querremos usar el valor de una variable dentro de un String.\n",
        "\n",
        "Por ejemplo, supongamos que queremos guardar el nombre en una variable y el apellido en otra, pero queremos mostrar un mensaje con el nombre completo:"
      ]
    },
    {
      "cell_type": "code",
      "metadata": {
        "id": "Bi9G1dwoiI7T"
      },
      "source": [
        "nombre = \"jahaziel\"\n",
        "\n",
        "apellido = \"ponce\""
      ],
      "execution_count": 9,
      "outputs": []
    },
    {
      "cell_type": "markdown",
      "metadata": {
        "id": "q4uzyp1Sjvx4"
      },
      "source": [
        "Si queremos insertar el valor de una variable en un string, tenemos que agregar la letra `f` inmediatamente antes de la comilla de apertura. Luego, tenemos que colocar `{}` alrededor del nombre o nombres de las variables que deseemos usar dentro del string. Python reemplazará cada variable con su valor cuando se muestre el String. Veamos:"
      ]
    },
    {
      "cell_type": "code",
      "metadata": {
        "id": "_OGwMXnijWsP"
      },
      "source": [
        "nombre_completo = f\"{nombre} {apellido}\""
      ],
      "execution_count": 10,
      "outputs": []
    },
    {
      "cell_type": "code",
      "metadata": {
        "id": "ZtRMy2gjjdv9",
        "outputId": "ea3d0306-ea1f-4125-a86b-f505619114cf",
        "colab": {
          "base_uri": "https://localhost:8080/",
          "height": 34
        }
      },
      "source": [
        "print(nombre_completo)"
      ],
      "execution_count": 11,
      "outputs": [
        {
          "output_type": "stream",
          "text": [
            "jahaziel ponce\n"
          ],
          "name": "stdout"
        }
      ]
    },
    {
      "cell_type": "markdown",
      "metadata": {
        "id": "uxyLvZbVkYfF"
      },
      "source": [
        "Estos String se llaman *f-strings*. *f* es para el formato, porque Python formatea el String reemplazando el nombre de cualquier variable entre llaves con su valor.\n",
        "\n",
        "Podemos hacer muchas cosas con *f-strings*. Por ejemplo, podemos usar *f-strings* para componer mensajes completos:"
      ]
    },
    {
      "cell_type": "code",
      "metadata": {
        "id": "sUlPxCk7jih9",
        "outputId": "74daf3d9-f2c9-4eb3-9278-3f8cb09dcdd5",
        "colab": {
          "base_uri": "https://localhost:8080/",
          "height": 34
        }
      },
      "source": [
        "print(f\"!Hola, {nombre_completo.title()}!\")"
      ],
      "execution_count": 12,
      "outputs": [
        {
          "output_type": "stream",
          "text": [
            "!Hola, Jahaziel Ponce!\n"
          ],
          "name": "stdout"
        }
      ]
    },
    {
      "cell_type": "markdown",
      "metadata": {
        "id": "RUeo5ioyv3FK"
      },
      "source": [
        "El nombre completo se usa en la oración que salida al usuario y el método `title()` cambia el nombre a mayúscula.\n",
        "\n",
        "También podemos usar f-strings para componer un mensaje, y asignar este mensaje a una variable."
      ]
    },
    {
      "cell_type": "code",
      "metadata": {
        "id": "0sHekmjejpe2"
      },
      "source": [
        "mensaje = f\"¡Hola, {nombre_completo.title()}!\""
      ],
      "execution_count": 13,
      "outputs": []
    },
    {
      "cell_type": "code",
      "metadata": {
        "id": "cLmGR1DtwKQm",
        "outputId": "dc9352d1-397d-43c4-e914-4ece030003eb",
        "colab": {
          "base_uri": "https://localhost:8080/",
          "height": 34
        }
      },
      "source": [
        "print(mensaje)"
      ],
      "execution_count": 14,
      "outputs": [
        {
          "output_type": "stream",
          "text": [
            "¡Hola, Jahaziel Ponce!\n"
          ],
          "name": "stdout"
        }
      ]
    },
    {
      "cell_type": "markdown",
      "metadata": {
        "id": "bs8VwwNgwQd1"
      },
      "source": [
        "El código muestra el mensaje `¡Hola, Jahaziel Ponce!` y lo almacena en la variable `mensaje`"
      ]
    },
    {
      "cell_type": "markdown",
      "metadata": {
        "id": "AKQ4vzrXwiHC"
      },
      "source": [
        "### Agregando espacios, tabulaciones o líneas nuevas en un String\n",
        "\n",
        "En programación, el espacio en blando se refiere a cualquier caracter no imprimible, como espacios, tabulaciones y símbolos de fin de línea.\n",
        "\n",
        "Podemos usar espacios en blanco para organizar nuestra salida para que sea de facil lectura.\n",
        "\n",
        "Para agregar una tabulación a nuestro texto, usamos la combinacón de caracteres `\"\\t\"`. Veamos:"
      ]
    },
    {
      "cell_type": "code",
      "metadata": {
        "id": "6eo80pHPwLJe",
        "outputId": "f5d506e5-73f8-4fa7-9946-0a1f0531bd70",
        "colab": {
          "base_uri": "https://localhost:8080/",
          "height": 34
        }
      },
      "source": [
        "print(\"Python\")"
      ],
      "execution_count": 15,
      "outputs": [
        {
          "output_type": "stream",
          "text": [
            "Python\n"
          ],
          "name": "stdout"
        }
      ]
    },
    {
      "cell_type": "code",
      "metadata": {
        "id": "w2A5mwhQxeOf",
        "outputId": "ca55d2b2-e607-49ed-90df-dc303c649adb",
        "colab": {
          "base_uri": "https://localhost:8080/",
          "height": 34
        }
      },
      "source": [
        "print(\"\\tPython\")"
      ],
      "execution_count": 16,
      "outputs": [
        {
          "output_type": "stream",
          "text": [
            "\tPython\n"
          ],
          "name": "stdout"
        }
      ]
    },
    {
      "cell_type": "markdown",
      "metadata": {
        "id": "KVJ7iCrYxh8u"
      },
      "source": [
        "Si queremos añadir una nueva línea en un String, usamos la combinación de caracteres `\"\\n\"`. Por ejemplo:"
      ]
    },
    {
      "cell_type": "code",
      "metadata": {
        "id": "Yb7D5cnfxfum",
        "outputId": "182adb9c-33ec-4ba8-c008-59562d39dad5",
        "colab": {
          "base_uri": "https://localhost:8080/",
          "height": 84
        }
      },
      "source": [
        "print(\"Lenguajes:\\nPython\\nC\\nJavaScript\")"
      ],
      "execution_count": 17,
      "outputs": [
        {
          "output_type": "stream",
          "text": [
            "Lenguajes:\n",
            "Python\n",
            "C\n",
            "JavaScript\n"
          ],
          "name": "stdout"
        }
      ]
    },
    {
      "cell_type": "markdown",
      "metadata": {
        "id": "4V4ooc0wx2m5"
      },
      "source": [
        "Podemos combinar tabulaciones y nuevas líneas en un simple String. Por ejemplo, el String `\"\\n\\t\"` le dice a Python que mueva una línea y empiece la siguiente línea con una tabulación. Veamos:"
      ]
    },
    {
      "cell_type": "code",
      "metadata": {
        "id": "FpD5LofQxy_T",
        "outputId": "87f83928-75b9-4b0d-8c8b-7af82e418eb8",
        "colab": {
          "base_uri": "https://localhost:8080/",
          "height": 84
        }
      },
      "source": [
        "print(\"Lenguajes:\\n\\tPython\\n\\tC\\n\\tJavaScript\")"
      ],
      "execution_count": 18,
      "outputs": [
        {
          "output_type": "stream",
          "text": [
            "Lenguajes:\n",
            "\tPython\n",
            "\tC\n",
            "\tJavaScript\n"
          ],
          "name": "stdout"
        }
      ]
    },
    {
      "cell_type": "markdown",
      "metadata": {
        "id": "J7Qi3ouZyP0l"
      },
      "source": [
        "### Eliminar espacios en blanco\n",
        "\n",
        "Los espacios en blanco adicionales pueden ser confusos en nuestros programas. Por ejemplo, puede que para nosotros `'python'` y `'python '` se vean más o menos igual, pero para un programa estos son diferentes. Python detecta el espacio extra en `'python '` y lo considera significativo.\n",
        "\n",
        "Es importante pensar en los espacios en blanco, ya que a menudo vamos a querer comparar dos String para determinar si son iguales. Por ejemplo, si queremos verificar los nombres de usuarios cuando inician sesión en una página web.\n",
        "\n",
        "Si, por ejemplo, queremos asegurarnos de que no existan espacios en blanco en el extremo derecho de un String, usamos el método `rstrip`. Veamos:"
      ]
    },
    {
      "cell_type": "code",
      "metadata": {
        "id": "Jy9N75z0yKbt",
        "outputId": "bdd942a1-301b-4ec8-8561-ed7a7c79742d",
        "colab": {
          "base_uri": "https://localhost:8080/",
          "height": 35
        }
      },
      "source": [
        "lenguaje_favorito = \"python \"\n",
        "lenguaje_favorito"
      ],
      "execution_count": 19,
      "outputs": [
        {
          "output_type": "execute_result",
          "data": {
            "application/vnd.google.colaboratory.intrinsic+json": {
              "type": "string"
            },
            "text/plain": [
              "'python '"
            ]
          },
          "metadata": {
            "tags": []
          },
          "execution_count": 19
        }
      ]
    },
    {
      "cell_type": "code",
      "metadata": {
        "id": "Yxb0UQAR4p8t",
        "outputId": "ffc88a9c-762c-4b2c-caf9-c6248f330f7e",
        "colab": {
          "base_uri": "https://localhost:8080/",
          "height": 35
        }
      },
      "source": [
        "lenguaje_favorito.rstrip()"
      ],
      "execution_count": 20,
      "outputs": [
        {
          "output_type": "execute_result",
          "data": {
            "application/vnd.google.colaboratory.intrinsic+json": {
              "type": "string"
            },
            "text/plain": [
              "'python'"
            ]
          },
          "metadata": {
            "tags": []
          },
          "execution_count": 20
        }
      ]
    },
    {
      "cell_type": "markdown",
      "metadata": {
        "id": "ugcMyx284-oY"
      },
      "source": [
        "El valor asociado con `lenguaje_favorito` contiene espacios en blanco adicionales al final del String.\n",
        "El método `rstrip()` actua sobre la variable `lenguaje_favorito` y el espacio extra se elimina. Pero solo es temporal, ya que la variable original sigue con el espacio en blanco"
      ]
    },
    {
      "cell_type": "code",
      "metadata": {
        "id": "1rmjseUP4uxz",
        "outputId": "a126002a-1816-4d15-d02f-4907f45a5673",
        "colab": {
          "base_uri": "https://localhost:8080/",
          "height": 35
        }
      },
      "source": [
        "lenguaje_favorito"
      ],
      "execution_count": 21,
      "outputs": [
        {
          "output_type": "execute_result",
          "data": {
            "application/vnd.google.colaboratory.intrinsic+json": {
              "type": "string"
            },
            "text/plain": [
              "'python '"
            ]
          },
          "metadata": {
            "tags": []
          },
          "execution_count": 21
        }
      ]
    },
    {
      "cell_type": "markdown",
      "metadata": {
        "id": "I_R-dWSg5cWo"
      },
      "source": [
        "Para eliminar el espacio en blanco del String de forma permanente, tenemos que asociar el valor eliminado con el nombre de la variable.\n",
        "\n",
        "Por ejemplo, tenemos la variable `lenguaje_favorito`, este tiene un espacio en blanco a la derecha y queremos eliminarlo; usamos el método `rstrip()` y lo almacenamos en la misma variable:"
      ]
    },
    {
      "cell_type": "code",
      "metadata": {
        "id": "0hdn6SdI5bJr",
        "outputId": "9320b4ee-7762-4c53-e6dd-94d0a9e6e39b",
        "colab": {
          "base_uri": "https://localhost:8080/",
          "height": 35
        }
      },
      "source": [
        "lenguaje_favorito = \"python \"\n",
        "\n",
        "lenguaje_favorito = lenguaje_favorito.rstrip()\n",
        "\n",
        "lenguaje_favorito"
      ],
      "execution_count": 22,
      "outputs": [
        {
          "output_type": "execute_result",
          "data": {
            "application/vnd.google.colaboratory.intrinsic+json": {
              "type": "string"
            },
            "text/plain": [
              "'python'"
            ]
          },
          "metadata": {
            "tags": []
          },
          "execution_count": 22
        }
      ]
    },
    {
      "cell_type": "markdown",
      "metadata": {
        "id": "3Zf2oare50Mt"
      },
      "source": [
        "Ahora la variable `lenguaje_favorito` no tiene espacios en blanco a la derecha.\n",
        "\n",
        "Cambiar el valor de una variable se realiza a menudo en programación.\n",
        "\n",
        "\n",
        "Si queremos eliminar espacios en blanco al lado izquiero de un String usammos el método `lstrip()` y para quitar los espacios en blanco en ambos lados a la vez usamos el método `strip()`"
      ]
    },
    {
      "cell_type": "code",
      "metadata": {
        "id": "tGVOjawc5psa",
        "outputId": "c948b7b1-6fc1-4b74-a787-91645b215650",
        "colab": {
          "base_uri": "https://localhost:8080/",
          "height": 35
        }
      },
      "source": [
        "lenguaje_favorito = ' python '\n",
        "\n",
        "# Eliminando espacios en blanco al lado derecho\n",
        "lenguaje_favorito.rstrip()"
      ],
      "execution_count": 23,
      "outputs": [
        {
          "output_type": "execute_result",
          "data": {
            "application/vnd.google.colaboratory.intrinsic+json": {
              "type": "string"
            },
            "text/plain": [
              "' python'"
            ]
          },
          "metadata": {
            "tags": []
          },
          "execution_count": 23
        }
      ]
    },
    {
      "cell_type": "code",
      "metadata": {
        "id": "mU_o1yi36P1q",
        "outputId": "265aef1a-8d30-4d07-cf15-3d290c30c9d1",
        "colab": {
          "base_uri": "https://localhost:8080/",
          "height": 35
        }
      },
      "source": [
        "# Eliminando espacios en blanco al lado izquierdo\n",
        "lenguaje_favorito.lstrip()"
      ],
      "execution_count": 24,
      "outputs": [
        {
          "output_type": "execute_result",
          "data": {
            "application/vnd.google.colaboratory.intrinsic+json": {
              "type": "string"
            },
            "text/plain": [
              "'python '"
            ]
          },
          "metadata": {
            "tags": []
          },
          "execution_count": 24
        }
      ]
    },
    {
      "cell_type": "code",
      "metadata": {
        "id": "b--XKcuI6Rei",
        "outputId": "a1fdc68e-33bd-4d16-c40d-cb0f2aed2470",
        "colab": {
          "base_uri": "https://localhost:8080/",
          "height": 35
        }
      },
      "source": [
        "# Eliminando espacios en blanco en ambos lados\n",
        "lenguaje_favorito.strip()"
      ],
      "execution_count": 25,
      "outputs": [
        {
          "output_type": "execute_result",
          "data": {
            "application/vnd.google.colaboratory.intrinsic+json": {
              "type": "string"
            },
            "text/plain": [
              "'python'"
            ]
          },
          "metadata": {
            "tags": []
          },
          "execution_count": 25
        }
      ]
    },
    {
      "cell_type": "markdown",
      "metadata": {
        "id": "ziWHvzTW6dv4"
      },
      "source": [
        "### Evitando errores de sintaxis con String\n",
        "\n",
        "Un error común cuando trabajamos con Strings en Python son los errores de Sintaxis. Un error de sintaxis se produce cuando Python no reconoce una sección de su programa como código válido.\n",
        "\n",
        "Si, por ejemplo, usamos un apóstrofe entre comillas simples, generará un error. Esto sucede porque Python interpreta todo lo que está entre la comilla simple y el apóstrofe como un string. Al intentar interpretar el resto del texto como código Python, causará error.\n",
        "\n",
        "Veamos cómo usar comillas simples y dobles correctamente:"
      ]
    },
    {
      "cell_type": "code",
      "metadata": {
        "id": "RPbTXsyR6TYy",
        "outputId": "cdb5a986-300c-49f2-eabc-bf74aa115f60",
        "colab": {
          "base_uri": "https://localhost:8080/",
          "height": 34
        }
      },
      "source": [
        "mensaje = \"Mi nombre completo es: 'Jahaziel Ponce'\"\n",
        "print(mensaje)"
      ],
      "execution_count": 26,
      "outputs": [
        {
          "output_type": "stream",
          "text": [
            "Mi nombre completo es: 'Jahaziel Ponce'\n"
          ],
          "name": "stdout"
        }
      ]
    },
    {
      "cell_type": "markdown",
      "metadata": {
        "id": "umsHMiRB7fq9"
      },
      "source": [
        "Las comillas simples aparecen dentro de las comillas dobles, por lo que Python no tiene problemas para leer el String correctamente.\n",
        "\n",
        "Pero veamos el siguiente ejemplo:"
      ]
    },
    {
      "cell_type": "code",
      "metadata": {
        "id": "1TmBgHNh7dY8",
        "outputId": "70de2e6b-8442-40f1-d611-b7fe74e750a8",
        "colab": {
          "base_uri": "https://localhost:8080/",
          "height": 128
        }
      },
      "source": [
        "mensaje = 'Mi nombre completo es : 'Jahaziel Ponce''\n",
        "print(mensaje)"
      ],
      "execution_count": 27,
      "outputs": [
        {
          "output_type": "error",
          "ename": "SyntaxError",
          "evalue": "ignored",
          "traceback": [
            "\u001b[0;36m  File \u001b[0;32m\"<ipython-input-27-c09f2acd9e5b>\"\u001b[0;36m, line \u001b[0;32m1\u001b[0m\n\u001b[0;31m    mensaje = 'Mi nombre completo es : 'Jahaziel Ponce''\u001b[0m\n\u001b[0m                                               ^\u001b[0m\n\u001b[0;31mSyntaxError\u001b[0m\u001b[0;31m:\u001b[0m invalid syntax\n"
          ]
        }
      ]
    },
    {
      "cell_type": "markdown",
      "metadata": {
        "id": "Q9HSNUHE9C7E"
      },
      "source": [
        "Se puede ver que el error ocurre en la primera línea, justo después de la segunda comilla simple. Este error de sintaxis indica que el intérprete no reconoce algo en el código como código Python válido."
      ]
    },
    {
      "cell_type": "code",
      "metadata": {
        "id": "GQG3rcQ0tJMJ"
      },
      "source": [
        ""
      ],
      "execution_count": 27,
      "outputs": []
    }
  ]
}