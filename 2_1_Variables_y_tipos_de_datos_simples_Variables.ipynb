{
  "nbformat": 4,
  "nbformat_minor": 0,
  "metadata": {
    "colab": {
      "name": "2.1 Variables y tipos de datos simples - Variables.ipynb",
      "provenance": [],
      "collapsed_sections": [],
      "toc_visible": true,
      "include_colab_link": true
    },
    "kernelspec": {
      "name": "python3",
      "display_name": "Python 3"
    }
  },
  "cells": [
    {
      "cell_type": "markdown",
      "metadata": {
        "id": "view-in-github",
        "colab_type": "text"
      },
      "source": [
        "<a href=\"https://colab.research.google.com/github/datasciencejournal/python_data_science/blob/main/2_1_Variables_y_tipos_de_datos_simples_Variables.ipynb\" target=\"_parent\"><img src=\"https://colab.research.google.com/assets/colab-badge.svg\" alt=\"Open In Colab\"/></a>"
      ]
    },
    {
      "cell_type": "markdown",
      "metadata": {
        "id": "zY8TM0CK5LhT"
      },
      "source": [
        "# Variables y tipos de datos simples\n",
        "\n",
        "En esta sección vamos a aprender:\n",
        "* Distintos tipos de datos que podemos trabajar en nuestros programas de Python.\n",
        "* Cómo usar las variables para representar los datos en nuestros programas"
      ]
    },
    {
      "cell_type": "markdown",
      "metadata": {
        "id": "9RKBBjTn5Tsv"
      },
      "source": [
        "## Variables\n",
        "\n",
        "Una variable es un sitio donde vamos a guardar determinada información. Dependiendo del tipo de información que guardemos (texto, números, etc), la variable puede ser de uno y otro tipo. \n",
        "\n",
        "Pensemos las variables como etiquetas que se puede asignar valores. También podemos decir que una variable hace referencia a un cierto valor.\n",
        "\n",
        "Empecemos creando nuestra variable `mensaje`"
      ]
    },
    {
      "cell_type": "code",
      "metadata": {
        "id": "iWera_HA30sD"
      },
      "source": [
        "mensaje = \"Bienvenidos al mundo de Python\""
      ],
      "execution_count": 1,
      "outputs": []
    },
    {
      "cell_type": "code",
      "metadata": {
        "id": "yomgbU0U5B9c",
        "outputId": "59258b0e-b29a-4cb5-b4df-ab63e69bcd9d",
        "colab": {
          "base_uri": "https://localhost:8080/",
          "height": 34
        }
      },
      "source": [
        "print(mensaje)"
      ],
      "execution_count": 2,
      "outputs": [
        {
          "output_type": "stream",
          "text": [
            "Bienvenidos al mundo de Python\n"
          ],
          "name": "stdout"
        }
      ]
    },
    {
      "cell_type": "markdown",
      "metadata": {
        "id": "5xSUiitD5iGC"
      },
      "source": [
        "En el script anterior hemos añadido una *variable* llamada `mensaje` Cada variable está conectada a un *valor*, el cual es la información asociada a la variable. En este caso el valor es el texto `\"Bienvenidos al mundo de Python\"`\n"
      ]
    },
    {
      "cell_type": "code",
      "metadata": {
        "id": "HM2kEz6-5NnF",
        "outputId": "61bc35d3-1276-4b85-f70d-95bd20abee36",
        "colab": {
          "base_uri": "https://localhost:8080/",
          "height": 34
        }
      },
      "source": [
        "mensaje = \"Bienvenidos al mundo de Python\"\n",
        "print(mensaje)"
      ],
      "execution_count": 3,
      "outputs": [
        {
          "output_type": "stream",
          "text": [
            "Bienvenidos al mundo de Python\n"
          ],
          "name": "stdout"
        }
      ]
    },
    {
      "cell_type": "markdown",
      "metadata": {
        "id": "cn2jcwj17gyr"
      },
      "source": [
        "En la primera línea, hemos asociado la variable `mensaje` con el texto `\"Bienvenidos al mundo de Python\"`. Cuando llega a la segunda línea, estamos imprimiendo el valor asociado con la variable `mensaje`."
      ]
    },
    {
      "cell_type": "markdown",
      "metadata": {
        "id": "OcxEAh5LkMdw"
      },
      "source": [
        "Si deseamos, podemos cambiar el valor de la variable en cualquier momento, solo que Python mantendrá el valor actual. Veamos: "
      ]
    },
    {
      "cell_type": "code",
      "metadata": {
        "id": "fk3oEl9l7gIv",
        "outputId": "74a98177-7b0c-4cd7-dede-1d1b6a577f02",
        "colab": {
          "base_uri": "https://localhost:8080/",
          "height": 50
        }
      },
      "source": [
        "mensaje = \"Bienvenidos al mundo de Python\"\n",
        "print(mensaje)\n",
        "\n",
        "mensaje = \"Mundo de Python - bienvenidos\"\n",
        "print(mensaje)"
      ],
      "execution_count": 4,
      "outputs": [
        {
          "output_type": "stream",
          "text": [
            "Bienvenidos al mundo de Python\n",
            "Mundo de Python - bienvenidos\n"
          ],
          "name": "stdout"
        }
      ]
    },
    {
      "cell_type": "markdown",
      "metadata": {
        "id": "PvrUlOXj74sO"
      },
      "source": [
        "Empezamos asociando nuestra variable `mensaje` con el texto `\"Bienvenidos al mundo de Python\"`, pero luego hemos cambiado el valor de esta variable con el texto `\"Mundo de Python - bienvenidos\"`. Python olvida el valor anterior y guarda el nuevo valor. Veamos qué pasa si imprimimos de nuevo la variable `mensaje`."
      ]
    },
    {
      "cell_type": "code",
      "metadata": {
        "id": "zbOCilAU715X",
        "outputId": "b6310a6d-53fa-492a-adc8-7641ea426e7f",
        "colab": {
          "base_uri": "https://localhost:8080/",
          "height": 34
        }
      },
      "source": [
        "print(mensaje)"
      ],
      "execution_count": 5,
      "outputs": [
        {
          "output_type": "stream",
          "text": [
            "Mundo de Python - bienvenidos\n"
          ],
          "name": "stdout"
        }
      ]
    },
    {
      "cell_type": "markdown",
      "metadata": {
        "id": "BEB1vkSe84uW"
      },
      "source": [
        "### Consejos para nombrar y usar variables\n",
        "\n",
        "A continuación indicamos algunas reglas y pautas que debemos cumplir cuando creamos variables. Si rompemos algunas de estas reglas puede que empiecen a aparecer errores.\n",
        "\n",
        "* Los nombres de las variables solo pueden contener letras, números y guiones bajos. Pueden comenzar con una letra o un guión bajo, pero no con un número. Veamos con el siguiente ejemplo ¿Puede detectar el error?\n"
      ]
    },
    {
      "cell_type": "code",
      "metadata": {
        "id": "V-Sgg-588HFd",
        "outputId": "817dbef8-d5d4-4780-8c6a-021eea1626cc",
        "colab": {
          "base_uri": "https://localhost:8080/",
          "height": 34
        }
      },
      "source": [
        "mensaje_1 = 'Hola a todos'\n",
        "print(mensaje_1)"
      ],
      "execution_count": 6,
      "outputs": [
        {
          "output_type": "stream",
          "text": [
            "Hola a todos\n"
          ],
          "name": "stdout"
        }
      ]
    },
    {
      "cell_type": "code",
      "metadata": {
        "id": "3MnZIGMa9X1H",
        "outputId": "c2bf3666-22b7-4ad8-d73a-453c757b54d1",
        "colab": {
          "base_uri": "https://localhost:8080/",
          "height": 128
        }
      },
      "source": [
        "1_mensaje = 'Hola de nuevo'\n",
        "print(1_mensaje)"
      ],
      "execution_count": 7,
      "outputs": [
        {
          "output_type": "error",
          "ename": "SyntaxError",
          "evalue": "ignored",
          "traceback": [
            "\u001b[0;36m  File \u001b[0;32m\"<ipython-input-7-259854279a68>\"\u001b[0;36m, line \u001b[0;32m1\u001b[0m\n\u001b[0;31m    1_mensaje = 'Hola de nuevo'\u001b[0m\n\u001b[0m     ^\u001b[0m\n\u001b[0;31mSyntaxError\u001b[0m\u001b[0;31m:\u001b[0m invalid token\n"
          ]
        }
      ]
    },
    {
      "cell_type": "markdown",
      "metadata": {
        "id": "SxNnAd0d9cRW"
      },
      "source": [
        "* No se permiten espacios en los nombres de las variables, se pueden usar guiones bajos para separar palabras en nombres de variables. Veamos el siguiente ejemplo, ¿Puede detectar el error?"
      ]
    },
    {
      "cell_type": "code",
      "metadata": {
        "id": "VoIWNcFf9a3t"
      },
      "source": [
        "mensaje saludo = \"mensaje de saludo\"\n",
        "print(mensaje saludo)"
      ],
      "execution_count": null,
      "outputs": []
    },
    {
      "cell_type": "code",
      "metadata": {
        "id": "5c-Qo4GC9rYW"
      },
      "source": [
        "mensaje_saludo = \"mensaje de saludo\"\n",
        "print(mensaje_saludo)"
      ],
      "execution_count": null,
      "outputs": []
    },
    {
      "cell_type": "markdown",
      "metadata": {
        "id": "-daV8qwK93Cp"
      },
      "source": [
        "* Evitemos usar palabras clave y nombre de funciones reservadas por Python como nombres de nuestras variables. Por ejemplo, ¿Qué pasa si usamos como variable la palabra clave reservada por Python `print`?"
      ]
    },
    {
      "cell_type": "code",
      "metadata": {
        "id": "1trpm2zz9udV"
      },
      "source": [
        "print = 'prueba'\n",
        "print(print)"
      ],
      "execution_count": null,
      "outputs": []
    },
    {
      "cell_type": "markdown",
      "metadata": {
        "id": "fQe3qGUcmmCi"
      },
      "source": [
        "(Si queremos eliminar una variable, podemos usar `del` antes de la variable que queremos eliminar)"
      ]
    },
    {
      "cell_type": "code",
      "metadata": {
        "id": "nTLH2Y43-REP"
      },
      "source": [
        "del print"
      ],
      "execution_count": null,
      "outputs": []
    },
    {
      "cell_type": "markdown",
      "metadata": {
        "id": "AZKXp1e6-cY1"
      },
      "source": [
        "* Nombres de variables deben ser cortos pero descriptivos. Probemos creando variables que tienen el mismo valor, ¿Qué nombres de variables creen que son útiles?"
      ]
    },
    {
      "cell_type": "code",
      "metadata": {
        "id": "zPjidjV3-YgF"
      },
      "source": [
        "# Creando distintas variables\n",
        "nombre = \"Jahaziel\"\n",
        "n = \"Jahaziel\"\n",
        "nombre_estudiante = \"Jahaziel\"\n",
        "n_e = \"Jahaziel\"\n",
        "longitud_nombre = len(nombre)\n",
        "longitud_del_nombre_de_la_persona = len(nombre)\n",
        "\n",
        "\n",
        "print(nombre)\n",
        "print(n)\n",
        "print(nombre_estudiante)\n",
        "print(n_e)\n",
        "print(longitud_nombre)\n",
        "print(longitud_del_nombre_de_la_persona)"
      ],
      "execution_count": null,
      "outputs": []
    },
    {
      "cell_type": "markdown",
      "metadata": {
        "id": "rqg-KGud-rg_"
      },
      "source": [
        "* Tener cuidado al usar la letra minúscula `i` y la letra mayúscula `O`, puede confundir con los números 1 y 0.\n",
        "\n",
        "Puede tomar algo de práctica aprender cómo crear buenos nombres de variables, pero la práctica hace al maestro ;)"
      ]
    },
    {
      "cell_type": "markdown",
      "metadata": {
        "id": "n6f_cn10_2gv"
      },
      "source": [
        "### Evitando errores de nombres al usar variables\n",
        "Es común que a la hora de programar cometamos errores, por lo que es necesario poder reconocer y responder a estos errores de manera eficiente.\n",
        "Veamos un error común cuando se empieza a programar en Python e intentemos solucionarlo."
      ]
    },
    {
      "cell_type": "code",
      "metadata": {
        "id": "vw07hH1i-1vL",
        "outputId": "7d639a42-a31e-45ab-f807-d70a2ac2609e",
        "colab": {
          "base_uri": "https://localhost:8080/",
          "height": 178
        }
      },
      "source": [
        "mensaje = \"Hola al curso de Python!!!\"\n",
        "print(mesaje)"
      ],
      "execution_count": 8,
      "outputs": [
        {
          "output_type": "error",
          "ename": "NameError",
          "evalue": "ignored",
          "traceback": [
            "\u001b[0;31m---------------------------------------------------------------------------\u001b[0m",
            "\u001b[0;31mNameError\u001b[0m                                 Traceback (most recent call last)",
            "\u001b[0;32m<ipython-input-8-78a58bb6f405>\u001b[0m in \u001b[0;36m<module>\u001b[0;34m()\u001b[0m\n\u001b[1;32m      1\u001b[0m \u001b[0mmensaje\u001b[0m \u001b[0;34m=\u001b[0m \u001b[0;34m\"Hola al curso de Python!!!\"\u001b[0m\u001b[0;34m\u001b[0m\u001b[0;34m\u001b[0m\u001b[0m\n\u001b[0;32m----> 2\u001b[0;31m \u001b[0mprint\u001b[0m\u001b[0;34m(\u001b[0m\u001b[0mmesaje\u001b[0m\u001b[0;34m)\u001b[0m\u001b[0;34m\u001b[0m\u001b[0;34m\u001b[0m\u001b[0m\n\u001b[0m",
            "\u001b[0;31mNameError\u001b[0m: name 'mesaje' is not defined"
          ]
        }
      ]
    },
    {
      "cell_type": "markdown",
      "metadata": {
        "id": "ObHnVw1HGKk7"
      },
      "source": [
        "Cuando ocurre un error en el programa, Python intenta descubrir donde está el problema. El intérprete proporciona un rastreo cuando el programa no puede ejecutarse con éxito. Un rastreo es un registro de donde el intérprete tuvo problemas al intentar ejecutar el código.\n",
        "\n",
        "En este ejemplo, Python nos informa que se produce un error en la línea `2`. Python muestra esta línea `--->` para ayudarnos a detectar el error y nos dice qué tipo de error encontró. En este caso encontró un error *en el nombre de la variable* y nos informa que la variable `mesaje` no ha sido definido.\n",
        "\n",
        "Este es un tipo de error común. Puede que cometamos un error ortográfico o que nos olvidemos de establecer el valor de una variable antes de usarla.\n",
        "\n",
        "Vamos a corregir este error:"
      ]
    },
    {
      "cell_type": "code",
      "metadata": {
        "id": "vfvy75E8F_PJ",
        "outputId": "d417f794-a5be-487c-876b-0332ae980eda",
        "colab": {
          "base_uri": "https://localhost:8080/",
          "height": 34
        }
      },
      "source": [
        "mesaje = \"Hola al curso de Python!!!\"\n",
        "print(mesaje)"
      ],
      "execution_count": 9,
      "outputs": [
        {
          "output_type": "stream",
          "text": [
            "Hola al curso de Python!!!\n"
          ],
          "name": "stdout"
        }
      ]
    },
    {
      "cell_type": "markdown",
      "metadata": {
        "id": "LfR-UgFqbdzu"
      },
      "source": [
        "¡Ha funcionado correctamente!"
      ]
    },
    {
      "cell_type": "code",
      "metadata": {
        "id": "4xQHOe3ms79R"
      },
      "source": [
        ""
      ],
      "execution_count": 9,
      "outputs": []
    }
  ]
}