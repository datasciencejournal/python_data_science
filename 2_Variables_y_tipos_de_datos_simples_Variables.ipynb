{
  "nbformat": 4,
  "nbformat_minor": 0,
  "metadata": {
    "colab": {
      "name": "2 Variables y tipos de datos simples: Variables.ipynb",
      "provenance": [],
      "collapsed_sections": [],
      "toc_visible": true,
      "include_colab_link": true
    },
    "kernelspec": {
      "name": "python3",
      "display_name": "Python 3"
    }
  },
  "cells": [
    {
      "cell_type": "markdown",
      "metadata": {
        "id": "view-in-github",
        "colab_type": "text"
      },
      "source": [
        "<a href=\"https://colab.research.google.com/github/datasciencejournal/python_data_science/blob/main/2_Variables_y_tipos_de_datos_simples_Variables.ipynb\" target=\"_parent\"><img src=\"https://colab.research.google.com/assets/colab-badge.svg\" alt=\"Open In Colab\"/></a>"
      ]
    },
    {
      "cell_type": "markdown",
      "metadata": {
        "id": "zY8TM0CK5LhT"
      },
      "source": [
        "# Variables y tipos de datos simples\n",
        "\n",
        "En esta sección vamos a aprender:\n",
        "* Distintos tipos de datos que podemos trabajar en nuestros programas de Python.\n",
        "* Cómo usar las variables para representar los datos en nuestros programas"
      ]
    },
    {
      "cell_type": "markdown",
      "metadata": {
        "id": "9RKBBjTn5Tsv"
      },
      "source": [
        "## Variables\n",
        "\n",
        "Una variable es un sitio donde vamos a guardar determinada información. Dependiendo del tipo de información que guardemos (texto, números, etc), la variable puede ser de uno y otro tipo. \n",
        "\n",
        "Pensemos las variables como etiquetas que se puede asignar valores. También podemos decir que una variable hace referencia a un cierto valor.\n",
        "\n",
        "Empecemos creando nuestra variable `mensaje`"
      ]
    },
    {
      "cell_type": "code",
      "metadata": {
        "id": "iWera_HA30sD"
      },
      "source": [
        "mensaje = \"Bienvenidos al mundo de Python\""
      ],
      "execution_count": null,
      "outputs": []
    },
    {
      "cell_type": "code",
      "metadata": {
        "id": "yomgbU0U5B9c",
        "outputId": "a7e43a49-e483-455a-c018-6a2a3e4a1fd9",
        "colab": {
          "base_uri": "https://localhost:8080/",
          "height": 34
        }
      },
      "source": [
        "print(mensaje)"
      ],
      "execution_count": null,
      "outputs": [
        {
          "output_type": "stream",
          "text": [
            "Bienvenidos al mundo de Python\n"
          ],
          "name": "stdout"
        }
      ]
    },
    {
      "cell_type": "markdown",
      "metadata": {
        "id": "5xSUiitD5iGC"
      },
      "source": [
        "En el script anterior hemos añadido una *variable* llamada `mensaje` Cada variable está conectada a un *valor*, el cual es la información asociada a la variable. En este caso el valor es el texto `\"Bienvenidos al mundo de Python\"`\n"
      ]
    },
    {
      "cell_type": "code",
      "metadata": {
        "id": "HM2kEz6-5NnF",
        "outputId": "9028edf3-be39-4de3-ea60-03d56a2f63c2",
        "colab": {
          "base_uri": "https://localhost:8080/",
          "height": 34
        }
      },
      "source": [
        "mensaje = \"Bienvenidos al mundo de Python\"\n",
        "print(mensaje)"
      ],
      "execution_count": null,
      "outputs": [
        {
          "output_type": "stream",
          "text": [
            "Bienvenidos al mundo de Python\n"
          ],
          "name": "stdout"
        }
      ]
    },
    {
      "cell_type": "markdown",
      "metadata": {
        "id": "cn2jcwj17gyr"
      },
      "source": [
        "En la primera línea, hemos asociado la variable `mensaje` con el texto `\"Bienvenidos al mundo de Python\"`. Cuando llega a la segunda línea, estamos imprimiendo el valor asociado con la variable `mensaje`."
      ]
    },
    {
      "cell_type": "markdown",
      "metadata": {
        "id": "OcxEAh5LkMdw"
      },
      "source": [
        "Si deseamos, podemos cambiar el valor de la variable en cualquier momento, solo que Python mantendrá el valor actual. Veamos: "
      ]
    },
    {
      "cell_type": "code",
      "metadata": {
        "id": "fk3oEl9l7gIv",
        "outputId": "3ba3d4ce-1a7d-4a4e-edf6-79827edc1082",
        "colab": {
          "base_uri": "https://localhost:8080/",
          "height": 50
        }
      },
      "source": [
        "mensaje = \"Bienvenidos al mundo de Python\"\n",
        "print(mensaje)\n",
        "\n",
        "mensaje = \"Mundo de Python - bienvenidos\"\n",
        "print(mensaje)"
      ],
      "execution_count": null,
      "outputs": [
        {
          "output_type": "stream",
          "text": [
            "Bienvenidos al mundo de Python\n",
            "Mundo de Python - bienvenidos\n"
          ],
          "name": "stdout"
        }
      ]
    },
    {
      "cell_type": "markdown",
      "metadata": {
        "id": "PvrUlOXj74sO"
      },
      "source": [
        "Empezamos asociando nuestra variable `mensaje` con el texto `\"Bienvenidos al mundo de Python\"`, pero luego hemos cambiado el valor de esta variable con el texto `\"Mundo de Python - bienvenidos\"`. Python olvida el valor anterior y guarda el nuevo valor. Veamos qué pasa si imprimimos de nuevo la variable `mensaje`."
      ]
    },
    {
      "cell_type": "code",
      "metadata": {
        "id": "zbOCilAU715X",
        "outputId": "3c29a5c9-0e5a-40d6-a1b1-1c64c2869f39",
        "colab": {
          "base_uri": "https://localhost:8080/",
          "height": 34
        }
      },
      "source": [
        "print(mensaje)"
      ],
      "execution_count": null,
      "outputs": [
        {
          "output_type": "stream",
          "text": [
            "Mundo de Python - bienvenidos\n"
          ],
          "name": "stdout"
        }
      ]
    },
    {
      "cell_type": "markdown",
      "metadata": {
        "id": "BEB1vkSe84uW"
      },
      "source": [
        "### Consejos para nombrar y usar variables\n",
        "\n",
        "A continuación indicamos algunas reglas y pautas que debemos cumplir cuando creamos variables. Si rompemos algunas de estas reglas puede que empiecen a aparecer errores.\n",
        "\n",
        "* Los nombres de las variables solo pueden contener letras, números y guiones bajos. Pueden comenzar con una letra o un guión bajo, pero no con un número. Veamos con el siguiente ejemplo ¿Puede detectar el error?\n"
      ]
    },
    {
      "cell_type": "code",
      "metadata": {
        "id": "V-Sgg-588HFd",
        "outputId": "cd6f467a-c068-4f0c-8f6d-f216be462c5b",
        "colab": {
          "base_uri": "https://localhost:8080/",
          "height": 34
        }
      },
      "source": [
        "mensaje_1 = 'Hola a todos'\n",
        "print(mensaje_1)"
      ],
      "execution_count": null,
      "outputs": [
        {
          "output_type": "stream",
          "text": [
            "Hola a todos\n"
          ],
          "name": "stdout"
        }
      ]
    },
    {
      "cell_type": "code",
      "metadata": {
        "id": "3MnZIGMa9X1H",
        "outputId": "eaa07a4f-77d0-4cce-d06a-ab41244cd91d",
        "colab": {
          "base_uri": "https://localhost:8080/",
          "height": 128
        }
      },
      "source": [
        "1_mensaje = 'Hola de nuevo'\n",
        "print(1_mensaje)"
      ],
      "execution_count": null,
      "outputs": [
        {
          "output_type": "error",
          "ename": "SyntaxError",
          "evalue": "ignored",
          "traceback": [
            "\u001b[0;36m  File \u001b[0;32m\"<ipython-input-7-259854279a68>\"\u001b[0;36m, line \u001b[0;32m1\u001b[0m\n\u001b[0;31m    1_mensaje = 'Hola de nuevo'\u001b[0m\n\u001b[0m     ^\u001b[0m\n\u001b[0;31mSyntaxError\u001b[0m\u001b[0;31m:\u001b[0m invalid token\n"
          ]
        }
      ]
    },
    {
      "cell_type": "markdown",
      "metadata": {
        "id": "SxNnAd0d9cRW"
      },
      "source": [
        "* No se permiten espacios en los nombres de las variables, se pueden usar guiones bajos para separar palabras en nombres de variables. Veamos el siguiente ejemplo, ¿Puede detectar el error?"
      ]
    },
    {
      "cell_type": "code",
      "metadata": {
        "id": "VoIWNcFf9a3t",
        "outputId": "51f5b7ef-148c-472a-a639-13ebd40b43a2",
        "colab": {
          "base_uri": "https://localhost:8080/",
          "height": 128
        }
      },
      "source": [
        "mensaje saludo = \"mensaje de saludo\"\n",
        "print(mensaje saludo)"
      ],
      "execution_count": null,
      "outputs": [
        {
          "output_type": "error",
          "ename": "SyntaxError",
          "evalue": "ignored",
          "traceback": [
            "\u001b[0;36m  File \u001b[0;32m\"<ipython-input-8-c98103421e9f>\"\u001b[0;36m, line \u001b[0;32m1\u001b[0m\n\u001b[0;31m    mensaje saludo = \"mensaje de saludo\"\u001b[0m\n\u001b[0m                 ^\u001b[0m\n\u001b[0;31mSyntaxError\u001b[0m\u001b[0;31m:\u001b[0m invalid syntax\n"
          ]
        }
      ]
    },
    {
      "cell_type": "code",
      "metadata": {
        "id": "5c-Qo4GC9rYW",
        "outputId": "c054a796-86bb-40de-fc48-811bb8bc5759",
        "colab": {
          "base_uri": "https://localhost:8080/",
          "height": 34
        }
      },
      "source": [
        "mensaje_saludo = \"mensaje de saludo\"\n",
        "print(mensaje_saludo)"
      ],
      "execution_count": null,
      "outputs": [
        {
          "output_type": "stream",
          "text": [
            "mensaje de saludo\n"
          ],
          "name": "stdout"
        }
      ]
    },
    {
      "cell_type": "markdown",
      "metadata": {
        "id": "-daV8qwK93Cp"
      },
      "source": [
        "* Evitemos usar palabras clave y nombre de funciones reservadas por Python como nombres de nuestras variables. Por ejemplo, ¿Qué pasa si usamos como variable la palabra clave reservada por Python `print`?"
      ]
    },
    {
      "cell_type": "code",
      "metadata": {
        "id": "1trpm2zz9udV",
        "outputId": "e33b5dbb-1f5a-47ef-8ebd-b9db98593037",
        "colab": {
          "base_uri": "https://localhost:8080/",
          "height": 178
        }
      },
      "source": [
        "print = 'prueba'\n",
        "print(print)"
      ],
      "execution_count": null,
      "outputs": [
        {
          "output_type": "error",
          "ename": "TypeError",
          "evalue": "ignored",
          "traceback": [
            "\u001b[0;31m---------------------------------------------------------------------------\u001b[0m",
            "\u001b[0;31mTypeError\u001b[0m                                 Traceback (most recent call last)",
            "\u001b[0;32m<ipython-input-10-0f9ec2accfd8>\u001b[0m in \u001b[0;36m<module>\u001b[0;34m()\u001b[0m\n\u001b[1;32m      1\u001b[0m \u001b[0mprint\u001b[0m \u001b[0;34m=\u001b[0m \u001b[0;34m'prueba'\u001b[0m\u001b[0;34m\u001b[0m\u001b[0;34m\u001b[0m\u001b[0m\n\u001b[0;32m----> 2\u001b[0;31m \u001b[0mprint\u001b[0m\u001b[0;34m(\u001b[0m\u001b[0mprint\u001b[0m\u001b[0;34m)\u001b[0m\u001b[0;34m\u001b[0m\u001b[0;34m\u001b[0m\u001b[0m\n\u001b[0m",
            "\u001b[0;31mTypeError\u001b[0m: 'str' object is not callable"
          ]
        }
      ]
    },
    {
      "cell_type": "markdown",
      "metadata": {
        "id": "fQe3qGUcmmCi"
      },
      "source": [
        "(Si queremos eliminar una variable, podemos usar `del` antes de la variable que queremos eliminar)"
      ]
    },
    {
      "cell_type": "code",
      "metadata": {
        "id": "nTLH2Y43-REP"
      },
      "source": [
        "del print"
      ],
      "execution_count": null,
      "outputs": []
    },
    {
      "cell_type": "markdown",
      "metadata": {
        "id": "AZKXp1e6-cY1"
      },
      "source": [
        "* Nombres de variables deben ser cortos pero descriptivos. Probemos creando variables que tienen el mismo valor, ¿Qué nombres de variables creen que son útiles?"
      ]
    },
    {
      "cell_type": "code",
      "metadata": {
        "id": "zPjidjV3-YgF",
        "outputId": "3ad0b5e3-ea5b-44d5-b82b-6679a83c5b26",
        "colab": {
          "base_uri": "https://localhost:8080/",
          "height": 118
        }
      },
      "source": [
        "# Creando distintas variables\n",
        "nombre = \"Jahaziel\"\n",
        "n = \"Jahaziel\"\n",
        "nombre_estudiante = \"Jahaziel\"\n",
        "n_e = \"Jahaziel\"\n",
        "longitud_nombre = len(nombre)\n",
        "longitud_del_nombre_de_la_persona = len(nombre)\n",
        "\n",
        "\n",
        "print(nombre)\n",
        "print(n)\n",
        "print(nombre_estudiante)\n",
        "print(n_e)\n",
        "print(longitud_nombre)\n",
        "print(longitud_del_nombre_de_la_persona)"
      ],
      "execution_count": null,
      "outputs": [
        {
          "output_type": "stream",
          "text": [
            "Jahaziel\n",
            "Jahaziel\n",
            "Jahaziel\n",
            "Jahaziel\n",
            "8\n",
            "8\n"
          ],
          "name": "stdout"
        }
      ]
    },
    {
      "cell_type": "markdown",
      "metadata": {
        "id": "rqg-KGud-rg_"
      },
      "source": [
        "* Tener cuidado al usar la letra minúscula `i` y la letra mayúscula `O`, puede confundir con los números 1 y 0.\n",
        "\n",
        "Puede tomar algo de práctica aprender cómo crear buenos nombres de variables, pero la práctica hace al maestro ;)"
      ]
    },
    {
      "cell_type": "markdown",
      "metadata": {
        "id": "n6f_cn10_2gv"
      },
      "source": [
        "### Evitando errores de nombres al usar variables\n",
        "Es común que a la hora de programar cometamos errores, por lo que es necesario poder reconocer y responder a estos errores de manera eficiente.\n",
        "Veamos un error común cuando se empieza a programar en Python e intentemos solucionarlo."
      ]
    },
    {
      "cell_type": "code",
      "metadata": {
        "id": "vw07hH1i-1vL",
        "outputId": "69025ad9-bb9e-4090-e1bb-bb9070333817",
        "colab": {
          "base_uri": "https://localhost:8080/",
          "height": 178
        }
      },
      "source": [
        "mensaje = \"Hola al curso de Python!!!\"\n",
        "print(mesaje)"
      ],
      "execution_count": null,
      "outputs": [
        {
          "output_type": "error",
          "ename": "NameError",
          "evalue": "ignored",
          "traceback": [
            "\u001b[0;31m---------------------------------------------------------------------------\u001b[0m",
            "\u001b[0;31mNameError\u001b[0m                                 Traceback (most recent call last)",
            "\u001b[0;32m<ipython-input-13-78a58bb6f405>\u001b[0m in \u001b[0;36m<module>\u001b[0;34m()\u001b[0m\n\u001b[1;32m      1\u001b[0m \u001b[0mmensaje\u001b[0m \u001b[0;34m=\u001b[0m \u001b[0;34m\"Hola al curso de Python!!!\"\u001b[0m\u001b[0;34m\u001b[0m\u001b[0;34m\u001b[0m\u001b[0m\n\u001b[0;32m----> 2\u001b[0;31m \u001b[0mprint\u001b[0m\u001b[0;34m(\u001b[0m\u001b[0mmesaje\u001b[0m\u001b[0;34m)\u001b[0m\u001b[0;34m\u001b[0m\u001b[0;34m\u001b[0m\u001b[0m\n\u001b[0m",
            "\u001b[0;31mNameError\u001b[0m: name 'mesaje' is not defined"
          ]
        }
      ]
    },
    {
      "cell_type": "markdown",
      "metadata": {
        "id": "ObHnVw1HGKk7"
      },
      "source": [
        "Cuando ocurre un error en el programa, Python intenta descubrir donde está el problema. El intérprete proporciona un rastreo cuando el programa no puede ejecutarse con éxito. Un rastreo es un registro de donde el intérprete tuvo problemas al intentar ejecutar el código.\n",
        "\n",
        "En este ejemplo, Python nos informa que se produce un error en la línea `2`. Python muestra esta línea `--->` para ayudarnos a detectar el error y nos dice qué tipo de error encontró. En este caso encontró un error *en el nombre de la variable* y nos informa que la variable `mesaje` no ha sido definido.\n",
        "\n",
        "Este es un tipo de error común. Puede que cometamos un error ortográfico o que nos olvidemos de establecer el valor de una variable antes de usarla.\n",
        "\n",
        "Vamos a corregir este error:"
      ]
    },
    {
      "cell_type": "code",
      "metadata": {
        "id": "vfvy75E8F_PJ",
        "outputId": "4a14ad27-4a70-4a8c-c04d-a65b969178dc",
        "colab": {
          "base_uri": "https://localhost:8080/",
          "height": 34
        }
      },
      "source": [
        "mesaje = \"Hola al curso de Python!!!\"\n",
        "print(mesaje)"
      ],
      "execution_count": null,
      "outputs": [
        {
          "output_type": "stream",
          "text": [
            "Hola al curso de Python!!!\n"
          ],
          "name": "stdout"
        }
      ]
    },
    {
      "cell_type": "markdown",
      "metadata": {
        "id": "LfR-UgFqbdzu"
      },
      "source": [
        "¡Ha funcionado correctamente!"
      ]
    }
  ]
}