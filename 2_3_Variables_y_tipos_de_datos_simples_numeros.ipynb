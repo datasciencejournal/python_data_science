{
  "nbformat": 4,
  "nbformat_minor": 0,
  "metadata": {
    "colab": {
      "name": "2.3 Variables y tipos de datos simples - numeros.ipynb",
      "provenance": [],
      "collapsed_sections": [],
      "toc_visible": true,
      "include_colab_link": true
    },
    "kernelspec": {
      "name": "python3",
      "display_name": "Python 3"
    }
  },
  "cells": [
    {
      "cell_type": "markdown",
      "metadata": {
        "id": "view-in-github",
        "colab_type": "text"
      },
      "source": [
        "<a href=\"https://colab.research.google.com/github/datasciencejournal/python_data_science/blob/main/2_3_Variables_y_tipos_de_datos_simples_numeros.ipynb\" target=\"_parent\"><img src=\"https://colab.research.google.com/assets/colab-badge.svg\" alt=\"Open In Colab\"/></a>"
      ]
    },
    {
      "cell_type": "markdown",
      "metadata": {
        "id": "95b_yeq29R6Z"
      },
      "source": [
        "## Números\n",
        "\n",
        "Los números se usan con bastante frecuencia en programación.\n",
        "Por ejemplo, puntuación en juegos, información de aplicaciones, etc.\n",
        "\n",
        "Según el uso, Python trata los números de distintas maneras.\n",
        "\n",
        "Empecemos con los enteros, que son los más simples para trabajar"
      ]
    },
    {
      "cell_type": "markdown",
      "metadata": {
        "id": "8fpLVay49qVa"
      },
      "source": [
        "### Enteros\n",
        "\n",
        "Podemos sumar (`+`), restar (`-`), multiplicar (`*`) y dividir (`/`) números enteros en Python:"
      ]
    },
    {
      "cell_type": "code",
      "metadata": {
        "id": "XHrlUzw87ygi",
        "outputId": "b096d5be-5484-4243-b8fe-09eef508a7b6",
        "colab": {
          "base_uri": "https://localhost:8080/",
          "height": 34
        }
      },
      "source": [
        "2 + 3"
      ],
      "execution_count": 1,
      "outputs": [
        {
          "output_type": "execute_result",
          "data": {
            "text/plain": [
              "5"
            ]
          },
          "metadata": {
            "tags": []
          },
          "execution_count": 1
        }
      ]
    },
    {
      "cell_type": "code",
      "metadata": {
        "id": "xqBZPWCp9447",
        "outputId": "e485c955-0610-49a9-db57-f5ddbf483867",
        "colab": {
          "base_uri": "https://localhost:8080/",
          "height": 34
        }
      },
      "source": [
        "3 - 2"
      ],
      "execution_count": 2,
      "outputs": [
        {
          "output_type": "execute_result",
          "data": {
            "text/plain": [
              "1"
            ]
          },
          "metadata": {
            "tags": []
          },
          "execution_count": 2
        }
      ]
    },
    {
      "cell_type": "code",
      "metadata": {
        "id": "TqXWG_sr96nt",
        "outputId": "f228ec7c-0aaf-464b-834c-f5a08d07710b",
        "colab": {
          "base_uri": "https://localhost:8080/",
          "height": 34
        }
      },
      "source": [
        "2 * 3"
      ],
      "execution_count": 3,
      "outputs": [
        {
          "output_type": "execute_result",
          "data": {
            "text/plain": [
              "6"
            ]
          },
          "metadata": {
            "tags": []
          },
          "execution_count": 3
        }
      ]
    },
    {
      "cell_type": "code",
      "metadata": {
        "id": "clzFqPis97Pi",
        "outputId": "be05975e-96c5-4b0d-92b4-0c2c1c0cf4f1",
        "colab": {
          "base_uri": "https://localhost:8080/",
          "height": 34
        }
      },
      "source": [
        "3 / 2"
      ],
      "execution_count": 4,
      "outputs": [
        {
          "output_type": "execute_result",
          "data": {
            "text/plain": [
              "1.5"
            ]
          },
          "metadata": {
            "tags": []
          },
          "execution_count": 4
        }
      ]
    },
    {
      "cell_type": "markdown",
      "metadata": {
        "id": "FHg4kwfa9_Kw"
      },
      "source": [
        "Si queremos calcular potencias, Python usa el símbolo de doble multiplicación (`**`):"
      ]
    },
    {
      "cell_type": "code",
      "metadata": {
        "id": "lNygknc2971C",
        "outputId": "9716757a-2d4c-4fe6-c2a8-81ca58a26491",
        "colab": {
          "base_uri": "https://localhost:8080/",
          "height": 34
        }
      },
      "source": [
        "3 ** 2"
      ],
      "execution_count": 5,
      "outputs": [
        {
          "output_type": "execute_result",
          "data": {
            "text/plain": [
              "9"
            ]
          },
          "metadata": {
            "tags": []
          },
          "execution_count": 5
        }
      ]
    },
    {
      "cell_type": "code",
      "metadata": {
        "id": "IHCgyvIO-Hil",
        "outputId": "d09a8010-ba30-45dd-efca-c9c6c2f15d9a",
        "colab": {
          "base_uri": "https://localhost:8080/",
          "height": 34
        }
      },
      "source": [
        "3 ** 3"
      ],
      "execution_count": 6,
      "outputs": [
        {
          "output_type": "execute_result",
          "data": {
            "text/plain": [
              "27"
            ]
          },
          "metadata": {
            "tags": []
          },
          "execution_count": 6
        }
      ]
    },
    {
      "cell_type": "code",
      "metadata": {
        "id": "ImL6hI4d-Ikj",
        "outputId": "d7d0f753-20f4-432f-cdf5-c8945b5ec8d4",
        "colab": {
          "base_uri": "https://localhost:8080/",
          "height": 34
        }
      },
      "source": [
        "10 ** 6"
      ],
      "execution_count": 7,
      "outputs": [
        {
          "output_type": "execute_result",
          "data": {
            "text/plain": [
              "1000000"
            ]
          },
          "metadata": {
            "tags": []
          },
          "execution_count": 7
        }
      ]
    },
    {
      "cell_type": "markdown",
      "metadata": {
        "id": "4547o0AO-KxV"
      },
      "source": [
        "Python reconoce el orden de las operaciones, por lo que podemos usar varias operaciones en una sola expresión. \n",
        "\n",
        "Si queremos modificar el orden de las operaciones, podemos usar paréntesis, de esa manera Python puede evaluar su expresión en el orden que especifique"
      ]
    },
    {
      "cell_type": "code",
      "metadata": {
        "id": "8_1OnTjL-JWS",
        "outputId": "61f1e3fd-8f24-461d-8eb9-e5123533e28e",
        "colab": {
          "base_uri": "https://localhost:8080/",
          "height": 34
        }
      },
      "source": [
        "2 + 3 * 4"
      ],
      "execution_count": 8,
      "outputs": [
        {
          "output_type": "execute_result",
          "data": {
            "text/plain": [
              "14"
            ]
          },
          "metadata": {
            "tags": []
          },
          "execution_count": 8
        }
      ]
    },
    {
      "cell_type": "code",
      "metadata": {
        "id": "aFSLdhms-eNd",
        "outputId": "ae20b45e-200e-4372-f182-9952192cc0b6",
        "colab": {
          "base_uri": "https://localhost:8080/",
          "height": 34
        }
      },
      "source": [
        "(2 + 3) * 4"
      ],
      "execution_count": 9,
      "outputs": [
        {
          "output_type": "execute_result",
          "data": {
            "text/plain": [
              "20"
            ]
          },
          "metadata": {
            "tags": []
          },
          "execution_count": 9
        }
      ]
    },
    {
      "cell_type": "code",
      "metadata": {
        "id": "5rBw2FYFcamE",
        "outputId": "80b44d45-fb8d-44bc-dd58-6d471db6000b",
        "colab": {
          "base_uri": "https://localhost:8080/",
          "height": 34
        }
      },
      "source": [
        "# ¿Cuánto es 8/2(2+2)? ¿1? ¿16?\n",
        "\n",
        "8 / 2 * (2 + 2)"
      ],
      "execution_count": 10,
      "outputs": [
        {
          "output_type": "execute_result",
          "data": {
            "text/plain": [
              "16.0"
            ]
          },
          "metadata": {
            "tags": []
          },
          "execution_count": 10
        }
      ]
    },
    {
      "cell_type": "code",
      "metadata": {
        "id": "Cu56zloDc28r",
        "outputId": "8cd4d2b7-ea62-4be9-bb0a-83abd7a60906",
        "colab": {
          "base_uri": "https://localhost:8080/",
          "height": 34
        }
      },
      "source": [
        "8 / (2 * (2 + 2))"
      ],
      "execution_count": 11,
      "outputs": [
        {
          "output_type": "execute_result",
          "data": {
            "text/plain": [
              "1.0"
            ]
          },
          "metadata": {
            "tags": []
          },
          "execution_count": 11
        }
      ]
    },
    {
      "cell_type": "markdown",
      "metadata": {
        "id": "hFQOrmS_-huT"
      },
      "source": [
        "Podemos ver, de los ejemplos anteriores, que los espacios en blanco no tienen efecto para evaluar en Python."
      ]
    },
    {
      "cell_type": "markdown",
      "metadata": {
        "id": "7Vb_pG_X-pvY"
      },
      "source": [
        "### Float\n",
        "\n",
        "Python llama a cualquier número con punto decimal *Float* o *flotante*. Se refiere al hecho de que un punto decimal puede aparecer en cualquier posición de un número.\n",
        "\n",
        "En la mayoría de ocasiones, podemos usar decimales sin preocuparnos por su comportamiento. Veamos algunos ejemplos:"
      ]
    },
    {
      "cell_type": "code",
      "metadata": {
        "id": "c0Dm_o1u-fQz",
        "outputId": "82f0494b-fc83-451c-99c8-5debe8b68637",
        "colab": {
          "base_uri": "https://localhost:8080/",
          "height": 34
        }
      },
      "source": [
        "0.1 + 0.1"
      ],
      "execution_count": 12,
      "outputs": [
        {
          "output_type": "execute_result",
          "data": {
            "text/plain": [
              "0.2"
            ]
          },
          "metadata": {
            "tags": []
          },
          "execution_count": 12
        }
      ]
    },
    {
      "cell_type": "code",
      "metadata": {
        "id": "BaBjm4qb_NqV",
        "outputId": "98e49f23-feb0-4b27-8bd4-5ba3729bbf35",
        "colab": {
          "base_uri": "https://localhost:8080/",
          "height": 34
        }
      },
      "source": [
        "0.2 + 0.2"
      ],
      "execution_count": 13,
      "outputs": [
        {
          "output_type": "execute_result",
          "data": {
            "text/plain": [
              "0.4"
            ]
          },
          "metadata": {
            "tags": []
          },
          "execution_count": 13
        }
      ]
    },
    {
      "cell_type": "code",
      "metadata": {
        "id": "FIq4KfvM_OXT",
        "outputId": "725e0825-60d8-4739-befb-da51fe51f730",
        "colab": {
          "base_uri": "https://localhost:8080/",
          "height": 34
        }
      },
      "source": [
        "2 * 0.1"
      ],
      "execution_count": 14,
      "outputs": [
        {
          "output_type": "execute_result",
          "data": {
            "text/plain": [
              "0.2"
            ]
          },
          "metadata": {
            "tags": []
          },
          "execution_count": 14
        }
      ]
    },
    {
      "cell_type": "code",
      "metadata": {
        "id": "qcz9vYmz_O9z",
        "outputId": "3ae965a5-8a27-4da1-cb8c-fa67d4b5969c",
        "colab": {
          "base_uri": "https://localhost:8080/",
          "height": 34
        }
      },
      "source": [
        "2 * 0.2"
      ],
      "execution_count": 15,
      "outputs": [
        {
          "output_type": "execute_result",
          "data": {
            "text/plain": [
              "0.4"
            ]
          },
          "metadata": {
            "tags": []
          },
          "execution_count": 15
        }
      ]
    },
    {
      "cell_type": "markdown",
      "metadata": {
        "id": "rM4fYDa-_UJM"
      },
      "source": [
        "Sin embargo, aveces podemos obtener un número arbitrario de decimales en la respuesta:"
      ]
    },
    {
      "cell_type": "code",
      "metadata": {
        "id": "gobZigl7_Prz",
        "outputId": "8196c414-d23c-466d-cb67-eaa1e79f10cb",
        "colab": {
          "base_uri": "https://localhost:8080/",
          "height": 34
        }
      },
      "source": [
        "0.2 + 0.1"
      ],
      "execution_count": 16,
      "outputs": [
        {
          "output_type": "execute_result",
          "data": {
            "text/plain": [
              "0.30000000000000004"
            ]
          },
          "metadata": {
            "tags": []
          },
          "execution_count": 16
        }
      ]
    },
    {
      "cell_type": "code",
      "metadata": {
        "id": "G3l8EflD_ZL6",
        "outputId": "f3d2d4f3-7358-4a97-a140-577f33970c6f",
        "colab": {
          "base_uri": "https://localhost:8080/",
          "height": 34
        }
      },
      "source": [
        "3 * 0.1"
      ],
      "execution_count": 17,
      "outputs": [
        {
          "output_type": "execute_result",
          "data": {
            "text/plain": [
              "0.30000000000000004"
            ]
          },
          "metadata": {
            "tags": []
          },
          "execution_count": 17
        }
      ]
    },
    {
      "cell_type": "markdown",
      "metadata": {
        "id": "e2Z4pU3x_gCt"
      },
      "source": [
        "Esto sucede en todos los lenguajes de programación, por lo que no debemos preocuparnos. Python trata de encontrar la manera de representar el resultado con la mayor precisión posible, pero aveces es dificil, ya que las computadoras tienen que representar los números internamente."
      ]
    },
    {
      "cell_type": "markdown",
      "metadata": {
        "id": "oro9bjYR_uiQ"
      },
      "source": [
        "### Enteros y Float\n",
        "\n",
        "Cuando dividimos números independientemente de si son enteros o floats, el resultado siempre será un float:"
      ]
    },
    {
      "cell_type": "code",
      "metadata": {
        "id": "kCY8qvRB_aLM",
        "outputId": "860049a5-fc4d-48a9-8d91-e1e4742c6686",
        "colab": {
          "base_uri": "https://localhost:8080/",
          "height": 34
        }
      },
      "source": [
        "4 / 2"
      ],
      "execution_count": 18,
      "outputs": [
        {
          "output_type": "execute_result",
          "data": {
            "text/plain": [
              "2.0"
            ]
          },
          "metadata": {
            "tags": []
          },
          "execution_count": 18
        }
      ]
    },
    {
      "cell_type": "markdown",
      "metadata": {
        "id": "spqwvGca_-Fv"
      },
      "source": [
        "Si combinamos un entero y float en cualquier operación, el resultado será un float"
      ]
    },
    {
      "cell_type": "code",
      "metadata": {
        "id": "waU2eHgb_6Xz",
        "outputId": "4b9165e8-0677-4162-9cdd-8bea6c11af6d",
        "colab": {
          "base_uri": "https://localhost:8080/",
          "height": 34
        }
      },
      "source": [
        "1 + 2.0"
      ],
      "execution_count": 19,
      "outputs": [
        {
          "output_type": "execute_result",
          "data": {
            "text/plain": [
              "3.0"
            ]
          },
          "metadata": {
            "tags": []
          },
          "execution_count": 19
        }
      ]
    },
    {
      "cell_type": "code",
      "metadata": {
        "id": "4LPO3L-7AHhU",
        "outputId": "2aa84d6b-ce1c-4dc3-b181-095936b912b1",
        "colab": {
          "base_uri": "https://localhost:8080/",
          "height": 34
        }
      },
      "source": [
        "2 * 3.0"
      ],
      "execution_count": 20,
      "outputs": [
        {
          "output_type": "execute_result",
          "data": {
            "text/plain": [
              "6.0"
            ]
          },
          "metadata": {
            "tags": []
          },
          "execution_count": 20
        }
      ]
    },
    {
      "cell_type": "code",
      "metadata": {
        "id": "LjzDseZMAIYy",
        "outputId": "b71eaa12-1025-47a4-a989-be535a86a76a",
        "colab": {
          "base_uri": "https://localhost:8080/",
          "height": 34
        }
      },
      "source": [
        "3.0 ** 2"
      ],
      "execution_count": 21,
      "outputs": [
        {
          "output_type": "execute_result",
          "data": {
            "text/plain": [
              "9.0"
            ]
          },
          "metadata": {
            "tags": []
          },
          "execution_count": 21
        }
      ]
    },
    {
      "cell_type": "markdown",
      "metadata": {
        "id": "ruDNZtD5AMro"
      },
      "source": [
        "En cualquier operación que participe un número float, Python devolverá siempre un float, incluso si el resultado es un número entero."
      ]
    },
    {
      "cell_type": "markdown",
      "metadata": {
        "id": "DFNGUa1jAXk8"
      },
      "source": [
        "### Guiones bajos en números\n",
        "\n",
        "Cuando escribimos números largos y queremos que sean más legibles, podemos agrupar los dígitos usando guiones bajos (`_`):"
      ]
    },
    {
      "cell_type": "code",
      "metadata": {
        "id": "SA0z11Z6AnGT"
      },
      "source": [
        "edad_universo = 14_000_000_000"
      ],
      "execution_count": 22,
      "outputs": []
    },
    {
      "cell_type": "markdown",
      "metadata": {
        "id": "GP30AcfJAvXA"
      },
      "source": [
        "Python solo imprimirá los dígitos:"
      ]
    },
    {
      "cell_type": "code",
      "metadata": {
        "id": "lHq5GadDAuxz",
        "outputId": "aaa6c365-4ef1-4051-bbe5-cc83cb0dd3c9",
        "colab": {
          "base_uri": "https://localhost:8080/",
          "height": 34
        }
      },
      "source": [
        "print(edad_universo)"
      ],
      "execution_count": 23,
      "outputs": [
        {
          "output_type": "stream",
          "text": [
            "14000000000\n"
          ],
          "name": "stdout"
        }
      ]
    },
    {
      "cell_type": "markdown",
      "metadata": {
        "id": "bcZc6AUSA5BF"
      },
      "source": [
        "Python ignora los guiones bajos cuando almacena este tipo de valores. Para Python es lo mismo `1000` que `1_000`. \n",
        "\n",
        "Funciona tanto para números enteros como números floats."
      ]
    },
    {
      "cell_type": "markdown",
      "metadata": {
        "id": "GpcKaBzJCshZ"
      },
      "source": [
        "### Asignaciones múltiples\n",
        "\n",
        "Podemos asignar valores a más de una variable en una sola línea. Esto puede ayudarnos a acortar nuestros programas y hacerlos más fáciles de leer.\n",
        "\n",
        "Por ejemplo, supongamos que queremos inicializar la variables `x`, `y` y `z`. Veamos dos maneras:\n"
      ]
    },
    {
      "cell_type": "code",
      "metadata": {
        "id": "zFg-HJ7jg9ca"
      },
      "source": [
        "# primera manera. Una línea por variable\n",
        "x = 0\n",
        "y = 1\n",
        "z = 2"
      ],
      "execution_count": 24,
      "outputs": []
    },
    {
      "cell_type": "code",
      "metadata": {
        "id": "uJidQHTLhAJo",
        "outputId": "ab04c25d-3bc0-49f0-e7cd-5ce8c9364646",
        "colab": {
          "base_uri": "https://localhost:8080/",
          "height": 67
        }
      },
      "source": [
        "print(x)\n",
        "print(y)\n",
        "print(z)"
      ],
      "execution_count": 25,
      "outputs": [
        {
          "output_type": "stream",
          "text": [
            "0\n",
            "1\n",
            "2\n"
          ],
          "name": "stdout"
        }
      ]
    },
    {
      "cell_type": "code",
      "metadata": {
        "id": "HLBuUJ6oAyP8"
      },
      "source": [
        "# Segunda manera. Separando por comas\n",
        "x, y, z = 0, 1, 2"
      ],
      "execution_count": 26,
      "outputs": []
    },
    {
      "cell_type": "code",
      "metadata": {
        "id": "6sK7r4iqBQgE",
        "outputId": "aa8911ad-bf13-42aa-a47e-175d3c4881f6",
        "colab": {
          "base_uri": "https://localhost:8080/",
          "height": 67
        }
      },
      "source": [
        "print(x)\n",
        "print(y)\n",
        "print(z)"
      ],
      "execution_count": 27,
      "outputs": [
        {
          "output_type": "stream",
          "text": [
            "0\n",
            "1\n",
            "2\n"
          ],
          "name": "stdout"
        }
      ]
    },
    {
      "cell_type": "markdown",
      "metadata": {
        "id": "aFKeCVDJDIjp"
      },
      "source": [
        "Debemos separar los nombres de las variables con `,` y hacer lo mismo con los valores. Python asignará cada valor a su variable posicionada correctamente. \n",
        "\n",
        "Es importante que coincidan el número de valores con el número de variables, sino aparecerá el siguiente error:"
      ]
    },
    {
      "cell_type": "code",
      "metadata": {
        "id": "fAwFl7mhhS8q",
        "outputId": "956960c8-5f61-443d-f7d3-a733e3ffb5d8",
        "colab": {
          "base_uri": "https://localhost:8080/",
          "height": 162
        }
      },
      "source": [
        "x, y, z = 0, 0"
      ],
      "execution_count": 28,
      "outputs": [
        {
          "output_type": "error",
          "ename": "ValueError",
          "evalue": "ignored",
          "traceback": [
            "\u001b[0;31m---------------------------------------------------------------------------\u001b[0m",
            "\u001b[0;31mValueError\u001b[0m                                Traceback (most recent call last)",
            "\u001b[0;32m<ipython-input-28-769a8a0afc65>\u001b[0m in \u001b[0;36m<module>\u001b[0;34m()\u001b[0m\n\u001b[0;32m----> 1\u001b[0;31m \u001b[0mx\u001b[0m\u001b[0;34m,\u001b[0m \u001b[0my\u001b[0m\u001b[0;34m,\u001b[0m \u001b[0mz\u001b[0m \u001b[0;34m=\u001b[0m \u001b[0;36m0\u001b[0m\u001b[0;34m,\u001b[0m \u001b[0;36m0\u001b[0m\u001b[0;34m\u001b[0m\u001b[0;34m\u001b[0m\u001b[0m\n\u001b[0m",
            "\u001b[0;31mValueError\u001b[0m: not enough values to unpack (expected 3, got 2)"
          ]
        }
      ]
    },
    {
      "cell_type": "markdown",
      "metadata": {
        "id": "rqhaQuFjDUdH"
      },
      "source": [
        "### Constantes\n",
        "\n",
        "Una constante no es más que una variable pero cuyo valor queremos que permanezca igual en toda la vida del programa.\n",
        "\n",
        "Para identificar una constante se recomienda definir la variable en **mayúsculas**. Por ejemplo:"
      ]
    },
    {
      "cell_type": "code",
      "metadata": {
        "id": "wPTz3zIODEwL"
      },
      "source": [
        "CONEXIONES_MAXIMAS = 5000"
      ],
      "execution_count": 29,
      "outputs": []
    },
    {
      "cell_type": "code",
      "metadata": {
        "id": "iXgpxNEIh3Ps"
      },
      "source": [
        ""
      ],
      "execution_count": 29,
      "outputs": []
    }
  ]
}