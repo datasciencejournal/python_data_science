{
  "nbformat": 4,
  "nbformat_minor": 0,
  "metadata": {
    "colab": {
      "name": "3. Listas.ipynb",
      "provenance": [],
      "collapsed_sections": [],
      "toc_visible": true,
      "include_colab_link": true
    },
    "kernelspec": {
      "display_name": "Python 3",
      "language": "python",
      "name": "python3"
    },
    "language_info": {
      "codemirror_mode": {
        "name": "ipython",
        "version": 3
      },
      "file_extension": ".py",
      "mimetype": "text/x-python",
      "name": "python",
      "nbconvert_exporter": "python",
      "pygments_lexer": "ipython3",
      "version": "3.7.6"
    }
  },
  "cells": [
    {
      "cell_type": "markdown",
      "metadata": {
        "id": "view-in-github",
        "colab_type": "text"
      },
      "source": [
        "<a href=\"https://colab.research.google.com/github/datasciencejournal/python_data_science/blob/main/3_Listas.ipynb\" target=\"_parent\"><img src=\"https://colab.research.google.com/assets/colab-badge.svg\" alt=\"Open In Colab\"/></a>"
      ]
    },
    {
      "cell_type": "markdown",
      "metadata": {
        "id": "J9eVypKb93z_"
      },
      "source": [
        "# Listas\n",
        "\n",
        "En este capítulo vamos a aprender sobre **listas**, y como empezar con los elementos de una lista.\n",
        "\n",
        "Las listas nos permiten almacenar conjuntos de información en un solo lugar, independientemente de si tenemos poca o mucha información.\n",
        "\n",
        "Las listas son una de las características más potentes de Python y de fácil acceso.\n",
        "\n",
        "Empecemos explicando qué es una lista:"
      ]
    },
    {
      "cell_type": "markdown",
      "metadata": {
        "id": "o3u8UOlQ-bGR"
      },
      "source": [
        "## ¿Qué es una lista?\n",
        "\n",
        "Una lista es una colección de elementos en un orden en particular. Podemos hacer una lista que incluya, por ejemplo, letras del alfabeto, dígitos del 0-9, o nombres de los miembros de la familia.\n",
        "\n",
        "Podemos poner lo que deseamos en una lista, además, no es necesario que los elementos de la lista estén relacionados.\n",
        "\n",
        "Dado que por lo general una lista contiene generalmente más de un elemento, se recomienda que el nombre sea en plural, por ejemplo `digitos`, `numeros`, `letras`.\n",
        "\n",
        "En Python los corchetes (`[]`) indican una lista. Un elemento individual en la lista están separadas por comas. Veamos el siguiente ejemplo:"
      ]
    },
    {
      "cell_type": "code",
      "metadata": {
        "id": "reErWZ_pEszr"
      },
      "source": [
        "bicicletas = ['trek', 'cannondale', 'redline', 'specialized']"
      ],
      "execution_count": 1,
      "outputs": []
    },
    {
      "cell_type": "markdown",
      "metadata": {
        "id": "wKiqfQyg_-OE"
      },
      "source": [
        "Si queremos ver la lista en Python, este devolverá su representación, incluyendo los corchetes:"
      ]
    },
    {
      "cell_type": "code",
      "metadata": {
        "id": "JM2a5s-p_6K3",
        "outputId": "0dbd57ad-1483-455a-b00a-e44335376255",
        "colab": {
          "base_uri": "https://localhost:8080/",
          "height": 34
        }
      },
      "source": [
        "print(bicicletas)"
      ],
      "execution_count": 2,
      "outputs": [
        {
          "output_type": "stream",
          "text": [
            "['trek', 'cannondale', 'redline', 'specialized']\n"
          ],
          "name": "stdout"
        }
      ]
    },
    {
      "cell_type": "markdown",
      "metadata": {
        "id": "kk8iKl6mAW6U"
      },
      "source": [
        "Aprendamos cómo acceder a los elementos individuales de una lista."
      ]
    },
    {
      "cell_type": "markdown",
      "metadata": {
        "id": "6uadNb4OAbHd"
      },
      "source": [
        "### Accediendo a los elementos de una lista\n",
        "\n",
        "Las listas son colecciones ordenadas, por lo que podemos acceder a cualquier elemento diciéndole a Python la posición o `index` del elemento deseado. Para acceder a un elemento en una lista, tenemos que escribir el nombre de la lista seguido del índice del elemento entre corchetes `[]`.\n",
        "\n",
        "Recuerde que **los índices en Python empiezan desde** `0`.\n",
        "\n",
        "Por ejemplo, pidamos la primera bicicleta de la lista de bicicletas:"
      ]
    },
    {
      "cell_type": "code",
      "metadata": {
        "id": "SsgCkKrlC1mn",
        "outputId": "14e655fc-8bb1-4000-f38e-88e2a3418659",
        "colab": {
          "base_uri": "https://localhost:8080/",
          "height": 34
        }
      },
      "source": [
        "print(bicicletas[0])"
      ],
      "execution_count": 3,
      "outputs": [
        {
          "output_type": "stream",
          "text": [
            "trek\n"
          ],
          "name": "stdout"
        }
      ]
    },
    {
      "cell_type": "markdown",
      "metadata": {
        "id": "W7ZIifaIDK6s"
      },
      "source": [
        "Cuando pedimos un simple elemento de una lista, Python devuelve solo el elemento, sin corchetes.\n",
        "\n",
        "Podemos usar, por ejemplo, a cualquier elemento de nuestra lista los métodos de ´String´, [que vimos en capítulo anterior](https://data-scientist-journal.com/2020/10/17/python-variables_y_tipo_de_datos/). \n",
        "\n",
        "Por ejemplo, podemos dar formato al elemento `\"trek\"` usando el método `title()`:"
      ]
    },
    {
      "cell_type": "code",
      "metadata": {
        "id": "Xfr2kW83C4Y9",
        "outputId": "6b514aa3-49db-48a8-a763-265f1f53a6cc",
        "colab": {
          "base_uri": "https://localhost:8080/",
          "height": 34
        }
      },
      "source": [
        "print(bicicletas[0].title())"
      ],
      "execution_count": 4,
      "outputs": [
        {
          "output_type": "stream",
          "text": [
            "Trek\n"
          ],
          "name": "stdout"
        }
      ]
    },
    {
      "cell_type": "markdown",
      "metadata": {
        "id": "siuprGdJD0Wj"
      },
      "source": [
        "Este ejemplo produce la misma salida a la anterior, solo que `Trek` está en mayúscula"
      ]
    },
    {
      "cell_type": "markdown",
      "metadata": {
        "id": "eRdG_AYeFgA9"
      },
      "source": [
        "### La posición de los índices empiezan en 0 no en 1\n",
        "\n",
        "El primer elemento de una lista en Python está en la posición 0, no en la posición 1. El segundo elemento en una lista tiene el índice 1. Siguiendo este sistema de conteo, podemos obtener cualquier elemento de una lista restando una unidad a su posición de la lista. Por ejemplo, para acceder al cuarto elemento de una lista, tenemos que pedir el elemento en el índice 3.\n",
        "\n",
        "Vamos a solicitar las bicicletas en el índice 1 y el índice 3:\n"
      ]
    },
    {
      "cell_type": "code",
      "metadata": {
        "id": "9aHBFiKODx-2",
        "outputId": "bcf709dc-cf79-42ac-a33e-bb2631c6193c",
        "colab": {
          "base_uri": "https://localhost:8080/",
          "height": 51
        }
      },
      "source": [
        "# bicicleta indice 1\n",
        "print(bicicletas[1])\n",
        "\n",
        "# bicicleta indice 3\n",
        "print(bicicletas[3])"
      ],
      "execution_count": 5,
      "outputs": [
        {
          "output_type": "stream",
          "text": [
            "cannondale\n",
            "specialized\n"
          ],
          "name": "stdout"
        }
      ]
    },
    {
      "cell_type": "markdown",
      "metadata": {
        "id": "Dm1Hi1HfHtiu"
      },
      "source": [
        "Este código retorna la segunda y cuarta bicicleta en la lista."
      ]
    },
    {
      "cell_type": "markdown",
      "metadata": {
        "id": "a4aI8EbuH3VJ"
      },
      "source": [
        "Python tiene un sintaxis especial para acceder al último elemento en una lista. Si preguntamos por el elemento en el índice `-1`, Py\n",
        "thon siempre retornara el último elemento en la lista. Veamos:"
      ]
    },
    {
      "cell_type": "code",
      "metadata": {
        "id": "9XjDAsHYHsf2",
        "outputId": "4f518072-d0b7-4794-dd80-fb5179b39097",
        "colab": {
          "base_uri": "https://localhost:8080/",
          "height": 34
        }
      },
      "source": [
        "print(bicicletas[-1])"
      ],
      "execution_count": 6,
      "outputs": [
        {
          "output_type": "stream",
          "text": [
            "specialized\n"
          ],
          "name": "stdout"
        }
      ]
    },
    {
      "cell_type": "markdown",
      "metadata": {
        "id": "Z_w7Aa0SJjdX"
      },
      "source": [
        "### Usando valores individuales de una lista\n",
        "\n",
        "Podemos usar valores individuales de una lista como si fuesen variables.\n",
        "\n",
        "Por ejemplo, podemos usar `f-string` para crear un mensaje basado en un elemento de una lista.\n",
        "\n",
        "Intentemos redactar un mensaje con el primer elemento de la lista `bicicletas`:"
      ]
    },
    {
      "cell_type": "code",
      "metadata": {
        "id": "ddkuTGdUKJ6I",
        "outputId": "e561c6a9-fa65-40b9-f318-88f4065f7c35",
        "colab": {
          "base_uri": "https://localhost:8080/",
          "height": 34
        }
      },
      "source": [
        "mensaje = f\"My primera bicicleta fue un '{bicicletas[0].title()}'\"\n",
        "\n",
        "print(mensaje)"
      ],
      "execution_count": 7,
      "outputs": [
        {
          "output_type": "stream",
          "text": [
            "My primera bicicleta fue un 'Trek'\n"
          ],
          "name": "stdout"
        }
      ]
    },
    {
      "cell_type": "markdown",
      "metadata": {
        "id": "yk4MCh-_Kcpc"
      },
      "source": [
        "Hemos creado una oración usando el valor de `bicicletas[0]` y lo asignamos a la variable `mensaje`. La salida es una simple oración sobre la primera bicicleta en la lista."
      ]
    },
    {
      "cell_type": "markdown",
      "metadata": {
        "id": "I4PhztgVKrwL"
      },
      "source": [
        "## Cambiando, agregando y eliminando elementos"
      ]
    },
    {
      "cell_type": "markdown",
      "metadata": {
        "id": "OmW_BjJEt7XW"
      },
      "source": [
        "La mayoría de las listas que vamos a crear serán dinámicas, esto significa que cuando programemos empezaremos creando una lista y luego iremos agregando o eliminando elementos de esa lista.\n",
        "\n",
        "Por ejemplo, supongamos que queremos crear un juego en la que un jugador tenga que disparar a extraterrestres desde el cielo. Podemos almacenar el conjunto inicial de extraterrestres en una lista y luego eliminar un extraterrestre de la lista cada vez que se derriba a uno. Cuando aparezca un nuevo alienígena en la pantalla, lo agregamos en la lista. tu lista de alienígenas aumentará y disminuirá en el transcurso del juego"
      ]
    },
    {
      "cell_type": "markdown",
      "metadata": {
        "id": "Psp6VxJqt7XX"
      },
      "source": [
        "### Modificando los elementos de una Lista\n",
        "\n",
        "La sintaxis para modificar un elemento es similar a la sintaxis para acceder a un elemento en una lista. Para cambiar un elemento, usamos el nombre de la lista seguido del índice del elemento que deseamos cambiar, luego proporcionamos el nuevo valor que deseamos que tenga ese elemento.\n",
        "\n",
        "Por ejemplo, tenemos una lista de motocicletas y el primer elemento de la lista es `'honda'`. ¿Cómo podríamos cambiar el valor de este primer elemento?"
      ]
    },
    {
      "cell_type": "code",
      "metadata": {
        "id": "1dnvAd0lKSvs",
        "outputId": "7ca17bce-220b-46a4-c46e-d1b58a8c6b0d",
        "colab": {
          "base_uri": "https://localhost:8080/",
          "height": 34
        }
      },
      "source": [
        "motocicletas = ['honda', 'yamaha', 'suzuki']\n",
        "\n",
        "print(motocicletas)"
      ],
      "execution_count": 8,
      "outputs": [
        {
          "output_type": "stream",
          "text": [
            "['honda', 'yamaha', 'suzuki']\n"
          ],
          "name": "stdout"
        }
      ]
    },
    {
      "cell_type": "code",
      "metadata": {
        "id": "x92tkXdxt7Xa"
      },
      "source": [
        "# Modificando el primer elemento\n",
        "motocicletas[0] = 'ducati'"
      ],
      "execution_count": 9,
      "outputs": []
    },
    {
      "cell_type": "code",
      "metadata": {
        "id": "K3FRUoCmt7Xc",
        "outputId": "fdfe62df-c227-40f6-bafa-46c59ff5df41",
        "colab": {
          "base_uri": "https://localhost:8080/",
          "height": 34
        }
      },
      "source": [
        "print(motocicletas)"
      ],
      "execution_count": 10,
      "outputs": [
        {
          "output_type": "stream",
          "text": [
            "['ducati', 'yamaha', 'suzuki']\n"
          ],
          "name": "stdout"
        }
      ]
    },
    {
      "cell_type": "markdown",
      "metadata": {
        "id": "N0EANgQmt7Xf"
      },
      "source": [
        "La primera parte define la lista original, con `'honda'` como primer elemento, la segunda parte cambiamos el valor del primer elemento a `'ducati'`. La salida muestra que el primer elemento ha sido cambiado y el resto de la lista sigue igual.\n",
        "\n",
        "Podemos cambiar el valor de cualquier elemento de una lista, no solo el primer elemento."
      ]
    },
    {
      "cell_type": "markdown",
      "metadata": {
        "id": "4fsKnqS8t7Xf"
      },
      "source": [
        "### Agregando elementos a la Lista\n",
        "\n",
        "Puede que deseemos agregar un nuevo elemento a una lista por muchas razones. Por ejemplo, a lo mejor deseamos que aparezcan nuevos extraterrestres en nuestro juego, agregar datos a una visualización o agregar nuevos usuarios registrados a un sitio web que hayamos creado. \n",
        "\n",
        "Python proporciona varias formas de agregar nuevos elementos a las listas existentes"
      ]
    },
    {
      "cell_type": "markdown",
      "metadata": {
        "id": "yHFOWTygt7Xg"
      },
      "source": [
        "#### Agregando elementos al final de una lista\n",
        "\n",
        "La manera simple de agregar un nuevo elemento a una lista es usando el método `append`. Cuando usamos este método, el nuevo elemento se agrega al final de la lista.\n",
        "\n",
        "Vamos a agregar el elemento `'duccati'` a nuestra lista Usando la lista `motocicletas`:"
      ]
    },
    {
      "cell_type": "code",
      "metadata": {
        "id": "eV7r6iSRt7Xg"
      },
      "source": [
        "motocicletas.append('ducati')"
      ],
      "execution_count": 11,
      "outputs": []
    },
    {
      "cell_type": "code",
      "metadata": {
        "id": "IqiR899It7Xi",
        "outputId": "d018c02b-a790-4c27-e6fa-a636672a8380",
        "colab": {
          "base_uri": "https://localhost:8080/",
          "height": 34
        }
      },
      "source": [
        "print(motocicletas)"
      ],
      "execution_count": 12,
      "outputs": [
        {
          "output_type": "stream",
          "text": [
            "['ducati', 'yamaha', 'suzuki', 'ducati']\n"
          ],
          "name": "stdout"
        }
      ]
    },
    {
      "cell_type": "markdown",
      "metadata": {
        "id": "821ANRfyt7Xl"
      },
      "source": [
        "El método `append()` agrega `'duccati'` al final de la lista sin afectar ningún otro elemento en la lista"
      ]
    },
    {
      "cell_type": "markdown",
      "metadata": {
        "id": "Pi5FLcBut7Xl"
      },
      "source": [
        "El método `append()` facilita la creación dinámica de listas. Por ejemplo, podemos comenzar con una lista vacía y luego ir agregando elementos a la lista mediante una serie de llamadas al método `append()`. \n",
        "\n",
        "Empecemos con una lista vacía y vayamos agregando los elementos `'honda'`, `'yamaha'` y `'suzuki'`:"
      ]
    },
    {
      "cell_type": "code",
      "metadata": {
        "id": "jpDoyFvSt7Xm",
        "outputId": "47ee643b-38f2-4cfc-df34-55cce967f4ae",
        "colab": {
          "base_uri": "https://localhost:8080/",
          "height": 34
        }
      },
      "source": [
        "# Empezamos con una lista vacia\n",
        "motocicletas = []\n",
        "print(motocicletas)"
      ],
      "execution_count": 13,
      "outputs": [
        {
          "output_type": "stream",
          "text": [
            "[]\n"
          ],
          "name": "stdout"
        }
      ]
    },
    {
      "cell_type": "code",
      "metadata": {
        "id": "h4EM1WePt7Xp"
      },
      "source": [
        "# Agregando elementos\n",
        "motocicletas.append('honda')\n",
        "motocicletas.append('yamaha')\n",
        "motocicletas.append('suzuki')"
      ],
      "execution_count": 14,
      "outputs": []
    },
    {
      "cell_type": "code",
      "metadata": {
        "id": "tFh1XiOVt7Xs",
        "outputId": "ea9ed404-f8ef-4984-ec38-0cc4c4ad6a26",
        "colab": {
          "base_uri": "https://localhost:8080/",
          "height": 34
        }
      },
      "source": [
        "print(motocicletas)"
      ],
      "execution_count": 15,
      "outputs": [
        {
          "output_type": "stream",
          "text": [
            "['honda', 'yamaha', 'suzuki']\n"
          ],
          "name": "stdout"
        }
      ]
    },
    {
      "cell_type": "markdown",
      "metadata": {
        "id": "j0hKBmHCt7Xu"
      },
      "source": [
        "El resultado de la lista es exactamente igual a la lista que creamos anteriormente."
      ]
    },
    {
      "cell_type": "markdown",
      "metadata": {
        "id": "zBkPCS2zt7Xu"
      },
      "source": [
        "Es muy común crear listas de esta manera, ya que a menudo no vamos a saber los datos que nuestros usuarios desean almacenar en un programa hasta después de que el programa se esté ejecutando. Para poner a los usuarios en control, se puede empezar primero definiendo una lista vacía que contendrá los valores de los usuarios. Luego se va agregando cada nuevo valor proporcionado a la lista creada."
      ]
    },
    {
      "cell_type": "markdown",
      "metadata": {
        "id": "nYAP35X7t7Xv"
      },
      "source": [
        "#### Insertando elementos en una lista\n",
        "\n",
        "Si queremos agregar un elemento en cualquier posición o '`index`' podemos usar el método `insert()`.\n",
        "\n",
        "En este caso es necesario especificar el índice del nuevo elemento y el valor de nuevo elemento"
      ]
    },
    {
      "cell_type": "code",
      "metadata": {
        "id": "9K-cT9RNt7Xv"
      },
      "source": [
        "motocicletas = ['honda', 'yamaha', 'suzuki']\n",
        "\n",
        "# Agregamos ducati en el index 0\n",
        "motocicletas.insert(0, 'ducati')"
      ],
      "execution_count": 16,
      "outputs": []
    },
    {
      "cell_type": "code",
      "metadata": {
        "id": "nk3wWe4Jt7Xx",
        "outputId": "4d3c7cd2-b725-4d1d-93d4-2fc6b88a418a",
        "colab": {
          "base_uri": "https://localhost:8080/",
          "height": 34
        }
      },
      "source": [
        "print(motocicletas)"
      ],
      "execution_count": 17,
      "outputs": [
        {
          "output_type": "stream",
          "text": [
            "['ducati', 'honda', 'yamaha', 'suzuki']\n"
          ],
          "name": "stdout"
        }
      ]
    },
    {
      "cell_type": "markdown",
      "metadata": {
        "id": "bZ0eZkLYt7Xz"
      },
      "source": [
        "En este ejemplo, hemos insertado el elemento `'ducati'` al inicio de la lista.\n",
        "\n",
        "Del ejemplo, el método `insert()` abre un espacio en la posición `0` y guarda el valor `'ducati'` en esa ubicación. Esta operación desplaza cualquier otro valor en la lista a la derecha."
      ]
    },
    {
      "cell_type": "markdown",
      "metadata": {
        "id": "-JajhpHit7X0"
      },
      "source": [
        "### Eliminando elementos de una lista\n",
        "\n",
        "A menudo, es posible que queramos eliminar un elemento o un conjunto de elementos de una lista. Por ejemplo, cuando un jugador derriba a un alienígena del cielo, lo más probable es que queramos eliminarlo de la lista de alienígenas activos. O cuando un usuario decide cancelar su cuenta en una aplicación web que creó, queramos eliminar a ese usuario de la lista de usuarios activos.\n",
        "\n",
        "Podemos eliminar un elemento según su valor o su posición o '`index`' en la lista."
      ]
    },
    {
      "cell_type": "markdown",
      "metadata": {
        "id": "BUFWXsO1t7X1"
      },
      "source": [
        "#### Eliminando un elemento usando la instrucción `del`\n",
        "\n",
        "Si conocemos la posición del elemento que deseamos eliminar de la lista, podemos usar la instrucción `del`. Veamos:"
      ]
    },
    {
      "cell_type": "code",
      "metadata": {
        "id": "ZIdMNTQCt7X1",
        "outputId": "8097f733-6088-4087-8623-f74e52627f6a",
        "colab": {
          "base_uri": "https://localhost:8080/",
          "height": 34
        }
      },
      "source": [
        "motocicletas = ['honda', 'yamaha', 'suzuki']\n",
        "print(motocicletas)"
      ],
      "execution_count": 18,
      "outputs": [
        {
          "output_type": "stream",
          "text": [
            "['honda', 'yamaha', 'suzuki']\n"
          ],
          "name": "stdout"
        }
      ]
    },
    {
      "cell_type": "code",
      "metadata": {
        "id": "dBgdgCYOt7X3"
      },
      "source": [
        "# Eliminando el elemento del indice 0\n",
        "del motocicletas[0]"
      ],
      "execution_count": 19,
      "outputs": []
    },
    {
      "cell_type": "code",
      "metadata": {
        "id": "7DSbV6f8t7X5",
        "outputId": "68a75727-fe44-4def-8e5a-c067970180e5",
        "colab": {
          "base_uri": "https://localhost:8080/",
          "height": 34
        }
      },
      "source": [
        "print(motocicletas)"
      ],
      "execution_count": 20,
      "outputs": [
        {
          "output_type": "stream",
          "text": [
            "['yamaha', 'suzuki']\n"
          ],
          "name": "stdout"
        }
      ]
    },
    {
      "cell_type": "markdown",
      "metadata": {
        "id": "5fo8unnJt7X_"
      },
      "source": [
        "Hemos usado `del` para eliminar el primer elemento, `'honda`' de la lista de motocicletas."
      ]
    },
    {
      "cell_type": "markdown",
      "metadata": {
        "id": "OSvoIaD8t7YA"
      },
      "source": [
        "Podemos eliminar cualquier elemento de una lista, si conocemos su ubicación, utilizando la instrucción `del`.\n",
        "\n",
        "Por ejemplo, supongamos que queremos eliminar el segundo elemento '`yamaha`' de la lista:"
      ]
    },
    {
      "cell_type": "code",
      "metadata": {
        "id": "yY30M7_Dt7YA",
        "outputId": "ee7bf2e7-a4bc-48f8-c415-f03eb4324814",
        "colab": {
          "base_uri": "https://localhost:8080/",
          "height": 34
        }
      },
      "source": [
        "motocicletas = ['honda', 'yamaha', 'suzuki']\n",
        "print(motocicletas)"
      ],
      "execution_count": 21,
      "outputs": [
        {
          "output_type": "stream",
          "text": [
            "['honda', 'yamaha', 'suzuki']\n"
          ],
          "name": "stdout"
        }
      ]
    },
    {
      "cell_type": "code",
      "metadata": {
        "id": "ToR0x4S0t7YC",
        "outputId": "433ca35a-5f58-4589-9827-50e2ec32635d",
        "colab": {
          "base_uri": "https://localhost:8080/",
          "height": 34
        }
      },
      "source": [
        "# Eliminando el elemento del indice 1 (segundo elemento)\n",
        "del motocicletas[1]\n",
        "print(motocicletas)"
      ],
      "execution_count": 22,
      "outputs": [
        {
          "output_type": "stream",
          "text": [
            "['honda', 'suzuki']\n"
          ],
          "name": "stdout"
        }
      ]
    },
    {
      "cell_type": "markdown",
      "metadata": {
        "id": "nd4yCvgmt7YF"
      },
      "source": [
        "Luego de usar la instrucción `del` no podemos acceder al valor que ha sido eliminado de la lista."
      ]
    },
    {
      "cell_type": "markdown",
      "metadata": {
        "id": "J2uwIah8t7YF"
      },
      "source": [
        "#### Eliminando un elemento usando el método `pop()`\n",
        "\n",
        "Es probable que aveces queramos usar un elemento de una lista luego de eliminarlo. Por ejemplo, podemos necesitar la posición `x` e `y` de un alienígena luego de eliminarlo de la lista. O, por ejemplo, en una aplicación web, es posible que, luego de elimnar a un usuario de una lista de miembros activos, queramos agregarlo a una lista de miembros inactivos.\n",
        "\n",
        "El método `pop()` elimina el último elemento de una lista, pero nos permite trabajar con ese elemento luego de eliminarlo.\n",
        "\n",
        "Vamos a usar el método `pop()` con nuestra lista `motocicletas`:"
      ]
    },
    {
      "cell_type": "code",
      "metadata": {
        "id": "sq6e__Tgt7YF",
        "outputId": "95c0f646-ef31-4d24-feab-a5a70725f3ee",
        "colab": {
          "base_uri": "https://localhost:8080/",
          "height": 34
        }
      },
      "source": [
        "motocicletas = ['honda', 'yamaha', 'suzuki']\n",
        "print(motocicletas)"
      ],
      "execution_count": 23,
      "outputs": [
        {
          "output_type": "stream",
          "text": [
            "['honda', 'yamaha', 'suzuki']\n"
          ],
          "name": "stdout"
        }
      ]
    },
    {
      "cell_type": "code",
      "metadata": {
        "id": "dg68McbCt7YH"
      },
      "source": [
        "# Eliminando el último elemento\n",
        "popped_motocicletas = motocicletas.pop()"
      ],
      "execution_count": 24,
      "outputs": []
    },
    {
      "cell_type": "code",
      "metadata": {
        "id": "CBAayX87t7YJ",
        "outputId": "8f730acc-7646-4b31-b530-65c095cf5e62",
        "colab": {
          "base_uri": "https://localhost:8080/",
          "height": 51
        }
      },
      "source": [
        "print(motocicletas)\n",
        "\n",
        "print(popped_motocicletas)"
      ],
      "execution_count": 25,
      "outputs": [
        {
          "output_type": "stream",
          "text": [
            "['honda', 'yamaha']\n",
            "suzuki\n"
          ],
          "name": "stdout"
        }
      ]
    },
    {
      "cell_type": "markdown",
      "metadata": {
        "id": "Tc3DdAF1t7YN"
      },
      "source": [
        "* Hemos comenzado definiendo la lista de motocicletas.\n",
        "* Luego sacamos el último valor de la lista y lo guardamos en la variable `popped_motocicletas`.\n",
        "* Imprimimos ambas listas para confirmar que se ha eliminado el último valor ('`suzuki`') de la lista `motocicletas` y se ha almacenado en la otra lista `popped_motocicletas`."
      ]
    },
    {
      "cell_type": "markdown",
      "metadata": {
        "id": "kIWFjabxt7YN"
      },
      "source": [
        "¿Cómo podría ser útil este método `pop()`? Imaginemos que las motocicletas de la lista se almacenan de manera crobológica según el momento en que las poseíamos. Si este es el caso, podemos usar el método `pop()` para imprimir una mensaje sobre la última motocicleta que compramos:"
      ]
    },
    {
      "cell_type": "code",
      "metadata": {
        "id": "jbRlIxHCt7YN"
      },
      "source": [
        "motocicletas = ['honda', 'yamaha', 'suzuki']"
      ],
      "execution_count": 26,
      "outputs": []
    },
    {
      "cell_type": "code",
      "metadata": {
        "id": "1HjZHfBot7YP"
      },
      "source": [
        "# Analizando la última motocicleta\n",
        "ultima_propiedad = motocicletas.pop()"
      ],
      "execution_count": 27,
      "outputs": []
    },
    {
      "cell_type": "code",
      "metadata": {
        "id": "X523gawZt7YT",
        "outputId": "bbc382b9-79ac-4df1-ca0c-c554015db565",
        "colab": {
          "base_uri": "https://localhost:8080/",
          "height": 34
        }
      },
      "source": [
        "print(f\"La última motocicleta que tuve fue una '{ultima_propiedad.title()}'\")"
      ],
      "execution_count": 28,
      "outputs": [
        {
          "output_type": "stream",
          "text": [
            "La última motocicleta que tuve fue una 'Suzuki'\n"
          ],
          "name": "stdout"
        }
      ]
    },
    {
      "cell_type": "markdown",
      "metadata": {
        "id": "obz9aFRBt7YW"
      },
      "source": [
        "#### Método `pop()` para cualquier posición en una lista\n",
        "\n",
        "Podemos usar `pop()` para eliminar un elemento de cualquier cualquier posición en nuestra lista, solo tenemos que indicar el índice del elemento que queremos eliminar:"
      ]
    },
    {
      "cell_type": "code",
      "metadata": {
        "id": "IpWhLag6t7YW"
      },
      "source": [
        "motocicletas = ['honda', 'yamaha', 'suzuki']"
      ],
      "execution_count": 29,
      "outputs": []
    },
    {
      "cell_type": "code",
      "metadata": {
        "id": "fU7dr4_6t7YZ"
      },
      "source": [
        "# Eliminando la primera motocicleta\n",
        "primera_propiedad = motocicletas.pop(0)"
      ],
      "execution_count": 30,
      "outputs": []
    },
    {
      "cell_type": "code",
      "metadata": {
        "id": "0UxVfLYpt7Yc",
        "outputId": "1b499b60-dd4f-48bf-e5a5-72190fe2ebef",
        "colab": {
          "base_uri": "https://localhost:8080/",
          "height": 34
        }
      },
      "source": [
        "print(f\"La primera motocicleta que tuve fue una '{primera_propiedad.title()}'\")"
      ],
      "execution_count": 31,
      "outputs": [
        {
          "output_type": "stream",
          "text": [
            "La primera motocicleta que tuve fue una 'Honda'\n"
          ],
          "name": "stdout"
        }
      ]
    },
    {
      "cell_type": "markdown",
      "metadata": {
        "id": "WhH2vDKyt7Yf"
      },
      "source": [
        "Estamos usando `pop()` para recuperar la primera motocicleta en la lista, luego imprimimos un mensaje sobre esa motocicleta. La salida es una oración simple que describe nuestra primera motocicleta.\n",
        "\n",
        "Es importante recordar que cada vez que usamos el método `pop()`, el elemento con el que trabajamos ya no se almacena en la lista. \n",
        "\n",
        "¿Cuando usar la instrucción `del` o el método `pop()`? Si queremos eliminar un elemento de una lista y no vamos a usar ese elemento de ninguna manera, podemos usar la instrucción `del`; si queremos utilizar el elemento a medida que lo eliminamos, entonces podemos usar el método `pop()`."
      ]
    },
    {
      "cell_type": "markdown",
      "metadata": {
        "id": "rfYcq44jt7Yg"
      },
      "source": [
        "#### Eliminando un elemento por su valor\n",
        "\n",
        "A veces será dificil saber la posición del elemento que deseamos eliminar de una lista. Si solo conocemos el valor del elemento que queremos eliminar, podemos utilizar el método `remove()`.\n",
        "\n",
        "Por ejemplo, supongamos que queremos eliminar el valor `'ducati'` de la lista `motocicletas`:"
      ]
    },
    {
      "cell_type": "code",
      "metadata": {
        "id": "CJdAbCD9t7Yg",
        "outputId": "909591e7-629b-45f0-efe8-7dadc85a4c89",
        "colab": {
          "base_uri": "https://localhost:8080/",
          "height": 34
        }
      },
      "source": [
        "motocicletas = ['honda', 'yamaha', 'suzuki', 'ducati']\n",
        "print(motocicletas)"
      ],
      "execution_count": 32,
      "outputs": [
        {
          "output_type": "stream",
          "text": [
            "['honda', 'yamaha', 'suzuki', 'ducati']\n"
          ],
          "name": "stdout"
        }
      ]
    },
    {
      "cell_type": "code",
      "metadata": {
        "id": "fYLqOcJPt7Yi"
      },
      "source": [
        "# Vamos a eliminar el elemento yamaha\n",
        "motocicletas.remove('yamaha')"
      ],
      "execution_count": 33,
      "outputs": []
    },
    {
      "cell_type": "code",
      "metadata": {
        "id": "IlYN_zjJt7Yk",
        "outputId": "00bd3968-2570-46ed-ad04-d1d24f54d83f",
        "colab": {
          "base_uri": "https://localhost:8080/",
          "height": 34
        }
      },
      "source": [
        "print(motocicletas)"
      ],
      "execution_count": 34,
      "outputs": [
        {
          "output_type": "stream",
          "text": [
            "['honda', 'suzuki', 'ducati']\n"
          ],
          "name": "stdout"
        }
      ]
    },
    {
      "cell_type": "markdown",
      "metadata": {
        "id": "p_0mggvtt7Yn"
      },
      "source": [
        "En este código le decimos a Python que busque dónde aparece `'ducati'` en la lista y lo elimine."
      ]
    },
    {
      "cell_type": "markdown",
      "metadata": {
        "id": "O0zhvveft7Yn"
      },
      "source": [
        "Podemos usar el método `remove()` para trabajar con un valor que se está eliminando de una lista. \n",
        "\n",
        "Por ejemplo, eliminemos el valor `'ducati'` e imprimamos el motivo por la que lo hemos eliminado:"
      ]
    },
    {
      "cell_type": "code",
      "metadata": {
        "id": "rjQKOYkUt7Yo",
        "outputId": "e7a0df8a-b709-4148-a3a1-eb620d436546",
        "colab": {
          "base_uri": "https://localhost:8080/",
          "height": 34
        }
      },
      "source": [
        "motocicletas = ['honda', 'yamaha', 'suzuki', 'ducati']\n",
        "print(motocicletas)"
      ],
      "execution_count": 35,
      "outputs": [
        {
          "output_type": "stream",
          "text": [
            "['honda', 'yamaha', 'suzuki', 'ducati']\n"
          ],
          "name": "stdout"
        }
      ]
    },
    {
      "cell_type": "code",
      "metadata": {
        "id": "8De17CCBt7Yr"
      },
      "source": [
        "# eliminando ducati\n",
        "muy_caro = 'ducati'\n",
        "motocicletas.remove(muy_caro)"
      ],
      "execution_count": 36,
      "outputs": []
    },
    {
      "cell_type": "code",
      "metadata": {
        "id": "rIqPVCVht7Yv",
        "outputId": "49efc84b-f47d-4f4a-ddc2-4268c3e5a04c",
        "colab": {
          "base_uri": "https://localhost:8080/",
          "height": 68
        }
      },
      "source": [
        "print(motocicletas)\n",
        "print(f\"\\nUn '{muy_caro.title()}' es muy caro para mi\")"
      ],
      "execution_count": 37,
      "outputs": [
        {
          "output_type": "stream",
          "text": [
            "['honda', 'yamaha', 'suzuki']\n",
            "\n",
            "Un 'Ducati' es muy caro para mi\n"
          ],
          "name": "stdout"
        }
      ]
    },
    {
      "cell_type": "markdown",
      "metadata": {
        "id": "oaFUlgA_t7Yx"
      },
      "source": [
        "Después de definir nuestra lista `motocicletas`, hemos asignado el valor `'ducati'` a una variable llamada `muy_caro`. Luego, usamos esta variable para decirle a Python qué valor eliminar de la lista `motocicletas`. El valor `'ducati'` se ha eliminado de la lista pero podemos acceder a través de la variable `muy_caro`, lo que nos permite imprimir un mensaje sobre por qué eliminamos `'ducati'` de la lista `motocicletas`."
      ]
    },
    {
      "cell_type": "markdown",
      "metadata": {
        "id": "r_0RuzsAt7Yy"
      },
      "source": [
        "## Organizando una lista"
      ]
    },
    {
      "cell_type": "markdown",
      "metadata": {
        "id": "jNLunG1Rt7Yy"
      },
      "source": [
        "A menudo, nuestras listas se crearán en un orden impredecible, ya que no siempre podemos controlar el orden en la que sus usuarios, por ejemplo, proporcionan sus datos. \n",
        "\n",
        "Aunque esto es inevitable en la mayoría de las circunstancias, con frecuencia vamos a querer presentar nuestra información en un orden particular. Algunas veces vamos a querer preservar el orden original de nuestra lista, y otras veces vamos a querer cambiar el orden original. \n",
        "\n",
        "Python, dependiendo de la situación, nos proporciona varias formas diferentes de organizar nuestras listas."
      ]
    },
    {
      "cell_type": "markdown",
      "metadata": {
        "id": "Y4q71IUvt7Yz"
      },
      "source": [
        "### Ordenando una lista permanentemente con el método `sort()`\n",
        "\n",
        "El método `sort()` de Python hace que sea relativamente fácil ordenar una lista. Supongamos que tenemos una lista de autos y queremos cambiar el orden de la lista para almacenarlos alfabéticamente (vamos a suponer que todos los elementos de la lista están en minúsculas)."
      ]
    },
    {
      "cell_type": "code",
      "metadata": {
        "id": "9yMDreuht7Y0"
      },
      "source": [
        "automoviles = ['bmw', 'audi', 'toyota', 'subaru']"
      ],
      "execution_count": 38,
      "outputs": []
    },
    {
      "cell_type": "code",
      "metadata": {
        "id": "SQZK49jit7Y2",
        "outputId": "2e3d470f-55a8-4458-fa1d-e40db77f20c8",
        "colab": {
          "base_uri": "https://localhost:8080/",
          "height": 34
        }
      },
      "source": [
        "print(automoviles)"
      ],
      "execution_count": 39,
      "outputs": [
        {
          "output_type": "stream",
          "text": [
            "['bmw', 'audi', 'toyota', 'subaru']\n"
          ],
          "name": "stdout"
        }
      ]
    },
    {
      "cell_type": "code",
      "metadata": {
        "id": "4gdicHqyt7Y4"
      },
      "source": [
        "# Ordenando alfabéticamente\n",
        "automoviles.sort()"
      ],
      "execution_count": 40,
      "outputs": []
    },
    {
      "cell_type": "markdown",
      "metadata": {
        "id": "XGVJvV-yt7Y6"
      },
      "source": [
        "El método `sort()` cambia el orden de la lista de forma permanente. Ahora los elementos de la lista `automoviles` está en orden alfabético y nunca podremos volver al orden original:"
      ]
    },
    {
      "cell_type": "code",
      "metadata": {
        "id": "-C10U_-bt7Y6",
        "outputId": "221d725e-c9e3-4425-c77f-19fc9a832fc1",
        "colab": {
          "base_uri": "https://localhost:8080/",
          "height": 34
        }
      },
      "source": [
        "print(automoviles)"
      ],
      "execution_count": 41,
      "outputs": [
        {
          "output_type": "stream",
          "text": [
            "['audi', 'bmw', 'subaru', 'toyota']\n"
          ],
          "name": "stdout"
        }
      ]
    },
    {
      "cell_type": "markdown",
      "metadata": {
        "id": "5Ar0RliGt7Y8"
      },
      "source": [
        "Podemos ordenar la lista en orden alfabético inverso añadiendo el parámetro `reverse=True` al método `sort()`. \n",
        "\n",
        "El siguiente ejemplo ordena la lista de autos en orden alfabético inverso:"
      ]
    },
    {
      "cell_type": "code",
      "metadata": {
        "id": "AS0z6zhWt7Y8"
      },
      "source": [
        "automoviles = ['bmw', 'audi', 'toyota', 'subaru']\n",
        "\n",
        "# Ordenando alfabéticamente pero en orden inverso\n",
        "automoviles.sort(reverse=True)"
      ],
      "execution_count": 42,
      "outputs": []
    },
    {
      "cell_type": "markdown",
      "metadata": {
        "id": "uoTGaksGt7Y_"
      },
      "source": [
        "De nuevo, el orden de la lista cambia permanentemente:"
      ]
    },
    {
      "cell_type": "code",
      "metadata": {
        "id": "P_ulSUN1t7ZA",
        "outputId": "3ae62965-52be-4184-9d6a-f18c0ed6bd83",
        "colab": {
          "base_uri": "https://localhost:8080/",
          "height": 34
        }
      },
      "source": [
        "print(automoviles)"
      ],
      "execution_count": 43,
      "outputs": [
        {
          "output_type": "stream",
          "text": [
            "['toyota', 'subaru', 'bmw', 'audi']\n"
          ],
          "name": "stdout"
        }
      ]
    },
    {
      "cell_type": "markdown",
      "metadata": {
        "id": "-hjxwhGIt7ZC"
      },
      "source": [
        "### Ordenando una lista temporalmente con la función `sorted()`\n",
        "\n",
        "Si queremos presentar una lista de manera ordenada, pero manteniendo el orden original, podemos usar la función `sorted()`. La función `sorted()` nos permite mostrar nuestra lista en un orden particular, pero no afecta el orden real de la lista.\n",
        "\n",
        "Probemos esta función en la lista `automoviles`:"
      ]
    },
    {
      "cell_type": "code",
      "metadata": {
        "id": "R98XZKqUt7ZC"
      },
      "source": [
        "automoviles = ['bmw', 'audi', 'toyota', 'subaru']"
      ],
      "execution_count": 44,
      "outputs": []
    },
    {
      "cell_type": "markdown",
      "metadata": {
        "id": "Vz6_TIVOt7ZF"
      },
      "source": [
        "Primero imprimamos la lista original"
      ]
    },
    {
      "cell_type": "code",
      "metadata": {
        "scrolled": true,
        "id": "Cxdi6qwst7ZG",
        "outputId": "077f03db-158c-48c0-866c-df4fa43a834d",
        "colab": {
          "base_uri": "https://localhost:8080/",
          "height": 51
        }
      },
      "source": [
        "print(\"Aquí está la lista lista original:\")\n",
        "print(automoviles)"
      ],
      "execution_count": 45,
      "outputs": [
        {
          "output_type": "stream",
          "text": [
            "Aquí está la lista lista original:\n",
            "['bmw', 'audi', 'toyota', 'subaru']\n"
          ],
          "name": "stdout"
        }
      ]
    },
    {
      "cell_type": "markdown",
      "metadata": {
        "id": "v4BEU3L3t7ZI"
      },
      "source": [
        "A continuación mostremos la lista ordenada:"
      ]
    },
    {
      "cell_type": "code",
      "metadata": {
        "id": "wl4P-TX0t7ZI",
        "outputId": "c1fcbfe9-1f59-4a4b-c669-0d3d63ae243a",
        "colab": {
          "base_uri": "https://localhost:8080/",
          "height": 51
        }
      },
      "source": [
        "print(\"Aquí está la lista ordenada:\")\n",
        "print(sorted(automoviles))"
      ],
      "execution_count": 46,
      "outputs": [
        {
          "output_type": "stream",
          "text": [
            "Aquí está la lista ordenada:\n",
            "['audi', 'bmw', 'subaru', 'toyota']\n"
          ],
          "name": "stdout"
        }
      ]
    },
    {
      "cell_type": "markdown",
      "metadata": {
        "id": "FJyexMU3t7ZL"
      },
      "source": [
        "Confirmemos que la lista todavía está almacenada en su orden original:"
      ]
    },
    {
      "cell_type": "code",
      "metadata": {
        "id": "M7g_E4O7t7ZN",
        "outputId": "27f74894-cf05-468f-8258-f44fe0030814",
        "colab": {
          "base_uri": "https://localhost:8080/",
          "height": 51
        }
      },
      "source": [
        "print(\"Aquí está la lista original:\")\n",
        "print(automoviles)"
      ],
      "execution_count": 47,
      "outputs": [
        {
          "output_type": "stream",
          "text": [
            "Aquí está la lista original:\n",
            "['bmw', 'audi', 'toyota', 'subaru']\n"
          ],
          "name": "stdout"
        }
      ]
    },
    {
      "cell_type": "markdown",
      "metadata": {
        "id": "sxrcAAo1t7ZQ"
      },
      "source": [
        "Podemos observar que la lista todavía existe en su orden original aunque hayamos usado la función `sorted()`.\n",
        "\n",
        "La función `sorted()` también acepta el argumento `reverse=True` si deseamos mostrar la lista en orden alfabético inverso:"
      ]
    },
    {
      "cell_type": "markdown",
      "metadata": {
        "id": "PdAoPIIrt7ZR"
      },
      "source": [
        "### Mostrando una lista en orden inverso\n",
        "\n",
        "Si queremos invertir el orden original de una lista podemos usar el método `reverse()`. Por ejemplo, supongamos que originalmente almacenamos la lista `automoviles` en orden cronológico de acuerdo a cuando los poseíamos, podemos reorganizar fácilmente la lista en orden cronológico inverso:"
      ]
    },
    {
      "cell_type": "code",
      "metadata": {
        "id": "OHzkIy86t7ZR",
        "outputId": "aa5a5556-d2e6-4f75-f6ab-19d4dca66230",
        "colab": {
          "base_uri": "https://localhost:8080/",
          "height": 34
        }
      },
      "source": [
        "automoviles = ['bmw', 'audi', 'toyota', 'subaru']\n",
        "print(automoviles)"
      ],
      "execution_count": 48,
      "outputs": [
        {
          "output_type": "stream",
          "text": [
            "['bmw', 'audi', 'toyota', 'subaru']\n"
          ],
          "name": "stdout"
        }
      ]
    },
    {
      "cell_type": "markdown",
      "metadata": {
        "id": "t-4UQVzxt7ZT"
      },
      "source": [
        "El método `reverse()` no ordena alfabéticamente; simplemente invierte el orden de la lista."
      ]
    },
    {
      "cell_type": "code",
      "metadata": {
        "id": "ZIWLsDdZt7ZU",
        "outputId": "80dd1eed-bffd-4ae5-c749-1feff0dce60d",
        "colab": {
          "base_uri": "https://localhost:8080/",
          "height": 34
        }
      },
      "source": [
        "# Invirtiendo el orden de la lista\n",
        "automoviles.reverse()\n",
        "print(automoviles)"
      ],
      "execution_count": 49,
      "outputs": [
        {
          "output_type": "stream",
          "text": [
            "['subaru', 'toyota', 'audi', 'bmw']\n"
          ],
          "name": "stdout"
        }
      ]
    },
    {
      "cell_type": "markdown",
      "metadata": {
        "id": "tytIJpext7ZV"
      },
      "source": [
        "El método `reverse()` cambia el orden de una lista de forma permanente, pero puede volver al orden original aplicando el método `reverse()` a la misma lista una segunda vez."
      ]
    },
    {
      "cell_type": "code",
      "metadata": {
        "id": "DJmA0lc_t7ZV",
        "outputId": "197c5cbb-69af-43d1-e72e-a3cc6cfa3b38",
        "colab": {
          "base_uri": "https://localhost:8080/",
          "height": 34
        }
      },
      "source": [
        "# Volviendo al orden original\n",
        "automoviles.reverse()\n",
        "print(automoviles)"
      ],
      "execution_count": 50,
      "outputs": [
        {
          "output_type": "stream",
          "text": [
            "['bmw', 'audi', 'toyota', 'subaru']\n"
          ],
          "name": "stdout"
        }
      ]
    },
    {
      "cell_type": "markdown",
      "metadata": {
        "id": "r75hrrXYt7ZX"
      },
      "source": [
        "### Encontrando la longitud de una lista\n",
        "\n",
        "Podemos encontrar rápidamente la longitud de una lista utilizando la función `len()`. \n",
        "Calculemos la longitud de esta lista (debería ser 4):"
      ]
    },
    {
      "cell_type": "code",
      "metadata": {
        "id": "bJ6VXY00t7ZX",
        "outputId": "97b13fe2-e197-46f1-da09-1bd72141bf85",
        "colab": {
          "base_uri": "https://localhost:8080/",
          "height": 34
        }
      },
      "source": [
        "automoviles = ['bmw', 'audi', 'toyota', 'subaru']\n",
        "\n",
        "# Cantidad de elementos (longitud)\n",
        "print(len(automoviles))"
      ],
      "execution_count": 51,
      "outputs": [
        {
          "output_type": "stream",
          "text": [
            "4\n"
          ],
          "name": "stdout"
        }
      ]
    },
    {
      "cell_type": "markdown",
      "metadata": {
        "id": "QhR0Q8Ddt7ZZ"
      },
      "source": [
        "La función `len()` es muy útil. Por ejemplo, si queremos saber la cantidad de extraterrestres que aún deben ser derribados en un juego, o si queremos determinar la cantidad de datos que debemos administrar en una aplicación o si queremos calcular la cantidad de usuarios registrados en un sitio web, etc."
      ]
    },
    {
      "cell_type": "markdown",
      "metadata": {
        "id": "u_3lzXb1t7Za"
      },
      "source": [
        "## Evitando errores de índices (index) al trabajar con listas"
      ]
    },
    {
      "cell_type": "markdown",
      "metadata": {
        "id": "-pRKDUdit7Za"
      },
      "source": [
        "Hay un tipo de error que es muy común que veamos cuando trabajamos con listas por primera vez. Supongamos que tenemos una lista con tres elementos y pedimos el cuarto elemento."
      ]
    },
    {
      "cell_type": "code",
      "metadata": {
        "id": "PfX8BpI7t7Za"
      },
      "source": [
        "motocicletas = ['honda', 'yamaha', 'suzuki']"
      ],
      "execution_count": 52,
      "outputs": []
    },
    {
      "cell_type": "markdown",
      "metadata": {
        "id": "EKMSpcfrt7Zd"
      },
      "source": [
        "Este ejemplo dará un error de `index`:"
      ]
    },
    {
      "cell_type": "code",
      "metadata": {
        "id": "3iAFNFoct7Ze",
        "outputId": "c8b0acf1-0822-41a5-fdb8-0ab9f6e09df1",
        "colab": {
          "base_uri": "https://localhost:8080/",
          "height": 180
        }
      },
      "source": [
        "# Queremos ver la posición 3, pero por error pedimos por la posición 4\n",
        "print(motocicletas[3])"
      ],
      "execution_count": 53,
      "outputs": [
        {
          "output_type": "error",
          "ename": "IndexError",
          "evalue": "ignored",
          "traceback": [
            "\u001b[0;31m---------------------------------------------------------------------------\u001b[0m",
            "\u001b[0;31mIndexError\u001b[0m                                Traceback (most recent call last)",
            "\u001b[0;32m<ipython-input-53-1161601ae5f2>\u001b[0m in \u001b[0;36m<module>\u001b[0;34m()\u001b[0m\n\u001b[1;32m      1\u001b[0m \u001b[0;31m# Queremos ver la posición 3, pero por error pedimos por la posición 4\u001b[0m\u001b[0;34m\u001b[0m\u001b[0;34m\u001b[0m\u001b[0;34m\u001b[0m\u001b[0m\n\u001b[0;32m----> 2\u001b[0;31m \u001b[0mprint\u001b[0m\u001b[0;34m(\u001b[0m\u001b[0mmotocicletas\u001b[0m\u001b[0;34m[\u001b[0m\u001b[0;36m3\u001b[0m\u001b[0;34m]\u001b[0m\u001b[0;34m)\u001b[0m\u001b[0;34m\u001b[0m\u001b[0;34m\u001b[0m\u001b[0m\n\u001b[0m",
            "\u001b[0;31mIndexError\u001b[0m: list index out of range"
          ]
        }
      ]
    },
    {
      "cell_type": "markdown",
      "metadata": {
        "id": "Ikey25UTt7Zg"
      },
      "source": [
        "Python intenta darnos el elemento en la posición 3. Pero cuando busca en la lista, ningún elemento en motocicletas está en la posición 3. Este error es típico. Es común pensar que el tercer elemento es el número 3, porque contamos en 1. Pero en Python el tercer elemento es el número 2, porque los índices empiezan en 0.\n",
        "\n",
        "Un error de posición o índice significa que Python no puede encontrar un elemento en el índice que solicitamos. Si se produce un error de índice en el programa, es necesario actualizar el índice correctamente. Luego probar el programa nuevamente para ver si los resultados son correctos.\n",
        "\n",
        "Si, por ejemplo, queremos acceder al último elemento de una lista, tenemos el índice -1. Esto siempre funcionará, incluso si la lista ha cambiado de tamaño.\n",
        "\n",
        "El índice `-1` siempre retorna el último elemenot en una lista, en este caso el valor `'susuki'`:"
      ]
    },
    {
      "cell_type": "code",
      "metadata": {
        "id": "1o-SivPWt7Zg",
        "outputId": "d1cc5773-1044-426c-d9c0-85650921c6fd",
        "colab": {
          "base_uri": "https://localhost:8080/",
          "height": 34
        }
      },
      "source": [
        "print(motocicletas[-1])"
      ],
      "execution_count": 54,
      "outputs": [
        {
          "output_type": "stream",
          "text": [
            "suzuki\n"
          ],
          "name": "stdout"
        }
      ]
    },
    {
      "cell_type": "markdown",
      "metadata": {
        "id": "z3ltqSjgt7Zi"
      },
      "source": [
        "La única vez que cause error es cuando solicitamos el último elemento de una lista vacía:"
      ]
    },
    {
      "cell_type": "code",
      "metadata": {
        "id": "KhzGKUxht7Zi"
      },
      "source": [
        "# Creamos una lista vacía\n",
        "motocicletas = []"
      ],
      "execution_count": 55,
      "outputs": []
    },
    {
      "cell_type": "markdown",
      "metadata": {
        "id": "owVYbG35t7Zk"
      },
      "source": [
        "Como no hay elementos en `motocicletas`, Python devuelve otro error de índice:"
      ]
    },
    {
      "cell_type": "code",
      "metadata": {
        "id": "1WQ61QTyt7Zk",
        "outputId": "a81e4a11-2957-45a7-fdde-2c18c12904bb",
        "colab": {
          "base_uri": "https://localhost:8080/",
          "height": 163
        }
      },
      "source": [
        "print(motocicletas[-1])"
      ],
      "execution_count": 56,
      "outputs": [
        {
          "output_type": "error",
          "ename": "IndexError",
          "evalue": "ignored",
          "traceback": [
            "\u001b[0;31m---------------------------------------------------------------------------\u001b[0m",
            "\u001b[0;31mIndexError\u001b[0m                                Traceback (most recent call last)",
            "\u001b[0;32m<ipython-input-56-7c68d45ba874>\u001b[0m in \u001b[0;36m<module>\u001b[0;34m()\u001b[0m\n\u001b[0;32m----> 1\u001b[0;31m \u001b[0mprint\u001b[0m\u001b[0;34m(\u001b[0m\u001b[0mmotocicletas\u001b[0m\u001b[0;34m[\u001b[0m\u001b[0;34m-\u001b[0m\u001b[0;36m1\u001b[0m\u001b[0;34m]\u001b[0m\u001b[0;34m)\u001b[0m\u001b[0;34m\u001b[0m\u001b[0;34m\u001b[0m\u001b[0m\n\u001b[0m",
            "\u001b[0;31mIndexError\u001b[0m: list index out of range"
          ]
        }
      ]
    },
    {
      "cell_type": "markdown",
      "metadata": {
        "id": "FAmS_ADot7Zl"
      },
      "source": [
        "## Resumen\n",
        "\n",
        "En este capítulo hemos aprendido lo siguiente:\n",
        "* Que son las listas y cómo trabajar con los elementos individuales de una lista. \n",
        "* Cómo definir una lista, agregar y eliminar elementos. \n",
        "* Cómo ordenar las listas de forma permanente y temporal con fines de visualización.\n",
        "* Cómo encontrar la longitud de una lista y cómo evitar errores de índice cuando trabajamos con listas."
      ]
    },
    {
      "cell_type": "code",
      "metadata": {
        "id": "dr3xWqNlz4bQ"
      },
      "source": [
        ""
      ],
      "execution_count": 56,
      "outputs": []
    }
  ]
}