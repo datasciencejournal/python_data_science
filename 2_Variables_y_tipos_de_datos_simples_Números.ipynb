{
  "nbformat": 4,
  "nbformat_minor": 0,
  "metadata": {
    "colab": {
      "name": "2 Variables y tipos de datos simples: Números.ipynb",
      "provenance": [],
      "collapsed_sections": [],
      "toc_visible": true,
      "include_colab_link": true
    },
    "kernelspec": {
      "name": "python3",
      "display_name": "Python 3"
    }
  },
  "cells": [
    {
      "cell_type": "markdown",
      "metadata": {
        "id": "view-in-github",
        "colab_type": "text"
      },
      "source": [
        "<a href=\"https://colab.research.google.com/github/datasciencejournal/python_data_science/blob/main/2_Variables_y_tipos_de_datos_simples_N%C3%BAmeros.ipynb\" target=\"_parent\"><img src=\"https://colab.research.google.com/assets/colab-badge.svg\" alt=\"Open In Colab\"/></a>"
      ]
    },
    {
      "cell_type": "markdown",
      "metadata": {
        "id": "95b_yeq29R6Z"
      },
      "source": [
        "## Números\n",
        "\n",
        "Los números se usan con bastante frecuencia en programación.\n",
        "Por ejemplo, puntuación en juegos, información de aplicaciones, etc.\n",
        "\n",
        "Según el uso, Python trata los números de distintas maneras.\n",
        "\n",
        "Empecemos con los enteros, que son los más simples para trabajar"
      ]
    },
    {
      "cell_type": "markdown",
      "metadata": {
        "id": "8fpLVay49qVa"
      },
      "source": [
        "### Enteros\n",
        "\n",
        "Podemos sumar (`+`), restar (`-`), multiplicar (`*`) y dividir (`/`) números enteros en Python:"
      ]
    },
    {
      "cell_type": "code",
      "metadata": {
        "id": "XHrlUzw87ygi",
        "outputId": "f3f87b04-fc02-4ef1-ec49-b3b1c1818cea",
        "colab": {
          "base_uri": "https://localhost:8080/",
          "height": 34
        }
      },
      "source": [
        "2 + 3"
      ],
      "execution_count": null,
      "outputs": [
        {
          "output_type": "execute_result",
          "data": {
            "text/plain": [
              "5"
            ]
          },
          "metadata": {
            "tags": []
          },
          "execution_count": 42
        }
      ]
    },
    {
      "cell_type": "code",
      "metadata": {
        "id": "xqBZPWCp9447",
        "outputId": "84497364-8fc1-4897-c1f2-57c0061414ab",
        "colab": {
          "base_uri": "https://localhost:8080/",
          "height": 34
        }
      },
      "source": [
        "3 - 2"
      ],
      "execution_count": null,
      "outputs": [
        {
          "output_type": "execute_result",
          "data": {
            "text/plain": [
              "1"
            ]
          },
          "metadata": {
            "tags": []
          },
          "execution_count": 43
        }
      ]
    },
    {
      "cell_type": "code",
      "metadata": {
        "id": "TqXWG_sr96nt",
        "outputId": "413561db-ff27-46e8-e304-9c8a6fb87f5d",
        "colab": {
          "base_uri": "https://localhost:8080/",
          "height": 34
        }
      },
      "source": [
        "2 * 3"
      ],
      "execution_count": null,
      "outputs": [
        {
          "output_type": "execute_result",
          "data": {
            "text/plain": [
              "6"
            ]
          },
          "metadata": {
            "tags": []
          },
          "execution_count": 44
        }
      ]
    },
    {
      "cell_type": "code",
      "metadata": {
        "id": "clzFqPis97Pi",
        "outputId": "78b334ae-f129-4215-eba2-80a5e7ee0891",
        "colab": {
          "base_uri": "https://localhost:8080/",
          "height": 34
        }
      },
      "source": [
        "3 / 2"
      ],
      "execution_count": null,
      "outputs": [
        {
          "output_type": "execute_result",
          "data": {
            "text/plain": [
              "1.5"
            ]
          },
          "metadata": {
            "tags": []
          },
          "execution_count": 45
        }
      ]
    },
    {
      "cell_type": "markdown",
      "metadata": {
        "id": "FHg4kwfa9_Kw"
      },
      "source": [
        "Si queremos calcular potencias, Python usa el símbolo de doble multiplicación (`**`):"
      ]
    },
    {
      "cell_type": "code",
      "metadata": {
        "id": "lNygknc2971C",
        "outputId": "344d38d5-faa8-46da-94c5-324c2b940cf3",
        "colab": {
          "base_uri": "https://localhost:8080/",
          "height": 34
        }
      },
      "source": [
        "3 ** 2"
      ],
      "execution_count": null,
      "outputs": [
        {
          "output_type": "execute_result",
          "data": {
            "text/plain": [
              "9"
            ]
          },
          "metadata": {
            "tags": []
          },
          "execution_count": 46
        }
      ]
    },
    {
      "cell_type": "code",
      "metadata": {
        "id": "IHCgyvIO-Hil",
        "outputId": "4e295a46-86e8-4672-aedc-fd31e0b98f9a",
        "colab": {
          "base_uri": "https://localhost:8080/",
          "height": 34
        }
      },
      "source": [
        "3 ** 3"
      ],
      "execution_count": null,
      "outputs": [
        {
          "output_type": "execute_result",
          "data": {
            "text/plain": [
              "27"
            ]
          },
          "metadata": {
            "tags": []
          },
          "execution_count": 47
        }
      ]
    },
    {
      "cell_type": "code",
      "metadata": {
        "id": "ImL6hI4d-Ikj",
        "outputId": "212f1cc4-2f6d-4480-a116-7b824510ca4c",
        "colab": {
          "base_uri": "https://localhost:8080/",
          "height": 34
        }
      },
      "source": [
        "10 ** 6"
      ],
      "execution_count": null,
      "outputs": [
        {
          "output_type": "execute_result",
          "data": {
            "text/plain": [
              "1000000"
            ]
          },
          "metadata": {
            "tags": []
          },
          "execution_count": 48
        }
      ]
    },
    {
      "cell_type": "markdown",
      "metadata": {
        "id": "4547o0AO-KxV"
      },
      "source": [
        "Python reconoce el orden de las operaciones, por lo que podemos usar varias operaciones en una sola expresión. \n",
        "\n",
        "Si queremos modificar el orden de las operaciones, podemos usar paréntesis, de esa manera Python puede evaluar su expresión en el orden que especifique"
      ]
    },
    {
      "cell_type": "code",
      "metadata": {
        "id": "8_1OnTjL-JWS",
        "outputId": "c5567668-c34a-400c-ff20-623b1c05bfb3",
        "colab": {
          "base_uri": "https://localhost:8080/",
          "height": 34
        }
      },
      "source": [
        "2 + 3 * 4"
      ],
      "execution_count": null,
      "outputs": [
        {
          "output_type": "execute_result",
          "data": {
            "text/plain": [
              "14"
            ]
          },
          "metadata": {
            "tags": []
          },
          "execution_count": 49
        }
      ]
    },
    {
      "cell_type": "code",
      "metadata": {
        "id": "aFSLdhms-eNd",
        "outputId": "d386e1d6-5bee-47e6-fbb6-e656dae80e3a",
        "colab": {
          "base_uri": "https://localhost:8080/",
          "height": 34
        }
      },
      "source": [
        "(2 + 3) * 4"
      ],
      "execution_count": null,
      "outputs": [
        {
          "output_type": "execute_result",
          "data": {
            "text/plain": [
              "20"
            ]
          },
          "metadata": {
            "tags": []
          },
          "execution_count": 50
        }
      ]
    },
    {
      "cell_type": "code",
      "metadata": {
        "id": "5rBw2FYFcamE",
        "outputId": "b4a7bbef-b95d-4a55-8e7e-88e049456890",
        "colab": {
          "base_uri": "https://localhost:8080/",
          "height": 34
        }
      },
      "source": [
        "# ¿Cuánto es 8/2(2+2)? ¿1? ¿16?\n",
        "\n",
        "8 / 2 * (2 + 2)"
      ],
      "execution_count": null,
      "outputs": [
        {
          "output_type": "execute_result",
          "data": {
            "text/plain": [
              "16.0"
            ]
          },
          "metadata": {
            "tags": []
          },
          "execution_count": 51
        }
      ]
    },
    {
      "cell_type": "code",
      "metadata": {
        "id": "Cu56zloDc28r",
        "outputId": "23a539d7-5639-41ba-c267-5db5375d644b",
        "colab": {
          "base_uri": "https://localhost:8080/",
          "height": 34
        }
      },
      "source": [
        "8 / (2 * (2 + 2))"
      ],
      "execution_count": null,
      "outputs": [
        {
          "output_type": "execute_result",
          "data": {
            "text/plain": [
              "1.0"
            ]
          },
          "metadata": {
            "tags": []
          },
          "execution_count": 52
        }
      ]
    },
    {
      "cell_type": "markdown",
      "metadata": {
        "id": "hFQOrmS_-huT"
      },
      "source": [
        "Podemos ver, de los ejemplos anteriores, que los espacios en blanco no tienen efecto para evaluar en Python."
      ]
    },
    {
      "cell_type": "markdown",
      "metadata": {
        "id": "7Vb_pG_X-pvY"
      },
      "source": [
        "### Float\n",
        "\n",
        "Python llama a cualquier número con punto decimal *Float* o *flotante*. Se refiere al hecho de que un punto decimal puede aparecer en cualquier posición de un número.\n",
        "\n",
        "En la mayoría de ocasiones, podemos usar decimales sin preocuparnos por su comportamiento. Veamos algunos ejemplos:"
      ]
    },
    {
      "cell_type": "code",
      "metadata": {
        "id": "c0Dm_o1u-fQz",
        "outputId": "00b765c3-2096-4d44-a9d1-905adf838134",
        "colab": {
          "base_uri": "https://localhost:8080/",
          "height": 34
        }
      },
      "source": [
        "0.1 + 0.1"
      ],
      "execution_count": null,
      "outputs": [
        {
          "output_type": "execute_result",
          "data": {
            "text/plain": [
              "0.2"
            ]
          },
          "metadata": {
            "tags": []
          },
          "execution_count": 53
        }
      ]
    },
    {
      "cell_type": "code",
      "metadata": {
        "id": "BaBjm4qb_NqV",
        "outputId": "19fc38c3-f114-4fac-fe08-cc1d2316c743",
        "colab": {
          "base_uri": "https://localhost:8080/",
          "height": 34
        }
      },
      "source": [
        "0.2 + 0.2"
      ],
      "execution_count": null,
      "outputs": [
        {
          "output_type": "execute_result",
          "data": {
            "text/plain": [
              "0.4"
            ]
          },
          "metadata": {
            "tags": []
          },
          "execution_count": 54
        }
      ]
    },
    {
      "cell_type": "code",
      "metadata": {
        "id": "FIq4KfvM_OXT",
        "outputId": "fd339859-12fd-48c8-ef3d-f1d43eeb3afb",
        "colab": {
          "base_uri": "https://localhost:8080/",
          "height": 34
        }
      },
      "source": [
        "2 * 0.1"
      ],
      "execution_count": null,
      "outputs": [
        {
          "output_type": "execute_result",
          "data": {
            "text/plain": [
              "0.2"
            ]
          },
          "metadata": {
            "tags": []
          },
          "execution_count": 55
        }
      ]
    },
    {
      "cell_type": "code",
      "metadata": {
        "id": "qcz9vYmz_O9z",
        "outputId": "ad0ebc5b-7f47-4eee-97dc-a9562856f287",
        "colab": {
          "base_uri": "https://localhost:8080/",
          "height": 34
        }
      },
      "source": [
        "2 * 0.2"
      ],
      "execution_count": null,
      "outputs": [
        {
          "output_type": "execute_result",
          "data": {
            "text/plain": [
              "0.4"
            ]
          },
          "metadata": {
            "tags": []
          },
          "execution_count": 56
        }
      ]
    },
    {
      "cell_type": "markdown",
      "metadata": {
        "id": "rM4fYDa-_UJM"
      },
      "source": [
        "Sin embargo, aveces podemos obtener un número arbitrario de decimales en la respuesta:"
      ]
    },
    {
      "cell_type": "code",
      "metadata": {
        "id": "gobZigl7_Prz",
        "outputId": "e976b63f-aea8-4035-b1e5-304357933299",
        "colab": {
          "base_uri": "https://localhost:8080/",
          "height": 34
        }
      },
      "source": [
        "0.2 + 0.1"
      ],
      "execution_count": null,
      "outputs": [
        {
          "output_type": "execute_result",
          "data": {
            "text/plain": [
              "0.30000000000000004"
            ]
          },
          "metadata": {
            "tags": []
          },
          "execution_count": 57
        }
      ]
    },
    {
      "cell_type": "code",
      "metadata": {
        "id": "G3l8EflD_ZL6",
        "outputId": "5e55aa35-0792-4be7-d0c8-f71f5246f894",
        "colab": {
          "base_uri": "https://localhost:8080/",
          "height": 34
        }
      },
      "source": [
        "3 * 0.1"
      ],
      "execution_count": null,
      "outputs": [
        {
          "output_type": "execute_result",
          "data": {
            "text/plain": [
              "0.30000000000000004"
            ]
          },
          "metadata": {
            "tags": []
          },
          "execution_count": 58
        }
      ]
    },
    {
      "cell_type": "markdown",
      "metadata": {
        "id": "e2Z4pU3x_gCt"
      },
      "source": [
        "Esto sucede en todos los lenguajes de programación, por lo que no debemos preocuparnos. Python trata de encontrar la manera de representar el resultado con la mayor precisión posible, pero aveces es dificil, ya que las computadoras tienen que representar los números internamente."
      ]
    },
    {
      "cell_type": "markdown",
      "metadata": {
        "id": "oro9bjYR_uiQ"
      },
      "source": [
        "### Enteros y Float\n",
        "\n",
        "Cuando dividimos números independientemente de si son enteros o floats, el resultado siempre será un float:"
      ]
    },
    {
      "cell_type": "code",
      "metadata": {
        "id": "kCY8qvRB_aLM",
        "outputId": "7f05b6e8-7056-4206-d402-41ff4b3052ea",
        "colab": {
          "base_uri": "https://localhost:8080/",
          "height": 34
        }
      },
      "source": [
        "4 / 2"
      ],
      "execution_count": null,
      "outputs": [
        {
          "output_type": "execute_result",
          "data": {
            "text/plain": [
              "2.0"
            ]
          },
          "metadata": {
            "tags": []
          },
          "execution_count": 59
        }
      ]
    },
    {
      "cell_type": "markdown",
      "metadata": {
        "id": "spqwvGca_-Fv"
      },
      "source": [
        "Si combinamos un entero y float en cualquier operación, el resultado será un float"
      ]
    },
    {
      "cell_type": "code",
      "metadata": {
        "id": "waU2eHgb_6Xz",
        "outputId": "283ba73c-f2b2-428b-f0eb-718476c22256",
        "colab": {
          "base_uri": "https://localhost:8080/",
          "height": 34
        }
      },
      "source": [
        "1 + 2.0"
      ],
      "execution_count": null,
      "outputs": [
        {
          "output_type": "execute_result",
          "data": {
            "text/plain": [
              "3.0"
            ]
          },
          "metadata": {
            "tags": []
          },
          "execution_count": 60
        }
      ]
    },
    {
      "cell_type": "code",
      "metadata": {
        "id": "4LPO3L-7AHhU",
        "outputId": "75387e0b-d9d1-4871-98b0-065ee3acc04f",
        "colab": {
          "base_uri": "https://localhost:8080/",
          "height": 34
        }
      },
      "source": [
        "2 * 3.0"
      ],
      "execution_count": null,
      "outputs": [
        {
          "output_type": "execute_result",
          "data": {
            "text/plain": [
              "6.0"
            ]
          },
          "metadata": {
            "tags": []
          },
          "execution_count": 61
        }
      ]
    },
    {
      "cell_type": "code",
      "metadata": {
        "id": "LjzDseZMAIYy",
        "outputId": "44a53ef7-36e6-48d4-98bf-21e52b2dfb4c",
        "colab": {
          "base_uri": "https://localhost:8080/",
          "height": 34
        }
      },
      "source": [
        "3.0 ** 2"
      ],
      "execution_count": null,
      "outputs": [
        {
          "output_type": "execute_result",
          "data": {
            "text/plain": [
              "9.0"
            ]
          },
          "metadata": {
            "tags": []
          },
          "execution_count": 62
        }
      ]
    },
    {
      "cell_type": "markdown",
      "metadata": {
        "id": "ruDNZtD5AMro"
      },
      "source": [
        "En cualquier operación que participe un número float, Python devolverá siempre un float, incluso si el resultado es un número entero."
      ]
    },
    {
      "cell_type": "markdown",
      "metadata": {
        "id": "DFNGUa1jAXk8"
      },
      "source": [
        "### Guiones bajos en números\n",
        "\n",
        "Cuando escribimos números largos y queremos que sean más legibles, podemos agrupar los dígitos usando guiones bajos (`_`):"
      ]
    },
    {
      "cell_type": "code",
      "metadata": {
        "id": "SA0z11Z6AnGT"
      },
      "source": [
        "edad_universo = 14_000_000_000"
      ],
      "execution_count": null,
      "outputs": []
    },
    {
      "cell_type": "markdown",
      "metadata": {
        "id": "GP30AcfJAvXA"
      },
      "source": [
        "Python solo imprimirá los dígitos:"
      ]
    },
    {
      "cell_type": "code",
      "metadata": {
        "id": "lHq5GadDAuxz",
        "outputId": "0ebeb7f3-14cd-4bad-ee75-e629f4cb6800",
        "colab": {
          "base_uri": "https://localhost:8080/",
          "height": 34
        }
      },
      "source": [
        "print(edad_universo)"
      ],
      "execution_count": null,
      "outputs": [
        {
          "output_type": "stream",
          "text": [
            "14000000000\n"
          ],
          "name": "stdout"
        }
      ]
    },
    {
      "cell_type": "markdown",
      "metadata": {
        "id": "bcZc6AUSA5BF"
      },
      "source": [
        "Python ignora los guiones bajos cuando almacena este tipo de valores. Para Python es lo mismo `1000` que `1_000`. \n",
        "\n",
        "Funciona tanto para números enteros como números floats."
      ]
    },
    {
      "cell_type": "markdown",
      "metadata": {
        "id": "GpcKaBzJCshZ"
      },
      "source": [
        "### Asignaciones múltiples\n",
        "\n",
        "Podemos asignar valores a más de una variable en una sola línea. Esto puede ayudarnos a acortar nuestros programas y hacerlos más fáciles de leer.\n",
        "\n",
        "Por ejemplo, supongamos que queremos inicializar la variables `x`, `y` y `z`. Veamos dos maneras:\n"
      ]
    },
    {
      "cell_type": "code",
      "metadata": {
        "id": "zFg-HJ7jg9ca"
      },
      "source": [
        "# primera manera. Una línea por variable\n",
        "x = 0\n",
        "y = 1\n",
        "z = 2"
      ],
      "execution_count": null,
      "outputs": []
    },
    {
      "cell_type": "code",
      "metadata": {
        "id": "uJidQHTLhAJo",
        "outputId": "5cfa0ad3-c33d-4f31-97d9-008db11270e7",
        "colab": {
          "base_uri": "https://localhost:8080/",
          "height": 67
        }
      },
      "source": [
        "print(x)\n",
        "print(y)\n",
        "print(z)"
      ],
      "execution_count": null,
      "outputs": [
        {
          "output_type": "stream",
          "text": [
            "0\n",
            "1\n",
            "2\n"
          ],
          "name": "stdout"
        }
      ]
    },
    {
      "cell_type": "code",
      "metadata": {
        "id": "HLBuUJ6oAyP8"
      },
      "source": [
        "# Segunda manera. Separando por comas\n",
        "x, y, z = 0, 1, 2"
      ],
      "execution_count": null,
      "outputs": []
    },
    {
      "cell_type": "code",
      "metadata": {
        "id": "6sK7r4iqBQgE",
        "outputId": "379dc830-07d5-475a-a5f5-695cd72e10a1",
        "colab": {
          "base_uri": "https://localhost:8080/",
          "height": 67
        }
      },
      "source": [
        "print(x)\n",
        "print(y)\n",
        "print(z)"
      ],
      "execution_count": null,
      "outputs": [
        {
          "output_type": "stream",
          "text": [
            "0\n",
            "1\n",
            "2\n"
          ],
          "name": "stdout"
        }
      ]
    },
    {
      "cell_type": "markdown",
      "metadata": {
        "id": "aFKeCVDJDIjp"
      },
      "source": [
        "Debemos separar los nombres de las variables con `,` y hacer lo mismo con los valores. Python asignará cada valor a su variable posicionada correctamente. \n",
        "\n",
        "Es importante que coincidan el número de valores con el número de variables, sino aparecerá el siguiente error:"
      ]
    },
    {
      "cell_type": "code",
      "metadata": {
        "id": "fAwFl7mhhS8q",
        "outputId": "deed2f29-9b80-4f2f-b574-0f4cd94ee9f2",
        "colab": {
          "base_uri": "https://localhost:8080/",
          "height": 162
        }
      },
      "source": [
        "x, y, z = 0, 0"
      ],
      "execution_count": null,
      "outputs": [
        {
          "output_type": "error",
          "ename": "ValueError",
          "evalue": "ignored",
          "traceback": [
            "\u001b[0;31m---------------------------------------------------------------------------\u001b[0m",
            "\u001b[0;31mValueError\u001b[0m                                Traceback (most recent call last)",
            "\u001b[0;32m<ipython-input-69-769a8a0afc65>\u001b[0m in \u001b[0;36m<module>\u001b[0;34m()\u001b[0m\n\u001b[0;32m----> 1\u001b[0;31m \u001b[0mx\u001b[0m\u001b[0;34m,\u001b[0m \u001b[0my\u001b[0m\u001b[0;34m,\u001b[0m \u001b[0mz\u001b[0m \u001b[0;34m=\u001b[0m \u001b[0;36m0\u001b[0m\u001b[0;34m,\u001b[0m \u001b[0;36m0\u001b[0m\u001b[0;34m\u001b[0m\u001b[0;34m\u001b[0m\u001b[0m\n\u001b[0m",
            "\u001b[0;31mValueError\u001b[0m: not enough values to unpack (expected 3, got 2)"
          ]
        }
      ]
    },
    {
      "cell_type": "markdown",
      "metadata": {
        "id": "rqhaQuFjDUdH"
      },
      "source": [
        "### Constantes\n",
        "\n",
        "Una constante no es más que una variable pero cuyo valor queremos que permanezca igual en toda la vida del programa.\n",
        "\n",
        "Para identificar una constante se recomienda definir la variable en **mayúsculas**. Por ejemplo:"
      ]
    },
    {
      "cell_type": "code",
      "metadata": {
        "id": "wPTz3zIODEwL"
      },
      "source": [
        "CONEXIONES_MAXIMAS = 5000"
      ],
      "execution_count": null,
      "outputs": []
    },
    {
      "cell_type": "code",
      "metadata": {
        "id": "iXgpxNEIh3Ps"
      },
      "source": [
        ""
      ],
      "execution_count": null,
      "outputs": []
    }
  ]
}