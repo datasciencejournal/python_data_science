{
  "nbformat": 4,
  "nbformat_minor": 0,
  "metadata": {
    "colab": {
      "name": "4 Trabajando con listas",
      "provenance": [],
      "collapsed_sections": [],
      "toc_visible": true,
      "include_colab_link": true
    },
    "kernelspec": {
      "name": "python3",
      "display_name": "Python 3"
    }
  },
  "cells": [
    {
      "cell_type": "markdown",
      "metadata": {
        "id": "view-in-github",
        "colab_type": "text"
      },
      "source": [
        "<a href=\"https://colab.research.google.com/github/datasciencejournal/python_data_science/blob/main/4_Trabajando_con_listas.ipynb\" target=\"_parent\"><img src=\"https://colab.research.google.com/assets/colab-badge.svg\" alt=\"Open In Colab\"/></a>"
      ]
    },
    {
      "cell_type": "markdown",
      "metadata": {
        "id": "vQF0IjD2ZR06"
      },
      "source": [
        "# Trabajando con listas\n",
        "\n",
        "En la [sección anterior](https://data-scientist-journal.com/2020/10/25/python-listas/), hemos hemos aprendido a crear listas. Hemos aprendido también cómo trabajar con elementos individuales de una lista.\n",
        "\n",
        "En esta sección vamos a aprender a *recorrer* una lista completa utilizando unas pocas líneas de código, independientemente de su tamaño.\n",
        "\n",
        "El bucle permitirá realizar la misma acción, o conjunto de acciones, con cada elemento de una lista. De esa manera, podremos trabajar de manera eficiente con listas, independientemente de su longitud, incluyendo aquellas con miles o incluso millones de elementos."
      ]
    },
    {
      "cell_type": "markdown",
      "metadata": {
        "id": "Du_cFvRPZ6xE"
      },
      "source": [
        "## Recorriendo una lista completa\n",
        "\n",
        "Con frecuencia vamos a querer ejecutar las mismas tareas con cada elemento de una lista. Por ejemplo, si tenemos una lista de números desearemos realizar la misma operación estadística con cada elemento. O, si tenemos una lista de títulos de artículos, quizás deseemos mostrar cada título en un sitio web.\n",
        "\n",
        "Cuando deseemos realizar la misma acción con cada elemento de una lista, podemos usar el bucle `for` de Python.\n",
        "\n",
        "Supongamos que tenemos una lista de nombres de magos y queremos imprimir cada nombre de esta lista. Una manera puede ser leer cada nombre de la lista individualmente, pero este enfoque puede causar varios problemas. Ya que es repetitivo y trabajoso si nuestra lista tiene muchos nombres. Además, cada vez que aparezca, eliminemos o cambiemos algún nombre de la lista, tendríamos que cambiar nuestro código.\n",
        "\n",
        "Un bucle `for` evita ambos problemas al permitir que Python gestione estos problemas internamente.\n",
        "\n",
        "Usemos un bucle `for` para mostrar el nombre en una lista de magos:"
      ]
    },
    {
      "cell_type": "code",
      "metadata": {
        "id": "KmMpXiAR1YM8"
      },
      "source": [
        "# Definiendo la lista con nombres de magos\n",
        "\n",
        "magos = ['alice', 'david', 'carolina']"
      ],
      "execution_count": 1,
      "outputs": []
    },
    {
      "cell_type": "code",
      "metadata": {
        "id": "Rd_1Xo_1bI7j",
        "outputId": "2bb2ad84-29fa-43ab-c1b9-3385b7b0a7e7",
        "colab": {
          "base_uri": "https://localhost:8080/"
        }
      },
      "source": [
        "# Imprimiendo los nombres de la lista de magos\n",
        "\n",
        "for mago in magos:\n",
        "  print(mago)"
      ],
      "execution_count": 2,
      "outputs": [
        {
          "output_type": "stream",
          "text": [
            "alice\n",
            "david\n",
            "carolina\n"
          ],
          "name": "stdout"
        }
      ]
    },
    {
      "cell_type": "markdown",
      "metadata": {
        "id": "I5C7bzmmbNor"
      },
      "source": [
        "Hemos comenzado definiendo una lista de `'magos'`. Luego hemos definido un bucle `for`. En esta línea le hemos dicho a Python que extraiga un nombre de la lista `magos` y lo guarde en la variable `mago`. Luego le decimos a Python que imprima el nombre que está siendo asignado a la variable `mago`. Python se encargarñá de repetir este proceso por cada nombre de la lista.\n",
        "\n",
        "Podemos leer este código como: \"Para cada `mago` en la lista `magos`, escriba el nombre del `mago`\". El resultado es una simple impresión de cada elemento de la lista."
      ]
    },
    {
      "cell_type": "markdown",
      "metadata": {
        "id": "4I68mGxBc4Rd"
      },
      "source": [
        "### Una mirada más cercana al bucle\n",
        "\n",
        "El concepto de bucle es importante ya que es una de las formas más comunes en que una computadora automatiza tareas repetitivas. Por ejemplo, en un simple bucle, como el que hemos usado anteriormente, se lee la primera línea:\n",
        "\n",
        "`for mago in magos:`\n",
        "\n",
        "En esta línea le decimos a Python que recupere el primer valor de la lista `magos` y lo guarde en la variable `mago`. Este primer valor es `'alice'`. Luego Python lee la siguiente línea:\n",
        "\n",
        "`print(mago)`\n",
        "\n",
        "Python muestra el valor actual de `mago`, el cual sigue siendo `'alice'`. Dado que nuestra lista tiene más elementos, Python vuelve a la primera línea del bucle:\n",
        "\n",
        "`for mago in magos:`\n",
        "\n",
        "A continuación, Python recupera el siguiente nombre en la lista `'david'` y guarda ese valor en la variable `mago`. Luego Python ejecuta la línea:\n",
        "\n",
        "`print(mago)`\n",
        "\n",
        "Python vuelve a imprimir el valor actual de `mago`, que ahora es `'david'`. \n",
        "\n",
        "Python repite todo el ciclo una vez más hasta el último valor de la lista `'carolina'`. Como no hay más valores en la lista, Python pasa a la siguiente línea del programa. En este caso, como no viene nada después del bucle `for`, el programa termina.\n",
        "\n"
      ]
    },
    {
      "cell_type": "markdown",
      "metadata": {
        "id": "8FlkQpKf3UBJ"
      },
      "source": [
        "Cuando usemos bucles por primera vez, hay que tener en cuenta que el número de pasos se repite por cada elemento de la lista, sin importar cuántos elementos tiene nuestra lista. Si tenemos un millón de elementos en nuestra lista, Python repetirá estos pasos un millón de veces, aunque, por lo general, muy rápido.\n",
        "\n",
        "Cuando escribamos bucles, podemos elegir cualquier nombre para nuestra variable temporal, el que se vamos a asociar a cada valor de la lista. Sin embargo, es recomendable elegir un nombre significativo que represente al elemento de la lista. Por ejemplo, si queremos iniciar un bucle para cada elemento de una lista de gatos o perros o artículos, esta es una buena manera:\n",
        "\n",
        "`for gato in gatos:`\n",
        "\n",
        "`for perro in perros:`\n",
        "\n",
        "`for elemento in lista_elementos:`\n",
        "\n",
        "Esta nomenclatura nos va a ayudar a entender y seguir la acción que realizamos en cada elemento dentro del ciclo `for`. El uso de nombres en singular y plural nos ayuda a identificar si una parte de nuestro código funciona con un solo elemento de la lista o toda la lista."
      ]
    },
    {
      "cell_type": "markdown",
      "metadata": {
        "id": "m59c2lFs4mFP"
      },
      "source": [
        "### Haciendo más cosas dentro de un bucle `for`"
      ]
    },
    {
      "cell_type": "markdown",
      "metadata": {
        "id": "XJjd6pky44MW"
      },
      "source": [
        "Podemos hacer casi cualquier cosa con cada elemento dentro de un bucle `for`. \n",
        "\n",
        "Por ejemplo, vamos a agregar, a partir del ejemplo anterior, un mensaje a cada mago, indicando que ha realizado un gran truco:"
      ]
    },
    {
      "cell_type": "code",
      "metadata": {
        "id": "Vd1jsADRbMUF"
      },
      "source": [
        "# Definiendo la lista de magos\n",
        "magos = ['alice', 'david', 'carolina']"
      ],
      "execution_count": 3,
      "outputs": []
    },
    {
      "cell_type": "code",
      "metadata": {
        "id": "JMbFG2IE5NLm",
        "outputId": "2e900a1a-cb44-4257-83aa-61c391f1c2b0",
        "colab": {
          "base_uri": "https://localhost:8080/"
        }
      },
      "source": [
        "# Imprimimos un mensaje por cada mago\n",
        "\n",
        "for mago in magos:\n",
        "  print(f\"¡{mago.title()} hizo un gran truco!\")"
      ],
      "execution_count": 4,
      "outputs": [
        {
          "output_type": "stream",
          "text": [
            "¡Alice hizo un gran truco!\n",
            "¡David hizo un gran truco!\n",
            "¡Carolina hizo un gran truco!\n"
          ],
          "name": "stdout"
        }
      ]
    },
    {
      "cell_type": "markdown",
      "metadata": {
        "id": "u4RKU-o55eEd"
      },
      "source": [
        "La única diferencia de este código con el anterior es que hemos escrito un mensaje por cada mago. La primera vez a través del bucle, el valor de `mago` es `'alice'`, por lo que Python comienza el primer mensaje con el nombre `'Alice'`. La segunda vez comenzará con `'David'` y la tercera vez comenzará el mensaje con `'Carolina'`. La salida muestra un mensaje personalizado por cada `mago` en la lista.\n",
        "\n",
        "Podemos escribir tantas líneas de código que deseemos en el bucle `for`. Cada línea con *sangría* que sigue a la línea `for mago in magos` se considera *dentro del bucle* y cada línea con sangría se ejecuta una vez para cada valor en la lista. Por lo tanto, podemos hacer todo el trabajo que deseemos con cada valor de la lista.\n",
        "\n",
        "Por ejemplo, agreguemos una segunda línea a nuestro mensaje, diciéndole a cada mago que estamos esperando su siguiente truco:"
      ]
    },
    {
      "cell_type": "code",
      "metadata": {
        "id": "S1hjBJrh5ZQV"
      },
      "source": [
        "# Definiendo la lista de magos\n",
        "\n",
        "magos = ['alice', 'david', 'carolina']"
      ],
      "execution_count": 5,
      "outputs": []
    },
    {
      "cell_type": "code",
      "metadata": {
        "id": "8E2j837T6wJ-",
        "outputId": "e1cbc2e6-0e62-4bae-f87c-0360b349660e",
        "colab": {
          "base_uri": "https://localhost:8080/"
        }
      },
      "source": [
        "# Imprimimos dos mensajes por cada mago\n",
        "\n",
        "for mago in magos:\n",
        "  print(f\"{mago.title()} hizo un gran truco\")\n",
        "  print(f\"Ya quiero ver su siguiente truco, {mago.title()}\\n\")"
      ],
      "execution_count": 6,
      "outputs": [
        {
          "output_type": "stream",
          "text": [
            "Alice hizo un gran truco\n",
            "Ya quiero ver su siguiente truco, Alice\n",
            "\n",
            "David hizo un gran truco\n",
            "Ya quiero ver su siguiente truco, David\n",
            "\n",
            "Carolina hizo un gran truco\n",
            "Ya quiero ver su siguiente truco, Carolina\n",
            "\n"
          ],
          "name": "stdout"
        }
      ]
    },
    {
      "cell_type": "markdown",
      "metadata": {
        "id": "7yPWm9VB7WG_"
      },
      "source": [
        "Dado que las llamadas a `print()` están con sangría, cada línea se ejecutará una vez por cada `mago` que hay en la lista. El símbolo `'\\n'` en el segundo `print()` inserta una línea en blanco después de cada vez que se pasa a través del bucle. Esto crea un conjunto de mensajes que se agrupan para cada elemento de la lista.\n",
        "\n",
        "Podemos usar tantas líneas como deseemos en nuestros bucles `for`. En la práctica, a menudo nos resultará útil realizar varias operaciones diferentes con cada elemento de una lista cuando utilicemos un bucle `for`."
      ]
    },
    {
      "cell_type": "markdown",
      "metadata": {
        "id": "6T2MMCou8Y9s"
      },
      "source": [
        "### Haciendo algo luego de un bucle `for`\n",
        "\n",
        "¿Qué sucede cuando un ciclo `for` ha terminado de ejecutarse? Por lo general, vamos a querer agregar más trabajos que queremos que nuestro programa realice. \n",
        "\n",
        "Cualquier línea de código despues del ciclo `for` que no tenga *sangría* se ejecuta una vez sin repetición.\n",
        "\n",
        "Por ejemplo, vamos a escribir un agradecimiento final al conjunto de magos. Para mostrar este mensaje grupal después de que se hayan impreso todos los mensajes individuales, colocamos un mensaje de agradecimiento después del ciclo `for` *sin sangría*:"
      ]
    },
    {
      "cell_type": "code",
      "metadata": {
        "id": "n7MPjaEn7Kws"
      },
      "source": [
        "# Definiendo la lista de magos\n",
        "\n",
        "magos = ['alice', 'david', 'carolina']"
      ],
      "execution_count": 7,
      "outputs": []
    },
    {
      "cell_type": "code",
      "metadata": {
        "id": "ohbp66LG9S9r",
        "outputId": "dd45ca00-8ca2-4efb-8aa2-c74bc64dada1",
        "colab": {
          "base_uri": "https://localhost:8080/"
        }
      },
      "source": [
        "# Imprimiendo dos mensajes por cada mago\n",
        "# Agregando un mensaje final luego del bucle\n",
        "\n",
        "for mago in magos:\n",
        "  print(f\"¡{mago.title()} hizo un gran truco!\")\n",
        "  print(f\"No puedo esperar para ver su siguiente truco, {mago.title()}\\n\")\n",
        "\n",
        "print(\"¡Gracias a todos, esto fue un magnífico espectáculo!\")"
      ],
      "execution_count": 8,
      "outputs": [
        {
          "output_type": "stream",
          "text": [
            "¡Alice hizo un gran truco!\n",
            "No puedo esperar para ver su siguiente truco, Alice\n",
            "\n",
            "¡David hizo un gran truco!\n",
            "No puedo esperar para ver su siguiente truco, David\n",
            "\n",
            "¡Carolina hizo un gran truco!\n",
            "No puedo esperar para ver su siguiente truco, Carolina\n",
            "\n",
            "¡Gracias a todos, esto fue un magnífico espectáculo!\n"
          ],
          "name": "stdout"
        }
      ]
    },
    {
      "cell_type": "markdown",
      "metadata": {
        "id": "AEGH9RXM94Nq"
      },
      "source": [
        "Las dos primeras llamadas a `print()` se repiten una vez por cada `mago` en la lista. Sin embargo, la última linea, al no estar con *sangría*, se imprime solo una vez."
      ]
    },
    {
      "cell_type": "markdown",
      "metadata": {
        "id": "RZPZLNin-C21"
      },
      "source": [
        "Cuando procesamos datos utilizando un bucle `for`, encontraremos que esta es una buena manera de resumir una operación que realizamos en un conjunto de datos completo. Por ejemplo, podemos usar un bucle `for` para inicializar un juego al ejecutar una lista de personajes y mostrar cada personake en la pantalla. Luego de mostrar a todos los personajes, finalizando el bucle, podemos escribir un código adicional que muestra un botón *Jugar ahora*."
      ]
    },
    {
      "cell_type": "markdown",
      "metadata": {
        "id": "aw3_Rt0S-rop"
      },
      "source": [
        "## Evitando errores de Sangría"
      ]
    },
    {
      "cell_type": "markdown",
      "metadata": {
        "id": "6U4LZEuYS4Ff"
      },
      "source": [
        "Python usa sangría para determinar cómo se relaciona una línea, o un grupo de líneas, con el resto del programa. En los ejemplos anteriores, las líneas que mostraban mensajes a magos individuales eran parte del ciclo `for` porque estaban con sangría. El uso de sangría en Python hace que el código sea muy fácil de leer.\n",
        "\n",
        "Básicamente, Python utiliza espacios en blanco para forzarnos a escribir código cuidadosamente formateado con una estructura visual clara. En programas más largos de Python, vamos a notar bloques de código con sangría en diferentes niveles. Estos niveles de sangría nos ayudan a tener una idea general de la organización del programa.\n",
        "\n",
        "Es común cometer errores relacionados con sangrías. Por ejemplo, podemos agregar sangría en líneas de código que no lo necesitan u olvidar agregar sangrías en líneas que sí lo necesitan. \n",
        "\n",
        "Examinemos algunos de los errores de sangría más comunes."
      ]
    },
    {
      "cell_type": "markdown",
      "metadata": {
        "id": "A5PeqoBjZGlI"
      },
      "source": [
        "### Olvidando sangrías\n",
        "\n",
        "Luego de una instrucción `for` en bucle tenemos que agregar sangría. Si nos olvidamos, Python nos lo recordará:"
      ]
    },
    {
      "cell_type": "code",
      "metadata": {
        "id": "rYA5eLuy9phv"
      },
      "source": [
        "magos = ['alice', 'david', 'carolina']"
      ],
      "execution_count": 9,
      "outputs": []
    },
    {
      "cell_type": "code",
      "metadata": {
        "id": "iHBYcQr4Zcd2",
        "outputId": "8ca03220-ee3f-4bf5-c9bc-4288e233c167",
        "colab": {
          "base_uri": "https://localhost:8080/",
          "height": 129
        }
      },
      "source": [
        "# Olvidamos agregar sangría\n",
        "\n",
        "for mago in magos:\n",
        "print(mago)"
      ],
      "execution_count": 10,
      "outputs": [
        {
          "output_type": "error",
          "ename": "IndentationError",
          "evalue": "ignored",
          "traceback": [
            "\u001b[0;36m  File \u001b[0;32m\"<ipython-input-10-a585ebfc474c>\"\u001b[0;36m, line \u001b[0;32m4\u001b[0m\n\u001b[0;31m    print(mago)\u001b[0m\n\u001b[0m        ^\u001b[0m\n\u001b[0;31mIndentationError\u001b[0m\u001b[0;31m:\u001b[0m expected an indented block\n"
          ]
        }
      ]
    },
    {
      "cell_type": "markdown",
      "metadata": {
        "id": "DjgKUtJWZo2e"
      },
      "source": [
        "La llamada `print()` debe tener sangría, pero en el ejemplo, no lo está. Cuando Python espera un bloque con sangría y no lo encuentra, nos indica en qué línea tuvo un problema.\n",
        "\n",
        "Por lo general, podemos resolver este tipo de error de sangría agregando sangría en la línea o líneas inmediatamente después de la instrucción `for`."
      ]
    },
    {
      "cell_type": "markdown",
      "metadata": {
        "id": "1h7WCCMjaEwE"
      },
      "source": [
        "### Olvidando agregar sangrías adicionales\n",
        "\n",
        "Aveces nuestro bucle se ejecutará sin errores, pero no producirá el resultado que esperamos. Esto puede suceder cuando intentamos realizar varias tareas en un bucle y olvidamos agregar sangrías en algunas de las líneas.\n",
        "\n",
        "Por ejemplo, esto sucede cuando olvidamos agregar sangría en la segunda línea en el bucle en la que pedimos a cada mago que estamos esperando su próximo truco:"
      ]
    },
    {
      "cell_type": "code",
      "metadata": {
        "id": "NyBz2LNSZije"
      },
      "source": [
        "magos = ['alice', 'david', 'carolina']"
      ],
      "execution_count": 11,
      "outputs": []
    },
    {
      "cell_type": "code",
      "metadata": {
        "id": "2Ag_gRERapfe",
        "outputId": "76ef8391-1cb8-4782-f384-422e1d0938a6",
        "colab": {
          "base_uri": "https://localhost:8080/"
        }
      },
      "source": [
        "# Olvidamos agregar sangría en la segunda instrucción\n",
        "\n",
        "for mago in magos:\n",
        "  print(f\"¡{mago.title()} hizo un gran truco!\")\n",
        "print(f\"No puedo esperar para ver su siguiente truco, {mago.title()}\\n\")"
      ],
      "execution_count": 12,
      "outputs": [
        {
          "output_type": "stream",
          "text": [
            "¡Alice hizo un gran truco!\n",
            "¡David hizo un gran truco!\n",
            "¡Carolina hizo un gran truco!\n",
            "No puedo esperar para ver su siguiente truco, Carolina\n",
            "\n"
          ],
          "name": "stdout"
        }
      ]
    },
    {
      "cell_type": "markdown",
      "metadata": {
        "id": "Y2Ep74YLa4vm"
      },
      "source": [
        "Se supone que la llamada `print()` tiene sangría, pero debido a que Python encuentra al menos una línea con sangría después de la instrucción `for`, no informa un error. Como resultado, la primera llamada `print()` se ejecuta una vez para cada nombre en la lista porque está con sangría. La segunda llamada `print()` al no estar con sangría se ejecuta solo una vez cuando el ciclo ha terminado de ejecutarse. Debido a que el último valor de la lista es el mago `'carolina'`, ella es la única que recibe el mensaje `\"esperando el próximo truco\"`.\n",
        "\n",
        "Este es un *error lógico*. La sintaxis es un código Python válido, pero el código no produce el resultado que deseamos ya que se produce un problema en su lógica. Si espera ver una determinada acción repetida una vez por cada elemento de una lista y se ejecuta solo una vez, es necesario revisar para agregar sangría a una línea o un grupo de líneas.\n"
      ]
    },
    {
      "cell_type": "markdown",
      "metadata": {
        "id": "3k5RAYOAcuKv"
      },
      "source": [
        "### Sangría innecesaria\n",
        "\n",
        "Si accidentalmente agregamos una sangría donde no necesita tener sangría, Python informará sobre la sangría inesperada:\n"
      ]
    },
    {
      "cell_type": "code",
      "metadata": {
        "id": "oEG90evlax0h",
        "outputId": "276b7534-82a4-4076-fd52-4762a6195462",
        "colab": {
          "base_uri": "https://localhost:8080/",
          "height": 129
        }
      },
      "source": [
        "# Agregamos sangría donde no debe\n",
        "\n",
        "mensaje = \"¡Hola mundo de Python!\"\n",
        "  print(mensaje)"
      ],
      "execution_count": 13,
      "outputs": [
        {
          "output_type": "error",
          "ename": "IndentationError",
          "evalue": "ignored",
          "traceback": [
            "\u001b[0;36m  File \u001b[0;32m\"<ipython-input-13-9385b9d4afc0>\"\u001b[0;36m, line \u001b[0;32m4\u001b[0m\n\u001b[0;31m    print(mensaje)\u001b[0m\n\u001b[0m    ^\u001b[0m\n\u001b[0;31mIndentationError\u001b[0m\u001b[0;31m:\u001b[0m unexpected indent\n"
          ]
        }
      ]
    },
    {
      "cell_type": "markdown",
      "metadata": {
        "id": "IKlURT6udQrC"
      },
      "source": [
        "No necesitamos agregar una sangría en la llamada `print()` porque no es parte de un bucle; por lo tanto, Python informará un error.\n",
        "\n",
        "Podemos evitar errores de sangría inesperados al agregar sangría solo cuando haya un motivo para hacerlo. En los programas que estamos escribiendo, las únicas líneas que necesitan sangría son las acciones que deseamos repetir para cada elemento en un bucle `for`."
      ]
    },
    {
      "cell_type": "markdown",
      "metadata": {
        "id": "NEorF-Dpdux8"
      },
      "source": [
        "### Sangría innecesaria después de un bucle\n",
        "\n",
        "Si accidentalmente agregamos sangría en la parte del código que debería ejecutarse después de que el ciclo haya terminado, ese código se repetirá una vez por cada elemento de la lista. A veces, Python informa un error, pero a menudo esto dará como resultado un error lógico.\n",
        "\n",
        "Por ejemplo, veamos qué sucede cuando agregamos accidentalmente una sangría en la línea en la que agradecemos al grupo de magos por dar un buen espectáculo:"
      ]
    },
    {
      "cell_type": "code",
      "metadata": {
        "id": "HXVILu4idOQ5"
      },
      "source": [
        "magos = ['alice', 'david', 'carolina']"
      ],
      "execution_count": 14,
      "outputs": []
    },
    {
      "cell_type": "code",
      "metadata": {
        "id": "WCz5dxAWenoJ",
        "outputId": "95f40175-7bc2-4652-faa0-b492c7c19c86",
        "colab": {
          "base_uri": "https://localhost:8080/"
        }
      },
      "source": [
        "# Agregamos una sangría al final por error\n",
        "\n",
        "for mago in magos:\n",
        "  print(f\"¡{mago.title()} hizo un gran truco!\")\n",
        "  print(f\"No puedo esperar para ver su siguiente truco, {mago.title()}\\n\")\n",
        "\n",
        "  print(\"¡Gracias a todos, esto fue un magnífico espectáculo!\")"
      ],
      "execution_count": 15,
      "outputs": [
        {
          "output_type": "stream",
          "text": [
            "¡Alice hizo un gran truco!\n",
            "No puedo esperar para ver su siguiente truco, Alice\n",
            "\n",
            "¡Gracias a todos, esto fue un magnífico espectáculo!\n",
            "¡David hizo un gran truco!\n",
            "No puedo esperar para ver su siguiente truco, David\n",
            "\n",
            "¡Gracias a todos, esto fue un magnífico espectáculo!\n",
            "¡Carolina hizo un gran truco!\n",
            "No puedo esperar para ver su siguiente truco, Carolina\n",
            "\n",
            "¡Gracias a todos, esto fue un magnífico espectáculo!\n"
          ],
          "name": "stdout"
        }
      ]
    },
    {
      "cell_type": "markdown",
      "metadata": {
        "id": "djZZJKfXfJKd"
      },
      "source": [
        "Dado que la última línea del código está con sangría, se muestra una vez por cada persona en la lista.\n",
        "\n",
        "Este es otro error lógico. Debido a que Python ejecutará todo el código escrito como si fuese válida. Si una acción se repite muchas veces cuando debería ejecutarse solo una vez, probablemente hay una sangría de más."
      ]
    },
    {
      "cell_type": "markdown",
      "metadata": {
        "id": "qxLRgB5QfoZP"
      },
      "source": [
        "### Olvidando los dos puntos (:)\n",
        "\n",
        "Los dos puntos al final de una instrucción `for` le dicen a Python que interprete la siguiente línea como el inicio de un bucle:"
      ]
    },
    {
      "cell_type": "code",
      "metadata": {
        "id": "AKr1xxT0evjy"
      },
      "source": [
        "magos = ['alice', 'david', 'carolina']"
      ],
      "execution_count": 16,
      "outputs": []
    },
    {
      "cell_type": "code",
      "metadata": {
        "id": "-z244Wz4fyy4",
        "outputId": "a935efe5-addb-41d0-cd45-ba91ca1c8bbd",
        "colab": {
          "base_uri": "https://localhost:8080/",
          "height": 129
        }
      },
      "source": [
        "# Olvidamos los dos puntos (:)\n",
        "\n",
        "for mago in magos\n",
        "  print(mago)"
      ],
      "execution_count": 17,
      "outputs": [
        {
          "output_type": "error",
          "ename": "SyntaxError",
          "evalue": "ignored",
          "traceback": [
            "\u001b[0;36m  File \u001b[0;32m\"<ipython-input-17-ec0520b47178>\"\u001b[0;36m, line \u001b[0;32m3\u001b[0m\n\u001b[0;31m    for mago in magos\u001b[0m\n\u001b[0m                     ^\u001b[0m\n\u001b[0;31mSyntaxError\u001b[0m\u001b[0;31m:\u001b[0m invalid syntax\n"
          ]
        }
      ]
    },
    {
      "cell_type": "markdown",
      "metadata": {
        "id": "mvTrDnmHf7CU"
      },
      "source": [
        "Si olvidamos accidentalmente los dos puntos, obtendremos un error de sintaxis porque Python no sabe lo que está tratando de hacer. Aunque este es un error fácil de solucionar, no siempre es un error fácil de encontrar."
      ]
    },
    {
      "cell_type": "markdown",
      "metadata": {
        "id": "VTGFRNhigCbk"
      },
      "source": [
        "## Listas numéricas"
      ]
    },
    {
      "cell_type": "markdown",
      "metadata": {
        "id": "kVFMvoJjY7L5"
      },
      "source": [
        "Existen muchas razones para almacenar un conjunto de números. Por ejemplo, si queremos hacer un seguimiento de las posiciones de cada jugador en un juego, es posible que queramos hacer un seguimiento de las puntuaciones más altas de un jugador. Cuando queramos visualizar datos, casi siempre trabajaremos con conjunto de números, como temperaturas, distancias, tamaños de población o valores de latitud y longitud, etc.\n",
        "\n",
        "Las listas son ideales para almacenar conjuntos de números y Python nos proporciona una variedad de herramientas para ayudarnos a trabajar de manera más eficiente. Una vez que comprendamos cómo usar estas herramientas, nuestro código funcionará bien incluso cuando nuestras listas contengan millones de elementos."
      ]
    },
    {
      "cell_type": "markdown",
      "metadata": {
        "id": "cEhhOKnTYHfI"
      },
      "source": [
        "### Usando la función `range()`\n",
        "\n",
        "La función `range()` de Python nos facilita la generación de una serie de números.\n",
        "\n",
        "Por ejemplo, podemos usar la función `range()` para imprimir una serie de números:"
      ]
    },
    {
      "cell_type": "code",
      "metadata": {
        "id": "3_AMYCQDf1In",
        "outputId": "4eaa6bb0-78fc-4e9f-80db-d164618a7a25",
        "colab": {
          "base_uri": "https://localhost:8080/"
        }
      },
      "source": [
        "# Imprimiento una lista de números\n",
        "\n",
        "for valor in range(1, 5):\n",
        "  print(valor)"
      ],
      "execution_count": 18,
      "outputs": [
        {
          "output_type": "stream",
          "text": [
            "1\n",
            "2\n",
            "3\n",
            "4\n"
          ],
          "name": "stdout"
        }
      ]
    },
    {
      "cell_type": "markdown",
      "metadata": {
        "id": "6cTpPmeYYdyZ"
      },
      "source": [
        "En este ejemplo `range()` imprime solo los números del 1 al 4. La función ´range()´ hace que Python comience a contar con el primer valor que le damos, y se detenga cuando alcance el segundo valor que le proporcionamos. Debido a que se detiene en ese segundo valor, la salida nunca contiene el valor final, que es 5 en este caso.\n",
        "\n",
        "Para imprimir los números del 1 al 5, debemos usar `range(1, 6)`."
      ]
    },
    {
      "cell_type": "code",
      "metadata": {
        "id": "vjrICVYxYa7A",
        "outputId": "acae43e9-6d7e-440e-b301-a2e48bb03170",
        "colab": {
          "base_uri": "https://localhost:8080/"
        }
      },
      "source": [
        "for valor in range(1, 6):\n",
        "  print(valor)"
      ],
      "execution_count": 19,
      "outputs": [
        {
          "output_type": "stream",
          "text": [
            "1\n",
            "2\n",
            "3\n",
            "4\n",
            "5\n"
          ],
          "name": "stdout"
        }
      ]
    },
    {
      "cell_type": "markdown",
      "metadata": {
        "id": "z6fNjKu8_rN-"
      },
      "source": [
        "Esta vez la salida comienza en 1 y termina en 5.\n",
        "\n",
        "Podemos también pasar un solo argumento a `range()`, en este caso, la secuencia comenzará en 0. Por ejemplo, `range(6)` devolverá los números del 0 al 5."
      ]
    },
    {
      "cell_type": "markdown",
      "metadata": {
        "id": "ClSVx29eAPTU"
      },
      "source": [
        "### Usando `range()` para hacer una lista de números\n",
        "\n",
        "Si deseamos hacer una lista de números, podemos convertir los resultados de `range()` directamente en una lista utilizando la función `list()`. Cuando agregamos `list()` sobre la función `range()`, el resultado será una lista de números.\n",
        "\n",
        "en el ejemplo de la sección anterior, vamos a imprimir una serie de números. Podemos usar `list()` para convertir ese mismo conjunto de números en una lista:"
      ]
    },
    {
      "cell_type": "code",
      "metadata": {
        "id": "thsqWuGf_nY7"
      },
      "source": [
        "# Convertiendo range en una lista de numeros\n",
        "\n",
        "numeros = list(range(1, 6))"
      ],
      "execution_count": 20,
      "outputs": []
    },
    {
      "cell_type": "markdown",
      "metadata": {
        "id": "xbV2wTVXAxZc"
      },
      "source": [
        "Y este es el resultado:"
      ]
    },
    {
      "cell_type": "code",
      "metadata": {
        "id": "0VOd5WiQAwaW",
        "outputId": "28728ed7-3d6d-4e10-a743-076a54578010",
        "colab": {
          "base_uri": "https://localhost:8080/"
        }
      },
      "source": [
        "print(numeros)"
      ],
      "execution_count": 21,
      "outputs": [
        {
          "output_type": "stream",
          "text": [
            "[1, 2, 3, 4, 5]\n"
          ],
          "name": "stdout"
        }
      ]
    },
    {
      "cell_type": "markdown",
      "metadata": {
        "id": "Quc0P5ExA5DT"
      },
      "source": [
        "También podemos usar la función `range()` para decirle a Python que omita los números en un rango dado. Si pasamos un tercer argumento a `range()`, Python usa ese valor como el tamaño de paso al generar números.\n",
        "\n",
        "Por ejemplo, vamos a enumerar los números pares entre 1 y 10:"
      ]
    },
    {
      "cell_type": "code",
      "metadata": {
        "id": "Iyn2MM_3A1Sq"
      },
      "source": [
        "# Números pares\n",
        "\n",
        "numeros_pares = list(range(2, 11, 2))"
      ],
      "execution_count": 22,
      "outputs": []
    },
    {
      "cell_type": "markdown",
      "metadata": {
        "id": "wXwbl21vBLmv"
      },
      "source": [
        "En este ejemplo, la función `range()` empieza con el valor de 2 y luego agrega 2 a ese valor. Agrega 2 tantas veces hasta que alcanza o pasa el valor final, 11 y produce este resultado:"
      ]
    },
    {
      "cell_type": "code",
      "metadata": {
        "id": "COeDZFwyBI0_",
        "outputId": "18ef3ce1-47d7-412d-aafa-7a3ba9e4e395",
        "colab": {
          "base_uri": "https://localhost:8080/"
        }
      },
      "source": [
        "print(numeros_pares)"
      ],
      "execution_count": 23,
      "outputs": [
        {
          "output_type": "stream",
          "text": [
            "[2, 4, 6, 8, 10]\n"
          ],
          "name": "stdout"
        }
      ]
    },
    {
      "cell_type": "markdown",
      "metadata": {
        "id": "YUCXYV-WDvBN"
      },
      "source": [
        "Podemos crear casi cualquier conjunto de números que deseemos utilizando la función `range()`. Por ejemplo, supongamos que queremos hacer una lista de los 10 primeros números cuadrados (es decir, el cuadraro de cada número entero del 1 al 10). En Python, dos asteriscos (`**`) representan exponentes.\n",
        "\n",
        "Vamos a poner los primeros 10 números cuadrados en una lista:"
      ]
    },
    {
      "cell_type": "code",
      "metadata": {
        "id": "VNSKH1NRBYbH"
      },
      "source": [
        "# Números cuadrados\n",
        "\n",
        "cuadrados = []\n",
        "\n",
        "for valor in range(1, 11):\n",
        "  cuadrado = valor ** 2\n",
        "  cuadrados.append(cuadrado)"
      ],
      "execution_count": 24,
      "outputs": []
    },
    {
      "cell_type": "markdown",
      "metadata": {
        "id": "gi3V0B_IEQpo"
      },
      "source": [
        "Empezamos con una lista vacía llamada ´cuadrados´. Luego le decimos a Python que recorra cada valor del 1 al 10 utilizando la función `range()`. Dentro del bucle, el valor actual se eleva al cuadrado y se asigna a la variable `cuadrado`. Luego cada nuevo valor `cuadrado` se agrega a la lista `cuadrados`\n",
        "\n",
        "Finalmente, cuando el bucle ha terminado, la lista de cuadrados se imprime:"
      ]
    },
    {
      "cell_type": "code",
      "metadata": {
        "id": "PGqQAvx_EPQo",
        "outputId": "88bf1532-a551-42a5-9301-5fb8a57adcb3",
        "colab": {
          "base_uri": "https://localhost:8080/"
        }
      },
      "source": [
        "print(cuadrados)"
      ],
      "execution_count": 25,
      "outputs": [
        {
          "output_type": "stream",
          "text": [
            "[1, 4, 9, 16, 25, 36, 49, 64, 81, 100]\n"
          ],
          "name": "stdout"
        }
      ]
    },
    {
      "cell_type": "markdown",
      "metadata": {
        "id": "ofesLoJbEzuk"
      },
      "source": [
        "Si queremos escribir este código de manera más consisa, podemos omitir la variable temporal `cuadrado` y agregar cada nuevo valor directamente a la lista:"
      ]
    },
    {
      "cell_type": "code",
      "metadata": {
        "id": "tW4zmfmsEwE8"
      },
      "source": [
        "cuadrados = []\n",
        "\n",
        "for valor in range(1, 11):\n",
        "  cuadrados.append(valor ** 2)"
      ],
      "execution_count": 26,
      "outputs": []
    },
    {
      "cell_type": "markdown",
      "metadata": {
        "id": "qTt30BonHgAY"
      },
      "source": [
        "Este código hace el mismo trabajo. Cada valor del bucle se eleva al cuadrado y luego se guarda en la lista `cuadrados`."
      ]
    },
    {
      "cell_type": "code",
      "metadata": {
        "id": "JyhIKmj5FAWk",
        "outputId": "7641e656-5830-4f4e-b68c-3a19fec9463e",
        "colab": {
          "base_uri": "https://localhost:8080/"
        }
      },
      "source": [
        "print(cuadrados)"
      ],
      "execution_count": 27,
      "outputs": [
        {
          "output_type": "stream",
          "text": [
            "[1, 4, 9, 16, 25, 36, 49, 64, 81, 100]\n"
          ],
          "name": "stdout"
        }
      ]
    },
    {
      "cell_type": "markdown",
      "metadata": {
        "id": "i9ux4cNiHwRd"
      },
      "source": [
        "Podemos usar cualquiera de estos dos enfoques cuando estemos haciendo listas más complejas. A veces, usar una variable temporal hace que nuestro código sea más facil de leer; otras veces hace que el código sea innecesariamente largo."
      ]
    },
    {
      "cell_type": "markdown",
      "metadata": {
        "id": "kwTp1S8MH8gR"
      },
      "source": [
        "### Estadísticas simples con listas de números\n",
        "\n",
        "Algunas funciones de Python son útiles cuando se trabaja con listas de números. Por ejemplo, podemos encontrar fácilmente el mínimo, máximo y la suma de una lista de números:"
      ]
    },
    {
      "cell_type": "code",
      "metadata": {
        "id": "SxLnLo4xHkG0",
        "outputId": "29b93b02-52fd-4c15-8744-e36deee0ef7d",
        "colab": {
          "base_uri": "https://localhost:8080/"
        }
      },
      "source": [
        "# Algunas estadísticas con la lista de números\n",
        "\n",
        "digitos = [1, 2, 3, 4, 5, 6, 7, 8, 9, 0]\n",
        "\n",
        "print(min(digitos))\n",
        "\n",
        "print(max(digitos))\n",
        "\n",
        "print(sum(digitos))"
      ],
      "execution_count": 28,
      "outputs": [
        {
          "output_type": "stream",
          "text": [
            "0\n",
            "9\n",
            "45\n"
          ],
          "name": "stdout"
        }
      ]
    },
    {
      "cell_type": "markdown",
      "metadata": {
        "id": "NuoShqsIIWB6"
      },
      "source": [
        "### List comprehensions\n",
        "\n",
        "Los enfoques usados anteriormente para generar la lista `cuadrados` consistió en utilizar tres o cuatro líneas de código. Una *list comprehensions* nos permite generar esta misma lista en una sola línea de código. Una list comprehensions combina un bucle `for` y la creación de nuevos elementos en una línea, y agrega automáticamente cada nuevo elemento.\n",
        "\n",
        "El siguiente ejemplo, contruye la misma lista `cuadrados` pero usamos un list comprehension"
      ]
    },
    {
      "cell_type": "code",
      "metadata": {
        "id": "3gEyyTJoIS5T"
      },
      "source": [
        "# Usando list comprehensions\n",
        "\n",
        "cuadrados = [valor ** 2 for valor in range(1, 11)]"
      ],
      "execution_count": 29,
      "outputs": []
    },
    {
      "cell_type": "markdown",
      "metadata": {
        "id": "UjlrA58bJucm"
      },
      "source": [
        "Para usar esta sintaxis, tenemos que comenzar con un numbre para la lista, como `cuadrados`. A continuación, abrimos corchetes y definimos la expresión para los valores que deseamos almacenar en la nueva lista. en este ejemplo, la expresión es `valor ** 2` que eleva al cuadrado el valor. Luego, escribimos un bucle `for` para generar los números que deseamos alimentar a la expresión y cerramos corchetes. El bucle `for` en este ejemplo es para los valores en `range(1, 11)`. En este caso no es necesario añadir los dos puntos (:).\n",
        "\n",
        "El resultado es el mismo:"
      ]
    },
    {
      "cell_type": "code",
      "metadata": {
        "id": "uPbw1cc8JYrP",
        "outputId": "7b0e4979-c9ac-43d7-99a7-96f42b8ef319",
        "colab": {
          "base_uri": "https://localhost:8080/"
        }
      },
      "source": [
        "print(cuadrados)"
      ],
      "execution_count": 30,
      "outputs": [
        {
          "output_type": "stream",
          "text": [
            "[1, 4, 9, 16, 25, 36, 49, 64, 81, 100]\n"
          ],
          "name": "stdout"
        }
      ]
    },
    {
      "cell_type": "markdown",
      "metadata": {
        "id": "TVPdnie-KdTl"
      },
      "source": [
        "Toma práctica escribir list comprehension, pero va a ser valioso.\n",
        "Cuando escribamos tres o cuatro líneas de código para generar listas y empiece a ser repetitivo, se puede considerar usar list comprehension."
      ]
    },
    {
      "cell_type": "markdown",
      "metadata": {
        "id": "7YoIViolKsuD"
      },
      "source": [
        "## Trabajando con partes de una lista"
      ]
    },
    {
      "cell_type": "markdown",
      "metadata": {
        "id": "cSFWY_nsJK8j"
      },
      "source": [
        "[Hemos aprendido](https://data-scientist-journal.com/2020/10/25/python-listas/) cómo acceder a elementos individuales en una lista, y también hemos aprendido a trabajar con todos los elementos de una lista. También podemos trabajar con un grupo específico en una lista, Python llama a este segmento (`slice`)."
      ]
    },
    {
      "cell_type": "markdown",
      "metadata": {
        "id": "YbisQW5SJc4z"
      },
      "source": [
        "### Segmento de una lista\n",
        "\n",
        "Para realizar un segmento (`slide`), tenemos que especificar el índice del primer y último elemento que queremos trabajar. Así como con la función `range()` Python detiene un elementos antes del segundo índice que especifiquemos. Para generar los primeros tres elementos de una lista, solicitamos los índices del 0 al 3, y Python nos devolverá los elementos 0, 1, 2.\n",
        "\n",
        "En el siguiente ejemplo tenemos una lista de jugadores en un equipo:"
      ]
    },
    {
      "cell_type": "code",
      "metadata": {
        "id": "2mpXkF4dKYSK"
      },
      "source": [
        "# Lista de jugadores\n",
        "\n",
        "jugadores = ['charles', 'martina', 'michael', 'florence', 'eli']"
      ],
      "execution_count": 31,
      "outputs": []
    },
    {
      "cell_type": "markdown",
      "metadata": {
        "id": "k_T0XZzySsPf"
      },
      "source": [
        "A continuación vamos a imprimir un segmento de esta lista, los primeros 3 jugadores. El resultado conserva la estructura de la lista e incluye los primeros tres jugadores en la lista:"
      ]
    },
    {
      "cell_type": "code",
      "metadata": {
        "id": "xe6QHBYBSpYO",
        "outputId": "dd560feb-145f-4f20-8be6-334cb0a6e751",
        "colab": {
          "base_uri": "https://localhost:8080/"
        }
      },
      "source": [
        "# Mostrando un segmento de la lista\n",
        "\n",
        "print(jugadores[0:3])"
      ],
      "execution_count": 32,
      "outputs": [
        {
          "output_type": "stream",
          "text": [
            "['charles', 'martina', 'michael']\n"
          ],
          "name": "stdout"
        }
      ]
    },
    {
      "cell_type": "markdown",
      "metadata": {
        "id": "kI9Z8M8rS9i4"
      },
      "source": [
        "Podemos generar cualquier subconjunto de una lista. Por ejemplo, si deseamos los elementos segundo, tercero y cuarto en una lista, comenzaríamos indicando el segmento en el índice 1 y finalizamos en el índice 4:"
      ]
    },
    {
      "cell_type": "code",
      "metadata": {
        "id": "sZg5J5CxS58Z"
      },
      "source": [
        "jugadores = ['charles', 'martina', 'michael', 'florence', 'eli']"
      ],
      "execution_count": 33,
      "outputs": []
    },
    {
      "cell_type": "markdown",
      "metadata": {
        "id": "VTwJzWwMTVPq"
      },
      "source": [
        "Esta vez la porción comienza con `'martina'` y termina con `'florence'`:"
      ]
    },
    {
      "cell_type": "code",
      "metadata": {
        "id": "m6PlTjRdTTlP",
        "outputId": "893483ea-c682-42db-c4c0-6dfe0977405e",
        "colab": {
          "base_uri": "https://localhost:8080/"
        }
      },
      "source": [
        "# Mostrando un segmento desde 2 - 4\n",
        "\n",
        "print(jugadores[1:4])"
      ],
      "execution_count": 34,
      "outputs": [
        {
          "output_type": "stream",
          "text": [
            "['martina', 'michael', 'florence']\n"
          ],
          "name": "stdout"
        }
      ]
    },
    {
      "cell_type": "markdown",
      "metadata": {
        "id": "fKvH1T4LTwFF"
      },
      "source": [
        "Si omitimos el primer índice en un segmento, Python iniciará automáticamente su segmento al comienzo de la lista:"
      ]
    },
    {
      "cell_type": "code",
      "metadata": {
        "id": "gUIidtc8Tdfg",
        "outputId": "b6c38f73-ef46-4325-b16a-0142f05d300d",
        "colab": {
          "base_uri": "https://localhost:8080/"
        }
      },
      "source": [
        "print(jugadores[:4])"
      ],
      "execution_count": 35,
      "outputs": [
        {
          "output_type": "stream",
          "text": [
            "['charles', 'martina', 'michael', 'florence']\n"
          ],
          "name": "stdout"
        }
      ]
    },
    {
      "cell_type": "markdown",
      "metadata": {
        "id": "gQDF0kkMEW2y"
      },
      "source": [
        "Una sintaxis similar funciona si deseamos un segmento que incluya el final de una lista. Por ejemplo, si deseamos todos los elementos desde el tercer elemento hasta el último, podemos comenzar con el índice 2 y omitir el segundo índice:"
      ]
    },
    {
      "cell_type": "code",
      "metadata": {
        "id": "hBF-l-jhYATM"
      },
      "source": [
        "jugadores = ['charles', 'martina', 'michael', 'florence', 'eli']"
      ],
      "execution_count": 36,
      "outputs": []
    },
    {
      "cell_type": "markdown",
      "metadata": {
        "id": "o81dGLZREmZw"
      },
      "source": [
        "Python devuelve todos los elementos desde el tercer elemento hasta el final de la lista:"
      ]
    },
    {
      "cell_type": "code",
      "metadata": {
        "id": "qWxI5wC7Ekcl",
        "outputId": "8f0255e6-09f8-4979-e6c1-fe4fd8ca6844",
        "colab": {
          "base_uri": "https://localhost:8080/"
        }
      },
      "source": [
        "# Desde el índice 2 al final\n",
        "\n",
        "print(jugadores[2:])"
      ],
      "execution_count": 37,
      "outputs": [
        {
          "output_type": "stream",
          "text": [
            "['michael', 'florence', 'eli']\n"
          ],
          "name": "stdout"
        }
      ]
    },
    {
      "cell_type": "markdown",
      "metadata": {
        "id": "TILhbKO4E0Aj"
      },
      "source": [
        "Esta sintaxis nos permite generar todos los elementos desde cualquier punto de nuestra lista hasta el final, independientemente de la longitud de nuestra lista. \n",
        "\n",
        "\n",
        "Un índice negativo devuelve un elemento a cierta distancia del final de una lista; por lo tanto, puede generar cualquier segmento desde el final de una lista. Por ejemplo, si queremos generar los últimos tres jugadores en la lista, podemos usar el segmento `jugadores[-3:]`:"
      ]
    },
    {
      "cell_type": "code",
      "metadata": {
        "id": "jOdswiqJErRi"
      },
      "source": [
        "jugadores = ['charles', 'martina', 'michael', 'florence', 'eli']"
      ],
      "execution_count": 38,
      "outputs": []
    },
    {
      "cell_type": "markdown",
      "metadata": {
        "id": "_FnyVOgAGN1E"
      },
      "source": [
        "Esto imprime los nombres de los últimos tres jugadores y continuará funcionando a medida que la lista de jugadores cambie de tamaño."
      ]
    },
    {
      "cell_type": "code",
      "metadata": {
        "id": "8M7pHADjGK_v",
        "outputId": "167a752f-4eca-4156-9e78-3793da279bc8",
        "colab": {
          "base_uri": "https://localhost:8080/"
        }
      },
      "source": [
        "# Los últimos 3 elementos\n",
        "\n",
        "print(jugadores[-3:])"
      ],
      "execution_count": 39,
      "outputs": [
        {
          "output_type": "stream",
          "text": [
            "['michael', 'florence', 'eli']\n"
          ],
          "name": "stdout"
        }
      ]
    },
    {
      "cell_type": "markdown",
      "metadata": {
        "id": "NXNSPr9lGYOU"
      },
      "source": [
        "### Recorriendo un segmento\n",
        "\n",
        "Puede usar un segmento en un ciclo `for` si deseamos recorrer un subconjunto de los elementos en una lista. \n",
        "\n",
        "Por ejemplo, vamos a recorrer los primeros tres jugadores e imprimiremos sus nombres como parte de una lista simple:"
      ]
    },
    {
      "cell_type": "code",
      "metadata": {
        "id": "hdpos0g-GRU0"
      },
      "source": [
        "jugadores = ['charles', 'martina', 'michael', 'florence', 'eli']"
      ],
      "execution_count": 40,
      "outputs": []
    },
    {
      "cell_type": "code",
      "metadata": {
        "id": "EnUIxIe7GsQu",
        "outputId": "197775c7-250a-41a0-caf1-bbc1811951fe",
        "colab": {
          "base_uri": "https://localhost:8080/"
        }
      },
      "source": [
        "# Imprimiendo los primeros 3 elementos\n",
        "\n",
        "print(\"Aquí están los primeros tres jugadores en mi equipo:\")\n",
        "\n",
        "for jugador in jugadores[:3]:\n",
        "  print(jugador.title())"
      ],
      "execution_count": 41,
      "outputs": [
        {
          "output_type": "stream",
          "text": [
            "Aquí están los primeros tres jugadores en mi equipo:\n",
            "Charles\n",
            "Martina\n",
            "Michael\n"
          ],
          "name": "stdout"
        }
      ]
    },
    {
      "cell_type": "markdown",
      "metadata": {
        "id": "cMhzHUEUG495"
      },
      "source": [
        "En lugar de recorrer la lista completa de jugadores, Python recorre solo los primeros tres nombres."
      ]
    },
    {
      "cell_type": "markdown",
      "metadata": {
        "id": "L6_s5QOWHGc4"
      },
      "source": [
        "### Copiando una lista\n",
        "\n",
        "A menudo, es posible que queramos comenzar con una lista existente y hacer una nueva lista nueva basada en esta. \n",
        "\n",
        "Veamos cómo funciona copiar una lista y examinemos una situación en la que es útil copiar una lista.\n",
        "Para copiar una lista, puede hacer un segmento que incluya la lista original omitiendo el primer índice y el segundo índice (`[:]`). Esto le dice a Python que haga un segmento que comienza en el primer elemento y termina con el último elemento, produciendo una copia de toda la lista.\n",
        "Por ejemplo, imaginemos que tenemos una lista de nuestros alimentos favoritos y queremos hacer una lista separada de los alimentos que le gustan a un amigo. A este amigo le gusta todo en nuestra lista hasta ahora, por lo que podemos crear su lista copiando la nuestra:"
      ]
    },
    {
      "cell_type": "code",
      "metadata": {
        "id": "4RP0aoAtGv6D"
      },
      "source": [
        "# Lista de comidas\n",
        "\n",
        "mis_comidas = ['pizza', 'croqueta', 'pastel de zanahoria']"
      ],
      "execution_count": 42,
      "outputs": []
    },
    {
      "cell_type": "code",
      "metadata": {
        "id": "9SZhuMIMH8aH"
      },
      "source": [
        "# Creando una copia de la lista original\n",
        "\n",
        "comidas_amigo = mis_comidas[:]"
      ],
      "execution_count": 43,
      "outputs": []
    },
    {
      "cell_type": "code",
      "metadata": {
        "id": "9gmeerh5IBRp",
        "outputId": "7e081eea-ca79-4c70-d29a-562647b686b5",
        "colab": {
          "base_uri": "https://localhost:8080/"
        }
      },
      "source": [
        "print('Mis comidas favoritas son: ')\n",
        "print(mis_comidas)"
      ],
      "execution_count": 44,
      "outputs": [
        {
          "output_type": "stream",
          "text": [
            "Mis comidas favoritas son: \n",
            "['pizza', 'croqueta', 'pastel de zanahoria']\n"
          ],
          "name": "stdout"
        }
      ]
    },
    {
      "cell_type": "code",
      "metadata": {
        "id": "DfgNC-9GIE1h",
        "outputId": "4ec6805c-b82b-4fa2-9bc1-67b67154c826",
        "colab": {
          "base_uri": "https://localhost:8080/"
        }
      },
      "source": [
        "print(\"Las comidas favorias de mi amigo:\")\n",
        "print(comidas_amigo)"
      ],
      "execution_count": 45,
      "outputs": [
        {
          "output_type": "stream",
          "text": [
            "Las comidas favorias de mi amigo:\n",
            "['pizza', 'croqueta', 'pastel de zanahoria']\n"
          ],
          "name": "stdout"
        }
      ]
    },
    {
      "cell_type": "markdown",
      "metadata": {
        "id": "Mnz2a8duIQMk"
      },
      "source": [
        "Hemos creado una lista de los alimentos que nos gustan llamados `mis_comidas`. Luego hemos hecho una nueva lista llamada `comidas_amigo`. Esta lista es una copia de `mis_comidas`, hemos solicitado un segmento de `mis_comidas` sin especificar ningún índice y almacenamos la copia en `comidas_amigo`.\n",
        "Cuando imprimimos cada lista, vemos que ambos contienen los mismos alimentos"
      ]
    },
    {
      "cell_type": "markdown",
      "metadata": {
        "id": "W7kxe43sIqMw"
      },
      "source": [
        "Para mostrar que en realidad tenemos dos listas separadas, agregaremos un nuevo alimento a cada lista y mostraremos que cada lista lleva un registro de los alimentos favoritos de la persona adecuada:"
      ]
    },
    {
      "cell_type": "code",
      "metadata": {
        "id": "PvcJdb5GIMsc"
      },
      "source": [
        "mis_comidas = ['pizza', 'croqueta', 'pastel de zanahoria']\n",
        "comidas_amigo = mis_comidas[:]"
      ],
      "execution_count": 46,
      "outputs": []
    },
    {
      "cell_type": "code",
      "metadata": {
        "id": "BG14y_eeIxPp"
      },
      "source": [
        "# Agregando distintos elementos a las listas\n",
        "\n",
        "mis_comidas.append('lentejas')\n",
        "comidas_amigo.append('helado')"
      ],
      "execution_count": 47,
      "outputs": []
    },
    {
      "cell_type": "markdown",
      "metadata": {
        "id": "_BMvlu5tJM_R"
      },
      "source": [
        "Hemos copiado los elementos originales de `mis_comidas` a la nueva lista `comidas_amigo`. A continuación, agregamos un nuevo alimento a cada lista: en v agregamos `'lentejas'` a `mis_comidas`, y agregamos `'helado'` a `comidas_amigo`. Luego imprimimos las dos listas para ver si cada uno de estos alimentos está en la lista apropiada."
      ]
    },
    {
      "cell_type": "code",
      "metadata": {
        "id": "cqPzbWOBI2TQ",
        "outputId": "7283a330-9eb9-49e1-a30f-fcbf49c938f1",
        "colab": {
          "base_uri": "https://localhost:8080/"
        }
      },
      "source": [
        "print(f\"Mis comidas favoritas son: {mis_comidas}\")\n",
        "print(f\"Las comidas favoritas de mi amigo son: {comidas_amigo}\")"
      ],
      "execution_count": 48,
      "outputs": [
        {
          "output_type": "stream",
          "text": [
            "Mis comidas favoritas son: ['pizza', 'croqueta', 'pastel de zanahoria', 'lentejas']\n",
            "Las comidas favoritas de mi amigo son: ['pizza', 'croqueta', 'pastel de zanahoria', 'helado']\n"
          ],
          "name": "stdout"
        }
      ]
    },
    {
      "cell_type": "markdown",
      "metadata": {
        "id": "bnHkdBhYJnTg"
      },
      "source": [
        "La primera salida `'lentejas'` ahora aparece en nuestra lista de comidas favoritas pero no aparece `'helado'`. \n",
        "\n",
        "En la segunda salida podemos ver que `'helado'` ahora aparece en la lista de nuestros amigos pero no aparece `'lentejas'`. \n",
        "\n",
        "Si simplemente hubiéramos establecido `comidas_amigo` igual a `mis_comidas`, no produciríamos dos listas separadas. \n",
        "\n",
        "\n",
        "Por ejemplo, esto es lo que sucede cuando intenta copiar una lista sin usar un segmento:"
      ]
    },
    {
      "cell_type": "code",
      "metadata": {
        "id": "W_cP78QHI-nJ"
      },
      "source": [
        "mis_comidas = ['pizza', 'croqueta', 'pastel de zanahoria']\n",
        "\n",
        "# Esto no funciona correctamente\n",
        "comidas_amigo = mis_comidas"
      ],
      "execution_count": 49,
      "outputs": []
    },
    {
      "cell_type": "code",
      "metadata": {
        "id": "XCyENStOKFfL",
        "outputId": "d63c16c4-1f31-4e47-d237-cfed5dc4be55",
        "colab": {
          "base_uri": "https://localhost:8080/"
        }
      },
      "source": [
        "print(mis_comidas)\n",
        "print(comidas_amigo)"
      ],
      "execution_count": 50,
      "outputs": [
        {
          "output_type": "stream",
          "text": [
            "['pizza', 'croqueta', 'pastel de zanahoria']\n",
            "['pizza', 'croqueta', 'pastel de zanahoria']\n"
          ],
          "name": "stdout"
        }
      ]
    },
    {
      "cell_type": "code",
      "metadata": {
        "id": "T-xSHqwRKIIm"
      },
      "source": [
        "# Añadiendo nuevos elementos\n",
        "\n",
        "mis_comidas.append('lentejas')\n",
        "comidas_amigo.append('helado')"
      ],
      "execution_count": 51,
      "outputs": []
    },
    {
      "cell_type": "markdown",
      "metadata": {
        "id": "-wPU5pcLKaih"
      },
      "source": [
        "En lugar de almacenar una copia de `mis_comidas` en `comidas_amigo`, establecemos `comidas_amigo` igual (`=`) a `mis_comidas`. Esta sintaxis en realidad le dice a Python que asocie la nueva variable `comidas_amigo` con la lista que ya está asociada con `mis_comidas`, por lo que ahora ambas variables *apuntan* a la misma lista. Como resultado, cuando agreguemos `'lentejas'` a `mis_comidas`, también aparecerá en `comidas_amigo`. Del mismo modo, `'helado'` aparecerá en ambas listas, aunque parezca agregarse solo a `comidas_amigo`.\n",
        "\n",
        "El resultado muestra que ambas listas son iguales ahora, que no es lo que queríamos:"
      ]
    },
    {
      "cell_type": "code",
      "metadata": {
        "id": "RNv8UVroKMl2",
        "outputId": "317b7ce0-a5b4-4a90-e370-0b274ab89e81",
        "colab": {
          "base_uri": "https://localhost:8080/"
        }
      },
      "source": [
        "print(mis_comidas)\n",
        "print(comidas_amigo)"
      ],
      "execution_count": 52,
      "outputs": [
        {
          "output_type": "stream",
          "text": [
            "['pizza', 'croqueta', 'pastel de zanahoria', 'lentejas', 'helado']\n",
            "['pizza', 'croqueta', 'pastel de zanahoria', 'lentejas', 'helado']\n"
          ],
          "name": "stdout"
        }
      ]
    },
    {
      "cell_type": "markdown",
      "metadata": {
        "id": "G0G9qd-TK0bp"
      },
      "source": [
        "## Tuplas"
      ]
    },
    {
      "cell_type": "markdown",
      "metadata": {
        "id": "Ykrn15OdK0Kp"
      },
      "source": [
        "Las listas funcionan bien para almacenar colecciones de artículos que pueden cambiar a lo largo de la vida de un programa. La capacidad de modificar listas es particularmente importante cuando trabajamos con una lista de usuarios en un sitio web o una lista de personajes en un juego. \n",
        "\n",
        "Sin embargo, a veces vamos querer crear una lista de elementos que no queremos que cambien. Las tuplas nos permiten hacer exactamente eso. Python se refiere a valores que no pueden cambiar como *inmutables*, y una lista inmutable se llama *tupla*."
      ]
    },
    {
      "cell_type": "markdown",
      "metadata": {
        "id": "gDDMMFsULLaZ"
      },
      "source": [
        "### Definiendo una tupla\n",
        "\n",
        "Una tupla se parece a una lista, excepto que usa paréntesis `()` en lugar de corchetes `[]`. Una vez definida la tupla, podemos acceder a elementos individuales utilizando el índice de cada elemento, tal como lo haríamos para una lista.\n",
        "\n",
        "Por ejemplo, si tenemos un rectángulo que siempre debe ser de cierto tamaño, podemos asegurarnos de que su tamaño no cambie poniendo las dimensiones en una tupla:"
      ]
    },
    {
      "cell_type": "code",
      "metadata": {
        "id": "7yiCjVyhKO3A"
      },
      "source": [
        "# Creando una tupla\n",
        "\n",
        "dimensiones = (200, 50)"
      ],
      "execution_count": 53,
      "outputs": []
    },
    {
      "cell_type": "markdown",
      "metadata": {
        "id": "bjaqzvZwZG44"
      },
      "source": [
        "Definimos `dimensiones` como una tupla, usando paréntesis en lugar de corchetes. \n",
        "Vamos a imprimir cada elemento de la tupla individualmente, usando la misma sintaxis que hemos estado usando para acceder a los elementos en una lista:"
      ]
    },
    {
      "cell_type": "code",
      "metadata": {
        "id": "aa8cAVBCZATE",
        "outputId": "7e92629c-9a56-4315-db69-44c9b843361b",
        "colab": {
          "base_uri": "https://localhost:8080/"
        }
      },
      "source": [
        "# Imprimiendo elementos de una tupla\n",
        "\n",
        "print(dimensiones[0])\n",
        "print(dimensiones[1])"
      ],
      "execution_count": 54,
      "outputs": [
        {
          "output_type": "stream",
          "text": [
            "200\n",
            "50\n"
          ],
          "name": "stdout"
        }
      ]
    },
    {
      "cell_type": "markdown",
      "metadata": {
        "id": "BokMSfFtZSYz"
      },
      "source": [
        "\n",
        "Veamos qué sucede si intentamos cambiar uno de los elementos en la tupla `dimensiones`:"
      ]
    },
    {
      "cell_type": "code",
      "metadata": {
        "id": "XAwrcosqZDBN"
      },
      "source": [
        "# Creando una tupla\n",
        "\n",
        "dimensiones = (200, 50)"
      ],
      "execution_count": 55,
      "outputs": []
    },
    {
      "cell_type": "code",
      "metadata": {
        "id": "PvtI8kF8ZZx3",
        "outputId": "b175ad2c-b151-480e-83ef-2a7368caa6d5",
        "colab": {
          "base_uri": "https://localhost:8080/",
          "height": 197
        }
      },
      "source": [
        "# Intentando modificarla\n",
        "\n",
        "dimensiones[0] = 250"
      ],
      "execution_count": 56,
      "outputs": [
        {
          "output_type": "error",
          "ename": "TypeError",
          "evalue": "ignored",
          "traceback": [
            "\u001b[0;31m---------------------------------------------------------------------------\u001b[0m",
            "\u001b[0;31mTypeError\u001b[0m                                 Traceback (most recent call last)",
            "\u001b[0;32m<ipython-input-56-1484ad5d3424>\u001b[0m in \u001b[0;36m<module>\u001b[0;34m()\u001b[0m\n\u001b[1;32m      1\u001b[0m \u001b[0;31m# Intentando modificarla\u001b[0m\u001b[0;34m\u001b[0m\u001b[0;34m\u001b[0m\u001b[0;34m\u001b[0m\u001b[0m\n\u001b[1;32m      2\u001b[0m \u001b[0;34m\u001b[0m\u001b[0m\n\u001b[0;32m----> 3\u001b[0;31m \u001b[0mdimensiones\u001b[0m\u001b[0;34m[\u001b[0m\u001b[0;36m0\u001b[0m\u001b[0;34m]\u001b[0m \u001b[0;34m=\u001b[0m \u001b[0;36m250\u001b[0m\u001b[0;34m\u001b[0m\u001b[0;34m\u001b[0m\u001b[0m\n\u001b[0m",
            "\u001b[0;31mTypeError\u001b[0m: 'tuple' object does not support item assignment"
          ]
        }
      ]
    },
    {
      "cell_type": "markdown",
      "metadata": {
        "id": "lSf869L9Zg21"
      },
      "source": [
        "Estamos intentando cambiar el valor de la primera dimensión de la tupla, pero Python devuelve un error de tipo. Debido a que estamos tratando de alterar una tupla, algo que no se puede hacer con este tipo de objetos, Python nos dice que no podemos asignar un nuevo valor a un elemento en una tupla."
      ]
    },
    {
      "cell_type": "markdown",
      "metadata": {
        "id": "2iSl07t8Zrp-"
      },
      "source": [
        "Esto es beneficioso porque queremos que Python genere un error cuando una línea de código intenta cambiar `dimensiones`."
      ]
    },
    {
      "cell_type": "markdown",
      "metadata": {
        "id": "iF6jt60bZycX"
      },
      "source": [
        "### Recorriendo todos los valores en una tupla\n",
        "\n",
        "Podemos recorrer todos los valores en una tupla usando un bucle `for`, tal como lo hicimos con una lista:"
      ]
    },
    {
      "cell_type": "code",
      "metadata": {
        "id": "wKGrZD1MZb0C"
      },
      "source": [
        "# Definiendo la tupla\n",
        "\n",
        "dimensiones = (200, 50)"
      ],
      "execution_count": 57,
      "outputs": []
    },
    {
      "cell_type": "code",
      "metadata": {
        "id": "pdKVcTwmZ8lB",
        "outputId": "86fca122-cecf-4da7-dbc6-ad981e0ef5bd",
        "colab": {
          "base_uri": "https://localhost:8080/"
        }
      },
      "source": [
        "# Imprimiendo cada elemento\n",
        "\n",
        "for dimension in dimensiones:\n",
        "  print(dimension)"
      ],
      "execution_count": 58,
      "outputs": [
        {
          "output_type": "stream",
          "text": [
            "200\n",
            "50\n"
          ],
          "name": "stdout"
        }
      ]
    },
    {
      "cell_type": "markdown",
      "metadata": {
        "id": "KDpWTuNpaA4G"
      },
      "source": [
        "Python devuelve todos los elementos en la tupla, tal como lo haría para una lista."
      ]
    },
    {
      "cell_type": "markdown",
      "metadata": {
        "id": "qeD-kTaLaC7C"
      },
      "source": [
        "### Escribiendo sobre una tupla\n",
        "Aunque no podemos modificar una tupla, podemos asignar un nuevo valor a una variable que representa una tupla. \n",
        "\n",
        "Por ejemplo, si quisiéramos cambiar nuestras dimensiones, podríamos *redefinir* la tupla completa:"
      ]
    },
    {
      "cell_type": "code",
      "metadata": {
        "id": "PVRgR2X2Z-jj",
        "outputId": "f55819d5-103f-42a8-f137-d4e88eb56cc5",
        "colab": {
          "base_uri": "https://localhost:8080/"
        }
      },
      "source": [
        "# Primera tupla\n",
        "\n",
        "dimensiones = (200, 50)\n",
        "\n",
        "print(f\"Dimension original:\")\n",
        "\n",
        "for dimension in dimensiones:\n",
        "  print(dimension)"
      ],
      "execution_count": 59,
      "outputs": [
        {
          "output_type": "stream",
          "text": [
            "Dimension original:\n",
            "200\n",
            "50\n"
          ],
          "name": "stdout"
        }
      ]
    },
    {
      "cell_type": "code",
      "metadata": {
        "id": "LKD0YC2zaYaF",
        "outputId": "f0ccffd8-063c-4c19-cbfc-cfcbab840ecf",
        "colab": {
          "base_uri": "https://localhost:8080/"
        }
      },
      "source": [
        "# Redefiniendo la tupla\n",
        "\n",
        "dimensiones = (400, 100)\n",
        "\n",
        "print(\"Dimensiones modificadas:\")\n",
        "\n",
        "for dimension in dimensiones:\n",
        "  print(dimension)\n"
      ],
      "execution_count": 60,
      "outputs": [
        {
          "output_type": "stream",
          "text": [
            "Dimensiones modificadas:\n",
            "400\n",
            "100\n"
          ],
          "name": "stdout"
        }
      ]
    },
    {
      "cell_type": "markdown",
      "metadata": {
        "id": "kFpMCOubaupL"
      },
      "source": [
        "Hemos definido la tupla original y hemos impreso sus elementos. Luego hemos asociado una nueva tupla y la hemos llamado también `dimensiones`. Luego imprimimos las nuevas dimensiones. Python no genera ningún error esta vez, porque la reasignación de una variable es válida."
      ]
    },
    {
      "cell_type": "markdown",
      "metadata": {
        "id": "WZI5fdx1bB3j"
      },
      "source": [
        "En comparación con las listas, las tuplas son estructuras de datos simples. Podemos usarlo cuando deseamos almacenar un conjunto de valores que no queremos que cambien durante la vida de un programa."
      ]
    },
    {
      "cell_type": "markdown",
      "metadata": {
        "id": "7rt_AEVxbakE"
      },
      "source": [
        "## Resumen\n",
        "\n",
        "En este capítulo hemos aprendido a trabajar de manera eficiente con los elementos de una lista. \n",
        "\n",
        "Aprendimos a trabajar en una lista utilizando un bucle `for`, cómo Python usa la sangría para estructurar un programa y cómo evitar algunos errores comunes de sangría. \n",
        "\n",
        "Aprendimos a hacer listas numéricas simples, así como algunas operaciones que podemos realizar en listas numéricas. \n",
        "\n",
        "Aprendimos a dividir una lista para trabajar con un subconjunto de elementos y cómo copiar listas correctamente utilizando segmentos (slices). \n",
        "\n",
        "También aprendimos sobre las tuplas, que proporcionan un grado de protección a un conjunto de valores que no deberían cambiar."
      ]
    },
    {
      "cell_type": "code",
      "metadata": {
        "id": "RX-T6pD4ahvi"
      },
      "source": [
        ""
      ],
      "execution_count": 60,
      "outputs": []
    }
  ]
}