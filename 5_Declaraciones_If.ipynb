{
  "nbformat": 4,
  "nbformat_minor": 0,
  "metadata": {
    "colab": {
      "name": "5_Declaraciones_If.ipynb",
      "provenance": [],
      "collapsed_sections": [],
      "authorship_tag": "ABX9TyMKfVmZ5Qp0yunGaNPxjSpj",
      "include_colab_link": true
    },
    "kernelspec": {
      "name": "python3",
      "display_name": "Python 3"
    }
  },
  "cells": [
    {
      "cell_type": "markdown",
      "metadata": {
        "id": "view-in-github",
        "colab_type": "text"
      },
      "source": [
        "<a href=\"https://colab.research.google.com/github/datasciencejournal/python_data_science/blob/main/5_Declaraciones_If.ipynb\" target=\"_parent\"><img src=\"https://colab.research.google.com/assets/colab-badge.svg\" alt=\"Open In Colab\"/></a>"
      ]
    },
    {
      "cell_type": "markdown",
      "metadata": {
        "id": "oderuUOyxEF3"
      },
      "source": [
        "# Condicionales IF"
      ]
    },
    {
      "cell_type": "markdown",
      "metadata": {
        "id": "_Va5co_NEa9F"
      },
      "source": [
        "En este capítulo aprenderemos a escribir pruebas condicionales, el cual nos va a permitir verificar cualquier condición de interés. Aprenderemos a escribir declaraciones simples de `if`, y aprenderemos cómo crear una serie más compleja de declaraciones `if` para identificar cuándo están presentes las condiciones exactas que deseamos. Luego aplicaremos este concepto a las listas, de modo que podremos escribir un bucle `for` que maneje la mayoría de los elementos de una lista de una manera, pero maneje ciertos elementos con valores específicos de una manera diferente."
      ]
    },
    {
      "cell_type": "markdown",
      "metadata": {
        "id": "rJ_csxe4EseH"
      },
      "source": [
        "## Un ejemplo simple\n",
        "\n",
        "El siguiente ejemplo, muestra cómo la prueba `if` nos permiten responder a situaciones especiales. Imaginemos que tenemos una lista de autos y queremos imprimir el nombre de cada auto. Los nombres de los automóviles son nombres propios, por lo que los nombres de la mayoría de los automóviles deben imprimirse en mayúsculas. Sin embargo, el valor `'bmw'` debe imprimirse en mayúsculas.\n",
        "\n",
        "El siguiente código recorre la lista de nombres de automóviles y si encuentra el valor `'bmw'` lo imprime en mayúsculas."
      ]
    },
    {
      "cell_type": "code",
      "metadata": {
        "id": "gIY7oe_PCfc8"
      },
      "source": [
        "# Definiendo lista de automóviles\n",
        "\n",
        "automoviles = ['audi', 'bmw', 'subaru', 'toyota']"
      ],
      "execution_count": 1,
      "outputs": []
    },
    {
      "cell_type": "code",
      "metadata": {
        "id": "OU4Dh4U6JkkT",
        "colab": {
          "base_uri": "https://localhost:8080/"
        },
        "outputId": "20bb07da-e18e-4949-f127-c853d507e6a7"
      },
      "source": [
        "# Condición if\n",
        "\n",
        "for auto in automoviles:\n",
        "  if auto == 'bmw':\n",
        "    print(auto.upper())\n",
        "  else:\n",
        "    print(auto.title())"
      ],
      "execution_count": 2,
      "outputs": [
        {
          "output_type": "stream",
          "text": [
            "Audi\n",
            "BMW\n",
            "Subaru\n",
            "Toyota\n"
          ],
          "name": "stdout"
        }
      ]
    },
    {
      "cell_type": "markdown",
      "metadata": {
        "id": "oa-VyhhAJvtZ"
      },
      "source": [
        "El bucle en este ejemplo primero verifica si el valor actual del `auto` es `'bmw'`. Si es así, el valor se imprime en mayúsculas. Si el valor del `auto` no es `'bmw'`, solo se pone en mayúsculas la primera palabra (`title()`)."
      ]
    },
    {
      "cell_type": "markdown",
      "metadata": {
        "id": "oZsso5ffKTh6"
      },
      "source": [
        "## Pruebas condicionales\n",
        "\n",
        "En el corazón de cada instrucción `if` hay una expresión que se puede evaluar como `True` (verdadero) o `False` (falso). Se llama `prueba condicional`. Python usa los valores `True` y `False` para decidir si se debe ejecutar el código en una instrucción `if`. Si el resultado de la prueba condicional es `True`, Python ejecutará el código que sigue a la instrucción `if`. Si el resultado de la prueba es `False`, Python ignorará el código que sigue a la instrucción `if`"
      ]
    },
    {
      "cell_type": "markdown",
      "metadata": {
        "id": "Cl0C3-X0Lj9C"
      },
      "source": [
        "### Comprobación de igualdad\n",
        "\n",
        "La mayoría de las pruebas condicionales comparan el valor actual de una variable con un valor de interés. La prueba condicional más simple verifica si el valor de una variable es igual al valor de interés:"
      ]
    },
    {
      "cell_type": "code",
      "metadata": {
        "id": "j0-uZJtVJrXL",
        "colab": {
          "base_uri": "https://localhost:8080/"
        },
        "outputId": "dffb610f-f581-4e2a-e8d1-bd88ea45b824"
      },
      "source": [
        "# Definiendo mi variable auto\n",
        "auto = 'bmw'\n",
        "\n",
        "# Comprobando si es igual a 'bmw'\n",
        "auto == 'bmw'"
      ],
      "execution_count": 3,
      "outputs": [
        {
          "output_type": "execute_result",
          "data": {
            "text/plain": [
              "True"
            ]
          },
          "metadata": {
            "tags": []
          },
          "execution_count": 3
        }
      ]
    },
    {
      "cell_type": "markdown",
      "metadata": {
        "id": "huOJWRMTMEI4"
      },
      "source": [
        "En la primera línea establecemos el valor de `auto` en `'bmw'` usando un solo signo igual (`=`). La siguiente línea verifica si el valor de `auto` es `'bmw'` usando el signo doble igual (`==`). Este operador de igualdad devuelve `True` si los valores del lado izquierdo y derecho del operador coinciden y `False` si no coinciden. Los valores en este ejemplo coinciden, por lo que Python devuelve `True`.\n",
        "\n",
        "Cuando el valor de `auto` no es `'bmw'`, esta prueba devuelve `False`:"
      ]
    },
    {
      "cell_type": "code",
      "metadata": {
        "id": "IkI6jbLPMAp6",
        "colab": {
          "base_uri": "https://localhost:8080/"
        },
        "outputId": "403e48a7-a576-469c-e470-51a9de706a30"
      },
      "source": [
        "# Definiendo mi variable auto\n",
        "auto = 'audi'\n",
        "\n",
        "# Comprobando si es igual a bmw\n",
        "\n",
        "auto == 'bmw'"
      ],
      "execution_count": 4,
      "outputs": [
        {
          "output_type": "execute_result",
          "data": {
            "text/plain": [
              "False"
            ]
          },
          "metadata": {
            "tags": []
          },
          "execution_count": 4
        }
      ]
    },
    {
      "cell_type": "markdown",
      "metadata": {
        "id": "m1hIBIDHNpi-"
      },
      "source": [
        "### Ignorando al verificar la igualdad\n",
        "\n",
        "Las pruebas de igualdad distinguen entre mayúsculas y minúsculas en Python. Por ejemplo, dos valores con diferentes mayúsculas no son iguales:"
      ]
    },
    {
      "cell_type": "code",
      "metadata": {
        "id": "2bRLY99zMr5G",
        "colab": {
          "base_uri": "https://localhost:8080/"
        },
        "outputId": "5b308da5-cf5c-4259-fe96-e23b41175b95"
      },
      "source": [
        "# Definiendo mi variable y comprobando con una sin mayúsculas\n",
        "auto = 'Audi'\n",
        "\n",
        "auto == 'audi'"
      ],
      "execution_count": 5,
      "outputs": [
        {
          "output_type": "execute_result",
          "data": {
            "text/plain": [
              "False"
            ]
          },
          "metadata": {
            "tags": []
          },
          "execution_count": 5
        }
      ]
    },
    {
      "cell_type": "markdown",
      "metadata": {
        "id": "H1gU6ndHOzgq"
      },
      "source": [
        "Si solo queremos probar el valor de una variable, podemos convertir el valor de la variable en minúsculas antes de hacer la comparación:"
      ]
    },
    {
      "cell_type": "code",
      "metadata": {
        "id": "wZQN8IdqOBvV",
        "colab": {
          "base_uri": "https://localhost:8080/"
        },
        "outputId": "fd79497a-5f2a-42ac-8288-a831b49a2da2"
      },
      "source": [
        "# Definiendo mi variable y comprobando en minúsculas\n",
        "auto = 'Audi'\n",
        "\n",
        "auto.lower() == 'audi'"
      ],
      "execution_count": 6,
      "outputs": [
        {
          "output_type": "execute_result",
          "data": {
            "text/plain": [
              "True"
            ]
          },
          "metadata": {
            "tags": []
          },
          "execution_count": 6
        }
      ]
    },
    {
      "cell_type": "markdown",
      "metadata": {
        "id": "RJkxNHaEPBjI"
      },
      "source": [
        "Esta prueba devuelve `True` sin importar el formato del valor de `'Audi'` ya que la prueba ahora no distingue entre mayúsculas y minúsculas. La función `lower()` no cambia el valor que almacenamos en la variable `auto`, por lo que puede hacer este tipo de comparación sin afectar la variable original:"
      ]
    },
    {
      "cell_type": "code",
      "metadata": {
        "id": "9DdkXQ7mO-Jq",
        "colab": {
          "base_uri": "https://localhost:8080/"
        },
        "outputId": "5cec0a10-5cb8-4701-eeba-a046dd0e1099"
      },
      "source": [
        "# Definiendo mi variable y comprobando en minúsculas\n",
        "\n",
        "auto = 'Audi'\n",
        "\n",
        "print(auto.lower() == 'audi')\n",
        "\n",
        "print(auto)"
      ],
      "execution_count": 7,
      "outputs": [
        {
          "output_type": "stream",
          "text": [
            "True\n",
            "Audi\n"
          ],
          "name": "stdout"
        }
      ]
    },
    {
      "cell_type": "markdown",
      "metadata": {
        "id": "-3YISTOaUy3J"
      },
      "source": [
        "Primero hemos asignado el string en mayúscula `'Audi'` a la variable `auto`. Luego, hemos convertido el valor de `auto` a minúsculas y comparamos este valor con el string `'audi'`. Los dos string coinciden, por lo que Python devuelve `True`. Hay que tener en cuenta que el valor almacenado en `auto` no se ha visto afectado por el método `lower()`.\n",
        "\n",
        "Por ejemplo, un sitio web podría usar una prueba condicional como esta para garantizar que cada usuario tenga un único nombre de usuario. Cuando alguien envía un nuevo nombre de usuario, ese nuevo nombre de usuario se convierte a minúsculas y se compara con las versiones en minúsculas de todos los nombres de usuario existentes. Durante esta comprobación, se rechazará un nombre de usuario como `'John'` si alguna variación de `'john'` ya está en uso."
      ]
    },
    {
      "cell_type": "markdown",
      "metadata": {
        "id": "j7Ql6GxSgSQk"
      },
      "source": [
        "### Comprobando desigualdad\n",
        "\n",
        "Cuando deseemos comprobar si dos valores no son iguales, puede combinar un signo de exclamación y un signo igual (`!=`). El signo de exclamación representa *no*. Usemos otra declaración `if` para examinar cómo usar el operador de desigualdad. Vamos a almacenar un ingrediente para pizza solicitado en una variable y luego imprimiremos un mensaje si la persona no ordenó anchoas:"
      ]
    },
    {
      "cell_type": "code",
      "metadata": {
        "id": "uH939KFoPZcg",
        "colab": {
          "base_uri": "https://localhost:8080/"
        },
        "outputId": "e9ceaf8b-1dfd-438a-b247-c1ecfe98603a"
      },
      "source": [
        "# Creando mi variable de pedidos y verificando que no sea anchoas\n",
        "\n",
        "pedido_solicitado = 'hongos'\n",
        "\n",
        "if pedido_solicitado != 'anchoas':\n",
        "  print('¡Pida las anchoas!')"
      ],
      "execution_count": 8,
      "outputs": [
        {
          "output_type": "stream",
          "text": [
            "¡Pida las anchoas!\n"
          ],
          "name": "stdout"
        }
      ]
    },
    {
      "cell_type": "markdown",
      "metadata": {
        "id": "PoPZzW4ag7Cc"
      },
      "source": [
        "El script compara el valor de `pedido_solicitado` con el valor `'anchoas'`. Si estos dos valores no coinciden, Python devuelve `True` y ejecuta el código que sigue a la instrucción `if`. Si los dos valores coinciden, Python devuelve `False` y no ejecuta el código que sigue a la instrucción `if`."
      ]
    },
    {
      "cell_type": "markdown",
      "metadata": {
        "id": "vm5-6oZhhKPk"
      },
      "source": [
        "La mayoría de las expresiones de condición probarán la igualdad, pero a veces puede ser más eficiente probar la desigualdad."
      ]
    },
    {
      "cell_type": "markdown",
      "metadata": {
        "id": "fJxbtNbBhR18"
      },
      "source": [
        "### Comparaciones numéricas\n",
        "\n",
        "Probar valores numéricos es bastante sencillo. Por ejemplo, el siguiente código verifica si una persona tiene 18 años:"
      ]
    },
    {
      "cell_type": "code",
      "metadata": {
        "id": "tMHuzC9og0jU",
        "colab": {
          "base_uri": "https://localhost:8080/"
        },
        "outputId": "32b36a99-dfcf-4c17-e7e7-5453167db4d6"
      },
      "source": [
        "# Comparando variable edad\n",
        "\n",
        "edad = 18\n",
        "\n",
        "edad == 18"
      ],
      "execution_count": 9,
      "outputs": [
        {
          "output_type": "execute_result",
          "data": {
            "text/plain": [
              "True"
            ]
          },
          "metadata": {
            "tags": []
          },
          "execution_count": 9
        }
      ]
    },
    {
      "cell_type": "markdown",
      "metadata": {
        "id": "1d-_szEGhbHr"
      },
      "source": [
        "También podemos probar si dos números no son iguales. Por ejemplo, el siguiente código muestra un mensaje si la respuesta dada no es correcta:"
      ]
    },
    {
      "cell_type": "code",
      "metadata": {
        "id": "55aV02kkhX8E",
        "colab": {
          "base_uri": "https://localhost:8080/"
        },
        "outputId": "3ed2d7db-6a2f-425d-8c89-48ea3bfaea92"
      },
      "source": [
        "# Comprobando números distintos\n",
        "respuesta = 17\n",
        "\n",
        "if respuesta != 42:\n",
        "  print(\"No es la respuesta correcta, ¡Inténtelo de nuevo!\")"
      ],
      "execution_count": 10,
      "outputs": [
        {
          "output_type": "stream",
          "text": [
            "No es la respuesta correcta, ¡Inténtelo de nuevo!\n"
          ],
          "name": "stdout"
        }
      ]
    },
    {
      "cell_type": "markdown",
      "metadata": {
        "id": "gyuZWoPohrev"
      },
      "source": [
        "Dado que el valor de `respuesta` no es igual a 42, pasa la condición y ejecuta el mensaje."
      ]
    },
    {
      "cell_type": "markdown",
      "metadata": {
        "id": "aSul5gsuh1Ei"
      },
      "source": [
        "También podemos incluir varias comparaciones matemáticas en nuestras declaraciones condicionales, como menor que, menor que o igual a, mayor que y mayor que o igual a:"
      ]
    },
    {
      "cell_type": "code",
      "metadata": {
        "id": "9dnf3DYdhnKr",
        "colab": {
          "base_uri": "https://localhost:8080/"
        },
        "outputId": "f9035df1-741f-4b72-e618-7e7f8adb90c1"
      },
      "source": [
        "# Comprobando desigualdad\n",
        "edad = 19\n",
        "\n",
        "edad < 21"
      ],
      "execution_count": 11,
      "outputs": [
        {
          "output_type": "execute_result",
          "data": {
            "text/plain": [
              "True"
            ]
          },
          "metadata": {
            "tags": []
          },
          "execution_count": 11
        }
      ]
    },
    {
      "cell_type": "code",
      "metadata": {
        "id": "-3XCHUJZh5RA",
        "colab": {
          "base_uri": "https://localhost:8080/"
        },
        "outputId": "3a13b36a-b272-4c20-fd35-45d323324314"
      },
      "source": [
        "edad <= 21"
      ],
      "execution_count": 12,
      "outputs": [
        {
          "output_type": "execute_result",
          "data": {
            "text/plain": [
              "True"
            ]
          },
          "metadata": {
            "tags": []
          },
          "execution_count": 12
        }
      ]
    },
    {
      "cell_type": "code",
      "metadata": {
        "id": "ICR-HcaIh7UQ",
        "colab": {
          "base_uri": "https://localhost:8080/"
        },
        "outputId": "28ce1c89-181c-4538-db3b-b355612de6ed"
      },
      "source": [
        "edad > 21"
      ],
      "execution_count": 13,
      "outputs": [
        {
          "output_type": "execute_result",
          "data": {
            "text/plain": [
              "False"
            ]
          },
          "metadata": {
            "tags": []
          },
          "execution_count": 13
        }
      ]
    },
    {
      "cell_type": "code",
      "metadata": {
        "id": "Nr2sfMpwh8jv",
        "colab": {
          "base_uri": "https://localhost:8080/"
        },
        "outputId": "6bf9ab3c-dfd7-4a5c-d2fc-1d100969bed2"
      },
      "source": [
        "edad >= 21"
      ],
      "execution_count": 14,
      "outputs": [
        {
          "output_type": "execute_result",
          "data": {
            "text/plain": [
              "False"
            ]
          },
          "metadata": {
            "tags": []
          },
          "execution_count": 14
        }
      ]
    },
    {
      "cell_type": "markdown",
      "metadata": {
        "id": "YZ9tpFlniAEl"
      },
      "source": [
        "Cada comparación matemática se puede usar como parte de una declaración `if`, que nos puede ayudar a detectar las condiciones exactas de interés."
      ]
    },
    {
      "cell_type": "markdown",
      "metadata": {
        "id": "3zhhcZ3BiHKs"
      },
      "source": [
        "### Comprobando múltiples condiciones\n",
        "\n",
        "Es posible que queramos verificar varias condiciones al mismo tiempo. Por ejemplo, a veces podemos necesitar dos condiciones que sean `True` antes de realizar una acción. Otras veces nos basta con que solo una condición sea `True`. Podemos usar las claves `and` y `or` en estas situaciones."
      ]
    },
    {
      "cell_type": "markdown",
      "metadata": {
        "id": "wSps6K4Hjekn"
      },
      "source": [
        "#### Usando `and` para verificar múltiples condiciones\n",
        "\n",
        "Para verificar si dos condiciones son `True` simultáneamente, usamos la palabra clave `and` y combinamos las dos pruebas condicionales; Si pasa cada prueba, la expresión general se evalúa como `True`. Si cualquiera de las pruebas falla o si ambas pruebas fallan, la expresión se evalúa como `False`.\n",
        "\n",
        "Por ejemplo, pudemos verificar si dos personas tienen más de 21 años utilizando la siguiente prueba:"
      ]
    },
    {
      "cell_type": "code",
      "metadata": {
        "id": "AnCRFtwlh9Xz",
        "colab": {
          "base_uri": "https://localhost:8080/"
        },
        "outputId": "528f6b77-c989-41ad-c43a-fe51023793d6"
      },
      "source": [
        "edad_0 = 22\n",
        "edad_1 = 18\n",
        "\n",
        "edad_0 >= 21 and edad_1 >= 21"
      ],
      "execution_count": 15,
      "outputs": [
        {
          "output_type": "execute_result",
          "data": {
            "text/plain": [
              "False"
            ]
          },
          "metadata": {
            "tags": []
          },
          "execution_count": 15
        }
      ]
    },
    {
      "cell_type": "markdown",
      "metadata": {
        "id": "L7KIQS1Tk4d3"
      },
      "source": [
        "Empezamos definiendo dos edad, `edad_0` y `edad_1`. Luego verificamos si ambas edades son mayores o iguales a 21. La prueba de la izquierda pasa, pero la prueba de la derecha falla, por lo que la expresión condicional general se evalúa como `False`."
      ]
    },
    {
      "cell_type": "code",
      "metadata": {
        "id": "eeawu2Epjywq",
        "colab": {
          "base_uri": "https://localhost:8080/"
        },
        "outputId": "c5192adb-f605-427e-daf2-911f328907cf"
      },
      "source": [
        "edad_1 = 22\n",
        "\n",
        "edad_0 >= 21 and edad_1 >= 21"
      ],
      "execution_count": 16,
      "outputs": [
        {
          "output_type": "execute_result",
          "data": {
            "text/plain": [
              "True"
            ]
          },
          "metadata": {
            "tags": []
          },
          "execution_count": 16
        }
      ]
    },
    {
      "cell_type": "markdown",
      "metadata": {
        "id": "BxO99HRCkozA"
      },
      "source": [
        "Ahora hemos cambiamos `edad_1` a 22. El valor de `edad_1` ahora es mayor que 21, por lo que ambas pruebas individuales pasan, esto hace que la expresión condicional general se evalúe como `True`.\n",
        "\n",
        "Para que sea más claro, podemos usar paréntesis alrededor de las pruebas individuales, aunque no son obligatorios. Si usa paréntesis, su prueba se vería así:"
      ]
    },
    {
      "cell_type": "code",
      "metadata": {
        "id": "YU06O4B_kfoN",
        "colab": {
          "base_uri": "https://localhost:8080/"
        },
        "outputId": "c30e95d5-bfe4-4a0c-8f25-9e6401730e07"
      },
      "source": [
        "(edad_0 >= 21) and (edad_1 >= 21)"
      ],
      "execution_count": 17,
      "outputs": [
        {
          "output_type": "execute_result",
          "data": {
            "text/plain": [
              "True"
            ]
          },
          "metadata": {
            "tags": []
          },
          "execution_count": 17
        }
      ]
    },
    {
      "cell_type": "markdown",
      "metadata": {
        "id": "iCqCKvKclOT8"
      },
      "source": [
        "#### Usando `or` para verificar múltiples condiciones\n",
        "\n",
        "La palabra clave `or` permite verificar múltiples condiciones también, pero pasa cuando una o ambas pruebas individuales pasan. Una expresión `or` falla solo cuando ambas pruebas individuales fallan.\n",
        "Consideremos dos edades nuevamente, pero esta vez solo buscaremos una persona mayor de 21 años:"
      ]
    },
    {
      "cell_type": "code",
      "metadata": {
        "id": "z79afMORlKPo",
        "colab": {
          "base_uri": "https://localhost:8080/"
        },
        "outputId": "38ce24b8-ecb3-4998-b53d-cb0e128508ee"
      },
      "source": [
        "edad_0 = 21\n",
        "edad_1 = 18\n",
        "\n",
        "edad_0 >= 21 or edad_1 >= 21"
      ],
      "execution_count": 18,
      "outputs": [
        {
          "output_type": "execute_result",
          "data": {
            "text/plain": [
              "True"
            ]
          },
          "metadata": {
            "tags": []
          },
          "execution_count": 18
        }
      ]
    },
    {
      "cell_type": "markdown",
      "metadata": {
        "id": "Krh9R5Xdlv1o"
      },
      "source": [
        "Comenzamos con dos variables de edad nuevamente. Debido a que la prueba para `edad_0` pasa, la expresión general se evalúa como `True`"
      ]
    },
    {
      "cell_type": "code",
      "metadata": {
        "id": "_zxd0mP_llWF",
        "colab": {
          "base_uri": "https://localhost:8080/"
        },
        "outputId": "79b65c77-2e1b-47a7-a1a8-f0024acf18c4"
      },
      "source": [
        "edad_0 = 18\n",
        "\n",
        "edad_0 >= 21 or edad_1 >= 21"
      ],
      "execution_count": 19,
      "outputs": [
        {
          "output_type": "execute_result",
          "data": {
            "text/plain": [
              "False"
            ]
          },
          "metadata": {
            "tags": []
          },
          "execution_count": 19
        }
      ]
    },
    {
      "cell_type": "markdown",
      "metadata": {
        "id": "yi9PFBhals1Q"
      },
      "source": [
        "Luego bajamos `edad_0` a 18. En la siguiente prueba, ambas pruebas ahora fallan y la expresión general se evalúa como `False`."
      ]
    },
    {
      "cell_type": "markdown",
      "metadata": {
        "id": "mtvCO7VMmC3b"
      },
      "source": [
        "### Comprobar si un valor está en una lista\n",
        "\n",
        "A veces es importante verificar si una lista contiene cierto valor antes de realizar una acción. Por ejemplo, es posible que deseemos verificar si ya existe un nuevo nombre de usuario en una lista de nombres de usuario actuales antes de completar el registro de alguien en un sitio web.\n",
        "Para saber si un valor en particular está en una lista, usamos la palabra clave `in`. Consideremos algún código que podría escribir para una pizzería. Haremos una lista de los ingredientes que un cliente solicitó para una pizza y luego verificaremos si ciertos ingredientes están en la lista."
      ]
    },
    {
      "cell_type": "code",
      "metadata": {
        "id": "h2ffXkE6loSr",
        "colab": {
          "base_uri": "https://localhost:8080/"
        },
        "outputId": "ad33b65e-92fe-46a1-ead7-08086e6bb5c0"
      },
      "source": [
        "# Verificando si un elemento está en una lista\n",
        "\n",
        "pedidos_solicitados = ['hongos', 'cebollas', 'queso']\n",
        "\n",
        "'hongos' in pedidos_solicitados"
      ],
      "execution_count": 20,
      "outputs": [
        {
          "output_type": "execute_result",
          "data": {
            "text/plain": [
              "True"
            ]
          },
          "metadata": {
            "tags": []
          },
          "execution_count": 20
        }
      ]
    },
    {
      "cell_type": "code",
      "metadata": {
        "id": "uHm_pkrVmly5",
        "colab": {
          "base_uri": "https://localhost:8080/"
        },
        "outputId": "69caae7d-e6c5-407d-9a99-6a69b31ef308"
      },
      "source": [
        "'pepperoni' in pedidos_solicitados"
      ],
      "execution_count": 21,
      "outputs": [
        {
          "output_type": "execute_result",
          "data": {
            "text/plain": [
              "False"
            ]
          },
          "metadata": {
            "tags": []
          },
          "execution_count": 21
        }
      ]
    },
    {
      "cell_type": "markdown",
      "metadata": {
        "id": "7lVfGQoFnaoI"
      },
      "source": [
        "En ambos casos la palabra clave `in` dice a Python que verifique la existencia de `'hongos'` y `'pepperoni'` en la lista `pedidos_solicitados`. Esta técnica es bastante poderosa porque puede crear una lista de valores esenciales y luego verificar fácilmente si el valor que está probando coincide con uno de los valores de la lista."
      ]
    },
    {
      "cell_type": "markdown",
      "metadata": {
        "id": "rUn6Tuf8nwGA"
      },
      "source": [
        "### Comprobar si un valor no está en una lista\n",
        "\n",
        "Otras veces, es importante saber si un valor no aparece en una lista. Puede usar la palabra clave `not in` para esta situación. Por ejemplo, consideremos una lista de usuarios que tienen prohibido comentar en un foro. Podemos verificar si un usuario ha sido prohibido antes de permitir que esa persona envíe un comentario:"
      ]
    },
    {
      "cell_type": "code",
      "metadata": {
        "id": "PMb27HKemqHv",
        "colab": {
          "base_uri": "https://localhost:8080/"
        },
        "outputId": "a6b581ca-bbc6-4033-a773-21b89c6acdf1"
      },
      "source": [
        "# Verificando si un elemento no está en una lista\n",
        "\n",
        "usuarios_prohibidos = ['andrew', 'carolina', 'david']\n",
        "\n",
        "usuario = 'maria'\n",
        "\n",
        "if usuario not in usuarios_prohibidos:\n",
        "  print(f\"{usuario.title()}, puedes escribir el comentario que desees.\")"
      ],
      "execution_count": 22,
      "outputs": [
        {
          "output_type": "stream",
          "text": [
            "Maria, puedes escribir el comentario que desees.\n"
          ],
          "name": "stdout"
        }
      ]
    },
    {
      "cell_type": "markdown",
      "metadata": {
        "id": "ZJroqjA8oZL8"
      },
      "source": [
        "Si el valor del usuario no está en la lista `usuarios_prohibidos`, Python devuelve `True` y ejecuta el mensaje.\n",
        "El usuario `'marie'` no está en la lista `usuarios_prohibidos`, por lo que ve un mensaje que la invita a publicar una respuesta."
      ]
    },
    {
      "cell_type": "markdown",
      "metadata": {
        "id": "9C9S_wYPoyPg"
      },
      "source": [
        "### Expresiones booleanas\n",
        "\n",
        "Una expresión booleana es solo otro nombre para una prueba condicional. Un valor booleano es `True` o `False`, al igual que el valor de una expresión condicional después de haber sido evaluado.\n",
        "Los valores booleanos a menudo se usan para realizar un seguimiento de ciertas condiciones, como por ejemplo, si un juego está ejecutando o si un usuario puede editar cierto contenido en un sitio web:"
      ]
    },
    {
      "cell_type": "code",
      "metadata": {
        "id": "5sFtRdb3oURn"
      },
      "source": [
        "juego_activo = True\n",
        "puede_escribir = False"
      ],
      "execution_count": 23,
      "outputs": []
    },
    {
      "cell_type": "markdown",
      "metadata": {
        "id": "F0RMxv73o5yJ"
      },
      "source": [
        "Los valores booleanos nos proporcionan una manera eficiente de verificar el estado de un programa o una condición particular que es importante en nuestro programa."
      ]
    },
    {
      "cell_type": "markdown",
      "metadata": {
        "id": "Ls6r5HNZpAVt"
      },
      "source": [
        "## Declaraciones `if`"
      ]
    },
    {
      "cell_type": "markdown",
      "metadata": {
        "id": "abK_o1uhpaRS"
      },
      "source": [
        "Ahora que comprendamos las pruebas condicionales, podemos comenzar a escribir declaraciones `if`. Existen diferentes tipos de declaraciones `if`, la elección depende de qué condiciones necesitamos probar.\n",
        "\n",
        "Vamos a profundizar en el tema.\n"
      ]
    },
    {
      "cell_type": "markdown",
      "metadata": {
        "id": "Vbz1KDjxxixw"
      },
      "source": [
        "### Declaraciones simples `if`\n",
        "\n",
        "El tipo más simple de declaración `if` tiene una prueba y una acción:\n",
        "\n",
        "```\n",
        "if prueba_condicional:\n",
        "  do algo\n",
        "```\n",
        "\n",
        "Podemos poner cualquier prueba condicional en la primera línea y casi cualquier acción en el bloque con sangría que sigue a la prueba. Si la prueba condicional se evalúa como `True`, Python va a ejecutar el código que sigue a la instrucción `if`.\n",
        "Si la prueba se evalua como `False`, Python ignorará el código siguiente a la instrucción `if`.\n",
        "\n",
        "Supongamos que tenemos una variable que representa la edad de una persona y queremos saber si esa persona tiene la edad suficiente para votar. El siguiente código prueba si la persona puede votar:"
      ]
    },
    {
      "cell_type": "code",
      "metadata": {
        "colab": {
          "base_uri": "https://localhost:8080/"
        },
        "id": "YyBGf3jrxXd4",
        "outputId": "2e74bafd-d879-4fe1-e26a-4f9e00487d2b"
      },
      "source": [
        "edad = 19\n",
        "\n",
        "if edad >= 18:\n",
        "  print(\"Tienes la edad suficiente para votar\")"
      ],
      "execution_count": 24,
      "outputs": [
        {
          "output_type": "stream",
          "text": [
            "Tienes la edad suficiente para votar\n"
          ],
          "name": "stdout"
        }
      ]
    },
    {
      "cell_type": "markdown",
      "metadata": {
        "id": "SiFBYMz3yt7J"
      },
      "source": [
        "En el código anterior, Python comprueba si el valor de `edad` es mayor o igual a 18. Al ser verdadera, Python ejecuta la acción que está con sangría (`print`)\n",
        "\n",
        "La sangría juega el mismo papel en las sentencias `if` que en los bucles `for`.\n",
        "Todas las líneas con sangría después de la instrucción `if` se ejecutarán si la prueba pasa, y todo el bloque de líneas con sangría se ignorará si la prueba no pasa.\n",
        "Podemos tener tantas líneas de código como deseemos en el bloque que sigue a la instrucción `if`. Preguntemos si la si la persona ya ha votado:"
      ]
    },
    {
      "cell_type": "code",
      "metadata": {
        "id": "H3H3ucaJo2Wo",
        "colab": {
          "base_uri": "https://localhost:8080/"
        },
        "outputId": "99c8213c-6584-4dd4-a36d-c28f87cecdc6"
      },
      "source": [
        "edad = 19\n",
        "\n",
        "if edad >= 18:\n",
        "  print(\"Tienes la edad suficiente para votar\")\n",
        "  print('Ya has votado')"
      ],
      "execution_count": 25,
      "outputs": [
        {
          "output_type": "stream",
          "text": [
            "Tienes la edad suficiente para votar\n",
            "Ya has votado\n"
          ],
          "name": "stdout"
        }
      ]
    },
    {
      "cell_type": "markdown",
      "metadata": {
        "id": "P7IMEwbCzb4L"
      },
      "source": [
        "La prueba condicional pasa, y al estar ambas llamadas `print()` con sangría, se imprimen ambas líneas.\n",
        "\n",
        "Si el valor de la edad es menor de 18, este programa no produciría ningún resultado."
      ]
    },
    {
      "cell_type": "markdown",
      "metadata": {
        "id": "MG42_liXzp4L"
      },
      "source": [
        ""
      ]
    },
    {
      "cell_type": "markdown",
      "metadata": {
        "id": "Vxr7ImyMzsgn"
      },
      "source": [
        "### Declaraciones `if-else`\n",
        "\n",
        "A menudo, vamos a quere realizar una acción cuando se apruebe una prueba condicional y una acción diferente los demás casos. La sintaxis `if-else` de Python lo hace posible.\n",
        "Un bloque `if-else` es similar a una instrucción `if` simple, pero la instrucción `else` nos permite definir una acción o un conjunto de acciones que se ejecutan cuando falla la prueba condicional."
      ]
    },
    {
      "cell_type": "code",
      "metadata": {
        "colab": {
          "base_uri": "https://localhost:8080/"
        },
        "id": "idxOqKFnzZbu",
        "outputId": "ec6e1415-0bdd-4dbe-c384-a3f208735976"
      },
      "source": [
        "edad = 17\n",
        "\n",
        "if edad >= 18:\n",
        "  print(\"Tienes la edad suficiente para votar\")\n",
        "  print('Ya has votado')\n",
        "else:\n",
        "  print(\"Eres demasiado joven para votar\")\n",
        "  print(\"Puede votar a partir de los 18 años\")"
      ],
      "execution_count": 26,
      "outputs": [
        {
          "output_type": "stream",
          "text": [
            "Eres demasiado joven para votar\n",
            "Puede votar a partir de los 18 años\n"
          ],
          "name": "stdout"
        }
      ]
    },
    {
      "cell_type": "markdown",
      "metadata": {
        "id": "_oIDRfuq1GF2"
      },
      "source": [
        "Si la prueba condicional se evlua como `True`, se ejecuta el primer bloque de llamadas `print()` que está con sangría. Si la prueba se evalúa como `False`, se ejecuta el bloque con sangría luego de `else`.\n",
        "Debido a que `edad` es menor a 18 esta vez, la prueba condicional falla y se ejecuta el código en el bloque `else`.\n",
        "\n",
        "Este código funciona porque solo tenemos dos situaciones posibles para evaluar:\n",
        "una persona tiene la edad suficiente para votar o no tiene la edad suficiente para votar. La estructura `if-else` funciona bien en situaciones en las que deseemos que Python siempre ejecute una de dos acciones posibles. En una cadena `if-else` simple como esta, siempre se ejecutará una de las dos acciones."
      ]
    },
    {
      "cell_type": "markdown",
      "metadata": {
        "id": "6MADjLhq3L_i"
      },
      "source": [
        "### La cadena if-elif-else\n",
        "\n",
        "A menudo, necesitaremos probar más de dos situaciones posibles y, para evaluarlas, podemos usar la sintaxis `if-elif-else` de Python. Python ejecuta la prueba condicional en orden, empezando por `if` y solo ejecuta un bloque en la cadena `if-elif-else`. Cuando pasa una prueba, se ejecuta el código que sigue a esa prueba y Python omite el resto de las pruebas.\n",
        "Muchas situaciones del mundo real involucran más de dos condiciones posibles. Por ejemplo, consideremos un parque de diversiones que cobra diferentes tarifas para diferentes grupos de edad:\n",
        "\n",
        "* La entrada para cualquier persona menor de 4 años es gratuita.\n",
        "* La entrada para cualquier persona entre las edades de 4 y 18 es de 25 dolares.\n",
        "* La entrada para cualquier persona mayor de 18 años es de 40 dolares.\n",
        "\n",
        "¿Cómo podemos usar una declaración if para determinar el pago de entrada por persona?\n",
        "\n",
        "El siguiente código prueba para el grupo de edad de una persona y luego imprime un mensaje de precio de admisión:"
      ]
    },
    {
      "cell_type": "code",
      "metadata": {
        "colab": {
          "base_uri": "https://localhost:8080/"
        },
        "id": "zqEOpD2I0Q4P",
        "outputId": "5347ef23-d580-499d-8508-d5d599f668e8"
      },
      "source": [
        "edad = 12\n",
        "\n",
        "if edad < 4:\n",
        "  print(\"Tu costo de admisión es $0.\")\n",
        "elif edad < 18:\n",
        "  print(\"Tu costo de admisión es $25.\")\n",
        "else:\n",
        "  print(\"Tu costo de admisión es $40.\")"
      ],
      "execution_count": 27,
      "outputs": [
        {
          "output_type": "stream",
          "text": [
            "Tu costo de admisión es $25.\n"
          ],
          "name": "stdout"
        }
      ]
    },
    {
      "cell_type": "markdown",
      "metadata": {
        "id": "Akro8KtKG_-5"
      },
      "source": [
        "La prueba `if` comprueba si una persona tiene menos de 4 años. Si la prueba\n",
        "pasa, se imprime el mensaje que sigue con sangría y Python omite el resto de las pruebas. \n",
        "\n",
        "La línea `elif` es realmente otra prueba `if`, que se ejecuta solo si la prueba anterior (`if`) falló. En este punto de la cadena, sabemos que la persona tiene al menos 4 años porque la primera prueba falló. Si la persona tiene menos de 18 años, se imprime el mensaje que sigue con sangría y Python omite el bloque `else`.\n",
        "\n",
        "Si fallan las pruebas `if` y `elif`, Python ejecuta el código en el bloque `else`.\n",
        "\n",
        "En este ejemplo, la prueba en `if` se evalúa como `False`, por lo que su bloque de código no se ejecuta. Sin embargo, la segunda prueba `ifelse` se evalúa como `True` (12 es menor que 18) por lo que se ejecuta su código. El resultado es una mensaje informando al usuario del costo de admisión 25 dolares."
      ]
    },
    {
      "cell_type": "markdown",
      "metadata": {
        "id": "os1t73vgHsAc"
      },
      "source": [
        "Cualquier edad mayor de 17 años haría que las dos primeras pruebas fallaran. En este caso, se ejecutaría el bloque `else` y el precio de admisión sería de 40 dolares.\n",
        "\n",
        "En lugar de imprimir el precio de admisión dentro del bloque `if-elif-else`, podemos establecer solo el precio dentro de la cadena `if-elif-else` y luego tener una simple llamada `print()` que se ejecute después de que la cadena haya sido evaluada. De esta manera tenemos el código más consiso. Veamos:"
      ]
    },
    {
      "cell_type": "code",
      "metadata": {
        "colab": {
          "base_uri": "https://localhost:8080/"
        },
        "id": "GdDY_18h3qj0",
        "outputId": "c79c7c98-e8e2-4ba1-e4d5-e1e5976e88be"
      },
      "source": [
        "edad = 12\n",
        "\n",
        "if edad < 4:\n",
        "  precio = 0\n",
        "elif edad < 18:\n",
        "  precio = 25\n",
        "else:\n",
        "  precio = 40\n",
        "\n",
        "print(f\"Tu costo de admisión es ${precio}.\")"
      ],
      "execution_count": 28,
      "outputs": [
        {
          "output_type": "stream",
          "text": [
            "Tu costo de admisión es $25.\n"
          ],
          "name": "stdout"
        }
      ]
    },
    {
      "cell_type": "markdown",
      "metadata": {
        "id": "EXct67RjITrm"
      },
      "source": [
        "Las líneas con sangría luego de las pruebas indican el valor del precio según la edad de la persona. Después de que la cadena `if-elif-else` establece el precio, una llamada `print()` sin sangría usa este valor para mostrar un mensaje que informa el precio de admisión de la persona.\n",
        "\n",
        "Este código produce la misma salida que el ejemplo anterior, pero el propósito de la cadena `if-elif-else` es más limitado. En lugar de determinar un precio y mostrar un mensaje, simplemente determina el precio de admisión.\n",
        "Además de ser más eficiente, este código revisado es más fácil de modificar que el enfoque original. Para cambiar el texto del mensaje de salida, basta con cambiar una sola llamada `print()`."
      ]
    },
    {
      "cell_type": "markdown",
      "metadata": {
        "id": "utF48mH8JAsK"
      },
      "source": [
        "### Usando múltiples bloques `elif`\n",
        "\n",
        "Podemos utilizar tantos bloques `elif` en nuestro código como deseemos. Por ejemplo, supongamos que el parque de atracciones implementa un descuento para personas mayores. Podríamos agregar una prueba condicional más al código para determinar si una persona calificó para el descuento para personas mayores. Supongamos que cualquier persona de 65 años o más paga la mitad de la entrada regular, es decir, 20 dólares:"
      ]
    },
    {
      "cell_type": "code",
      "metadata": {
        "colab": {
          "base_uri": "https://localhost:8080/"
        },
        "id": "85Iw_9dxIRjc",
        "outputId": "5f388ac6-520f-4a47-c92f-866ba80ac82a"
      },
      "source": [
        "edad = 12\n",
        "\n",
        "if edad < 4:\n",
        "  precio = 0\n",
        "elif edad < 18:\n",
        "  precio = 25\n",
        "elif edad < 65:\n",
        "  precio = 40\n",
        "else:\n",
        "  precio = 20\n",
        "\n",
        "print(f\"Tu costo de admisión es ${precio}.\")"
      ],
      "execution_count": 29,
      "outputs": [
        {
          "output_type": "stream",
          "text": [
            "Tu costo de admisión es $25.\n"
          ],
          "name": "stdout"
        }
      ]
    },
    {
      "cell_type": "markdown",
      "metadata": {
        "id": "BhvB1tHsJuFT"
      },
      "source": [
        "No hemos gran cambio en el código. El segundo bloque `elif` verifica que una persona tenga menos de 65 años antes de asignarle la tarifa de admisión completa de 40 dólares. Tenga en cuenta que el valor asignado en el bloque `else` lo hemos cambiado a 20 dólares, porque las únicas edades que llegan a este bloque son las personas de 65 años o más."
      ]
    },
    {
      "cell_type": "markdown",
      "metadata": {
        "id": "n2PVhqOvKnop"
      },
      "source": [
        "### Omitiendo el bloque `else`\n",
        "\n",
        "Python no exige un bloque `else` al final de una cadena `if-elif`. A veces, un bloque `else` es útil; aveces es más claro usar una declaración `elif` adicional que cappta la condición específica de interés. Veamos:"
      ]
    },
    {
      "cell_type": "code",
      "metadata": {
        "colab": {
          "base_uri": "https://localhost:8080/"
        },
        "id": "XRVs_i2qJml2",
        "outputId": "963e6119-2cea-48fa-9676-d0c62029a5e4"
      },
      "source": [
        "edad = 12\n",
        "\n",
        "if edad < 4:\n",
        "  precio = 0\n",
        "elif edad < 18:\n",
        "  precio = 25\n",
        "elif edad < 65:\n",
        "  precio = 40\n",
        "elif edad >= 65:\n",
        "  precio = 20\n",
        "\n",
        "print(f\"Tu costo de admisión es ${precio}.\")"
      ],
      "execution_count": 30,
      "outputs": [
        {
          "output_type": "stream",
          "text": [
            "Tu costo de admisión es $25.\n"
          ],
          "name": "stdout"
        }
      ]
    },
    {
      "cell_type": "markdown",
      "metadata": {
        "id": "engQgv-xOqkr"
      },
      "source": [
        "El bloque extra `elif` asigna un precio de 20 dolares cuando la persona tiene 65 años o más, lo cual es más claro que el bloque general `else`. Con este cambio, cada bloque de código debe pasar una prueba específica para poder ejecutarse.\n",
        "\n",
        "El bloque `else` es una declaración general. Se ejecuta cuando ninguna condición `if` o `elif` haya pasado, y que a veces puede incluir datos no válidos o incluso maliciosos. Si tiene una condición final específica que está probando, considere usar un bloque `elif` final y omita el bloque `else`. Como resultado, obtendrá una mayor confianza en que su código se ejecutará solo en las condiciones correctas."
      ]
    },
    {
      "cell_type": "markdown",
      "metadata": {
        "id": "MewL73zvTRjh"
      },
      "source": [
        "### Probando múltiples condiciones\n",
        "\n",
        "La cadena `if-elif-else` es poderosa, pero solo es apropiada para usar cuando solo necesitas una prueba que quieres aprobar. Tan pronto como Python encuentra una prueba que pasa, omite el resto de las pruebas. Este comportamiento es beneficioso porque es eficiente y nos permite probar una condición específica.\n",
        "\n",
        "Sin embargo, a veces es importante comprobar todas las condiciones de interés. En este caso, debemos utilizar una serie de sentencias `if` simples sin bloques `elif` o `else`. Esta técnica tiene sentido cuando más de una condición podría ser `True` y deseamos ejecutar una acción sobre cada condición `True`.\n",
        "\n",
        "Volvamos al ejemplo de la pizzería. Si un cliente solicita una pizza con dos ingredientes, tenemos que asegurarnos el incluir ambos ingredientes en su pizza:"
      ]
    },
    {
      "cell_type": "code",
      "metadata": {
        "colab": {
          "base_uri": "https://localhost:8080/"
        },
        "id": "n3R-AsZqLG4u",
        "outputId": "d6432f4e-617a-4ebd-8823-52087a16a6c1"
      },
      "source": [
        "ingredientes_solicitados = ['hongos', 'extra de queso']\n",
        "\n",
        "if 'hongos' in ingredientes_solicitados:\n",
        "  print('Añadiendo hongos')\n",
        "\n",
        "if 'pepperoni' in ingredientes_solicitados:\n",
        "  print('Añadiendo pepperoni')\n",
        "\n",
        "if 'extra de queso' in ingredientes_solicitados:\n",
        "  print('Añadiendo extra de queso')\n",
        "\n",
        "print('\\n¡Terminaste de hacer tu pizza!')"
      ],
      "execution_count": 31,
      "outputs": [
        {
          "output_type": "stream",
          "text": [
            "Añadiendo hongos\n",
            "Añadiendo extra de queso\n",
            "\n",
            "¡Terminaste de hacer tu pizza!\n"
          ],
          "name": "stdout"
        }
      ]
    },
    {
      "cell_type": "markdown",
      "metadata": {
        "id": "FHqgAO9_Vc-u"
      },
      "source": [
        "Comenzamos con una lista que contiene los ingredientes solicitados. \n",
        "\n",
        "La primera declaración `if` verifica si la persona solicitó `hongos` en su pizza. Si es así, se imprime un mensaje indicando que se va a añadir. \n",
        "\n",
        "La segunda prueba `if` de pepperoni es otra declaración `if` simple, no una declaración `elif` o `else`, por lo que esta prueba se ejecuta independientemente de si la prueba anterior pasó o no. \n",
        "\n",
        "La tercera prueba verifica si se solicitó `extra de queso` independientemente de los resultados de las dos primeras pruebas. Estas tres pruebas independientes se ejecutan cada vez que se ejecuta este programa.\n",
        "\n",
        "Debido a que se evalúan todas las condiciones en este ejemplo, se agregan `hongos` y `extra de queso` a la pizza"
      ]
    },
    {
      "cell_type": "markdown",
      "metadata": {
        "id": "GfnsHepZViI3"
      },
      "source": [
        "Este código no funcionaría correctamente si usáramos un bloque `if-elif-else`, porque el código se ejecutaría después de pasar solo una prueba. Así es como se vería:"
      ]
    },
    {
      "cell_type": "code",
      "metadata": {
        "colab": {
          "base_uri": "https://localhost:8080/"
        },
        "id": "quSqa8hjT-7m",
        "outputId": "5c202c10-3768-4a0d-84ef-0d3149af5dfb"
      },
      "source": [
        "ingredientes_solicitados = ['hongos', 'extra queso']\n",
        "\n",
        "if 'hongos' in ingredientes_solicitados:\n",
        "  print('Añadiendo hongos')\n",
        "\n",
        "elif 'pepperoni' in ingredientes_solicitados:\n",
        "  print('Añadiendo pepperoni')\n",
        "\n",
        "elif 'extra queso' in ingredientes_solicitados:\n",
        "  print('Añadiendo extra queso')\n",
        "\n",
        "print('\\n¡Terminaste de hacer tu pizza!')"
      ],
      "execution_count": 32,
      "outputs": [
        {
          "output_type": "stream",
          "text": [
            "Añadiendo hongos\n",
            "\n",
            "¡Terminaste de hacer tu pizza!\n"
          ],
          "name": "stdout"
        }
      ]
    },
    {
      "cell_type": "markdown",
      "metadata": {
        "id": "l8J4AuZiVse6"
      },
      "source": [
        "La prueba de `hongos` es la primera prueba que pasa, por lo que se agregan `hongos` a la pizza. Sin embargo, los valores `queso extra` y `pepperoni` nunca se comprueban, porque Python no ejecuta ninguna prueba más allá de la primera prueba que pasa en una cadena `if-elif-else`. Se agregará el primer aderezo del cliente, pero todos sus otros ingredientes se perderán."
      ]
    },
    {
      "cell_type": "markdown",
      "metadata": {
        "id": "HY9oqXBtVwsP"
      },
      "source": [
        "En resumen, si desea que solo se ejecute un bloque de código, use una cadena `if-elif-else`. Si es necesario ejecutar más de un bloque de código, utilice una serie de instrucciones `if` independientes."
      ]
    },
    {
      "cell_type": "markdown",
      "metadata": {
        "id": "ftv0fKb0VzV8"
      },
      "source": [
        "## Usando `if` con listas"
      ]
    },
    {
      "cell_type": "markdown",
      "metadata": {
        "id": "NJ7AM0N3Xg0G"
      },
      "source": [
        "Podemos hacer cosas interesantes cuando combinamos listas y declaraciones `if`.\n",
        "Podemos observar valores especiales que deben tratarse de manera diferente a otros valores de la lista. Podemos gestionar las condiciones cambiantes de manera eficiente,\n",
        "como la disponibilidad de ciertos artículos en un restaurante durante un turno. También puede comenzar a demostrar que su código funcione como espera en todas las situaciones posibles."
      ]
    },
    {
      "cell_type": "markdown",
      "metadata": {
        "id": "Ibr1aLofX3Qj"
      },
      "source": [
        "### Comprobación de items especiales\n",
        "\n",
        "En este capítulo comenzamos con un simple ejemplo sobre cómo manejar un valor especial como `'bmw'`, que queríamos mostrarlo en un formato diferente al de los otros valores de la lista. Ahora que tiene ya conocemos las pruebas condicionales y las declaraciones `if`, echemos un vistazo más de cerca a cómo podemos buscar valores especiales en una lista y manejar esos valores de manera apropiada.\n",
        "Continuemos con el ejemplo de la pizzería. La pizzería muestra un mensaje mientras se prepara cada vez que añade un aderezo a su pizza. El código para esta acción se puede escribir de manera muy eficiente haciendo una lista de ingredientes que el cliente ha solicitado y usando un bucle para anunciar cada ingrediente a medida que se agrega a la pizza. Veamos:"
      ]
    },
    {
      "cell_type": "code",
      "metadata": {
        "colab": {
          "base_uri": "https://localhost:8080/"
        },
        "id": "vo5J4k8a4_vG",
        "outputId": "1a454ab7-70b0-4c8b-ae5f-6810d02abe7a"
      },
      "source": [
        "ingredientes_solicitados = ['hongos', 'pimientos verdes', 'extra queso']\n",
        "\n",
        "for ingrediente_solicitado in ingredientes_solicitados:\n",
        "  print(f\"Añadiendo {ingrediente_solicitado}\")\n",
        "\n",
        "print('\\n¡Terminaste de hacer tu pizza!')"
      ],
      "execution_count": 33,
      "outputs": [
        {
          "output_type": "stream",
          "text": [
            "Añadiendo hongos\n",
            "Añadiendo pimientos verdes\n",
            "Añadiendo extra queso\n",
            "\n",
            "¡Terminaste de hacer tu pizza!\n"
          ],
          "name": "stdout"
        }
      ]
    },
    {
      "cell_type": "markdown",
      "metadata": {
        "id": "MVwd0yhq5ovp"
      },
      "source": [
        "La salida es sencilla porque este código es solo un simple bucle `for`.\n",
        "\n",
        "Pero, ¿Y si la pizzería se queda sin pimientos verdes? Podemos agregar una declaración `if` para manejar esta situación de manera apropiada:"
      ]
    },
    {
      "cell_type": "code",
      "metadata": {
        "colab": {
          "base_uri": "https://localhost:8080/"
        },
        "id": "U0mRTth253bY",
        "outputId": "9fec5bbe-73f3-4c8a-d5e2-90c9130b2ecf"
      },
      "source": [
        "ingredientes_solicitados = ['hongos', 'pimientos verdes', 'extra queso']\n",
        "\n",
        "for ingrediente_solicitado in ingredientes_solicitados:\n",
        "  if ingrediente_solicitado == 'pimientos verdes':\n",
        "    print(\"Lo sentimos, ya no tenemos pimientos verdes.\")\n",
        "  else:\n",
        "    print(f\"Añadiendo {ingrediente_solicitado}\")\n",
        "\n",
        "print('\\n¡Terminaste de hacer tu pizza!')"
      ],
      "execution_count": 34,
      "outputs": [
        {
          "output_type": "stream",
          "text": [
            "Añadiendo hongos\n",
            "Lo sentimos, ya no tenemos pimientos verdes.\n",
            "Añadiendo extra queso\n",
            "\n",
            "¡Terminaste de hacer tu pizza!\n"
          ],
          "name": "stdout"
        }
      ]
    },
    {
      "cell_type": "markdown",
      "metadata": {
        "id": "Fd21rwdk6Jtz"
      },
      "source": [
        "Esta vez verificamos cada artículo solicitado antes de agregarlo a la pizza.\n",
        "El código empieza comprobando si la persona solicitó `pimientos verdes`. Si es así, mostramos un mensaje informándoles por qué no pueden comer `pimientos verdes`.\n",
        "El bloque else asegura que todos los demás ingredientes se agregarán a la pizza.\n",
        "\n",
        "El resultado muestra que cada ingrediente solicitado se maneja de manera adecuada."
      ]
    },
    {
      "cell_type": "markdown",
      "metadata": {
        "id": "sc8Gr-ilX9tp"
      },
      "source": [
        "### Comprobación de que una lista no esté vacía\n",
        "\n",
        "Hasta ahora hemos supuesto de que todas las listas con las que hemos trabajado hasta ahora tienen al menos un elemento. Pero no podremos suponer que una lista contiene elementos cada vez que se ejecuta un ciclo. En esta situación, es útil comprobar si una lista está vacía antes de ejecutar un ciclo `for`.\n",
        "\n",
        "Por ejemplo, verifiquemos si la lista de ingredientes solicitados está vacía antes de preparar la pizza. Si la lista está vacía, le preguntaremos al usuario y nos aseguraremos de que quiere una pizza simple. Si la lista no está vacía, crearemos la pizza tal como lo hicimos en los ejemplos anteriores. Veamos:"
      ]
    },
    {
      "cell_type": "code",
      "metadata": {
        "colab": {
          "base_uri": "https://localhost:8080/"
        },
        "id": "0Xk8kdUW7WSj",
        "outputId": "e25decf8-9ff0-4ea3-cd75-2b783157b853"
      },
      "source": [
        "ingredientes_solicitados = []\n",
        "\n",
        "if ingredientes_solicitados:\n",
        "  for ingrediente_solicitado in ingredientes_solicitados:\n",
        "    print(f\"Añadiendo {ingrediente_solicitado}\")\n",
        "\n",
        "  print('\\n¡Terminaste de hacer tu pizza!')\n",
        "else:\n",
        "  print(\"¿Estás seguro de que quieres una pizza simple?\")"
      ],
      "execution_count": 35,
      "outputs": [
        {
          "output_type": "stream",
          "text": [
            "¿Estás seguro de que quieres una pizza simple?\n"
          ],
          "name": "stdout"
        }
      ]
    },
    {
      "cell_type": "markdown",
      "metadata": {
        "id": "Hw2in69k8pB9"
      },
      "source": [
        "Esta vez comenzamos con una lista vacía de ingredientes solicitados.\n",
        "En lugar de empezar el bucle `for`, hacemos una comprobación rápida. Cuando se utiliza el nombre de una lista en una sentencia `if`, Python devuelve `True` si la lista contiene al menos un elemento y devuelve `False` si la lista está vacía. Si `ingredientes_solicitados` pasa la prueba condicional, ejecutamos el mismo bucle `for` que usamos en el ejemplo anterior. Si la prueba condicional falla, imprimimos un mensaje preguntando al cliente si realmente quiere una pizza simple sin ingredientes.\n",
        "Como la lista está vacía en este caso, la salida pregunta si el usuario realmente quiere una pizza simple.\n",
        "Si la lista no está vacía, la salida mostrará cada ingrediente solicitado para\n",
        "ser agregado a la pizza."
      ]
    },
    {
      "cell_type": "markdown",
      "metadata": {
        "id": "mnWA5nWKYAzX"
      },
      "source": [
        "### Usando varias listas\n",
        "\n",
        "La gente pedirá casi cualquier cosa, especialmente cuando se trata de aderezos para pizza. ¿Qué pasa si un cliente quiere papas fritas en su pizza? Podemos usar listas y declaraciones `if` para asegurarnos de que el ingrediente tenga sentido antes de actuar.\n",
        "Tengamos cuidado con las solicitudes de aderezos inusuales antes de preparar una pizza. \n",
        "\n",
        "El siguiente ejemplo define dos listas. La primera es una lista de ingredientes disponibles en la pizzería y la segunda es la lista de ingredientes que el cliente ha solicitado. Esta vez, antes de agregar el ingrediente a la pizza, primero se compara con la lista de ingredientes disponibles:"
      ]
    },
    {
      "cell_type": "code",
      "metadata": {
        "colab": {
          "base_uri": "https://localhost:8080/"
        },
        "id": "55_cA4L49ZXU",
        "outputId": "75a8a538-c145-4a3c-94bc-74c0df39ccc2"
      },
      "source": [
        "ingredientes_disponibles = ['hongos', 'aceitunas', 'pimientos verdes',\n",
        "                            'pepperoni', 'piña', 'extra de queso']\n",
        "\n",
        "ingredientes_solicitados = ['hongos', 'papas fritas', 'extra de queso']\n",
        "\n",
        "for ingrediente_solicitado in ingredientes_solicitados:\n",
        "  if ingrediente_solicitado in ingredientes_disponibles:\n",
        "    print(f\"Añadiendo {ingrediente_solicitado}\")\n",
        "  else:\n",
        "    print(f\"Lo sentimos, no tenemos {ingrediente_solicitado}\")\n",
        "\n",
        "print('\\n¡Terminaste de hacer tu pizza!')"
      ],
      "execution_count": 36,
      "outputs": [
        {
          "output_type": "stream",
          "text": [
            "Añadiendo hongos\n",
            "Lo sentimos, no tenemos papas fritas\n",
            "Añadiendo extra de queso\n",
            "\n",
            "¡Terminaste de hacer tu pizza!\n"
          ],
          "name": "stdout"
        }
      ]
    },
    {
      "cell_type": "markdown",
      "metadata": {
        "id": "ZvgOKbCCA8cA"
      },
      "source": [
        "Empezamos definimos una lista de ingredientes disponibles en esta pizzería. Tenga en cuenta que esto podría ser una tupla si la pizzería tiene una selección estable de ingredientes. \n",
        "\n",
        "Luego hacemos una lista de ingredientes que un cliente ha solicitado con la solicitud inusual, `'papas fritas'`. \n",
        "\n",
        "Luego recorremos la lista de ingredientes solicitados. Dentro del bucle, primero verificamos si cada ingrediente solicitado está realmente en la lista de ingredientes disponibles. Si es así, agregamos este ingrediente a la pizza. Si el ingrediente solicitado no está en la lista de ingredientes disponibles, el bloque `else` se ejecutará. \n",
        "\n",
        "El bloque `else` imprime un mensaje que le indica al usuario qué ingredientes no están disponibles.\n",
        "\n",
        "Esta sintaxis de código produce una salida informativa y limpia.\n",
        "\n",
        "¡Con solo unas pocas líneas de código, hemos manejado una situación del mundo real de manera bastante efectiva!"
      ]
    },
    {
      "cell_type": "markdown",
      "metadata": {
        "id": "794XBk6jYFYu"
      },
      "source": [
        "## Resumen\n",
        "\n",
        "En este capítulo hemos aprendido a escribir pruebas condicionales, que siempre se evalúan como `True` o `False`. \n",
        "\n",
        "Aprendimos a escribir declaraciones simples de `if`, cadenas `if-else` y cadenas `if-elif-else`. \n",
        "\n",
        "Comenzamos a usar estas estructuras para identificar las condiciones particulares que necesitamos probar y para saber cuándo se cumplieron esas condiciones en nuestros programas. \n",
        "\n",
        "Aprendimos a manejar ciertos elementos en una lista de manera diferente a todos los demás elementos mientras continuamos utilizando un bucle `for`."
      ]
    },
    {
      "cell_type": "code",
      "metadata": {
        "id": "47_TtAbVVoOX"
      },
      "source": [
        ""
      ],
      "execution_count": 36,
      "outputs": []
    }
  ]
}