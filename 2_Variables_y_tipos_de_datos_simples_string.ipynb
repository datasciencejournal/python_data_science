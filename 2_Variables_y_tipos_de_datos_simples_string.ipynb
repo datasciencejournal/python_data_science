{
  "nbformat": 4,
  "nbformat_minor": 0,
  "metadata": {
    "colab": {
      "name": "2 Variables y tipos de datos simples: string.ipynb",
      "provenance": [],
      "collapsed_sections": [],
      "toc_visible": true,
      "include_colab_link": true
    },
    "kernelspec": {
      "name": "python3",
      "display_name": "Python 3"
    }
  },
  "cells": [
    {
      "cell_type": "markdown",
      "metadata": {
        "id": "view-in-github",
        "colab_type": "text"
      },
      "source": [
        "<a href=\"https://colab.research.google.com/github/datasciencejournal/python_data_science/blob/main/2_Variables_y_tipos_de_datos_simples_string.ipynb\" target=\"_parent\"><img src=\"https://colab.research.google.com/assets/colab-badge.svg\" alt=\"Open In Colab\"/></a>"
      ]
    },
    {
      "cell_type": "markdown",
      "metadata": {
        "id": "Qf2obNMUdXBJ"
      },
      "source": [
        "## Strings\n",
        "\n",
        "El primer tipo de datos que vamos a ver son los Strings o cadenas. Los strings son bastantes simples a primera vista, pero podemos usarlos de muchas maneras diferentes.\n",
        "\n",
        "Un String es una serie de caracteres. Cualquier cosa dentro de comillas (`\"\"`). Podemos usar tanto comillas simples o apóstrofes (`''`) o comillas dobles.\n",
        "\n",
        "Veamos los siguientes ejemplos:"
      ]
    },
    {
      "cell_type": "code",
      "metadata": {
        "id": "SBxbYMYjbGQ4",
        "outputId": "a35cda10-84d1-4c86-f53f-6877a071a172",
        "colab": {
          "base_uri": "https://localhost:8080/",
          "height": 35
        }
      },
      "source": [
        "\"Esto es un String\""
      ],
      "execution_count": null,
      "outputs": [
        {
          "output_type": "execute_result",
          "data": {
            "application/vnd.google.colaboratory.intrinsic+json": {
              "type": "string"
            },
            "text/plain": [
              "'Esto es un String'"
            ]
          },
          "metadata": {
            "tags": []
          },
          "execution_count": 15
        }
      ]
    },
    {
      "cell_type": "code",
      "metadata": {
        "id": "ZWdI2J_VeGrQ",
        "outputId": "94739aef-97c6-447f-be4c-aa3d61d1a0b4",
        "colab": {
          "base_uri": "https://localhost:8080/",
          "height": 35
        }
      },
      "source": [
        "'Esto también es un String'"
      ],
      "execution_count": null,
      "outputs": [
        {
          "output_type": "execute_result",
          "data": {
            "application/vnd.google.colaboratory.intrinsic+json": {
              "type": "string"
            },
            "text/plain": [
              "'Esto también es un String'"
            ]
          },
          "metadata": {
            "tags": []
          },
          "execution_count": 16
        }
      ]
    },
    {
      "cell_type": "markdown",
      "metadata": {
        "id": "pgE40uG_eQo2"
      },
      "source": [
        "Podemos usar comillas y apóstrofes dentro de nuestros Strings"
      ]
    },
    {
      "cell_type": "code",
      "metadata": {
        "id": "muHnwD4DeLkQ",
        "outputId": "6a8ecacb-c85a-40d2-b331-b194614a2060",
        "colab": {
          "base_uri": "https://localhost:8080/",
          "height": 35
        }
      },
      "source": [
        "' Como decía mi amigo \"Python es mi lenguaje favorito\" '"
      ],
      "execution_count": null,
      "outputs": [
        {
          "output_type": "execute_result",
          "data": {
            "application/vnd.google.colaboratory.intrinsic+json": {
              "type": "string"
            },
            "text/plain": [
              "' Como decía mi amigo \"Python es mi lenguaje favorito\" '"
            ]
          },
          "metadata": {
            "tags": []
          },
          "execution_count": 17
        }
      ]
    },
    {
      "cell_type": "code",
      "metadata": {
        "id": "E5GFIoJ_eltE",
        "outputId": "f3c8a1ca-7b71-4c81-c491-ee3a589e6843",
        "colab": {
          "base_uri": "https://localhost:8080/",
          "height": 35
        }
      },
      "source": [
        "\"El lenguaje 'Python' lleva el nombre de 'Monty Python' no de la serpiente\""
      ],
      "execution_count": null,
      "outputs": [
        {
          "output_type": "execute_result",
          "data": {
            "application/vnd.google.colaboratory.intrinsic+json": {
              "type": "string"
            },
            "text/plain": [
              "\"El lenguaje 'Python' lleva el nombre de 'Monty Python' no de la serpiente\""
            ]
          },
          "metadata": {
            "tags": []
          },
          "execution_count": 18
        }
      ]
    },
    {
      "cell_type": "markdown",
      "metadata": {
        "id": "mqHMSohxeyfx"
      },
      "source": [
        "### Cambiando de mayúsculas y minúsculas en un String con métodos\n",
        "\n",
        "Una de las tareas simples que podemos hacer con String es cambiar a mayúsculas en un String."
      ]
    },
    {
      "cell_type": "code",
      "metadata": {
        "id": "m7LLYQZRev5f",
        "outputId": "f4fae73b-ab77-4fb0-ce4e-fc1658c47747",
        "colab": {
          "base_uri": "https://localhost:8080/",
          "height": 34
        }
      },
      "source": [
        "nombre = \"jahaziel ponce\"\n",
        "\n",
        "print(nombre.title())"
      ],
      "execution_count": null,
      "outputs": [
        {
          "output_type": "stream",
          "text": [
            "Jahaziel Ponce\n"
          ],
          "name": "stdout"
        }
      ]
    },
    {
      "cell_type": "markdown",
      "metadata": {
        "id": "VOUJuq1jfnjO"
      },
      "source": [
        "En este ejemplo, la variable `nombre` se refiere al String en minúscula `\"jahaziel ponce\"`. El método `title()` aparece despues de la variable en la llamada `print()`.\n",
        "\n",
        "Un *método* es una acción que Python puede realizar en una pieza de datos. El punto (`.`) después de `nombre` en `nombre.title()` le dice a Python que el método `title()` actue sobre la variable `nombre`.\n",
        "\n",
        "Cada método es seguido por un paréntesis, porque a menudo necesitan información adicional, o parámetros, para hacer su trabajo. Esas informaciones se proporcionan dentro de los paréntesis. El método `title()` no necesita ninguna información adicional, por lo que el paréntesis está vacio.\n",
        "\n",
        "El método `title()` se utiliza para convertir el primer caracter de una palabra a mayúsculas y los caracteres restantes a minúsculas."
      ]
    },
    {
      "cell_type": "markdown",
      "metadata": {
        "id": "VsBH2Y1Ghx_P"
      },
      "source": [
        "Hay varios métodos útiles disponibles, por ejemplo, cambiar todos los caracteres de un String en mayúsculas o minúsculas"
      ]
    },
    {
      "cell_type": "code",
      "metadata": {
        "id": "VUnGsDXRfir1"
      },
      "source": [
        "nombre = \"Jahaziel Ponce\""
      ],
      "execution_count": null,
      "outputs": []
    },
    {
      "cell_type": "code",
      "metadata": {
        "id": "4msAjoN3iCWW",
        "outputId": "8e7e9a79-986d-4c0c-d554-5fea2446c367",
        "colab": {
          "base_uri": "https://localhost:8080/",
          "height": 34
        }
      },
      "source": [
        "print(nombre.upper())"
      ],
      "execution_count": null,
      "outputs": [
        {
          "output_type": "stream",
          "text": [
            "JAHAZIEL PONCE\n"
          ],
          "name": "stdout"
        }
      ]
    },
    {
      "cell_type": "code",
      "metadata": {
        "id": "86XLqUMXiFxt",
        "outputId": "e7785038-5da8-4872-edf3-da525ddd852f",
        "colab": {
          "base_uri": "https://localhost:8080/",
          "height": 34
        }
      },
      "source": [
        "print(nombre.lower())"
      ],
      "execution_count": null,
      "outputs": [
        {
          "output_type": "stream",
          "text": [
            "jahaziel ponce\n"
          ],
          "name": "stdout"
        }
      ]
    },
    {
      "cell_type": "markdown",
      "metadata": {
        "id": "ipnQ9R3eiV6F"
      },
      "source": [
        "El método `lower()` es útil para guardar datos. Con este método aseguramos que todos los caracteres sean siempre en minúsculas, independientemente de si los usuarios escriben con mayúsculas o minúsculas"
      ]
    },
    {
      "cell_type": "markdown",
      "metadata": {
        "id": "WO42lhAji5lt"
      },
      "source": [
        "### Usando variables en String\n",
        "\n",
        "En algunas situaciones, querremos usar el valor de una variable dentro de un String.\n",
        "\n",
        "Por ejemplo, supongamos que queremos guardar el nombre en una variable y el apellido en otra, pero queremos mostrar un mensaje con el nombre completo:"
      ]
    },
    {
      "cell_type": "code",
      "metadata": {
        "id": "Bi9G1dwoiI7T"
      },
      "source": [
        "nombre = \"jahaziel\"\n",
        "\n",
        "apellido = \"ponce\""
      ],
      "execution_count": null,
      "outputs": []
    },
    {
      "cell_type": "markdown",
      "metadata": {
        "id": "q4uzyp1Sjvx4"
      },
      "source": [
        "Si queremos insertar el valor de una variable en un string, tenemos que agregar la letra `f` inmediatamente antes de la comilla de apertura. Luego, tenemos que colocar `{}` alrededor del nombre o nombres de las variables que deseemos usar dentro del string. Python reemplazará cada variable con su valor cuando se muestre el String. Veamos:"
      ]
    },
    {
      "cell_type": "code",
      "metadata": {
        "id": "_OGwMXnijWsP"
      },
      "source": [
        "nombre_completo = f\"{nombre} {apellido}\""
      ],
      "execution_count": null,
      "outputs": []
    },
    {
      "cell_type": "code",
      "metadata": {
        "id": "ZtRMy2gjjdv9",
        "outputId": "497fad51-756b-4f30-c753-49cec1d04b57",
        "colab": {
          "base_uri": "https://localhost:8080/",
          "height": 34
        }
      },
      "source": [
        "print(nombre_completo)"
      ],
      "execution_count": null,
      "outputs": [
        {
          "output_type": "stream",
          "text": [
            "jahaziel ponce\n"
          ],
          "name": "stdout"
        }
      ]
    },
    {
      "cell_type": "markdown",
      "metadata": {
        "id": "uxyLvZbVkYfF"
      },
      "source": [
        "Estos String se llaman *f-strings*. *f* es para el formato, porque Python formatea el String reemplazando el nombre de cualquier variable entre llaves con su valor.\n",
        "\n",
        "Podemos hacer muchas cosas con *f-strings*. Por ejemplo, podemos usar *f-strings* para componer mensajes completos:"
      ]
    },
    {
      "cell_type": "code",
      "metadata": {
        "id": "sUlPxCk7jih9",
        "outputId": "b0afc472-7213-4bb2-be2a-9980f4d36062",
        "colab": {
          "base_uri": "https://localhost:8080/",
          "height": 34
        }
      },
      "source": [
        "print(f\"!Hola, {nombre_completo.title()}!\")"
      ],
      "execution_count": null,
      "outputs": [
        {
          "output_type": "stream",
          "text": [
            "!Hola, Jahaziel Ponce!\n"
          ],
          "name": "stdout"
        }
      ]
    },
    {
      "cell_type": "markdown",
      "metadata": {
        "id": "RUeo5ioyv3FK"
      },
      "source": [
        "El nombre completo se usa en la oración que salida al usuario y el método `title()` cambia el nombre a mayúscula.\n",
        "\n",
        "También podemos usar f-strings para componer un mensaje, y asignar este mensaje a una variable."
      ]
    },
    {
      "cell_type": "code",
      "metadata": {
        "id": "0sHekmjejpe2"
      },
      "source": [
        "mensaje = f\"¡Hola, {nombre_completo.title()}!\""
      ],
      "execution_count": null,
      "outputs": []
    },
    {
      "cell_type": "code",
      "metadata": {
        "id": "cLmGR1DtwKQm",
        "outputId": "7c0dfd6b-d53b-4490-dc39-417c704dc4ec",
        "colab": {
          "base_uri": "https://localhost:8080/",
          "height": 34
        }
      },
      "source": [
        "print(mensaje)"
      ],
      "execution_count": null,
      "outputs": [
        {
          "output_type": "stream",
          "text": [
            "¡Hola, Jahaziel Ponce!\n"
          ],
          "name": "stdout"
        }
      ]
    },
    {
      "cell_type": "markdown",
      "metadata": {
        "id": "bs8VwwNgwQd1"
      },
      "source": [
        "El código muestra el mensaje `¡Hola, Jahaziel Ponce!` y lo almacena en la variable `mensaje`"
      ]
    },
    {
      "cell_type": "markdown",
      "metadata": {
        "id": "AKQ4vzrXwiHC"
      },
      "source": [
        "### Agregando espacios, tabulaciones o líneas nuevas en un String\n",
        "\n",
        "En programación, el espacio en blando se refiere a cualquier caracter no imprimible, como espacios, tabulaciones y símbolos de fin de línea.\n",
        "\n",
        "Podemos usar espacios en blanco para organizar nuestra salida para que sea de facil lectura.\n",
        "\n",
        "Para agregar una tabulación a nuestro texto, usamos la combinacón de caracteres `\"\\t\"`. Veamos:"
      ]
    },
    {
      "cell_type": "code",
      "metadata": {
        "id": "6eo80pHPwLJe",
        "outputId": "7c951d1b-bad8-432a-d0a9-6b697092b723",
        "colab": {
          "base_uri": "https://localhost:8080/",
          "height": 34
        }
      },
      "source": [
        "print(\"Python\")"
      ],
      "execution_count": null,
      "outputs": [
        {
          "output_type": "stream",
          "text": [
            "Python\n"
          ],
          "name": "stdout"
        }
      ]
    },
    {
      "cell_type": "code",
      "metadata": {
        "id": "w2A5mwhQxeOf",
        "outputId": "d313b9c3-7f24-42e9-8393-5484dfc739bc",
        "colab": {
          "base_uri": "https://localhost:8080/",
          "height": 34
        }
      },
      "source": [
        "print(\"\\tPython\")"
      ],
      "execution_count": null,
      "outputs": [
        {
          "output_type": "stream",
          "text": [
            "\tPython\n"
          ],
          "name": "stdout"
        }
      ]
    },
    {
      "cell_type": "markdown",
      "metadata": {
        "id": "KVJ7iCrYxh8u"
      },
      "source": [
        "Si queremos añadir una nueva línea en un String, usamos la combinación de caracteres `\"\\n\"`. Por ejemplo:"
      ]
    },
    {
      "cell_type": "code",
      "metadata": {
        "id": "Yb7D5cnfxfum",
        "outputId": "81052827-b7f2-425d-911d-119c19162f8b",
        "colab": {
          "base_uri": "https://localhost:8080/",
          "height": 84
        }
      },
      "source": [
        "print(\"Lenguajes:\\nPython\\nC\\nJavaScript\")"
      ],
      "execution_count": null,
      "outputs": [
        {
          "output_type": "stream",
          "text": [
            "Lenguajes:\n",
            "Python\n",
            "C\n",
            "JavaScript\n"
          ],
          "name": "stdout"
        }
      ]
    },
    {
      "cell_type": "markdown",
      "metadata": {
        "id": "4V4ooc0wx2m5"
      },
      "source": [
        "Podemos combinar tabulaciones y nuevas líneas en un simple String. Por ejemplo, el String `\"\\n\\t\"` le dice a Python que mueva una línea y empiece la siguiente línea con una tabulación. Veamos:"
      ]
    },
    {
      "cell_type": "code",
      "metadata": {
        "id": "FpD5LofQxy_T",
        "outputId": "2270e52c-2ecb-4a9a-e1c6-f6f787be0774",
        "colab": {
          "base_uri": "https://localhost:8080/",
          "height": 84
        }
      },
      "source": [
        "print(\"Lenguajes:\\n\\tPython\\n\\tC\\n\\tJavaScript\")"
      ],
      "execution_count": null,
      "outputs": [
        {
          "output_type": "stream",
          "text": [
            "Lenguajes:\n",
            "\tPython\n",
            "\tC\n",
            "\tJavaScript\n"
          ],
          "name": "stdout"
        }
      ]
    },
    {
      "cell_type": "markdown",
      "metadata": {
        "id": "J7Qi3ouZyP0l"
      },
      "source": [
        "### Eliminar espacios en blanco\n",
        "\n",
        "Los espacios en blanco adicionales pueden ser confusos en nuestros programas. Por ejemplo, puede que para nosotros `'python'` y `'python '` se vean más o menos igual, pero para un programa estos son diferentes. Python detecta el espacio extra en `'python '` y lo considera significativo.\n",
        "\n",
        "Es importante pensar en los espacios en blanco, ya que a menudo vamos a querer comparar dos String para determinar si son iguales. Por ejemplo, si queremos verificar los nombres de usuarios cuando inician sesión en una página web.\n",
        "\n",
        "Si, por ejemplo, queremos asegurarnos de que no existan espacios en blanco en el extremo derecho de un String, usamos el método `rstrip`. Veamos:"
      ]
    },
    {
      "cell_type": "code",
      "metadata": {
        "id": "Jy9N75z0yKbt",
        "outputId": "6e5812d6-6e30-44b8-c8a1-fb6b06dcb581",
        "colab": {
          "base_uri": "https://localhost:8080/",
          "height": 35
        }
      },
      "source": [
        "lenguaje_favorito = \"python \"\n",
        "lenguaje_favorito"
      ],
      "execution_count": null,
      "outputs": [
        {
          "output_type": "execute_result",
          "data": {
            "application/vnd.google.colaboratory.intrinsic+json": {
              "type": "string"
            },
            "text/plain": [
              "'python '"
            ]
          },
          "metadata": {
            "tags": []
          },
          "execution_count": 33
        }
      ]
    },
    {
      "cell_type": "code",
      "metadata": {
        "id": "Yxb0UQAR4p8t",
        "outputId": "fc263849-e2be-4555-931d-d4405e8e4b64",
        "colab": {
          "base_uri": "https://localhost:8080/",
          "height": 35
        }
      },
      "source": [
        "lenguaje_favorito.rstrip()"
      ],
      "execution_count": null,
      "outputs": [
        {
          "output_type": "execute_result",
          "data": {
            "application/vnd.google.colaboratory.intrinsic+json": {
              "type": "string"
            },
            "text/plain": [
              "'python'"
            ]
          },
          "metadata": {
            "tags": []
          },
          "execution_count": 34
        }
      ]
    },
    {
      "cell_type": "markdown",
      "metadata": {
        "id": "ugcMyx284-oY"
      },
      "source": [
        "El valor asociado con `lenguaje_favorito` contiene espacios en blanco adicionales al final del String.\n",
        "El método `rstrip()` actua sobre la variable `lenguaje_favorito` y el espacio extra se elimina. Pero solo es temporal, ya que la variable original sigue con el espacio en blanco"
      ]
    },
    {
      "cell_type": "code",
      "metadata": {
        "id": "1rmjseUP4uxz",
        "outputId": "5914d245-2681-408f-84ea-e2d8c378563c",
        "colab": {
          "base_uri": "https://localhost:8080/",
          "height": 35
        }
      },
      "source": [
        "lenguaje_favorito"
      ],
      "execution_count": null,
      "outputs": [
        {
          "output_type": "execute_result",
          "data": {
            "application/vnd.google.colaboratory.intrinsic+json": {
              "type": "string"
            },
            "text/plain": [
              "'python '"
            ]
          },
          "metadata": {
            "tags": []
          },
          "execution_count": 35
        }
      ]
    },
    {
      "cell_type": "markdown",
      "metadata": {
        "id": "I_R-dWSg5cWo"
      },
      "source": [
        "Para eliminar el espacio en blanco del String de forma permanente, tenemos que asociar el valor eliminado con el nombre de la variable.\n",
        "\n",
        "Por ejemplo, tenemos la variable `lenguaje_favorito`, este tiene un espacio en blanco a la derecha y queremos eliminarlo; usamos el método `rstrip()` y lo almacenamos en la misma variable:"
      ]
    },
    {
      "cell_type": "code",
      "metadata": {
        "id": "0hdn6SdI5bJr",
        "outputId": "2daf1f0a-145d-4a49-fd82-f1f497a22218",
        "colab": {
          "base_uri": "https://localhost:8080/",
          "height": 35
        }
      },
      "source": [
        "lenguaje_favorito = \"python \"\n",
        "\n",
        "lenguaje_favorito = lenguaje_favorito.rstrip()\n",
        "\n",
        "lenguaje_favorito"
      ],
      "execution_count": null,
      "outputs": [
        {
          "output_type": "execute_result",
          "data": {
            "application/vnd.google.colaboratory.intrinsic+json": {
              "type": "string"
            },
            "text/plain": [
              "'python'"
            ]
          },
          "metadata": {
            "tags": []
          },
          "execution_count": 36
        }
      ]
    },
    {
      "cell_type": "markdown",
      "metadata": {
        "id": "3Zf2oare50Mt"
      },
      "source": [
        "Ahora la variable `lenguaje_favorito` no tiene espacios en blanco a la derecha.\n",
        "\n",
        "Cambiar el valor de una variable se realiza a menudo en programación.\n",
        "\n",
        "\n",
        "Si queremos eliminar espacios en blanco al lado izquiero de un String usammos el método `lstrip()` y para quitar los espacios en blanco en ambos lados a la vez usamos el método `strip()`"
      ]
    },
    {
      "cell_type": "code",
      "metadata": {
        "id": "tGVOjawc5psa",
        "outputId": "4507f535-0f9e-47d1-bbb7-4efd4244fae5",
        "colab": {
          "base_uri": "https://localhost:8080/",
          "height": 35
        }
      },
      "source": [
        "lenguaje_favorito = ' python '\n",
        "\n",
        "# Eliminando espacios en blanco al lado derecho\n",
        "lenguaje_favorito.rstrip()"
      ],
      "execution_count": null,
      "outputs": [
        {
          "output_type": "execute_result",
          "data": {
            "application/vnd.google.colaboratory.intrinsic+json": {
              "type": "string"
            },
            "text/plain": [
              "' python'"
            ]
          },
          "metadata": {
            "tags": []
          },
          "execution_count": 37
        }
      ]
    },
    {
      "cell_type": "code",
      "metadata": {
        "id": "mU_o1yi36P1q",
        "outputId": "16973c1a-2eb3-424f-9142-bd64c4bcf179",
        "colab": {
          "base_uri": "https://localhost:8080/",
          "height": 35
        }
      },
      "source": [
        "# Eliminando espacios en blanco al lado izquierdo\n",
        "lenguaje_favorito.lstrip()"
      ],
      "execution_count": null,
      "outputs": [
        {
          "output_type": "execute_result",
          "data": {
            "application/vnd.google.colaboratory.intrinsic+json": {
              "type": "string"
            },
            "text/plain": [
              "'python '"
            ]
          },
          "metadata": {
            "tags": []
          },
          "execution_count": 38
        }
      ]
    },
    {
      "cell_type": "code",
      "metadata": {
        "id": "b--XKcuI6Rei",
        "outputId": "663f9309-0b52-4ed1-ce08-6274b4ba089a",
        "colab": {
          "base_uri": "https://localhost:8080/",
          "height": 35
        }
      },
      "source": [
        "# Eliminando espacios en blanco en ambos lados\n",
        "lenguaje_favorito.strip()"
      ],
      "execution_count": null,
      "outputs": [
        {
          "output_type": "execute_result",
          "data": {
            "application/vnd.google.colaboratory.intrinsic+json": {
              "type": "string"
            },
            "text/plain": [
              "'python'"
            ]
          },
          "metadata": {
            "tags": []
          },
          "execution_count": 39
        }
      ]
    },
    {
      "cell_type": "markdown",
      "metadata": {
        "id": "ziWHvzTW6dv4"
      },
      "source": [
        "### Evitando errores de sintaxis con String\n",
        "\n",
        "Un error común cuando trabajamos con Strings en Python son los errores de Sintaxis. Un error de sintaxis se produce cuando Python no reconoce una sección de su programa como código válido.\n",
        "\n",
        "Si, por ejemplo, usamos un apóstrofe entre comillas simples, generará un error. Esto sucede porque Python interpreta todo lo que está entre la comilla simple y el apóstrofe como un string. Al intentar interpretar el resto del texto como código Python, causará error.\n",
        "\n",
        "Veamos cómo usar comillas simples y dobles correctamente:"
      ]
    },
    {
      "cell_type": "code",
      "metadata": {
        "id": "RPbTXsyR6TYy",
        "outputId": "f1da4839-cff3-44d5-bb88-6aaffb3d8ec9",
        "colab": {
          "base_uri": "https://localhost:8080/",
          "height": 34
        }
      },
      "source": [
        "mensaje = \"Mi nombre completo es: 'Jahaziel Ponce'\"\n",
        "print(mensaje)"
      ],
      "execution_count": null,
      "outputs": [
        {
          "output_type": "stream",
          "text": [
            "Mi nombre completo es: 'Jahaziel Ponce'\n"
          ],
          "name": "stdout"
        }
      ]
    },
    {
      "cell_type": "markdown",
      "metadata": {
        "id": "umsHMiRB7fq9"
      },
      "source": [
        "Las comillas simples aparecen dentro de las comillas dobles, por lo que Python no tiene problemas para leer el String correctamente.\n",
        "\n",
        "Pero veamos el siguiente ejemplo:"
      ]
    },
    {
      "cell_type": "code",
      "metadata": {
        "id": "1TmBgHNh7dY8",
        "outputId": "097ee06c-1881-4f6f-fa2f-d0be09f73f4e",
        "colab": {
          "base_uri": "https://localhost:8080/",
          "height": 128
        }
      },
      "source": [
        "mensaje = 'Mi nombre completo es : 'Jahaziel Ponce''\n",
        "print(mensaje)"
      ],
      "execution_count": null,
      "outputs": [
        {
          "output_type": "error",
          "ename": "SyntaxError",
          "evalue": "ignored",
          "traceback": [
            "\u001b[0;36m  File \u001b[0;32m\"<ipython-input-41-c09f2acd9e5b>\"\u001b[0;36m, line \u001b[0;32m1\u001b[0m\n\u001b[0;31m    mensaje = 'Mi nombre completo es : 'Jahaziel Ponce''\u001b[0m\n\u001b[0m                                               ^\u001b[0m\n\u001b[0;31mSyntaxError\u001b[0m\u001b[0;31m:\u001b[0m invalid syntax\n"
          ]
        }
      ]
    },
    {
      "cell_type": "markdown",
      "metadata": {
        "id": "Q9HSNUHE9C7E"
      },
      "source": [
        "Se puede ver que el error ocurre en la primera línea, justo después de la segunda comilla simple. Este error de sintaxis indica que el intérprete no reconoce algo en el código como código Python válido."
      ]
    }
  ]
}