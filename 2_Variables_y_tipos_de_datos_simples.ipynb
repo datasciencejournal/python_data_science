{
  "nbformat": 4,
  "nbformat_minor": 0,
  "metadata": {
    "colab": {
      "name": "2 Variables y tipos de datos simples.ipynb",
      "provenance": [],
      "collapsed_sections": [],
      "toc_visible": true,
      "include_colab_link": true
    },
    "kernelspec": {
      "name": "python3",
      "display_name": "Python 3"
    }
  },
  "cells": [
    {
      "cell_type": "markdown",
      "metadata": {
        "id": "view-in-github",
        "colab_type": "text"
      },
      "source": [
        "<a href=\"https://colab.research.google.com/github/datasciencejournal/python_data_science/blob/main/2_Variables_y_tipos_de_datos_simples.ipynb\" target=\"_parent\"><img src=\"https://colab.research.google.com/assets/colab-badge.svg\" alt=\"Open In Colab\"/></a>"
      ]
    },
    {
      "cell_type": "markdown",
      "metadata": {
        "id": "zY8TM0CK5LhT"
      },
      "source": [
        "# Variables y tipos de datos simples\n",
        "\n",
        "En esta sección vamos a aprender:\n",
        "* Distintos tipos de datos que podemos trabajar en nuestros programas de Python.\n",
        "* Cómo usar las variables para representar los datos en nuestros programas"
      ]
    },
    {
      "cell_type": "markdown",
      "metadata": {
        "id": "9RKBBjTn5Tsv"
      },
      "source": [
        "## Variables\n",
        "\n",
        "Una variable es un sitio donde vamos a guardar determinada información. Dependiendo del tipo de información que guardemos (texto, números, etc), la variable puede ser de uno y otro tipo. \n",
        "\n",
        "Pensemos las variables como etiquetas que se puede asignar valores. También podemos decir que una variable hace referencia a un cierto valor.\n",
        "\n",
        "Empecemos creando nuestra variable `mensaje`"
      ]
    },
    {
      "cell_type": "code",
      "metadata": {
        "id": "iWera_HA30sD"
      },
      "source": [
        "mensaje = \"Bienvenidos al mundo de Python\""
      ],
      "execution_count": 1,
      "outputs": []
    },
    {
      "cell_type": "code",
      "metadata": {
        "id": "yomgbU0U5B9c",
        "outputId": "bed33028-41f8-4206-e860-be5ca6d469b0",
        "colab": {
          "base_uri": "https://localhost:8080/",
          "height": 34
        }
      },
      "source": [
        "print(mensaje)"
      ],
      "execution_count": 2,
      "outputs": [
        {
          "output_type": "stream",
          "text": [
            "Bienvenidos al mundo de Python\n"
          ],
          "name": "stdout"
        }
      ]
    },
    {
      "cell_type": "markdown",
      "metadata": {
        "id": "5xSUiitD5iGC"
      },
      "source": [
        "En el script anterior hemos añadido una *variable* llamada `mensaje` Cada variable está conectada a un *valor*, el cual es la información asociada a la variable. En este caso el valor es el texto `\"Bienvenidos al mundo de Python\"`\n"
      ]
    },
    {
      "cell_type": "code",
      "metadata": {
        "id": "HM2kEz6-5NnF",
        "outputId": "9b918d59-0550-49aa-abeb-f9566fe7cd45",
        "colab": {
          "base_uri": "https://localhost:8080/",
          "height": 34
        }
      },
      "source": [
        "mensaje = \"Bienvenidos al mundo de Python\"\n",
        "print(mensaje)"
      ],
      "execution_count": 3,
      "outputs": [
        {
          "output_type": "stream",
          "text": [
            "Bienvenidos al mundo de Python\n"
          ],
          "name": "stdout"
        }
      ]
    },
    {
      "cell_type": "markdown",
      "metadata": {
        "id": "cn2jcwj17gyr"
      },
      "source": [
        "En la primera línea, hemos asociado la variable `mensaje` con el texto `\"Bienvenidos al mundo de Python\"`. Cuando llega a la segunda línea, estamos imprimiendo el valor asociado con la variable `mensaje`."
      ]
    },
    {
      "cell_type": "markdown",
      "metadata": {
        "id": "OcxEAh5LkMdw"
      },
      "source": [
        "Si deseamos, podemos cambiar el valor de la variable en cualquier momento, solo que Python mantendrá el valor actual. Veamos: "
      ]
    },
    {
      "cell_type": "code",
      "metadata": {
        "id": "fk3oEl9l7gIv",
        "outputId": "61479f3b-d579-4363-e542-3f5242c72228",
        "colab": {
          "base_uri": "https://localhost:8080/",
          "height": 50
        }
      },
      "source": [
        "mensaje = \"Bienvenidos al mundo de Python\"\n",
        "print(mensaje)\n",
        "\n",
        "mensaje = \"Mundo de Python - bienvenidos\"\n",
        "print(mensaje)"
      ],
      "execution_count": 4,
      "outputs": [
        {
          "output_type": "stream",
          "text": [
            "Bienvenidos al mundo de Python\n",
            "Mundo de Python - bienvenidos\n"
          ],
          "name": "stdout"
        }
      ]
    },
    {
      "cell_type": "markdown",
      "metadata": {
        "id": "PvrUlOXj74sO"
      },
      "source": [
        "Empezamos asociando nuestra variable `mensaje` con el texto `\"Bienvenidos al mundo de Python\"`, pero luego hemos cambiado el valor de esta variable con el texto `\"Mundo de Python - bienvenidos\"`. Python olvida el valor anterior y guarda el nuevo valor. Veamos qué pasa si imprimimos de nuevo la variable `mensaje`."
      ]
    },
    {
      "cell_type": "code",
      "metadata": {
        "id": "zbOCilAU715X",
        "outputId": "63e75641-b74f-4a6f-84b8-f53e3b40cc07",
        "colab": {
          "base_uri": "https://localhost:8080/",
          "height": 34
        }
      },
      "source": [
        "print(mensaje)"
      ],
      "execution_count": 5,
      "outputs": [
        {
          "output_type": "stream",
          "text": [
            "Mundo de Python - bienvenidos\n"
          ],
          "name": "stdout"
        }
      ]
    },
    {
      "cell_type": "markdown",
      "metadata": {
        "id": "BEB1vkSe84uW"
      },
      "source": [
        "### Consejos para nombrar y usar variables\n",
        "\n",
        "A continuación indicamos algunas reglas y pautas que debemos cumplir cuando creamos variables. Si rompemos algunas de estas reglas puede que empiecen a aparecer errores.\n",
        "\n",
        "* Los nombres de las variables solo pueden contener letras, números y guiones bajos. Pueden comenzar con una letra o un guión bajo, pero no con un número. Veamos con el siguiente ejemplo ¿Puede detectar el error?\n"
      ]
    },
    {
      "cell_type": "code",
      "metadata": {
        "id": "V-Sgg-588HFd",
        "outputId": "ad73345d-8e83-4606-f454-4d7a31593d2e",
        "colab": {
          "base_uri": "https://localhost:8080/",
          "height": 34
        }
      },
      "source": [
        "mensaje_1 = 'Hola a todos'\n",
        "print(mensaje_1)"
      ],
      "execution_count": 6,
      "outputs": [
        {
          "output_type": "stream",
          "text": [
            "Hola a todos\n"
          ],
          "name": "stdout"
        }
      ]
    },
    {
      "cell_type": "code",
      "metadata": {
        "id": "3MnZIGMa9X1H",
        "outputId": "9759d47d-b960-4927-e24b-a452e8781351",
        "colab": {
          "base_uri": "https://localhost:8080/",
          "height": 128
        }
      },
      "source": [
        "1_mensaje = 'Hola de nuevo'\n",
        "print(1_mensaje)"
      ],
      "execution_count": 7,
      "outputs": [
        {
          "output_type": "error",
          "ename": "SyntaxError",
          "evalue": "ignored",
          "traceback": [
            "\u001b[0;36m  File \u001b[0;32m\"<ipython-input-7-259854279a68>\"\u001b[0;36m, line \u001b[0;32m1\u001b[0m\n\u001b[0;31m    1_mensaje = 'Hola de nuevo'\u001b[0m\n\u001b[0m     ^\u001b[0m\n\u001b[0;31mSyntaxError\u001b[0m\u001b[0;31m:\u001b[0m invalid token\n"
          ]
        }
      ]
    },
    {
      "cell_type": "markdown",
      "metadata": {
        "id": "SxNnAd0d9cRW"
      },
      "source": [
        "* No se permiten espacios en los nombres de las variables, se pueden usar guiones bajos para separar palabras en nombres de variables. Veamos el siguiente ejemplo, ¿Puede detectar el error?"
      ]
    },
    {
      "cell_type": "code",
      "metadata": {
        "id": "VoIWNcFf9a3t"
      },
      "source": [
        "mensaje saludo = \"mensaje de saludo\"\n",
        "print(mensaje saludo)"
      ],
      "execution_count": null,
      "outputs": []
    },
    {
      "cell_type": "code",
      "metadata": {
        "id": "5c-Qo4GC9rYW"
      },
      "source": [
        "mensaje_saludo = \"mensaje de saludo\"\n",
        "print(mensaje_saludo)"
      ],
      "execution_count": null,
      "outputs": []
    },
    {
      "cell_type": "markdown",
      "metadata": {
        "id": "-daV8qwK93Cp"
      },
      "source": [
        "* Evitemos usar palabras clave y nombre de funciones reservadas por Python como nombres de nuestras variables. Por ejemplo, ¿Qué pasa si usamos como variable la palabra clave reservada por Python `print`?"
      ]
    },
    {
      "cell_type": "code",
      "metadata": {
        "id": "1trpm2zz9udV"
      },
      "source": [
        "print = 'prueba'\n",
        "print(print)"
      ],
      "execution_count": null,
      "outputs": []
    },
    {
      "cell_type": "markdown",
      "metadata": {
        "id": "fQe3qGUcmmCi"
      },
      "source": [
        "(Si queremos eliminar una variable, podemos usar `del` antes de la variable que queremos eliminar)"
      ]
    },
    {
      "cell_type": "code",
      "metadata": {
        "id": "nTLH2Y43-REP"
      },
      "source": [
        "del print"
      ],
      "execution_count": null,
      "outputs": []
    },
    {
      "cell_type": "markdown",
      "metadata": {
        "id": "AZKXp1e6-cY1"
      },
      "source": [
        "* Nombres de variables deben ser cortos pero descriptivos. Probemos creando variables que tienen el mismo valor, ¿Qué nombres de variables creen que son útiles?"
      ]
    },
    {
      "cell_type": "code",
      "metadata": {
        "id": "zPjidjV3-YgF"
      },
      "source": [
        "# Creando distintas variables\n",
        "nombre = \"Jahaziel\"\n",
        "n = \"Jahaziel\"\n",
        "nombre_estudiante = \"Jahaziel\"\n",
        "n_e = \"Jahaziel\"\n",
        "longitud_nombre = len(nombre)\n",
        "longitud_del_nombre_de_la_persona = len(nombre)\n",
        "\n",
        "\n",
        "print(nombre)\n",
        "print(n)\n",
        "print(nombre_estudiante)\n",
        "print(n_e)\n",
        "print(longitud_nombre)\n",
        "print(longitud_del_nombre_de_la_persona)"
      ],
      "execution_count": null,
      "outputs": []
    },
    {
      "cell_type": "markdown",
      "metadata": {
        "id": "rqg-KGud-rg_"
      },
      "source": [
        "* Tener cuidado al usar la letra minúscula `i` y la letra mayúscula `O`, puede confundir con los números 1 y 0.\n",
        "\n",
        "Puede tomar algo de práctica aprender cómo crear buenos nombres de variables, pero la práctica hace al maestro ;)"
      ]
    },
    {
      "cell_type": "markdown",
      "metadata": {
        "id": "n6f_cn10_2gv"
      },
      "source": [
        "### Evitando errores de nombres al usar variables\n",
        "Es común que a la hora de programar cometamos errores, por lo que es necesario poder reconocer y responder a estos errores de manera eficiente.\n",
        "Veamos un error común cuando se empieza a programar en Python e intentemos solucionarlo."
      ]
    },
    {
      "cell_type": "code",
      "metadata": {
        "id": "vw07hH1i-1vL"
      },
      "source": [
        "mensaje = \"Hola al curso de Python!!!\"\n",
        "print(mesaje)"
      ],
      "execution_count": null,
      "outputs": []
    },
    {
      "cell_type": "markdown",
      "metadata": {
        "id": "ObHnVw1HGKk7"
      },
      "source": [
        "Cuando ocurre un error en el programa, Python intenta descubrir donde está el problema. El intérprete proporciona un rastreo cuando el programa no puede ejecutarse con éxito. Un rastreo es un registro de donde el intérprete tuvo problemas al intentar ejecutar el código.\n",
        "\n",
        "En este ejemplo, Python nos informa que se produce un error en la línea `2`. Python muestra esta línea `--->` para ayudarnos a detectar el error y nos dice qué tipo de error encontró. En este caso encontró un error *en el nombre de la variable* y nos informa que la variable `mesaje` no ha sido definido.\n",
        "\n",
        "Este es un tipo de error común. Puede que cometamos un error ortográfico o que nos olvidemos de establecer el valor de una variable antes de usarla.\n",
        "\n",
        "Vamos a corregir este error:"
      ]
    },
    {
      "cell_type": "code",
      "metadata": {
        "id": "vfvy75E8F_PJ"
      },
      "source": [
        "mesaje = \"Hola al curso de Python!!!\"\n",
        "print(mesaje)"
      ],
      "execution_count": null,
      "outputs": []
    },
    {
      "cell_type": "markdown",
      "metadata": {
        "id": "LfR-UgFqbdzu"
      },
      "source": [
        "¡Ha funcionado correctamente!"
      ]
    },
    {
      "cell_type": "markdown",
      "metadata": {
        "id": "Qf2obNMUdXBJ"
      },
      "source": [
        "## Strings\n",
        "\n",
        "El primer tipo de datos que vamos a ver son los Strings o cadenas. Los strings son bastantes simples a primera vista, pero podemos usarlos de muchas maneras diferentes.\n",
        "\n",
        "Un String es una serie de caracteres. Cualquier cosa dentro de comillas (`\"\"`). Podemos usar tanto comillas simples o apóstrofes (`''`) o comillas dobles.\n",
        "\n",
        "Veamos los siguientes ejemplos:"
      ]
    },
    {
      "cell_type": "code",
      "metadata": {
        "id": "SBxbYMYjbGQ4"
      },
      "source": [
        "\"Esto es un String\""
      ],
      "execution_count": null,
      "outputs": []
    },
    {
      "cell_type": "code",
      "metadata": {
        "id": "ZWdI2J_VeGrQ"
      },
      "source": [
        "'Esto también es un String'"
      ],
      "execution_count": null,
      "outputs": []
    },
    {
      "cell_type": "markdown",
      "metadata": {
        "id": "pgE40uG_eQo2"
      },
      "source": [
        "Podemos usar comillas y apóstrofes dentro de nuestros Strings"
      ]
    },
    {
      "cell_type": "code",
      "metadata": {
        "id": "muHnwD4DeLkQ"
      },
      "source": [
        "' Como decía mi amigo \"Python es mi lenguaje favorito\" '"
      ],
      "execution_count": null,
      "outputs": []
    },
    {
      "cell_type": "code",
      "metadata": {
        "id": "E5GFIoJ_eltE"
      },
      "source": [
        "\"El lenguaje 'Python' lleva el nombre de 'Monty Python' no de la serpiente\""
      ],
      "execution_count": null,
      "outputs": []
    },
    {
      "cell_type": "markdown",
      "metadata": {
        "id": "mqHMSohxeyfx"
      },
      "source": [
        "### Cambiando de mayúsculas y minúsculas en un String con métodos\n",
        "\n",
        "Una de las tareas simples que podemos hacer con String es cambiar a mayúsculas en un String."
      ]
    },
    {
      "cell_type": "code",
      "metadata": {
        "id": "m7LLYQZRev5f"
      },
      "source": [
        "nombre = \"jahaziel ponce\"\n",
        "\n",
        "print(nombre.title())"
      ],
      "execution_count": null,
      "outputs": []
    },
    {
      "cell_type": "markdown",
      "metadata": {
        "id": "VOUJuq1jfnjO"
      },
      "source": [
        "En este ejemplo, la variable `nombre` se refiere al String en minúscula `\"jahaziel ponce\"`. El método `title()` aparece despues de la variable en la llamada `print()`.\n",
        "\n",
        "Un *método* es una acción que Python puede realizar en una pieza de datos. El punto (`.`) después de `nombre` en `nombre.title()` le dice a Python que el método `title()` actue sobre la variable `nombre`.\n",
        "\n",
        "Cada método es seguido por un paréntesis, porque a menudo necesitan información adicional, o parámetros, para hacer su trabajo. Esas informaciones se proporcionan dentro de los paréntesis. El método `title()` no necesita ninguna información adicional, por lo que el paréntesis está vacio.\n",
        "\n",
        "El método `title()` se utiliza para convertir el primer caracter de una palabra a mayúsculas y los caracteres restantes a minúsculas."
      ]
    },
    {
      "cell_type": "markdown",
      "metadata": {
        "id": "VsBH2Y1Ghx_P"
      },
      "source": [
        "Hay varios métodos útiles disponibles, por ejemplo, cambiar todos los caracteres de un String en mayúsculas o minúsculas"
      ]
    },
    {
      "cell_type": "code",
      "metadata": {
        "id": "VUnGsDXRfir1"
      },
      "source": [
        "nombre = \"Jahaziel Ponce\""
      ],
      "execution_count": null,
      "outputs": []
    },
    {
      "cell_type": "code",
      "metadata": {
        "id": "4msAjoN3iCWW"
      },
      "source": [
        "print(nombre.upper())"
      ],
      "execution_count": null,
      "outputs": []
    },
    {
      "cell_type": "code",
      "metadata": {
        "id": "86XLqUMXiFxt"
      },
      "source": [
        "print(nombre.lower())"
      ],
      "execution_count": null,
      "outputs": []
    },
    {
      "cell_type": "markdown",
      "metadata": {
        "id": "ipnQ9R3eiV6F"
      },
      "source": [
        "El método `lower()` es útil para guardar datos. Con este método aseguramos que todos los caracteres sean siempre en minúsculas, independientemente de si los usuarios escriben con mayúsculas o minúsculas"
      ]
    },
    {
      "cell_type": "markdown",
      "metadata": {
        "id": "WO42lhAji5lt"
      },
      "source": [
        "### Usando variables en String\n",
        "\n",
        "En algunas situaciones, querremos usar el valor de una variable dentro de un String.\n",
        "\n",
        "Por ejemplo, supongamos que queremos guardar el nombre en una variable y el apellido en otra, pero queremos mostrar un mensaje con el nombre completo:"
      ]
    },
    {
      "cell_type": "code",
      "metadata": {
        "id": "Bi9G1dwoiI7T"
      },
      "source": [
        "nombre = \"jahaziel\"\n",
        "\n",
        "apellido = \"ponce\""
      ],
      "execution_count": null,
      "outputs": []
    },
    {
      "cell_type": "markdown",
      "metadata": {
        "id": "q4uzyp1Sjvx4"
      },
      "source": [
        "Si queremos insertar el valor de una variable en un string, tenemos que agregar la letra `f` inmediatamente antes de la comilla de apertura. Luego, tenemos que colocar `{}` alrededor del nombre o nombres de las variables que deseemos usar dentro del string. Python reemplazará cada variable con su valor cuando se muestre el String. Veamos:"
      ]
    },
    {
      "cell_type": "code",
      "metadata": {
        "id": "_OGwMXnijWsP"
      },
      "source": [
        "nombre_completo = f\"{nombre} {apellido}\""
      ],
      "execution_count": null,
      "outputs": []
    },
    {
      "cell_type": "code",
      "metadata": {
        "id": "ZtRMy2gjjdv9"
      },
      "source": [
        "print(nombre_completo)"
      ],
      "execution_count": null,
      "outputs": []
    },
    {
      "cell_type": "markdown",
      "metadata": {
        "id": "uxyLvZbVkYfF"
      },
      "source": [
        "Estos String se llaman *f-strings*. *f* es para el formato, porque Python formatea el String reemplazando el nombre de cualquier variable entre llaves con su valor.\n",
        "\n",
        "Podemos hacer muchas cosas con *f-strings*. Por ejemplo, podemos usar *f-strings* para componer mensajes completos:"
      ]
    },
    {
      "cell_type": "code",
      "metadata": {
        "id": "sUlPxCk7jih9"
      },
      "source": [
        "print(f\"!Hola, {nombre_completo.title()}!\")"
      ],
      "execution_count": null,
      "outputs": []
    },
    {
      "cell_type": "markdown",
      "metadata": {
        "id": "RUeo5ioyv3FK"
      },
      "source": [
        "El nombre completo se usa en la oración que salida al usuario y el método `title()` cambia el nombre a mayúscula.\n",
        "\n",
        "También podemos usar f-strings para componer un mensaje, y asignar este mensaje a una variable."
      ]
    },
    {
      "cell_type": "code",
      "metadata": {
        "id": "0sHekmjejpe2"
      },
      "source": [
        "mensaje = f\"¡Hola, {nombre_completo.title()}!\""
      ],
      "execution_count": null,
      "outputs": []
    },
    {
      "cell_type": "code",
      "metadata": {
        "id": "cLmGR1DtwKQm"
      },
      "source": [
        "print(mensaje)"
      ],
      "execution_count": null,
      "outputs": []
    },
    {
      "cell_type": "markdown",
      "metadata": {
        "id": "bs8VwwNgwQd1"
      },
      "source": [
        "El código muestra el mensaje `¡Hola, Jahaziel Ponce!` y lo almacena en la variable `mensaje`"
      ]
    },
    {
      "cell_type": "markdown",
      "metadata": {
        "id": "AKQ4vzrXwiHC"
      },
      "source": [
        "### Agregando espacios, tabulaciones o líneas nuevas en un String\n",
        "\n",
        "En programación, el espacio en blando se refiere a cualquier caracter no imprimible, como espacios, tabulaciones y símbolos de fin de línea.\n",
        "\n",
        "Podemos usar espacios en blanco para organizar nuestra salida para que sea de facil lectura.\n",
        "\n",
        "Para agregar una tabulación a nuestro texto, usamos la combinacón de caracteres `\"\\t\"`. Veamos:"
      ]
    },
    {
      "cell_type": "code",
      "metadata": {
        "id": "6eo80pHPwLJe"
      },
      "source": [
        "print(\"Python\")"
      ],
      "execution_count": null,
      "outputs": []
    },
    {
      "cell_type": "code",
      "metadata": {
        "id": "w2A5mwhQxeOf"
      },
      "source": [
        "print(\"\\tPython\")"
      ],
      "execution_count": null,
      "outputs": []
    },
    {
      "cell_type": "markdown",
      "metadata": {
        "id": "KVJ7iCrYxh8u"
      },
      "source": [
        "Si queremos añadir una nueva línea en un String, usamos la combinación de caracteres `\"\\n\"`. Por ejemplo:"
      ]
    },
    {
      "cell_type": "code",
      "metadata": {
        "id": "Yb7D5cnfxfum"
      },
      "source": [
        "print(\"Lenguajes:\\nPython\\nC\\nJavaScript\")"
      ],
      "execution_count": null,
      "outputs": []
    },
    {
      "cell_type": "markdown",
      "metadata": {
        "id": "4V4ooc0wx2m5"
      },
      "source": [
        "Podemos combinar tabulaciones y nuevas líneas en un simple String. Por ejemplo, el String `\"\\n\\t\"` le dice a Python que mueva una línea y empiece la siguiente línea con una tabulación. Veamos:"
      ]
    },
    {
      "cell_type": "code",
      "metadata": {
        "id": "FpD5LofQxy_T"
      },
      "source": [
        "print(\"Lenguajes:\\n\\tPython\\n\\tC\\n\\tJavaScript\")"
      ],
      "execution_count": null,
      "outputs": []
    },
    {
      "cell_type": "markdown",
      "metadata": {
        "id": "J7Qi3ouZyP0l"
      },
      "source": [
        "### Eliminar espacios en blanco\n",
        "\n",
        "Los espacios en blanco adicionales pueden ser confusos en nuestros programas. Por ejemplo, puede que para nosotros `'python'` y `'python '` se vean más o menos igual, pero para un programa estos son diferentes. Python detecta el espacio extra en `'python '` y lo considera significativo.\n",
        "\n",
        "Es importante pensar en los espacios en blanco, ya que a menudo vamos a querer comparar dos String para determinar si son iguales. Por ejemplo, si queremos verificar los nombres de usuarios cuando inician sesión en una página web.\n",
        "\n",
        "Si, por ejemplo, queremos asegurarnos de que no existan espacios en blanco en el extremo derecho de un String, usamos el método `rstrip`. Veamos:"
      ]
    },
    {
      "cell_type": "code",
      "metadata": {
        "id": "Jy9N75z0yKbt"
      },
      "source": [
        "lenguaje_favorito = \"python \"\n",
        "lenguaje_favorito"
      ],
      "execution_count": null,
      "outputs": []
    },
    {
      "cell_type": "code",
      "metadata": {
        "id": "Yxb0UQAR4p8t"
      },
      "source": [
        "lenguaje_favorito.rstrip()"
      ],
      "execution_count": null,
      "outputs": []
    },
    {
      "cell_type": "markdown",
      "metadata": {
        "id": "ugcMyx284-oY"
      },
      "source": [
        "El valor asociado con `lenguaje_favorito` contiene espacios en blanco adicionales al final del String.\n",
        "El método `rstrip()` actua sobre la variable `lenguaje_favorito` y el espacio extra se elimina. Pero solo es temporal, ya que la variable original sigue con el espacio en blanco"
      ]
    },
    {
      "cell_type": "code",
      "metadata": {
        "id": "1rmjseUP4uxz"
      },
      "source": [
        "lenguaje_favorito"
      ],
      "execution_count": null,
      "outputs": []
    },
    {
      "cell_type": "markdown",
      "metadata": {
        "id": "I_R-dWSg5cWo"
      },
      "source": [
        "Para eliminar el espacio en blanco del String de forma permanente, tenemos que asociar el valor eliminado con el nombre de la variable.\n",
        "\n",
        "Por ejemplo, tenemos la variable `lenguaje_favorito`, este tiene un espacio en blanco a la derecha y queremos eliminarlo; usamos el método `rstrip()` y lo almacenamos en la misma variable:"
      ]
    },
    {
      "cell_type": "code",
      "metadata": {
        "id": "0hdn6SdI5bJr"
      },
      "source": [
        "lenguaje_favorito = \"python \"\n",
        "\n",
        "lenguaje_favorito = lenguaje_favorito.rstrip()\n",
        "\n",
        "lenguaje_favorito"
      ],
      "execution_count": null,
      "outputs": []
    },
    {
      "cell_type": "markdown",
      "metadata": {
        "id": "3Zf2oare50Mt"
      },
      "source": [
        "Ahora la variable `lenguaje_favorito` no tiene espacios en blanco a la derecha.\n",
        "\n",
        "Cambiar el valor de una variable se realiza a menudo en programación.\n",
        "\n",
        "\n",
        "Si queremos eliminar espacios en blanco al lado izquiero de un String usammos el método `lstrip()` y para quitar los espacios en blanco en ambos lados a la vez usamos el método `strip()`"
      ]
    },
    {
      "cell_type": "code",
      "metadata": {
        "id": "tGVOjawc5psa"
      },
      "source": [
        "lenguaje_favorito = ' python '\n",
        "\n",
        "# Eliminando espacios en blanco al lado derecho\n",
        "lenguaje_favorito.rstrip()"
      ],
      "execution_count": null,
      "outputs": []
    },
    {
      "cell_type": "code",
      "metadata": {
        "id": "mU_o1yi36P1q"
      },
      "source": [
        "# Eliminando espacios en blanco al lado izquierdo\n",
        "lenguaje_favorito.lstrip()"
      ],
      "execution_count": null,
      "outputs": []
    },
    {
      "cell_type": "code",
      "metadata": {
        "id": "b--XKcuI6Rei"
      },
      "source": [
        "# Eliminando espacios en blanco en ambos lados\n",
        "lenguaje_favorito.strip()"
      ],
      "execution_count": null,
      "outputs": []
    },
    {
      "cell_type": "markdown",
      "metadata": {
        "id": "ziWHvzTW6dv4"
      },
      "source": [
        "### Evitando errores de sintaxis con String\n",
        "\n",
        "Un error común cuando trabajamos con Strings en Python son los errores de Sintaxis. Un error de sintaxis se produce cuando Python no reconoce una sección de su programa como código válido.\n",
        "\n",
        "Si, por ejemplo, usamos un apóstrofe entre comillas simples, generará un error. Esto sucede porque Python interpreta todo lo que está entre la comilla simple y el apóstrofe como un string. Al intentar interpretar el resto del texto como código Python, causará error.\n",
        "\n",
        "Veamos cómo usar comillas simples y dobles correctamente:"
      ]
    },
    {
      "cell_type": "code",
      "metadata": {
        "id": "RPbTXsyR6TYy"
      },
      "source": [
        "mensaje = \"Mi nombre completo es: 'Jahaziel Ponce'\"\n",
        "print(mensaje)"
      ],
      "execution_count": null,
      "outputs": []
    },
    {
      "cell_type": "markdown",
      "metadata": {
        "id": "umsHMiRB7fq9"
      },
      "source": [
        "Las comillas simples aparecen dentro de las comillas dobles, por lo que Python no tiene problemas para leer el String correctamente.\n",
        "\n",
        "Pero veamos el siguiente ejemplo:"
      ]
    },
    {
      "cell_type": "code",
      "metadata": {
        "id": "1TmBgHNh7dY8",
        "outputId": "eca5be50-8a0f-40b0-c089-9f8da653598e",
        "colab": {
          "base_uri": "https://localhost:8080/",
          "height": 128
        }
      },
      "source": [
        "mensaje = 'Mi nombre completo es : 'Jahaziel Ponce''\n",
        "print(mensaje)"
      ],
      "execution_count": 8,
      "outputs": [
        {
          "output_type": "error",
          "ename": "SyntaxError",
          "evalue": "ignored",
          "traceback": [
            "\u001b[0;36m  File \u001b[0;32m\"<ipython-input-8-c09f2acd9e5b>\"\u001b[0;36m, line \u001b[0;32m1\u001b[0m\n\u001b[0;31m    mensaje = 'Mi nombre completo es : 'Jahaziel Ponce''\u001b[0m\n\u001b[0m                                               ^\u001b[0m\n\u001b[0;31mSyntaxError\u001b[0m\u001b[0;31m:\u001b[0m invalid syntax\n"
          ]
        }
      ]
    },
    {
      "cell_type": "markdown",
      "metadata": {
        "id": "Q9HSNUHE9C7E"
      },
      "source": [
        "Se puede ver que el error ocurre en la primera línea, justo después de la segunda comilla simple. Este error de sintaxis indica que el intérprete no reconoce algo en el código como código Python válido."
      ]
    },
    {
      "cell_type": "markdown",
      "metadata": {
        "id": "95b_yeq29R6Z"
      },
      "source": [
        "## Números\n",
        "\n",
        "Los números se usan con bastante frecuencia en programación.\n",
        "Por ejemplo, puntuación en juegos, información de aplicaciones, etc.\n",
        "\n",
        "Según el uso, Python trata los números de distintas maneras.\n",
        "\n",
        "Empecemos con los enteros, que son los más simples para trabajar"
      ]
    },
    {
      "cell_type": "markdown",
      "metadata": {
        "id": "8fpLVay49qVa"
      },
      "source": [
        "### Enteros\n",
        "\n",
        "Podemos sumar (`+`), restar (`-`), multiplicar (`*`) y dividir (`/`) números enteros en Python:"
      ]
    },
    {
      "cell_type": "code",
      "metadata": {
        "id": "XHrlUzw87ygi",
        "outputId": "dff8938c-f464-45de-b913-2b58652aafc4",
        "colab": {
          "base_uri": "https://localhost:8080/",
          "height": 34
        }
      },
      "source": [
        "2 + 3"
      ],
      "execution_count": 9,
      "outputs": [
        {
          "output_type": "execute_result",
          "data": {
            "text/plain": [
              "5"
            ]
          },
          "metadata": {
            "tags": []
          },
          "execution_count": 9
        }
      ]
    },
    {
      "cell_type": "code",
      "metadata": {
        "id": "xqBZPWCp9447",
        "outputId": "8040fac2-8807-4b26-efcd-08a77cd167a4",
        "colab": {
          "base_uri": "https://localhost:8080/",
          "height": 34
        }
      },
      "source": [
        "3 - 2"
      ],
      "execution_count": 10,
      "outputs": [
        {
          "output_type": "execute_result",
          "data": {
            "text/plain": [
              "1"
            ]
          },
          "metadata": {
            "tags": []
          },
          "execution_count": 10
        }
      ]
    },
    {
      "cell_type": "code",
      "metadata": {
        "id": "TqXWG_sr96nt",
        "outputId": "6220eb7a-88c9-44af-a915-eb32a0855e6c",
        "colab": {
          "base_uri": "https://localhost:8080/",
          "height": 34
        }
      },
      "source": [
        "2 * 3"
      ],
      "execution_count": 11,
      "outputs": [
        {
          "output_type": "execute_result",
          "data": {
            "text/plain": [
              "6"
            ]
          },
          "metadata": {
            "tags": []
          },
          "execution_count": 11
        }
      ]
    },
    {
      "cell_type": "code",
      "metadata": {
        "id": "clzFqPis97Pi",
        "outputId": "56d46b3c-4727-47ea-a6ce-7706e07cbb90",
        "colab": {
          "base_uri": "https://localhost:8080/",
          "height": 34
        }
      },
      "source": [
        "3 / 2"
      ],
      "execution_count": 12,
      "outputs": [
        {
          "output_type": "execute_result",
          "data": {
            "text/plain": [
              "1.5"
            ]
          },
          "metadata": {
            "tags": []
          },
          "execution_count": 12
        }
      ]
    },
    {
      "cell_type": "markdown",
      "metadata": {
        "id": "FHg4kwfa9_Kw"
      },
      "source": [
        "Si queremos calcular potencias, Python usa el símbolo de doble multiplicación (`**`):"
      ]
    },
    {
      "cell_type": "code",
      "metadata": {
        "id": "lNygknc2971C",
        "outputId": "9e418627-f639-42e6-f4b9-3f3576195112",
        "colab": {
          "base_uri": "https://localhost:8080/",
          "height": 34
        }
      },
      "source": [
        "3 ** 2"
      ],
      "execution_count": 13,
      "outputs": [
        {
          "output_type": "execute_result",
          "data": {
            "text/plain": [
              "9"
            ]
          },
          "metadata": {
            "tags": []
          },
          "execution_count": 13
        }
      ]
    },
    {
      "cell_type": "code",
      "metadata": {
        "id": "IHCgyvIO-Hil",
        "outputId": "8a81847a-8587-4d62-fd5b-b418e5027a8a",
        "colab": {
          "base_uri": "https://localhost:8080/",
          "height": 34
        }
      },
      "source": [
        "3 ** 3"
      ],
      "execution_count": 14,
      "outputs": [
        {
          "output_type": "execute_result",
          "data": {
            "text/plain": [
              "27"
            ]
          },
          "metadata": {
            "tags": []
          },
          "execution_count": 14
        }
      ]
    },
    {
      "cell_type": "code",
      "metadata": {
        "id": "ImL6hI4d-Ikj",
        "outputId": "711d94c9-b77e-4710-b14e-f2cc40ef1f54",
        "colab": {
          "base_uri": "https://localhost:8080/",
          "height": 34
        }
      },
      "source": [
        "10 ** 6"
      ],
      "execution_count": 15,
      "outputs": [
        {
          "output_type": "execute_result",
          "data": {
            "text/plain": [
              "1000000"
            ]
          },
          "metadata": {
            "tags": []
          },
          "execution_count": 15
        }
      ]
    },
    {
      "cell_type": "markdown",
      "metadata": {
        "id": "4547o0AO-KxV"
      },
      "source": [
        "Python reconoce el orden de las operaciones, por lo que podemos usar varias operaciones en una sola expresión. \n",
        "\n",
        "Si queremos modificar el orden de las operaciones, podemos usar paréntesis, de esa manera Python puede evaluar su expresión en el orden que especifique"
      ]
    },
    {
      "cell_type": "code",
      "metadata": {
        "id": "8_1OnTjL-JWS",
        "outputId": "a5e218bb-ae42-4998-8e40-38c735bb9a52",
        "colab": {
          "base_uri": "https://localhost:8080/",
          "height": 34
        }
      },
      "source": [
        "2 + 3 * 4"
      ],
      "execution_count": 16,
      "outputs": [
        {
          "output_type": "execute_result",
          "data": {
            "text/plain": [
              "14"
            ]
          },
          "metadata": {
            "tags": []
          },
          "execution_count": 16
        }
      ]
    },
    {
      "cell_type": "code",
      "metadata": {
        "id": "aFSLdhms-eNd",
        "outputId": "d88707b7-7736-407f-d2fa-b6a205d78ccc",
        "colab": {
          "base_uri": "https://localhost:8080/",
          "height": 34
        }
      },
      "source": [
        "(2 + 3) * 4"
      ],
      "execution_count": 17,
      "outputs": [
        {
          "output_type": "execute_result",
          "data": {
            "text/plain": [
              "20"
            ]
          },
          "metadata": {
            "tags": []
          },
          "execution_count": 17
        }
      ]
    },
    {
      "cell_type": "code",
      "metadata": {
        "id": "5rBw2FYFcamE",
        "outputId": "c907733f-72ad-4b28-f7ed-3d978f9cbd9b",
        "colab": {
          "base_uri": "https://localhost:8080/",
          "height": 34
        }
      },
      "source": [
        "# ¿Cuánto es 8/2(2+2)? ¿1? ¿16?\n",
        "\n",
        "8 / 2 * (2 + 2)"
      ],
      "execution_count": 18,
      "outputs": [
        {
          "output_type": "execute_result",
          "data": {
            "text/plain": [
              "16.0"
            ]
          },
          "metadata": {
            "tags": []
          },
          "execution_count": 18
        }
      ]
    },
    {
      "cell_type": "code",
      "metadata": {
        "id": "Cu56zloDc28r",
        "outputId": "2b3ce2d5-aa7b-4c65-e8fa-990731b0ea35",
        "colab": {
          "base_uri": "https://localhost:8080/",
          "height": 34
        }
      },
      "source": [
        "8 / (2 * (2 + 2))"
      ],
      "execution_count": 19,
      "outputs": [
        {
          "output_type": "execute_result",
          "data": {
            "text/plain": [
              "1.0"
            ]
          },
          "metadata": {
            "tags": []
          },
          "execution_count": 19
        }
      ]
    },
    {
      "cell_type": "markdown",
      "metadata": {
        "id": "hFQOrmS_-huT"
      },
      "source": [
        "Podemos ver, de los ejemplos anteriores, que los espacios en blanco no tienen efecto para evaluar en Python."
      ]
    },
    {
      "cell_type": "markdown",
      "metadata": {
        "id": "7Vb_pG_X-pvY"
      },
      "source": [
        "### Float\n",
        "\n",
        "Python llama a cualquier número con punto decimal *Float* o *flotante*. Se refiere al hecho de que un punto decimal puede aparecer en cualquier posición de un número.\n",
        "\n",
        "En la mayoría de ocasiones, podemos usar decimales sin preocuparnos por su comportamiento. Veamos algunos ejemplos:"
      ]
    },
    {
      "cell_type": "code",
      "metadata": {
        "id": "c0Dm_o1u-fQz",
        "outputId": "f58658c1-4bca-43ad-83d5-39917fec4ce1",
        "colab": {
          "base_uri": "https://localhost:8080/",
          "height": 34
        }
      },
      "source": [
        "0.1 + 0.1"
      ],
      "execution_count": 20,
      "outputs": [
        {
          "output_type": "execute_result",
          "data": {
            "text/plain": [
              "0.2"
            ]
          },
          "metadata": {
            "tags": []
          },
          "execution_count": 20
        }
      ]
    },
    {
      "cell_type": "code",
      "metadata": {
        "id": "BaBjm4qb_NqV",
        "outputId": "f78ac911-4516-487c-fb1b-a5663fe20364",
        "colab": {
          "base_uri": "https://localhost:8080/",
          "height": 34
        }
      },
      "source": [
        "0.2 + 0.2"
      ],
      "execution_count": 21,
      "outputs": [
        {
          "output_type": "execute_result",
          "data": {
            "text/plain": [
              "0.4"
            ]
          },
          "metadata": {
            "tags": []
          },
          "execution_count": 21
        }
      ]
    },
    {
      "cell_type": "code",
      "metadata": {
        "id": "FIq4KfvM_OXT",
        "outputId": "bee4b212-536d-4ba7-c027-e9708c0daf0e",
        "colab": {
          "base_uri": "https://localhost:8080/",
          "height": 34
        }
      },
      "source": [
        "2 * 0.1"
      ],
      "execution_count": 22,
      "outputs": [
        {
          "output_type": "execute_result",
          "data": {
            "text/plain": [
              "0.2"
            ]
          },
          "metadata": {
            "tags": []
          },
          "execution_count": 22
        }
      ]
    },
    {
      "cell_type": "code",
      "metadata": {
        "id": "qcz9vYmz_O9z",
        "outputId": "7be5a88c-b7c3-44c6-9106-9df9c9b0d7af",
        "colab": {
          "base_uri": "https://localhost:8080/",
          "height": 34
        }
      },
      "source": [
        "2 * 0.2"
      ],
      "execution_count": 23,
      "outputs": [
        {
          "output_type": "execute_result",
          "data": {
            "text/plain": [
              "0.4"
            ]
          },
          "metadata": {
            "tags": []
          },
          "execution_count": 23
        }
      ]
    },
    {
      "cell_type": "markdown",
      "metadata": {
        "id": "rM4fYDa-_UJM"
      },
      "source": [
        "Sin embargo, aveces podemos obtener un número arbitrario de decimales en la respuesta:"
      ]
    },
    {
      "cell_type": "code",
      "metadata": {
        "id": "gobZigl7_Prz",
        "outputId": "449a6764-c49d-4b49-90ed-bc3bf0850ec0",
        "colab": {
          "base_uri": "https://localhost:8080/",
          "height": 34
        }
      },
      "source": [
        "0.2 + 0.1"
      ],
      "execution_count": 24,
      "outputs": [
        {
          "output_type": "execute_result",
          "data": {
            "text/plain": [
              "0.30000000000000004"
            ]
          },
          "metadata": {
            "tags": []
          },
          "execution_count": 24
        }
      ]
    },
    {
      "cell_type": "code",
      "metadata": {
        "id": "G3l8EflD_ZL6",
        "outputId": "8f13a0f1-6992-4bac-c0e8-60d25ea9d165",
        "colab": {
          "base_uri": "https://localhost:8080/",
          "height": 34
        }
      },
      "source": [
        "3 * 0.1"
      ],
      "execution_count": 25,
      "outputs": [
        {
          "output_type": "execute_result",
          "data": {
            "text/plain": [
              "0.30000000000000004"
            ]
          },
          "metadata": {
            "tags": []
          },
          "execution_count": 25
        }
      ]
    },
    {
      "cell_type": "markdown",
      "metadata": {
        "id": "e2Z4pU3x_gCt"
      },
      "source": [
        "Esto sucede en todos los lenguajes de programación, por lo que no debemos preocuparnos. Python trata de encontrar la manera de representar el resultado con la mayor precisión posible, pero aveces es dificil, ya que las computadoras tienen que representar los números internamente."
      ]
    },
    {
      "cell_type": "markdown",
      "metadata": {
        "id": "oro9bjYR_uiQ"
      },
      "source": [
        "### Enteros y Float\n",
        "\n",
        "Cuando dividimos números independientemente de si son enteros o floats, el resultado siempre será un float:"
      ]
    },
    {
      "cell_type": "code",
      "metadata": {
        "id": "kCY8qvRB_aLM",
        "outputId": "2ed6fce4-604c-4bab-9d82-e208cff8f343",
        "colab": {
          "base_uri": "https://localhost:8080/",
          "height": 34
        }
      },
      "source": [
        "4 / 2"
      ],
      "execution_count": 26,
      "outputs": [
        {
          "output_type": "execute_result",
          "data": {
            "text/plain": [
              "2.0"
            ]
          },
          "metadata": {
            "tags": []
          },
          "execution_count": 26
        }
      ]
    },
    {
      "cell_type": "markdown",
      "metadata": {
        "id": "spqwvGca_-Fv"
      },
      "source": [
        "Si combinamos un entero y float en cualquier operación, el resultado será un float"
      ]
    },
    {
      "cell_type": "code",
      "metadata": {
        "id": "waU2eHgb_6Xz",
        "outputId": "62fd325c-e7df-49b4-ff62-b30a05c51c91",
        "colab": {
          "base_uri": "https://localhost:8080/",
          "height": 34
        }
      },
      "source": [
        "1 + 2.0"
      ],
      "execution_count": 27,
      "outputs": [
        {
          "output_type": "execute_result",
          "data": {
            "text/plain": [
              "3.0"
            ]
          },
          "metadata": {
            "tags": []
          },
          "execution_count": 27
        }
      ]
    },
    {
      "cell_type": "code",
      "metadata": {
        "id": "4LPO3L-7AHhU",
        "outputId": "ff6f42c4-ac32-4948-ca27-5a7d46e3a648",
        "colab": {
          "base_uri": "https://localhost:8080/",
          "height": 34
        }
      },
      "source": [
        "2 * 3.0"
      ],
      "execution_count": 28,
      "outputs": [
        {
          "output_type": "execute_result",
          "data": {
            "text/plain": [
              "6.0"
            ]
          },
          "metadata": {
            "tags": []
          },
          "execution_count": 28
        }
      ]
    },
    {
      "cell_type": "code",
      "metadata": {
        "id": "LjzDseZMAIYy",
        "outputId": "2a6b584c-33c8-4cfc-d536-15ebf44af0e6",
        "colab": {
          "base_uri": "https://localhost:8080/",
          "height": 34
        }
      },
      "source": [
        "3.0 ** 2"
      ],
      "execution_count": 29,
      "outputs": [
        {
          "output_type": "execute_result",
          "data": {
            "text/plain": [
              "9.0"
            ]
          },
          "metadata": {
            "tags": []
          },
          "execution_count": 29
        }
      ]
    },
    {
      "cell_type": "markdown",
      "metadata": {
        "id": "ruDNZtD5AMro"
      },
      "source": [
        "En cualquier operación que participe un número float, Python devolverá siempre un float, incluso si el resultado es un número entero."
      ]
    },
    {
      "cell_type": "markdown",
      "metadata": {
        "id": "DFNGUa1jAXk8"
      },
      "source": [
        "### Guiones bajos en números\n",
        "\n",
        "Cuando escribimos números largos y queremos que sean más legibles, podemos agrupar los dígitos usando guiones bajos (`_`):"
      ]
    },
    {
      "cell_type": "code",
      "metadata": {
        "id": "SA0z11Z6AnGT"
      },
      "source": [
        "edad_universo = 14_000_000_000"
      ],
      "execution_count": 30,
      "outputs": []
    },
    {
      "cell_type": "markdown",
      "metadata": {
        "id": "GP30AcfJAvXA"
      },
      "source": [
        "Python solo imprimirá los dígitos:"
      ]
    },
    {
      "cell_type": "code",
      "metadata": {
        "id": "lHq5GadDAuxz",
        "outputId": "e62f59e9-3da3-4d50-b324-2b9aef9e9d69",
        "colab": {
          "base_uri": "https://localhost:8080/",
          "height": 34
        }
      },
      "source": [
        "print(edad_universo)"
      ],
      "execution_count": 31,
      "outputs": [
        {
          "output_type": "stream",
          "text": [
            "14000000000\n"
          ],
          "name": "stdout"
        }
      ]
    },
    {
      "cell_type": "markdown",
      "metadata": {
        "id": "bcZc6AUSA5BF"
      },
      "source": [
        "Python ignora los guiones bajos cuando almacena este tipo de valores. Para Python es lo mismo `1000` que `1_000`. \n",
        "\n",
        "Funciona tanto para números enteros como números floats."
      ]
    },
    {
      "cell_type": "markdown",
      "metadata": {
        "id": "GpcKaBzJCshZ"
      },
      "source": [
        "### Asignaciones múltiples\n",
        "\n",
        "Podemos asignar valores a más de una variable en una sola línea. Esto puede ayudarnos a acortar nuestros programas y hacerlos más fáciles de leer.\n",
        "\n",
        "Por ejemplo, supongamos que queremos inicializar la variables `x`, `y` y `z`. Veamos dos maneras:\n"
      ]
    },
    {
      "cell_type": "code",
      "metadata": {
        "id": "zFg-HJ7jg9ca"
      },
      "source": [
        "# primera manera. Una línea por variable\n",
        "x = 0\n",
        "y = 1\n",
        "z = 2"
      ],
      "execution_count": 32,
      "outputs": []
    },
    {
      "cell_type": "code",
      "metadata": {
        "id": "uJidQHTLhAJo",
        "outputId": "e943417c-298a-4b18-884e-04e6cf3de5cb",
        "colab": {
          "base_uri": "https://localhost:8080/",
          "height": 67
        }
      },
      "source": [
        "print(x)\n",
        "print(y)\n",
        "print(z)"
      ],
      "execution_count": 33,
      "outputs": [
        {
          "output_type": "stream",
          "text": [
            "0\n",
            "1\n",
            "2\n"
          ],
          "name": "stdout"
        }
      ]
    },
    {
      "cell_type": "code",
      "metadata": {
        "id": "HLBuUJ6oAyP8"
      },
      "source": [
        "# Segunda manera. Separando por comas\n",
        "x, y, z = 0, 1, 2"
      ],
      "execution_count": 34,
      "outputs": []
    },
    {
      "cell_type": "code",
      "metadata": {
        "id": "6sK7r4iqBQgE",
        "outputId": "747dff39-3f01-458d-9420-6fe2f514f447",
        "colab": {
          "base_uri": "https://localhost:8080/",
          "height": 67
        }
      },
      "source": [
        "print(x)\n",
        "print(y)\n",
        "print(z)"
      ],
      "execution_count": 35,
      "outputs": [
        {
          "output_type": "stream",
          "text": [
            "0\n",
            "1\n",
            "2\n"
          ],
          "name": "stdout"
        }
      ]
    },
    {
      "cell_type": "markdown",
      "metadata": {
        "id": "aFKeCVDJDIjp"
      },
      "source": [
        "Debemos separar los nombres de las variables con `,` y hacer lo mismo con los valores. Python asignará cada valor a su variable posicionada correctamente. \n",
        "\n",
        "Es importante que coincidan el número de valores con el número de variables, sino aparecerá el siguiente error:"
      ]
    },
    {
      "cell_type": "code",
      "metadata": {
        "id": "fAwFl7mhhS8q",
        "outputId": "fd9fd7dc-f560-4014-9e9e-3b75c09f26a0",
        "colab": {
          "base_uri": "https://localhost:8080/",
          "height": 162
        }
      },
      "source": [
        "x, y, z = 0, 0"
      ],
      "execution_count": 36,
      "outputs": [
        {
          "output_type": "error",
          "ename": "ValueError",
          "evalue": "ignored",
          "traceback": [
            "\u001b[0;31m---------------------------------------------------------------------------\u001b[0m",
            "\u001b[0;31mValueError\u001b[0m                                Traceback (most recent call last)",
            "\u001b[0;32m<ipython-input-36-769a8a0afc65>\u001b[0m in \u001b[0;36m<module>\u001b[0;34m()\u001b[0m\n\u001b[0;32m----> 1\u001b[0;31m \u001b[0mx\u001b[0m\u001b[0;34m,\u001b[0m \u001b[0my\u001b[0m\u001b[0;34m,\u001b[0m \u001b[0mz\u001b[0m \u001b[0;34m=\u001b[0m \u001b[0;36m0\u001b[0m\u001b[0;34m,\u001b[0m \u001b[0;36m0\u001b[0m\u001b[0;34m\u001b[0m\u001b[0;34m\u001b[0m\u001b[0m\n\u001b[0m",
            "\u001b[0;31mValueError\u001b[0m: not enough values to unpack (expected 3, got 2)"
          ]
        }
      ]
    },
    {
      "cell_type": "markdown",
      "metadata": {
        "id": "rqhaQuFjDUdH"
      },
      "source": [
        "### Constantes\n",
        "\n",
        "Una constante no es más que una variable pero cuyo valor queremos que permanezca igual en toda la vida del programa.\n",
        "\n",
        "Para identificar una constante se recomienda definir la variable en **mayúsculas**. Por ejemplo:"
      ]
    },
    {
      "cell_type": "code",
      "metadata": {
        "id": "wPTz3zIODEwL"
      },
      "source": [
        "CONEXIONES_MAXIMAS = 5000"
      ],
      "execution_count": null,
      "outputs": []
    },
    {
      "cell_type": "code",
      "metadata": {
        "id": "iXgpxNEIh3Ps"
      },
      "source": [
        ""
      ],
      "execution_count": null,
      "outputs": []
    }
  ]
}