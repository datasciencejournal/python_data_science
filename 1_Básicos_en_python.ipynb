{
  "nbformat": 4,
  "nbformat_minor": 0,
  "metadata": {
    "colab": {
      "name": "1. Básicos en python.ipynb",
      "provenance": [],
      "collapsed_sections": [],
      "include_colab_link": true
    },
    "kernelspec": {
      "name": "python3",
      "display_name": "Python 3"
    }
  },
  "cells": [
    {
      "cell_type": "markdown",
      "metadata": {
        "id": "view-in-github",
        "colab_type": "text"
      },
      "source": [
        "<a href=\"https://colab.research.google.com/github/datasciencejournal/python_data_science/blob/main/1_B%C3%A1sicos_en_python.ipynb\" target=\"_parent\"><img src=\"https://colab.research.google.com/assets/colab-badge.svg\" alt=\"Open In Colab\"/></a>"
      ]
    },
    {
      "cell_type": "markdown",
      "metadata": {
        "id": "MVZDJtGOYXUf"
      },
      "source": [
        "Empezaremos con algunas funciones básicas que podemos realizar en Python\n",
        "* print\n",
        "* comentarios"
      ]
    },
    {
      "cell_type": "markdown",
      "metadata": {
        "id": "vaFgphBRaJkv"
      },
      "source": [
        "## Print"
      ]
    },
    {
      "cell_type": "markdown",
      "metadata": {
        "id": "V2R516_9fShD"
      },
      "source": [
        "Podemos usar la función `print` para mostrar en consola lo que queremos"
      ]
    },
    {
      "cell_type": "code",
      "metadata": {
        "id": "tu7tsePGX-cZ",
        "outputId": "9950338a-06a9-4a62-9cfe-a00971c27504",
        "colab": {
          "base_uri": "https://localhost:8080/",
          "height": 34
        }
      },
      "source": [
        "print(\"Hola Mundo!!!\")"
      ],
      "execution_count": 1,
      "outputs": [
        {
          "output_type": "stream",
          "text": [
            "Hola Mundo!!!\n"
          ],
          "name": "stdout"
        }
      ]
    },
    {
      "cell_type": "code",
      "metadata": {
        "id": "gcwdDSfHaOzK",
        "outputId": "19666a58-b3d5-4c97-eb89-9ce8253aae45",
        "colab": {
          "base_uri": "https://localhost:8080/",
          "height": 34
        }
      },
      "source": [
        "print(\"Hola de nuevo\")"
      ],
      "execution_count": 2,
      "outputs": [
        {
          "output_type": "stream",
          "text": [
            "Hola de nuevo\n"
          ],
          "name": "stdout"
        }
      ]
    },
    {
      "cell_type": "code",
      "metadata": {
        "id": "JLnf8yddaUrE",
        "outputId": "01d88d0b-aea1-4a03-fbbe-39850f573266",
        "colab": {
          "base_uri": "https://localhost:8080/",
          "height": 34
        }
      },
      "source": [
        "print(\"Me gusta escribir esto.\")"
      ],
      "execution_count": 3,
      "outputs": [
        {
          "output_type": "stream",
          "text": [
            "Me gusta escribir esto.\n"
          ],
          "name": "stdout"
        }
      ]
    },
    {
      "cell_type": "markdown",
      "metadata": {
        "id": "IVnzhCBuamph"
      },
      "source": [
        "Podemos escribir más de una sentencia en la sección de código"
      ]
    },
    {
      "cell_type": "code",
      "metadata": {
        "id": "dvxvWSM1aaM9",
        "outputId": "5ae2c0c6-6812-4644-ab6d-678efd2e4298",
        "colab": {
          "base_uri": "https://localhost:8080/",
          "height": 67
        }
      },
      "source": [
        "print(\"Esto es divertido\")\n",
        "print(\"Sigamos escribiendo\")\n",
        "print(\"Yo te digo 'no toques esto'\")"
      ],
      "execution_count": 4,
      "outputs": [
        {
          "output_type": "stream",
          "text": [
            "Esto es divertido\n",
            "Sigamos escribiendo\n",
            "Yo te digo 'no toques esto'\n"
          ],
          "name": "stdout"
        }
      ]
    },
    {
      "cell_type": "markdown",
      "metadata": {
        "id": "Jq7c9TCza_Cx"
      },
      "source": [
        "## Entendiendo algunos errores"
      ]
    },
    {
      "cell_type": "code",
      "metadata": {
        "id": "8y86XBgca5Az",
        "outputId": "1a638969-b07e-49f4-934d-ba8e5f84901c",
        "colab": {
          "base_uri": "https://localhost:8080/",
          "height": 128
        }
      },
      "source": [
        "print(\"Este es otro texto\")\n",
        "print(\"Espero no equivocarme)"
      ],
      "execution_count": 5,
      "outputs": [
        {
          "output_type": "error",
          "ename": "SyntaxError",
          "evalue": "ignored",
          "traceback": [
            "\u001b[0;36m  File \u001b[0;32m\"<ipython-input-5-a04d3cb9fab4>\"\u001b[0;36m, line \u001b[0;32m2\u001b[0m\n\u001b[0;31m    print(\"Espero no equivocarme)\u001b[0m\n\u001b[0m                                 ^\u001b[0m\n\u001b[0;31mSyntaxError\u001b[0m\u001b[0;31m:\u001b[0m EOL while scanning string literal\n"
          ]
        }
      ]
    },
    {
      "cell_type": "markdown",
      "metadata": {
        "id": "Xf0m6XFGdNj5"
      },
      "source": [
        "Podemos observar que al ejecutar el script anterior nos aparece un mensaje de error:\n",
        "* Nos manda a la línea 2\n",
        "* Aparece el símbolo `^` indicando la parte donde podría estar el error.\n",
        "* En este caso el error es debido a que nos falta agregar la doble comilla al final (`\"`).\n",
        "* Para errores más complejos podemos encontrar la solución con una búsqueda en Internet. Basta con copiar el mensaje de error en el buscador y aparecerán posibles soluciones al problema o error.\n",
        "\n",
        "En este caso, sabemos cuál es el error y lo corregiremos:"
      ]
    },
    {
      "cell_type": "code",
      "metadata": {
        "id": "cxQaqgBubDhM",
        "outputId": "80d54ff4-80c3-4ff5-9d5c-e295078a8aa4",
        "colab": {
          "base_uri": "https://localhost:8080/",
          "height": 50
        }
      },
      "source": [
        "print(\"Este es otro texto\")\n",
        "print(\"Espero no equivocarme\")"
      ],
      "execution_count": 6,
      "outputs": [
        {
          "output_type": "stream",
          "text": [
            "Este es otro texto\n",
            "Espero no equivocarme\n"
          ],
          "name": "stdout"
        }
      ]
    },
    {
      "cell_type": "markdown",
      "metadata": {
        "id": "NWGPbFjdeNnR"
      },
      "source": [
        "## Comentarios en Python\n",
        "\n",
        "Los comentarios son muy importantes en nuestros programas.\n",
        "Son útiles para explicar el funcionamiento del programa a personas que puedan usarlo en el futuro. También se puede usar para explicar partes del código.\n",
        "Estos comentarios son ignorados por la computadora al ejecutarlos.\n",
        "\n",
        "Hay dos maneras de insertar comentarios en Python:\n",
        "* Si el comentario ocupa una línea, mayormente se usa `#`. Todo lo escrito a la derecha de `#` Python lo ignorará\n",
        "* Si el comentario puede ocupar más de dos líneas, usamos `\"\"\" \"\"\"`. Todo lo escrito dentro de `\"\"\" \"\"\"` Python lo ignorará."
      ]
    },
    {
      "cell_type": "code",
      "metadata": {
        "id": "wr6mRq7geIHl",
        "outputId": "560bf100-9bc6-46af-c8fb-be1ff45579bc",
        "colab": {
          "base_uri": "https://localhost:8080/",
          "height": 34
        }
      },
      "source": [
        "#Este es un comentario de una línea, Python lo va a ignorar\n",
        "print('Esto no es un comentario')"
      ],
      "execution_count": 7,
      "outputs": [
        {
          "output_type": "stream",
          "text": [
            "Esto no es un comentario\n"
          ],
          "name": "stdout"
        }
      ]
    },
    {
      "cell_type": "code",
      "metadata": {
        "id": "lxYrTehBfj37",
        "outputId": "68e98ae2-2c5a-4869-d755-00ee6033f0b0",
        "colab": {
          "base_uri": "https://localhost:8080/",
          "height": 34
        }
      },
      "source": [
        "\"\"\" \n",
        "Este es un comentario de varias líneas\n",
        "No quiero que mi programa ejecute este print\n",
        "print(\"Esto es un comentrio\") \n",
        "\"\"\"\n",
        "\n",
        "print(\"Este comentario si lo quiero mostrar\")"
      ],
      "execution_count": 8,
      "outputs": [
        {
          "output_type": "stream",
          "text": [
            "Este comentario si lo quiero mostrar\n"
          ],
          "name": "stdout"
        }
      ]
    },
    {
      "cell_type": "markdown",
      "metadata": {
        "id": "Jtvslh2FdBTb"
      },
      "source": [
        "Podemos ver del ejemplo anterior, que Python no ha leído el `print(\"Esto es un comentrio\")` ya que se encuentra dentro de `\"\"\" \"\"\"`."
      ]
    },
    {
      "cell_type": "markdown",
      "metadata": {
        "id": "fM7lR2x8f8mP"
      },
      "source": [
        "Podemos agregar comentario en cualquier parte de nuestro programa.\n",
        "\n",
        "* `#` comenta todo lo que está a la derecha. Se puede combinar código con comentarios en la misma línea."
      ]
    },
    {
      "cell_type": "code",
      "metadata": {
        "id": "e3ZFrjt9f4iL",
        "outputId": "6ee517da-5699-456f-b250-bbc3d7db5209",
        "colab": {
          "base_uri": "https://localhost:8080/",
          "height": 67
        }
      },
      "source": [
        "print(\"Inicio de la prueba\")\n",
        "\n",
        "# Sección de comentario\n",
        "print(\"Otra sección no comentario\") #Esto si es un comentario\n",
        "\n",
        "print(\"Final de la prueba\")"
      ],
      "execution_count": 9,
      "outputs": [
        {
          "output_type": "stream",
          "text": [
            "Inicio de la prueba\n",
            "Otra sección no comentario\n",
            "Final de la prueba\n"
          ],
          "name": "stdout"
        }
      ]
    },
    {
      "cell_type": "markdown",
      "metadata": {
        "id": "6TAf9xbqmJU0"
      },
      "source": [
        "* `\"\"\" \"\"\"` comenta lo que está dentro, pero no se puede combinar código y este tipo de comentarios en la misma línea"
      ]
    },
    {
      "cell_type": "code",
      "metadata": {
        "id": "bJrrx85Ngqk-",
        "outputId": "9ee23fc9-02d1-4f4b-f2da-8b95db09ab13",
        "colab": {
          "base_uri": "https://localhost:8080/",
          "height": 67
        }
      },
      "source": [
        "\"\"\"Inicio de comentario\"\"\"\n",
        "print(\"última prueba\")\n",
        "\n",
        "\"\"\" No quiero ejecutar esta parte \n",
        "print(\"Ejemplo\")\n",
        "\"\"\" \n",
        "\n",
        "print(\"Esta parte si lo quiero mostrar\")\n",
        "print(\"Final\")"
      ],
      "execution_count": 10,
      "outputs": [
        {
          "output_type": "stream",
          "text": [
            "última prueba\n",
            "Esta parte si lo quiero mostrar\n",
            "Final\n"
          ],
          "name": "stdout"
        }
      ]
    },
    {
      "cell_type": "markdown",
      "metadata": {
        "id": "T93RJe6ldXgP"
      },
      "source": [
        "¡Y esto es todo en esta primera parte!"
      ]
    },
    {
      "cell_type": "code",
      "metadata": {
        "id": "X98Or0EOdWlS"
      },
      "source": [
        ""
      ],
      "execution_count": null,
      "outputs": []
    }
  ]
}