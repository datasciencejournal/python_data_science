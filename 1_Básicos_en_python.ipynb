{
  "nbformat": 4,
  "nbformat_minor": 0,
  "metadata": {
    "colab": {
      "name": "1. Básicos en python.ipynb",
      "provenance": [],
      "collapsed_sections": [],
      "include_colab_link": true
    },
    "kernelspec": {
      "name": "python3",
      "display_name": "Python 3"
    }
  },
  "cells": [
    {
      "cell_type": "markdown",
      "metadata": {
        "id": "view-in-github",
        "colab_type": "text"
      },
      "source": [
        "<a href=\"https://colab.research.google.com/github/datasciencejournal/python_data_science/blob/main/1_B%C3%A1sicos_en_python.ipynb\" target=\"_parent\"><img src=\"https://colab.research.google.com/assets/colab-badge.svg\" alt=\"Open In Colab\"/></a>"
      ]
    },
    {
      "cell_type": "markdown",
      "metadata": {
        "id": "MVZDJtGOYXUf"
      },
      "source": [
        "Empezaremos con algunas funciones básicas que podemos realizar en Python\n",
        "* print\n",
        "* comentarios"
      ]
    },
    {
      "cell_type": "markdown",
      "metadata": {
        "id": "vaFgphBRaJkv"
      },
      "source": [
        "## Print\n",
        "\n",
        "Podemos usar la función `print` para mostrar en consola lo que queremos"
      ]
    },
    {
      "cell_type": "code",
      "metadata": {
        "id": "tu7tsePGX-cZ",
        "outputId": "0878452e-da8b-41d3-82f0-518af1a26fcf",
        "colab": {
          "base_uri": "https://localhost:8080/",
          "height": 34
        }
      },
      "source": [
        "print(\"Hola Mundo!!!\")"
      ],
      "execution_count": null,
      "outputs": [
        {
          "output_type": "stream",
          "text": [
            "Hola Mundo!!!\n"
          ],
          "name": "stdout"
        }
      ]
    },
    {
      "cell_type": "code",
      "metadata": {
        "id": "gcwdDSfHaOzK",
        "outputId": "16025b40-1fd4-4056-d578-103890846760",
        "colab": {
          "base_uri": "https://localhost:8080/",
          "height": 34
        }
      },
      "source": [
        "print(\"Hola de nuevo\")"
      ],
      "execution_count": null,
      "outputs": [
        {
          "output_type": "stream",
          "text": [
            "Hola de nuevo\n"
          ],
          "name": "stdout"
        }
      ]
    },
    {
      "cell_type": "code",
      "metadata": {
        "id": "JLnf8yddaUrE",
        "outputId": "75769ac1-b8ca-4bf0-eb69-8841cf2ad615",
        "colab": {
          "base_uri": "https://localhost:8080/",
          "height": 34
        }
      },
      "source": [
        "print(\"Me gusta escribir esto.\")"
      ],
      "execution_count": null,
      "outputs": [
        {
          "output_type": "stream",
          "text": [
            "Me gusta escribir esto.\n"
          ],
          "name": "stdout"
        }
      ]
    },
    {
      "cell_type": "markdown",
      "metadata": {
        "id": "IVnzhCBuamph"
      },
      "source": [
        "Podemos escribir más de una sentencia en la línea de código"
      ]
    },
    {
      "cell_type": "code",
      "metadata": {
        "id": "dvxvWSM1aaM9",
        "outputId": "f9ce1e3b-3cdf-4ecc-d0ce-f8173eb8741c",
        "colab": {
          "base_uri": "https://localhost:8080/",
          "height": 68
        }
      },
      "source": [
        "print(\"Esto es divertido\")\n",
        "print(\"Sigamos escribiendo\")\n",
        "print(\"Yo te digo 'no toques esto'\")"
      ],
      "execution_count": null,
      "outputs": [
        {
          "output_type": "stream",
          "text": [
            "Esto es divertido\n",
            "Sigamos escribiendo\n",
            "Yo te digo 'no toques esto'\n"
          ],
          "name": "stdout"
        }
      ]
    },
    {
      "cell_type": "markdown",
      "metadata": {
        "id": "Jq7c9TCza_Cx"
      },
      "source": [
        "## Entendiendo algunos errores"
      ]
    },
    {
      "cell_type": "code",
      "metadata": {
        "id": "8y86XBgca5Az",
        "outputId": "f13a8957-08b5-456b-c9c7-93dfbf18b854",
        "colab": {
          "base_uri": "https://localhost:8080/",
          "height": 146
        }
      },
      "source": [
        "print(\"Este es otro texto\")\n",
        "print(\"Espero no equivocarme)"
      ],
      "execution_count": null,
      "outputs": [
        {
          "output_type": "error",
          "ename": "SyntaxError",
          "evalue": "ignored",
          "traceback": [
            "\u001b[0;36m  File \u001b[0;32m\"<ipython-input-5-a04d3cb9fab4>\"\u001b[0;36m, line \u001b[0;32m2\u001b[0m\n\u001b[0;31m    print(\"Espero no equivocarme)\u001b[0m\n\u001b[0m                                 ^\u001b[0m\n\u001b[0;31mSyntaxError\u001b[0m\u001b[0;31m:\u001b[0m EOL while scanning string literal\n"
          ]
        },
        {
          "output_type": "stream",
          "text": [
            "ERROR! Session/line number was not unique in database. History logging moved to new session 62\n"
          ],
          "name": "stdout"
        }
      ]
    },
    {
      "cell_type": "markdown",
      "metadata": {
        "id": "Xf0m6XFGdNj5"
      },
      "source": [
        "Aparece error el siguiente error al ejecutar:\n",
        "* Nos manda a la línea 2\n",
        "* Aparece el símbolo ^ (intercalación) indicando la parte donde podría estar el error.\n",
        "* En este caso el error es debido a que nos falta agregar la doble comilla al final (\").\n",
        "* Para errores más complejos podemos encontrar la solución con una búsqueda en Internet. Basta con copiar el error en el buscador y aparecerán como resultado posible soluciones al problema."
      ]
    },
    {
      "cell_type": "code",
      "metadata": {
        "id": "cxQaqgBubDhM",
        "outputId": "5730d3f3-446d-4508-a7e9-2d1e00d8d35a",
        "colab": {
          "base_uri": "https://localhost:8080/",
          "height": 68
        }
      },
      "source": [
        "print(\"Este es otro texto\")\n",
        "print(\"Espero no equivocarme\")"
      ],
      "execution_count": null,
      "outputs": [
        {
          "output_type": "stream",
          "text": [
            "Este es otro texto\n",
            "Espero no equivocarme\n",
            "ERROR! Session/line number was not unique in database. History logging moved to new session 63\n"
          ],
          "name": "stdout"
        }
      ]
    },
    {
      "cell_type": "markdown",
      "metadata": {
        "id": "NWGPbFjdeNnR"
      },
      "source": [
        "## Comentarios en Python\n",
        "\n",
        "Los comentarios son muy importantes en nuestros programas.\n",
        "Son útiles para explicar el funcionamiento del programa a las personas que puedan usarlo en el futuro. También se puede usar para explicar partes del código.\n",
        "Estos comentarios son ignorados por la computadora al ejecutarlos.\n",
        "Hay dos maneras de insertar comentarios en Python:\n",
        "* Si el comentario nos ocupa una línea, mayormente se usa `#`. Todo lo escrito a la derecha de `#` Python lo ignorará\n",
        "* Si el comentario puede ocupar más de dos líneas, usamos `\"\"\" \"\"\"`. Todo lo escrito dentro de `\"\"\" \"\"\"` Python lo ignorará."
      ]
    },
    {
      "cell_type": "code",
      "metadata": {
        "id": "wr6mRq7geIHl",
        "outputId": "3fdf4513-4676-4a8b-d441-8f107efba4d3",
        "colab": {
          "base_uri": "https://localhost:8080/",
          "height": 34
        }
      },
      "source": [
        "#Este es un comentario, Python lo va a ignorar\n",
        "print('Esto no es un comentario')"
      ],
      "execution_count": null,
      "outputs": [
        {
          "output_type": "stream",
          "text": [
            "Esto no es un comentario\n"
          ],
          "name": "stdout"
        }
      ]
    },
    {
      "cell_type": "code",
      "metadata": {
        "id": "lxYrTehBfj37",
        "outputId": "88f2cc5d-cfad-46e5-80b3-69fd3e1b09c7",
        "colab": {
          "base_uri": "https://localhost:8080/",
          "height": 34
        }
      },
      "source": [
        "\"\"\" Este es otro comentario\n",
        "y no quiero que mi programa ejecute este print\n",
        "print(\"Esto es un comentrio\") \"\"\"\n",
        "print(\"Este comentario si lo quiero mostrar\")"
      ],
      "execution_count": null,
      "outputs": [
        {
          "output_type": "stream",
          "text": [
            "Este comentario si lo quiero mostrar\n"
          ],
          "name": "stdout"
        }
      ]
    },
    {
      "cell_type": "markdown",
      "metadata": {
        "id": "fM7lR2x8f8mP"
      },
      "source": [
        "Podemos agregar comentario en cualquier parte de nuestro programa.\n",
        "\n",
        "* `#` comenta todo lo que está a la derecha. Se puede combinar código con comentarios en la misma línea."
      ]
    },
    {
      "cell_type": "code",
      "metadata": {
        "id": "e3ZFrjt9f4iL",
        "outputId": "b61ea2e5-2474-4026-922a-48460feb1595",
        "colab": {
          "base_uri": "https://localhost:8080/",
          "height": 68
        }
      },
      "source": [
        "print(\"Inicio de la prueba\")\n",
        "# Sección de comentario\n",
        "print(\"Otra sección no comentario\") #Esto si es un comentario\n",
        "print(\"Final de la prueba\")"
      ],
      "execution_count": null,
      "outputs": [
        {
          "output_type": "stream",
          "text": [
            "Inicio de la prueba\n",
            "Otra sección no comentario\n",
            "Final de la prueba\n"
          ],
          "name": "stdout"
        }
      ]
    },
    {
      "cell_type": "markdown",
      "metadata": {
        "id": "6TAf9xbqmJU0"
      },
      "source": [
        "* `\"\"\" \"\"\"` comenta lo que está dentro, pero no se puede combinar código y este tipo de comentarios en la misma línea"
      ]
    },
    {
      "cell_type": "code",
      "metadata": {
        "id": "bJrrx85Ngqk-",
        "outputId": "2483084a-36c3-4797-bc8c-4c9e79fb8a00",
        "colab": {
          "base_uri": "https://localhost:8080/",
          "height": 68
        }
      },
      "source": [
        "\"\"\"Inicio de comentario\"\"\"\n",
        "print(\"última prueba\")\n",
        "\"\"\" No quiero ejecutar esta parte \n",
        "print(\"Ejemplo\")\n",
        "\"\"\" \n",
        "print(\"Esta parte si lo quiero mostrar\")\n",
        "print(\"Final\")"
      ],
      "execution_count": null,
      "outputs": [
        {
          "output_type": "stream",
          "text": [
            "última prueba\n",
            "Esta parte si lo quiero mostrar\n",
            "Final\n"
          ],
          "name": "stdout"
        }
      ]
    }
  ]
}