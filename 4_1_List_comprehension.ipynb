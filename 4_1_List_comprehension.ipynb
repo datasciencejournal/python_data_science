{
  "nbformat": 4,
  "nbformat_minor": 0,
  "metadata": {
    "colab": {
      "name": "4_1_List_comprehension.ipynb",
      "provenance": [],
      "collapsed_sections": [],
      "authorship_tag": "ABX9TyOwE1dN3FZbbPg59EZVT/gc",
      "include_colab_link": true
    },
    "kernelspec": {
      "name": "python3",
      "display_name": "Python 3"
    }
  },
  "cells": [
    {
      "cell_type": "markdown",
      "metadata": {
        "id": "view-in-github",
        "colab_type": "text"
      },
      "source": [
        "<a href=\"https://colab.research.google.com/github/datasciencejournal/python_data_science/blob/main/4_1_List_comprehension.ipynb\" target=\"_parent\"><img src=\"https://colab.research.google.com/assets/colab-badge.svg\" alt=\"Open In Colab\"/></a>"
      ]
    },
    {
      "cell_type": "markdown",
      "metadata": {
        "id": "1FnLH2pUVTjV"
      },
      "source": [
        "# List comprehension\n",
        "\n",
        "Una List comprehension es una manera de poder crear listas, a partir de una lista, de manera consisa y muchas veces el resultado es más rápido que usando un bucle como `for`.\n",
        "\n",
        "Veamos con el siguiente ejemplo:\n",
        "\n",
        "Supongamos que tenemos una lista de números y queremos generar otra lista cuyos elementos sean el doble de la lista original."
      ]
    },
    {
      "cell_type": "code",
      "metadata": {
        "id": "mXHllFa8TaCK"
      },
      "source": [
        "# generando nuestra lista de números\n",
        "\n",
        "numeros = [1, 2, 3, 4, 5, 6]"
      ],
      "execution_count": 1,
      "outputs": []
    },
    {
      "cell_type": "markdown",
      "metadata": {
        "id": "8tunEYUKWSLJ"
      },
      "source": [
        "vamos a crear nuestra nueva lista usando bucle for:"
      ]
    },
    {
      "cell_type": "code",
      "metadata": {
        "id": "w0jRqMt2WQEf",
        "outputId": "caee6b35-d319-4c49-a01f-c01c6d5eb4bd",
        "colab": {
          "base_uri": "https://localhost:8080/"
        }
      },
      "source": [
        "cuadrados = []\n",
        "\n",
        "for numero in numeros:\n",
        "  cuadrado = 2 * numero\n",
        "  cuadrados.append(cuadrado)\n",
        "\n",
        "print(cuadrados)"
      ],
      "execution_count": 2,
      "outputs": [
        {
          "output_type": "stream",
          "text": [
            "[2, 4, 6, 8, 10, 12]\n"
          ],
          "name": "stdout"
        }
      ]
    },
    {
      "cell_type": "markdown",
      "metadata": {
        "id": "gSsVYPLqWnAL"
      },
      "source": [
        "Podemos ver que hemos generado una lista que son los cuadrados de la lista  `numeros`.\n",
        "\n",
        "Ahora hagamos lo mismo, pero usando list comprehension:"
      ]
    },
    {
      "cell_type": "code",
      "metadata": {
        "id": "ww82J-rNWdfU",
        "outputId": "959541bb-e478-4094-a4cb-6378611af9ba",
        "colab": {
          "base_uri": "https://localhost:8080/"
        }
      },
      "source": [
        "cuadrados = [2 *x for x in numeros]\n",
        "\n",
        "print(cuadrados)"
      ],
      "execution_count": 3,
      "outputs": [
        {
          "output_type": "stream",
          "text": [
            "[2, 4, 6, 8, 10, 12]\n"
          ],
          "name": "stdout"
        }
      ]
    },
    {
      "cell_type": "markdown",
      "metadata": {
        "id": "cmzKupbYW2ev"
      },
      "source": [
        "¡Hemos obtenido el mismo resultado, solo que en una sola línea!\n",
        "\n",
        "¿Será más rápido? Veamos, para eso usaremos una lista más grande:"
      ]
    },
    {
      "cell_type": "code",
      "metadata": {
        "id": "4GX8aRHHWgFH"
      },
      "source": [
        "# Generando una lista grande de números\n",
        "\n",
        "numeros = list(range(1000000))"
      ],
      "execution_count": 4,
      "outputs": []
    },
    {
      "cell_type": "code",
      "metadata": {
        "id": "5fhd5nySXWY8",
        "outputId": "ac8df3fe-23f2-4f52-e925-41bf25d8322e",
        "colab": {
          "base_uri": "https://localhost:8080/"
        }
      },
      "source": [
        "%%time\n",
        "\n",
        "cuadrados = []\n",
        "\n",
        "for numero in numeros:\n",
        "  cuadrado = 2 *numero\n",
        "  cuadrados.append(cuadrado)"
      ],
      "execution_count": 5,
      "outputs": [
        {
          "output_type": "stream",
          "text": [
            "CPU times: user 164 ms, sys: 29.7 ms, total: 194 ms\n",
            "Wall time: 195 ms\n"
          ],
          "name": "stdout"
        }
      ]
    },
    {
      "cell_type": "code",
      "metadata": {
        "id": "jmeVoHe8Xgaz",
        "outputId": "648dd05c-34d1-4116-f735-e3c3b7e8257a",
        "colab": {
          "base_uri": "https://localhost:8080/"
        }
      },
      "source": [
        "%%time\n",
        "\n",
        "cuadrados = [2 * x for x in numeros]"
      ],
      "execution_count": 6,
      "outputs": [
        {
          "output_type": "stream",
          "text": [
            "CPU times: user 64.8 ms, sys: 29.2 ms, total: 94 ms\n",
            "Wall time: 94.3 ms\n"
          ],
          "name": "stdout"
        }
      ]
    },
    {
      "cell_type": "markdown",
      "metadata": {
        "id": "vvtIFJI8X8nA"
      },
      "source": [
        "Mirando el `total` ¡Podemos ver que tarda mucho menos!"
      ]
    },
    {
      "cell_type": "markdown",
      "metadata": {
        "id": "gneebJYZYbyK"
      },
      "source": [
        "## Sintaxis\n",
        "\n",
        "Una list comprehension empieza con `[` y termina con `]` para recordar que el resultado siempre será una lista.\n",
        "\n",
        "La sintaxis tiene la siguiente forma:\n",
        "\n",
        "```python\n",
        "[expresion(x) for x in lista if condicion]\n",
        "```\n",
        "\n",
        "Esto es equivalente a:\n",
        "\n",
        "```python\n",
        "nueva_lista = []\n",
        "\n",
        "for x in lista:\n",
        "  if condicion:\n",
        "    nueva_lista.append(expresion(x))\n",
        "```\n",
        "\n",
        "Ya veremos más adelante, pero con `expresion` nos referimos a una función, com por ejemplo, el doble de un número, el cuadrado, un texto en mayúsculas, etc. Usamos `condicion` para que la lista se genere con aquellos elementos que pasen la condicion, esto implica que la salida de la lista no siempre tendrá la misma longitud que la lista original.\n",
        "\n",
        "Dado que list comprehension evita `append` por lo general es más rápido que usar bucles como `for`."
      ]
    },
    {
      "cell_type": "markdown",
      "metadata": {
        "id": "dseqIMJtd5MJ"
      },
      "source": [
        "## Ejemplos:\n",
        "\n",
        "Veamos algunos ejemplos usando simples bucles como list comprehension:"
      ]
    },
    {
      "cell_type": "markdown",
      "metadata": {
        "id": "MFoxyaGhd9gU"
      },
      "source": [
        "### Poniendo en mayúsculas una lista de palabras\n",
        "\n",
        "Tenemos una lista de palabras, vamos a ponerlos en mayúsculas:"
      ]
    },
    {
      "cell_type": "code",
      "metadata": {
        "id": "lNuv7kjcXqy9"
      },
      "source": [
        "nombres = ['me', 'encanta', 'programar', 'en', 'python']"
      ],
      "execution_count": 7,
      "outputs": []
    },
    {
      "cell_type": "code",
      "metadata": {
        "id": "xl3JA21EeJ31",
        "outputId": "172472df-2eed-4829-8f21-df1d5b60f891",
        "colab": {
          "base_uri": "https://localhost:8080/"
        }
      },
      "source": [
        "# Usando bucles\n",
        "\n",
        "nombres_mayusculas = []\n",
        "\n",
        "for nombre in nombres:\n",
        "  nombres_mayusculas.append(nombre.upper())\n",
        "\n",
        "print(nombres_mayusculas)"
      ],
      "execution_count": 8,
      "outputs": [
        {
          "output_type": "stream",
          "text": [
            "['ME', 'ENCANTA', 'PROGRAMAR', 'EN', 'PYTHON']\n"
          ],
          "name": "stdout"
        }
      ]
    },
    {
      "cell_type": "code",
      "metadata": {
        "id": "Sc_16xXUeQ3k",
        "outputId": "6341081f-3e2d-4865-a2ee-f48e02d7fd88",
        "colab": {
          "base_uri": "https://localhost:8080/"
        }
      },
      "source": [
        "# list comprehension\n",
        "\n",
        "nombres_mayusculas = [nombre.upper() for nombre in nombres]\n",
        "\n",
        "print(nombres_mayusculas)"
      ],
      "execution_count": 9,
      "outputs": [
        {
          "output_type": "stream",
          "text": [
            "['ME', 'ENCANTA', 'PROGRAMAR', 'EN', 'PYTHON']\n"
          ],
          "name": "stdout"
        }
      ]
    },
    {
      "cell_type": "markdown",
      "metadata": {
        "id": "FK7hkdmAejiH"
      },
      "source": [
        "### Elevando al cuadrado de los números pares de una lista de números\n",
        "\n",
        "Calculemos el cuadrado de los elementos de una lista de números, pero solo de los números pares. En este caso la lista final será menor que la lista original, ya que solo queremos calcular el cuadrado de los números pares:"
      ]
    },
    {
      "cell_type": "code",
      "metadata": {
        "id": "HLok1sPTeZKl"
      },
      "source": [
        "numeros = range(0, 10)"
      ],
      "execution_count": 10,
      "outputs": []
    },
    {
      "cell_type": "code",
      "metadata": {
        "id": "RUnI7As0e0ed",
        "outputId": "b38a0190-a09f-4b9d-8892-4268bfb3a509",
        "colab": {
          "base_uri": "https://localhost:8080/"
        }
      },
      "source": [
        "# Usando bucles\n",
        "cuadrados_pares = []\n",
        "\n",
        "for numero in numeros:\n",
        "  if numero % 2 == 0:\n",
        "    cuadrados_pares.append(numero ** 2)\n",
        "  \n",
        "print(cuadrados_pares)"
      ],
      "execution_count": 11,
      "outputs": [
        {
          "output_type": "stream",
          "text": [
            "[0, 4, 16, 36, 64]\n"
          ],
          "name": "stdout"
        }
      ]
    },
    {
      "cell_type": "code",
      "metadata": {
        "id": "iZMEiXRge9ti",
        "outputId": "b03d65dd-6189-43e3-ffcc-4317cd35a957",
        "colab": {
          "base_uri": "https://localhost:8080/"
        }
      },
      "source": [
        "# list comprehension\n",
        "\n",
        "cuadrados_pares = [x**2 for x in numeros if x % 2 == 0]\n",
        "\n",
        "print(cuadrados_pares)"
      ],
      "execution_count": 12,
      "outputs": [
        {
          "output_type": "stream",
          "text": [
            "[0, 4, 16, 36, 64]\n"
          ],
          "name": "stdout"
        }
      ]
    },
    {
      "cell_type": "markdown",
      "metadata": {
        "id": "Y5NWmADKf8Yw"
      },
      "source": [
        "### Generando una lista con: texto mayuscula y minuscula\n",
        "\n",
        "Tenemos una lista de palabras y queremos calcular una lista que contenga la palabra en mayúscula y minúscula. En este caso haremos uso de una tupla:"
      ]
    },
    {
      "cell_type": "code",
      "metadata": {
        "id": "_jI9ydYlfG1o"
      },
      "source": [
        "palabras = ['Ab', 'Cd', 'Ef']"
      ],
      "execution_count": 13,
      "outputs": []
    },
    {
      "cell_type": "code",
      "metadata": {
        "id": "-yJITMNGglRT",
        "outputId": "b071654c-b957-4cb8-e10e-489e8086f9d9",
        "colab": {
          "base_uri": "https://localhost:8080/"
        }
      },
      "source": [
        "# usando bucles\n",
        "\n",
        "nuevas_palabras = []\n",
        "\n",
        "for palabra in palabras:\n",
        "  nuevas_palabras.append((palabra.lower(), palabra.upper()))\n",
        "\n",
        "print(nuevas_palabras)"
      ],
      "execution_count": 14,
      "outputs": [
        {
          "output_type": "stream",
          "text": [
            "[('ab', 'AB'), ('cd', 'CD'), ('ef', 'EF')]\n"
          ],
          "name": "stdout"
        }
      ]
    },
    {
      "cell_type": "code",
      "metadata": {
        "id": "gEZKJnW4hbA7",
        "outputId": "1ffbd7bf-4696-4bec-b506-63c678b434c2",
        "colab": {
          "base_uri": "https://localhost:8080/"
        }
      },
      "source": [
        "# list comprehension\n",
        "\n",
        "nuevas_palabras = [(x.lower(), x.upper()) for x in palabras]\n",
        "\n",
        "print(nuevas_palabras)"
      ],
      "execution_count": 15,
      "outputs": [
        {
          "output_type": "stream",
          "text": [
            "[('ab', 'AB'), ('cd', 'CD'), ('ef', 'EF')]\n"
          ],
          "name": "stdout"
        }
      ]
    },
    {
      "cell_type": "markdown",
      "metadata": {
        "id": "lJItB-vIh1Rd"
      },
      "source": [
        "Ya hemos visto cómo usar list comprehension para crear listas en lugar de bucles.\n",
        "\n",
        "Ahora solo queda practicar y practicar."
      ]
    },
    {
      "cell_type": "code",
      "metadata": {
        "id": "F0097x29hmU7"
      },
      "source": [
        ""
      ],
      "execution_count": 15,
      "outputs": []
    }
  ]
}