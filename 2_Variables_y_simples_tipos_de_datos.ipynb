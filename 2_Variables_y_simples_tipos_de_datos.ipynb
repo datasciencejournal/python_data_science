{
  "nbformat": 4,
  "nbformat_minor": 0,
  "metadata": {
    "colab": {
      "name": "2 Variables y simples tipos de datos.ipynb",
      "provenance": [],
      "collapsed_sections": [],
      "toc_visible": true,
      "include_colab_link": true
    },
    "kernelspec": {
      "name": "python3",
      "display_name": "Python 3"
    }
  },
  "cells": [
    {
      "cell_type": "markdown",
      "metadata": {
        "id": "view-in-github",
        "colab_type": "text"
      },
      "source": [
        "<a href=\"https://colab.research.google.com/github/datasciencejournal/python_data_science/blob/main/2_Variables_y_simples_tipos_de_datos.ipynb\" target=\"_parent\"><img src=\"https://colab.research.google.com/assets/colab-badge.svg\" alt=\"Open In Colab\"/></a>"
      ]
    },
    {
      "cell_type": "markdown",
      "metadata": {
        "id": "zY8TM0CK5LhT"
      },
      "source": [
        "# Variables y simples tipos de datos\n",
        "\n",
        "En esta sección vamos a aprender:\n",
        "* distintos tipos de datos que podemos trabajar en nuestros programas de Python.\n",
        "* Cómo usar las variables para representar los datos en nuestros programas"
      ]
    },
    {
      "cell_type": "markdown",
      "metadata": {
        "id": "9RKBBjTn5Tsv"
      },
      "source": [
        "## Variables\n",
        "* Una variable no es más que un nombre para algo\n"
      ]
    },
    {
      "cell_type": "code",
      "metadata": {
        "id": "iWera_HA30sD"
      },
      "source": [
        "mensaje = \"Bienvenidos al mundo de Python\""
      ],
      "execution_count": null,
      "outputs": []
    },
    {
      "cell_type": "code",
      "metadata": {
        "id": "yomgbU0U5B9c",
        "outputId": "e7af39e7-b239-4a09-dac7-529faa25a12a",
        "colab": {
          "base_uri": "https://localhost:8080/",
          "height": 34
        }
      },
      "source": [
        "print(mensaje)"
      ],
      "execution_count": null,
      "outputs": [
        {
          "output_type": "stream",
          "text": [
            "Bienvenidos al mundo de Python\n"
          ],
          "name": "stdout"
        }
      ]
    },
    {
      "cell_type": "markdown",
      "metadata": {
        "id": "5xSUiitD5iGC"
      },
      "source": [
        "Hemos agregado una *variable* llamada `mensaje`. Cada variable está conectada a un *valor*. Es la información asociada a la variable. En este caso el valor es el texto `Bienvenidos al mundo de Python`\n"
      ]
    },
    {
      "cell_type": "code",
      "metadata": {
        "id": "HM2kEz6-5NnF",
        "outputId": "4436467f-ae48-4b85-dcca-b50cf4128be5",
        "colab": {
          "base_uri": "https://localhost:8080/",
          "height": 34
        }
      },
      "source": [
        "mensaje = \"Bienvenidos al mundo de Python\"\n",
        "print(mensaje)"
      ],
      "execution_count": null,
      "outputs": [
        {
          "output_type": "stream",
          "text": [
            "Bienvenidos al mundo de Python\n"
          ],
          "name": "stdout"
        }
      ]
    },
    {
      "cell_type": "markdown",
      "metadata": {
        "id": "cn2jcwj17gyr"
      },
      "source": [
        "Cuando procesa la primera línea, asocia la variable `mensaje` con el texto `Bienvenidos al mundo de Python`. Cuando llega a la segunda línea, imprime el valor asociado con el mensaje en pantalla."
      ]
    },
    {
      "cell_type": "code",
      "metadata": {
        "id": "fk3oEl9l7gIv",
        "outputId": "ec455ef7-55e8-4219-90a1-cf0838af0e19",
        "colab": {
          "base_uri": "https://localhost:8080/",
          "height": 51
        }
      },
      "source": [
        "mensaje = \"Bienvenidos al mundo de Python\"\n",
        "print(mensaje)\n",
        "\n",
        "mensaje = \"Mundo de Python - bienvenidos\"\n",
        "print(mensaje)"
      ],
      "execution_count": null,
      "outputs": [
        {
          "output_type": "stream",
          "text": [
            "Bienvenidos al mundo de Python\n",
            "Mundo de Python - bienvenidos\n"
          ],
          "name": "stdout"
        }
      ]
    },
    {
      "cell_type": "markdown",
      "metadata": {
        "id": "PvrUlOXj74sO"
      },
      "source": [
        "Podemos cambiar el valor de la variable en cualquier momento, solo que Python mantendrá el valor actual"
      ]
    },
    {
      "cell_type": "code",
      "metadata": {
        "id": "zbOCilAU715X",
        "outputId": "06bd9602-fddc-468b-c3bb-5f9436620ab8",
        "colab": {
          "base_uri": "https://localhost:8080/",
          "height": 34
        }
      },
      "source": [
        "print(mensaje)"
      ],
      "execution_count": null,
      "outputs": [
        {
          "output_type": "stream",
          "text": [
            "Mundo de Python - bienvenidos\n"
          ],
          "name": "stdout"
        }
      ]
    },
    {
      "cell_type": "markdown",
      "metadata": {
        "id": "BEB1vkSe84uW"
      },
      "source": [
        "### Nombramiento y uso de variables\n",
        "Debe cumplir algunas reglas y pautas. Romper algunas de estas reglas puede causar errores.\n",
        "\n",
        "* Los nombres de las variables solo pueden contener letras, números y guiones bajos. Pueden comenzar con una letra o un guión bajo, pero no con un número.\n"
      ]
    },
    {
      "cell_type": "code",
      "metadata": {
        "id": "V-Sgg-588HFd",
        "outputId": "29237764-3ce3-4735-b084-207df4e9fcfb",
        "colab": {
          "base_uri": "https://localhost:8080/",
          "height": 34
        }
      },
      "source": [
        "mensaje_1 = 'Hola a todos'\n",
        "print(mensaje_1)"
      ],
      "execution_count": null,
      "outputs": [
        {
          "output_type": "stream",
          "text": [
            "Hola a todos\n"
          ],
          "name": "stdout"
        }
      ]
    },
    {
      "cell_type": "code",
      "metadata": {
        "id": "3MnZIGMa9X1H",
        "outputId": "4ee6f779-848d-422b-ec06-25b8389179ca",
        "colab": {
          "base_uri": "https://localhost:8080/",
          "height": 129
        }
      },
      "source": [
        "1_mensaje = 'Hola de nuevo'\n",
        "print(1_mensaje)"
      ],
      "execution_count": null,
      "outputs": [
        {
          "output_type": "error",
          "ename": "SyntaxError",
          "evalue": "ignored",
          "traceback": [
            "\u001b[0;36m  File \u001b[0;32m\"<ipython-input-7-259854279a68>\"\u001b[0;36m, line \u001b[0;32m1\u001b[0m\n\u001b[0;31m    1_mensaje = 'Hola de nuevo'\u001b[0m\n\u001b[0m     ^\u001b[0m\n\u001b[0;31mSyntaxError\u001b[0m\u001b[0;31m:\u001b[0m invalid token\n"
          ]
        }
      ]
    },
    {
      "cell_type": "markdown",
      "metadata": {
        "id": "SxNnAd0d9cRW"
      },
      "source": [
        "* No se permiten espacios en los nombres de las variables, se pueden usar guiones bajos para separar palabras en nombres de variables."
      ]
    },
    {
      "cell_type": "code",
      "metadata": {
        "id": "VoIWNcFf9a3t",
        "outputId": "9f05e299-0c8b-4c43-f348-7ef481943abb",
        "colab": {
          "base_uri": "https://localhost:8080/",
          "height": 129
        }
      },
      "source": [
        "mensaje saludo = \"mensaje de saludo\"\n",
        "print(mensaje saludo)"
      ],
      "execution_count": null,
      "outputs": [
        {
          "output_type": "error",
          "ename": "SyntaxError",
          "evalue": "ignored",
          "traceback": [
            "\u001b[0;36m  File \u001b[0;32m\"<ipython-input-8-c98103421e9f>\"\u001b[0;36m, line \u001b[0;32m1\u001b[0m\n\u001b[0;31m    mensaje saludo = \"mensaje de saludo\"\u001b[0m\n\u001b[0m                 ^\u001b[0m\n\u001b[0;31mSyntaxError\u001b[0m\u001b[0;31m:\u001b[0m invalid syntax\n"
          ]
        }
      ]
    },
    {
      "cell_type": "code",
      "metadata": {
        "id": "5c-Qo4GC9rYW",
        "outputId": "dee6f9d9-9603-4a2c-a973-3eb789f1b224",
        "colab": {
          "base_uri": "https://localhost:8080/",
          "height": 34
        }
      },
      "source": [
        "mensaje_saludo = \"mensaje de saludo\"\n",
        "print(mensaje_saludo)"
      ],
      "execution_count": null,
      "outputs": [
        {
          "output_type": "stream",
          "text": [
            "mensaje de saludo\n"
          ],
          "name": "stdout"
        }
      ]
    },
    {
      "cell_type": "markdown",
      "metadata": {
        "id": "-daV8qwK93Cp"
      },
      "source": [
        "* Evitar usar palabras clave de Python y nombre de funciones como nombres de nuestras variables. No use palabras que Python haya reservador para una programación de propósito particular. Por ejemplo, la palabra clave `print`"
      ]
    },
    {
      "cell_type": "code",
      "metadata": {
        "id": "1trpm2zz9udV",
        "outputId": "51ffdb03-f891-4a0b-9c5d-2636b71948e2",
        "colab": {
          "base_uri": "https://localhost:8080/",
          "height": 180
        }
      },
      "source": [
        "print = 'prueba'\n",
        "print(print)"
      ],
      "execution_count": null,
      "outputs": [
        {
          "output_type": "error",
          "ename": "TypeError",
          "evalue": "ignored",
          "traceback": [
            "\u001b[0;31m---------------------------------------------------------------------------\u001b[0m",
            "\u001b[0;31mTypeError\u001b[0m                                 Traceback (most recent call last)",
            "\u001b[0;32m<ipython-input-10-0f9ec2accfd8>\u001b[0m in \u001b[0;36m<module>\u001b[0;34m()\u001b[0m\n\u001b[1;32m      1\u001b[0m \u001b[0mprint\u001b[0m \u001b[0;34m=\u001b[0m \u001b[0;34m'prueba'\u001b[0m\u001b[0;34m\u001b[0m\u001b[0;34m\u001b[0m\u001b[0m\n\u001b[0;32m----> 2\u001b[0;31m \u001b[0mprint\u001b[0m\u001b[0;34m(\u001b[0m\u001b[0mprint\u001b[0m\u001b[0;34m)\u001b[0m\u001b[0;34m\u001b[0m\u001b[0;34m\u001b[0m\u001b[0m\n\u001b[0m",
            "\u001b[0;31mTypeError\u001b[0m: 'str' object is not callable"
          ]
        }
      ]
    },
    {
      "cell_type": "code",
      "metadata": {
        "id": "nTLH2Y43-REP"
      },
      "source": [
        "del print"
      ],
      "execution_count": null,
      "outputs": []
    },
    {
      "cell_type": "markdown",
      "metadata": {
        "id": "AZKXp1e6-cY1"
      },
      "source": [
        "* Nombres de variables deben ser cortos pero descriptivos."
      ]
    },
    {
      "cell_type": "code",
      "metadata": {
        "id": "zPjidjV3-YgF",
        "outputId": "58345874-8976-4e47-fad9-e423751385c4",
        "colab": {
          "base_uri": "https://localhost:8080/",
          "height": 119
        }
      },
      "source": [
        "nombre = \"Jahaziel\"\n",
        "n = \"Jahaziel\"\n",
        "nombre_estudiante = \"Jahaziel\"\n",
        "n_e = \"Jahaziel\"\n",
        "longitud_nombre = len(nombre)\n",
        "longitud_del_nombre_de_la_persona = len(nombre)\n",
        "\n",
        "print(nombre)\n",
        "print(n)\n",
        "print(nombre_estudiante)\n",
        "print(n_e)\n",
        "print(longitud_nombre)\n",
        "print(longitud_del_nombre_de_la_persona)"
      ],
      "execution_count": null,
      "outputs": [
        {
          "output_type": "stream",
          "text": [
            "Jahaziel\n",
            "Jahaziel\n",
            "Jahaziel\n",
            "Jahaziel\n",
            "8\n",
            "8\n"
          ],
          "name": "stdout"
        }
      ]
    },
    {
      "cell_type": "markdown",
      "metadata": {
        "id": "rqg-KGud-rg_"
      },
      "source": [
        "* Tener cuidado al usar la letra minúscula `i` y la letra mayúscula `O`, puede confundir con los números 1 y 0.\n",
        "\n",
        "Puede tomar algo de práctica aprender cómo crear buenos nombres de variables, pero a medida que escriba más programas y lea el código de otras personas, mejorará al encontrar nombres significativos"
      ]
    },
    {
      "cell_type": "markdown",
      "metadata": {
        "id": "n6f_cn10_2gv"
      },
      "source": [
        "### Evitando errores de nombres al usar variables\n",
        "Es común que a la hora de programar cometamos errores, por lo que es necesari poder responder a estos errores de manera eficiente.\n",
        "Veamos un error común cuando se empieza a programar en Python e intentaremos solucionarlo."
      ]
    },
    {
      "cell_type": "code",
      "metadata": {
        "id": "vw07hH1i-1vL",
        "outputId": "e2fe08f0-0cda-4eb0-8f5a-8fce76556f01",
        "colab": {
          "base_uri": "https://localhost:8080/",
          "height": 180
        }
      },
      "source": [
        "mensaje = \"Hola al curso de Python!!!\"\n",
        "print(mesaje)"
      ],
      "execution_count": null,
      "outputs": [
        {
          "output_type": "error",
          "ename": "NameError",
          "evalue": "ignored",
          "traceback": [
            "\u001b[0;31m---------------------------------------------------------------------------\u001b[0m",
            "\u001b[0;31mNameError\u001b[0m                                 Traceback (most recent call last)",
            "\u001b[0;32m<ipython-input-13-78a58bb6f405>\u001b[0m in \u001b[0;36m<module>\u001b[0;34m()\u001b[0m\n\u001b[1;32m      1\u001b[0m \u001b[0mmensaje\u001b[0m \u001b[0;34m=\u001b[0m \u001b[0;34m\"Hola al curso de Python!!!\"\u001b[0m\u001b[0;34m\u001b[0m\u001b[0;34m\u001b[0m\u001b[0m\n\u001b[0;32m----> 2\u001b[0;31m \u001b[0mprint\u001b[0m\u001b[0;34m(\u001b[0m\u001b[0mmesaje\u001b[0m\u001b[0;34m)\u001b[0m\u001b[0;34m\u001b[0m\u001b[0;34m\u001b[0m\u001b[0m\n\u001b[0m",
            "\u001b[0;31mNameError\u001b[0m: name 'mesaje' is not defined"
          ]
        }
      ]
    },
    {
      "cell_type": "markdown",
      "metadata": {
        "id": "ObHnVw1HGKk7"
      },
      "source": [
        "Cuando ocurre un error en el programa, Python intenta descubrir donde está el problema. El intérprete proporciona un rastreo cuando el programa no puede ejecutarse con éxito. Un rastreo es un registro de donde el intérprete tuvo problemas al intentar ejecutar el código.\n",
        "\n",
        "En este ejemplo, Python nos informa que se produce un error en la línea `2`. Python muestra esta línea `--->` para ayudarnos a detectar el error y nos dice qué tipo de error encontró. En este caso encontró un error *en el nombre de la variable* y nos informa que la variable `mesaje` no ha sido definido.\n",
        "Este tipo de error es muy común, puede que cometamos un error ortográfico o que nos olvidemos de establecer el valor de una variable antes de usarla.\n",
        "\n",
        "Vamos a corregir este error"
      ]
    },
    {
      "cell_type": "code",
      "metadata": {
        "id": "vfvy75E8F_PJ",
        "outputId": "82137fe5-a502-4e03-9bcd-c50758b4402a",
        "colab": {
          "base_uri": "https://localhost:8080/",
          "height": 34
        }
      },
      "source": [
        "mesaje = \"Hola al curso de Python!!!\"\n",
        "print(mesaje)"
      ],
      "execution_count": null,
      "outputs": [
        {
          "output_type": "stream",
          "text": [
            "Hola al curso de Python!!!\n"
          ],
          "name": "stdout"
        }
      ]
    },
    {
      "cell_type": "markdown",
      "metadata": {
        "id": "LfR-UgFqbdzu"
      },
      "source": [
        "¡Ha funcionado correctamente!\n",
        "Los lenguajes de programación son estrictos, pero ignoran la buena o mala ortografía."
      ]
    },
    {
      "cell_type": "markdown",
      "metadata": {
        "id": "fQlx2vsxb4rg"
      },
      "source": [
        "### Variables son etiquetas\n",
        "Pensemos las variables como etiquetas que se puede asignar valores. También podemos decir que una variable hace referencia a un cierto valor."
      ]
    },
    {
      "cell_type": "markdown",
      "metadata": {
        "id": "Qf2obNMUdXBJ"
      },
      "source": [
        "## Strings\n",
        "\n",
        "El primer tipo de datos que vamos a ver son los Strings o cadenas. Los strings son bastantes simple a primera vista, pero puede usarlas de muchas maneras diferentes.\n",
        "\n",
        "Un String es una serie de caracteres. Cualquier cosa dentro de comillas (`\"\"`). Se puede usar tanto comillas simples o apóstrofes (`''`) o dobles."
      ]
    },
    {
      "cell_type": "code",
      "metadata": {
        "id": "SBxbYMYjbGQ4",
        "outputId": "b22a53b3-c96d-461a-8932-b046dac58866",
        "colab": {
          "base_uri": "https://localhost:8080/",
          "height": 34
        }
      },
      "source": [
        "\"Esto es un String\""
      ],
      "execution_count": null,
      "outputs": [
        {
          "output_type": "execute_result",
          "data": {
            "text/plain": [
              "'Esto es un String'"
            ]
          },
          "metadata": {
            "tags": []
          },
          "execution_count": 18
        }
      ]
    },
    {
      "cell_type": "code",
      "metadata": {
        "id": "ZWdI2J_VeGrQ",
        "outputId": "491d058d-d846-4817-ff26-fbe8a6835abb",
        "colab": {
          "base_uri": "https://localhost:8080/",
          "height": 34
        }
      },
      "source": [
        "'Esto también es un String'"
      ],
      "execution_count": null,
      "outputs": [
        {
          "output_type": "execute_result",
          "data": {
            "text/plain": [
              "'Esto también es un String'"
            ]
          },
          "metadata": {
            "tags": []
          },
          "execution_count": 19
        }
      ]
    },
    {
      "cell_type": "markdown",
      "metadata": {
        "id": "pgE40uG_eQo2"
      },
      "source": [
        "Podemos usar comillas y apóstrofes dentro de nuestros Strings"
      ]
    },
    {
      "cell_type": "code",
      "metadata": {
        "id": "muHnwD4DeLkQ",
        "outputId": "8f5aeacc-8f03-45bb-c900-9082a7f217bf",
        "colab": {
          "base_uri": "https://localhost:8080/",
          "height": 34
        }
      },
      "source": [
        "' Como decía mi amigo \"Python es mi lenguaje favorito\" '"
      ],
      "execution_count": null,
      "outputs": [
        {
          "output_type": "execute_result",
          "data": {
            "text/plain": [
              "' Como decía mi amigo \"Python es mi lenguaje favorito\" '"
            ]
          },
          "metadata": {
            "tags": []
          },
          "execution_count": 20
        }
      ]
    },
    {
      "cell_type": "code",
      "metadata": {
        "id": "E5GFIoJ_eltE",
        "outputId": "92aefe46-a332-4e0c-f4d3-41f75a14d49e",
        "colab": {
          "base_uri": "https://localhost:8080/",
          "height": 34
        }
      },
      "source": [
        "\"El lenguaje 'Python' lleva el nombre de 'Monty Python' no de la serpiente\""
      ],
      "execution_count": null,
      "outputs": [
        {
          "output_type": "execute_result",
          "data": {
            "text/plain": [
              "\"El lenguaje 'Python' lleva el nombre de 'Monty Python' no de la serpiente\""
            ]
          },
          "metadata": {
            "tags": []
          },
          "execution_count": 21
        }
      ]
    },
    {
      "cell_type": "markdown",
      "metadata": {
        "id": "mqHMSohxeyfx"
      },
      "source": [
        "### Cambiando de mayúsculas y minúsculas en un String con métodos\n",
        "\n",
        "Una de las tareas simples que podemos hacer con String es cambiar a mayúsculas en un String."
      ]
    },
    {
      "cell_type": "code",
      "metadata": {
        "id": "m7LLYQZRev5f",
        "outputId": "163a51cd-ef8e-4218-d0e6-a39606b5d98f",
        "colab": {
          "base_uri": "https://localhost:8080/",
          "height": 34
        }
      },
      "source": [
        "nombre = \"jahaziel ponce\"\n",
        "print(nombre.title())"
      ],
      "execution_count": null,
      "outputs": [
        {
          "output_type": "stream",
          "text": [
            "Jahaziel Ponce\n"
          ],
          "name": "stdout"
        }
      ]
    },
    {
      "cell_type": "markdown",
      "metadata": {
        "id": "VOUJuq1jfnjO"
      },
      "source": [
        "En este ejemplo, la variable `nombre` se refiere al String en minúscula `\"jahaziel ponce\"`. el método `title()` aparece despues de la variable en la llamada `print()`.\n",
        "\n",
        "Un *método* es una acción que Python puede realizar en una pieza de datos. El punto (`.`) después de `nombre` en `nombre.title()` le dice a Python que hace que el método `title()` actue sobre la variable `nombre`.\n",
        "\n",
        "Cada método es seguido por un paréntesis, porque a menudo necesitan información adicional para hacer su trabajo. Esa información se proporciona dentro de los paréntesis. El método `title()` no necesita ninguna información adicional, por lo que el paréntesis está vacio.\n",
        "\n",
        "El método `title()` se utiliza para convertir el primer caracter de una palabra a mayúsculas y los caracteres restantes a minúsculas."
      ]
    },
    {
      "cell_type": "markdown",
      "metadata": {
        "id": "VsBH2Y1Ghx_P"
      },
      "source": [
        "Hay varios métodos útiles disponibles, por ejemplo, cambiar todos los caracteres de un String en mayúsculas o minúsculas"
      ]
    },
    {
      "cell_type": "code",
      "metadata": {
        "id": "VUnGsDXRfir1"
      },
      "source": [
        "nombre = \"Jahaziel Ponce\""
      ],
      "execution_count": null,
      "outputs": []
    },
    {
      "cell_type": "code",
      "metadata": {
        "id": "4msAjoN3iCWW",
        "outputId": "a5c1f7f4-c5af-48fb-f295-a5bd8872f61c",
        "colab": {
          "base_uri": "https://localhost:8080/",
          "height": 34
        }
      },
      "source": [
        "print(nombre.upper())"
      ],
      "execution_count": null,
      "outputs": [
        {
          "output_type": "stream",
          "text": [
            "JAHAZIEL PONCE\n"
          ],
          "name": "stdout"
        }
      ]
    },
    {
      "cell_type": "code",
      "metadata": {
        "id": "86XLqUMXiFxt",
        "outputId": "0a750362-cdf4-4979-b0b8-2593dba6193f",
        "colab": {
          "base_uri": "https://localhost:8080/",
          "height": 34
        }
      },
      "source": [
        "print(nombre.lower())"
      ],
      "execution_count": null,
      "outputs": [
        {
          "output_type": "stream",
          "text": [
            "jahaziel ponce\n"
          ],
          "name": "stdout"
        }
      ]
    },
    {
      "cell_type": "markdown",
      "metadata": {
        "id": "ipnQ9R3eiV6F"
      },
      "source": [
        "El método `lower()` es particularmente útil para almacenar datos. Con este método aseguramos que todos los caracteres sean siempre minúsculas, independientemente de si los usuarios escriben con mayúsculas o minúsculas"
      ]
    },
    {
      "cell_type": "markdown",
      "metadata": {
        "id": "WO42lhAji5lt"
      },
      "source": [
        "### Usando variables en String\n",
        "\n",
        "En algunas situaciones, querremos usar el valor de una variable dentro de un String.\n",
        "\n",
        "Por ejemplo, es posible que deseemos que dos variables representen un nombre y un apellido, y luego combinar estos valores para mostrar el nombre completo."
      ]
    },
    {
      "cell_type": "code",
      "metadata": {
        "id": "Bi9G1dwoiI7T"
      },
      "source": [
        "nombre = \"jahaziel\"\n",
        "apellido = \"ponce\""
      ],
      "execution_count": null,
      "outputs": []
    },
    {
      "cell_type": "markdown",
      "metadata": {
        "id": "q4uzyp1Sjvx4"
      },
      "source": [
        "Para insertar el valor de una variable en una cadena, coloque la letra `f` inmediatamente antes de la comilla de apertura. Coloque llaves `{}` alrededor del nombre o nombres de cualquier variable que desee usar dentro del String. Python reemplazará cada variable con su valor cuando se muestre el String."
      ]
    },
    {
      "cell_type": "code",
      "metadata": {
        "id": "_OGwMXnijWsP"
      },
      "source": [
        "nombre_completo = f\"{nombre} {apellido}\""
      ],
      "execution_count": null,
      "outputs": []
    },
    {
      "cell_type": "code",
      "metadata": {
        "id": "ZtRMy2gjjdv9",
        "outputId": "c50d0410-4497-4a9c-9ca7-735e0c5771c5",
        "colab": {
          "base_uri": "https://localhost:8080/",
          "height": 34
        }
      },
      "source": [
        "print(nombre_completo)"
      ],
      "execution_count": null,
      "outputs": [
        {
          "output_type": "stream",
          "text": [
            "jahaziel ponce\n"
          ],
          "name": "stdout"
        }
      ]
    },
    {
      "cell_type": "markdown",
      "metadata": {
        "id": "uxyLvZbVkYfF"
      },
      "source": [
        "Estos String se llaman *f-strings*. *f* es para el formato, porque Python formatea el Sting reemplazando el nombre de cualquier variable entre llaves con su valor.\n",
        "\n",
        "Podemos hacer muchas cosas con *f-strings*. Por ejemplo, podemos usar *f-strings* para componer mensajes completos:"
      ]
    },
    {
      "cell_type": "code",
      "metadata": {
        "id": "sUlPxCk7jih9",
        "outputId": "0c347548-3829-4dce-f76a-f71df2db7904",
        "colab": {
          "base_uri": "https://localhost:8080/",
          "height": 34
        }
      },
      "source": [
        "print(f\"!Hola, {nombre_completo.title()}!\")"
      ],
      "execution_count": null,
      "outputs": [
        {
          "output_type": "stream",
          "text": [
            "!Hola, Jahaziel Ponce!\n"
          ],
          "name": "stdout"
        }
      ]
    },
    {
      "cell_type": "markdown",
      "metadata": {
        "id": "RUeo5ioyv3FK"
      },
      "source": [
        "El nombre completo se usa en la oración que salida al usuario y el método `title()` cambia el nombre a mayúscula.\n",
        "\n",
        "También podemos usar f-strings para componer un mensaje, y asignar el mensaje completo a una variable."
      ]
    },
    {
      "cell_type": "code",
      "metadata": {
        "id": "0sHekmjejpe2"
      },
      "source": [
        "mensaje = f\"¡Hola, {nombre_completo.title()}!\""
      ],
      "execution_count": null,
      "outputs": []
    },
    {
      "cell_type": "code",
      "metadata": {
        "id": "cLmGR1DtwKQm",
        "outputId": "b37afd42-da2d-4707-c78f-6183ddcbf3f2",
        "colab": {
          "base_uri": "https://localhost:8080/",
          "height": 34
        }
      },
      "source": [
        "print(mensaje)"
      ],
      "execution_count": null,
      "outputs": [
        {
          "output_type": "stream",
          "text": [
            "¡Hola, Jahaziel Ponce!\n"
          ],
          "name": "stdout"
        }
      ]
    },
    {
      "cell_type": "markdown",
      "metadata": {
        "id": "bs8VwwNgwQd1"
      },
      "source": [
        "El código muestra el mensaje `¡Hola, Jahaziel Ponce!` y lo asigna a la variable `mensaje`"
      ]
    },
    {
      "cell_type": "markdown",
      "metadata": {
        "id": "AKQ4vzrXwiHC"
      },
      "source": [
        "### Agregando espacios en blanco a String con pestañas o líneas nuevas\n",
        "\n",
        "En programación, el espacio en blando se refiere a cualquier caracter no imprimible, como espacios, tabulaciones y símbolos de fin de línea.\n",
        "\n",
        "Puede usar espacios en blanco para organizar nuestra salida para que sea más facil leer para los usuarios.\n",
        "\n",
        "Para agregar una tabulación a nuestro texto, usamos la combinacón de caracteres `\\t`."
      ]
    },
    {
      "cell_type": "code",
      "metadata": {
        "id": "6eo80pHPwLJe",
        "outputId": "28b96b04-af10-4968-850e-00266ecb23bf",
        "colab": {
          "base_uri": "https://localhost:8080/",
          "height": 34
        }
      },
      "source": [
        "print(\"Python\")"
      ],
      "execution_count": null,
      "outputs": [
        {
          "output_type": "stream",
          "text": [
            "Python\n"
          ],
          "name": "stdout"
        }
      ]
    },
    {
      "cell_type": "code",
      "metadata": {
        "id": "w2A5mwhQxeOf",
        "outputId": "225d522a-c010-434f-c6af-3112093524bd",
        "colab": {
          "base_uri": "https://localhost:8080/",
          "height": 34
        }
      },
      "source": [
        "print(\"\\tPython\")"
      ],
      "execution_count": null,
      "outputs": [
        {
          "output_type": "stream",
          "text": [
            "\tPython\n"
          ],
          "name": "stdout"
        }
      ]
    },
    {
      "cell_type": "markdown",
      "metadata": {
        "id": "KVJ7iCrYxh8u"
      },
      "source": [
        "Para añadir una nueva línea en un String, usamos la combinación de caracteres `\\n`."
      ]
    },
    {
      "cell_type": "code",
      "metadata": {
        "id": "Yb7D5cnfxfum",
        "outputId": "15b0d72e-cf64-46b2-ddd5-ad4d6210acee",
        "colab": {
          "base_uri": "https://localhost:8080/",
          "height": 85
        }
      },
      "source": [
        "print(\"Lenguajes:\\nPython\\nC\\nJavaScript\")"
      ],
      "execution_count": null,
      "outputs": [
        {
          "output_type": "stream",
          "text": [
            "Lenguajes:\n",
            "Python\n",
            "C\n",
            "JavaScript\n"
          ],
          "name": "stdout"
        }
      ]
    },
    {
      "cell_type": "markdown",
      "metadata": {
        "id": "4V4ooc0wx2m5"
      },
      "source": [
        "Podemos también combinar tabulaciones y nuevas líneas en un simple String. El String `\"\\n\\t\"` le dice a Python que mueva una línea y empiece la siguiente línea con una tabulación."
      ]
    },
    {
      "cell_type": "code",
      "metadata": {
        "id": "FpD5LofQxy_T",
        "outputId": "9ebcdd02-0b7f-42b0-8cb7-9247008f7189",
        "colab": {
          "base_uri": "https://localhost:8080/",
          "height": 85
        }
      },
      "source": [
        "print(\"Lenguajes:\\n\\tPython\\n\\tC\\n\\tJavaScript\")"
      ],
      "execution_count": null,
      "outputs": [
        {
          "output_type": "stream",
          "text": [
            "Lenguajes:\n",
            "\tPython\n",
            "\tC\n",
            "\tJavaScript\n"
          ],
          "name": "stdout"
        }
      ]
    },
    {
      "cell_type": "markdown",
      "metadata": {
        "id": "J7Qi3ouZyP0l"
      },
      "source": [
        "### Eliminar espacios en blanco\n",
        "\n",
        "Los espacios en blanco adicionales pueden ser confusos en nuestros programas. Por ejemplo, para nosotros `'python'` y `'python '` se ven más o menos lo mismo, pero para un programa estas son String diferentes. Python detecta el espacio extra en `'python '` y lo considera significativo.\n",
        "\n",
        "Es importante pensar en los espacios en blanco, ya que a menudo querremos comparar dos String para determinar si son iguales. Por ejemplo, verificar los nombres de usuarios cuando inician sesión en una página web.\n",
        "\n",
        "Los espacios en blanco adicionales pueden ser confusos en situaciones más simples.\n",
        "\n",
        "Para asegurarnos de que no existan espacios en blanco en el extremo derecho de un String, usamos el método `rstrip`"
      ]
    },
    {
      "cell_type": "code",
      "metadata": {
        "id": "Jy9N75z0yKbt",
        "outputId": "889d09f8-7775-4a37-af05-5525e9f0d1ff",
        "colab": {
          "base_uri": "https://localhost:8080/",
          "height": 34
        }
      },
      "source": [
        "lenguaje_favorito = \"python \"\n",
        "lenguaje_favorito"
      ],
      "execution_count": null,
      "outputs": [
        {
          "output_type": "execute_result",
          "data": {
            "text/plain": [
              "'python '"
            ]
          },
          "metadata": {
            "tags": []
          },
          "execution_count": 52
        }
      ]
    },
    {
      "cell_type": "code",
      "metadata": {
        "id": "Yxb0UQAR4p8t",
        "outputId": "db68870c-75b1-498b-e308-a2accd9b5d77",
        "colab": {
          "base_uri": "https://localhost:8080/",
          "height": 34
        }
      },
      "source": [
        "lenguaje_favorito.rstrip()"
      ],
      "execution_count": null,
      "outputs": [
        {
          "output_type": "execute_result",
          "data": {
            "text/plain": [
              "'python'"
            ]
          },
          "metadata": {
            "tags": []
          },
          "execution_count": 53
        }
      ]
    },
    {
      "cell_type": "markdown",
      "metadata": {
        "id": "ugcMyx284-oY"
      },
      "source": [
        "El valor asociado con `lenguaje_favorito` contiene espacios en blanco adicionales al final del String.\n",
        "El método `rstrip()` actua sobre la variable `lenguaje_favorito` y el espacio extra se elimina. Pero solo es temporal, ya que la variable original sigue con el espacio en blanco"
      ]
    },
    {
      "cell_type": "code",
      "metadata": {
        "id": "1rmjseUP4uxz",
        "outputId": "5998e591-16b6-4716-d66a-6ee331cd21ce",
        "colab": {
          "base_uri": "https://localhost:8080/",
          "height": 34
        }
      },
      "source": [
        "lenguaje_favorito"
      ],
      "execution_count": null,
      "outputs": [
        {
          "output_type": "execute_result",
          "data": {
            "text/plain": [
              "'python '"
            ]
          },
          "metadata": {
            "tags": []
          },
          "execution_count": 54
        }
      ]
    },
    {
      "cell_type": "markdown",
      "metadata": {
        "id": "I_R-dWSg5cWo"
      },
      "source": [
        "Para eliminar el espacio en blanco del String de forma permanente, debemos asociar el valor eliminar con el nombre de la variable."
      ]
    },
    {
      "cell_type": "code",
      "metadata": {
        "id": "0hdn6SdI5bJr",
        "outputId": "120c1814-6d8a-4535-9b72-7cf9b4c2f4d6",
        "colab": {
          "base_uri": "https://localhost:8080/",
          "height": 34
        }
      },
      "source": [
        "lenguaje_favorito = \"python \"\n",
        "lenguaje_favorito = lenguaje_favorito.rstrip()\n",
        "lenguaje_favorito"
      ],
      "execution_count": null,
      "outputs": [
        {
          "output_type": "execute_result",
          "data": {
            "text/plain": [
              "'python'"
            ]
          },
          "metadata": {
            "tags": []
          },
          "execution_count": 55
        }
      ]
    },
    {
      "cell_type": "markdown",
      "metadata": {
        "id": "3Zf2oare50Mt"
      },
      "source": [
        "Ahora la variable `lenguaje_favorito` no tiene espacios en blanco a la derecha.\n",
        "\n",
        "Cambiar el valor de una variable se realiza a menudo en programación.\n",
        "\n",
        "Para quitar espacios en blanco al lado izquiero de un String usammos el método `lstrip()` y para quitar los espacios en blanco en ambos lados a la vez usamos el método `strip()`"
      ]
    },
    {
      "cell_type": "code",
      "metadata": {
        "id": "tGVOjawc5psa",
        "outputId": "391572f9-5a15-408c-fed1-bf37bbc0e059",
        "colab": {
          "base_uri": "https://localhost:8080/",
          "height": 34
        }
      },
      "source": [
        "lenguaje_favorito = ' python '\n",
        "lenguaje_favorito.rstrip()"
      ],
      "execution_count": null,
      "outputs": [
        {
          "output_type": "execute_result",
          "data": {
            "text/plain": [
              "' python'"
            ]
          },
          "metadata": {
            "tags": []
          },
          "execution_count": 56
        }
      ]
    },
    {
      "cell_type": "code",
      "metadata": {
        "id": "mU_o1yi36P1q",
        "outputId": "15756fd2-5fef-4f42-eb13-3b854af5997a",
        "colab": {
          "base_uri": "https://localhost:8080/",
          "height": 34
        }
      },
      "source": [
        "lenguaje_favorito.lstrip()"
      ],
      "execution_count": null,
      "outputs": [
        {
          "output_type": "execute_result",
          "data": {
            "text/plain": [
              "'python '"
            ]
          },
          "metadata": {
            "tags": []
          },
          "execution_count": 61
        }
      ]
    },
    {
      "cell_type": "code",
      "metadata": {
        "id": "b--XKcuI6Rei",
        "outputId": "aa65d40c-29ab-4712-dfea-e98af23dae1f",
        "colab": {
          "base_uri": "https://localhost:8080/",
          "height": 34
        }
      },
      "source": [
        "lenguaje_favorito.strip()"
      ],
      "execution_count": null,
      "outputs": [
        {
          "output_type": "execute_result",
          "data": {
            "text/plain": [
              "'python'"
            ]
          },
          "metadata": {
            "tags": []
          },
          "execution_count": 62
        }
      ]
    },
    {
      "cell_type": "markdown",
      "metadata": {
        "id": "ziWHvzTW6dv4"
      },
      "source": [
        "### Evitando errores de sintaxis con String\n",
        "\n",
        "Un error común cuando se trabaja con Strings en Python son los errores de Sintaxis. Se produce un error de sintaxis cuando Python no reconoce una sección de su programa como código Python válido.\n",
        "\n",
        "Por ejemplo, si usa un apóstrofe entre comillas simples, generará un error. Esto sucede porque Python interpreta todo lo que está entre la comilla simple y el apóstrofe como una cadena. Al intentar interpretar el resto del texto como código Python, causará error.\n",
        "\n",
        "Veamos cómo usar comillas simples y dobles correctamente."
      ]
    },
    {
      "cell_type": "code",
      "metadata": {
        "id": "RPbTXsyR6TYy",
        "outputId": "29973693-33e9-46bf-9297-09eb92176c61",
        "colab": {
          "base_uri": "https://localhost:8080/",
          "height": 34
        }
      },
      "source": [
        "mensaje = \"Mi nombre completo es: 'Jahaziel Ponce'\"\n",
        "print(mensaje)"
      ],
      "execution_count": null,
      "outputs": [
        {
          "output_type": "stream",
          "text": [
            "Mi nombre completo es: 'Jahaziel Ponce'\n"
          ],
          "name": "stdout"
        }
      ]
    },
    {
      "cell_type": "markdown",
      "metadata": {
        "id": "umsHMiRB7fq9"
      },
      "source": [
        "Las comillas simples aparecen dentro del conjunto de comillas dobles, por lo que Python no tiene problemas para leer el String correctamente.\n",
        "\n",
        "Pero veamos el siguiente ejemplo:"
      ]
    },
    {
      "cell_type": "code",
      "metadata": {
        "id": "1TmBgHNh7dY8",
        "outputId": "bfdac69e-0e26-41f9-8a31-3be87b5f4ab7",
        "colab": {
          "base_uri": "https://localhost:8080/",
          "height": 129
        }
      },
      "source": [
        "mensaje = 'Mi nombre completo es : 'Jahaziel Ponce''\n",
        "print(mensaje)"
      ],
      "execution_count": null,
      "outputs": [
        {
          "output_type": "error",
          "ename": "SyntaxError",
          "evalue": "ignored",
          "traceback": [
            "\u001b[0;36m  File \u001b[0;32m\"<ipython-input-64-c09f2acd9e5b>\"\u001b[0;36m, line \u001b[0;32m1\u001b[0m\n\u001b[0;31m    mensaje = 'Mi nombre completo es : 'Jahaziel Ponce''\u001b[0m\n\u001b[0m                                               ^\u001b[0m\n\u001b[0;31mSyntaxError\u001b[0m\u001b[0;31m:\u001b[0m invalid syntax\n"
          ]
        }
      ]
    },
    {
      "cell_type": "markdown",
      "metadata": {
        "id": "Q9HSNUHE9C7E"
      },
      "source": [
        "En la salida se puede ver que el error ocurre en la primera línea, justo después de la segunda comilla simple. Este error de sintaxis indica que el intérprete no reconoce algo en el código como código Python válido."
      ]
    },
    {
      "cell_type": "markdown",
      "metadata": {
        "id": "95b_yeq29R6Z"
      },
      "source": [
        "## Números\n",
        "\n",
        "Los números se usan con bastante frecuencia en la programación.\n",
        "Por ejemplo, puntuación en juegos, información de aplicaciones, etc.\n",
        "\n",
        "Python trata los números de varias maneras, según como se usen.\n",
        "\n",
        "Empecemos con los enteros, que son los más simples para trabajar"
      ]
    },
    {
      "cell_type": "markdown",
      "metadata": {
        "id": "8fpLVay49qVa"
      },
      "source": [
        "### Enteros\n",
        "\n",
        "Podemos sumar (`+`), restar (`-`), multiplicar (`*`) y dividir (`/`) enteros en Python"
      ]
    },
    {
      "cell_type": "code",
      "metadata": {
        "id": "XHrlUzw87ygi",
        "outputId": "cd3ffc48-2bd0-4c76-8896-f3ee22d0de90",
        "colab": {
          "base_uri": "https://localhost:8080/",
          "height": 34
        }
      },
      "source": [
        "2 + 3"
      ],
      "execution_count": null,
      "outputs": [
        {
          "output_type": "execute_result",
          "data": {
            "text/plain": [
              "5"
            ]
          },
          "metadata": {
            "tags": []
          },
          "execution_count": 66
        }
      ]
    },
    {
      "cell_type": "code",
      "metadata": {
        "id": "xqBZPWCp9447",
        "outputId": "13031ef4-a61c-4495-e480-60e69e94351f",
        "colab": {
          "base_uri": "https://localhost:8080/",
          "height": 34
        }
      },
      "source": [
        "3 - 2"
      ],
      "execution_count": null,
      "outputs": [
        {
          "output_type": "execute_result",
          "data": {
            "text/plain": [
              "1"
            ]
          },
          "metadata": {
            "tags": []
          },
          "execution_count": 67
        }
      ]
    },
    {
      "cell_type": "code",
      "metadata": {
        "id": "TqXWG_sr96nt",
        "outputId": "e3fe5c28-f65d-41f7-f58a-cf5748bc01b6",
        "colab": {
          "base_uri": "https://localhost:8080/",
          "height": 34
        }
      },
      "source": [
        "2 * 3"
      ],
      "execution_count": null,
      "outputs": [
        {
          "output_type": "execute_result",
          "data": {
            "text/plain": [
              "6"
            ]
          },
          "metadata": {
            "tags": []
          },
          "execution_count": 68
        }
      ]
    },
    {
      "cell_type": "code",
      "metadata": {
        "id": "clzFqPis97Pi",
        "outputId": "2a16f6c1-80aa-444a-93ed-bb75c76787ae",
        "colab": {
          "base_uri": "https://localhost:8080/",
          "height": 34
        }
      },
      "source": [
        "3 / 2"
      ],
      "execution_count": null,
      "outputs": [
        {
          "output_type": "execute_result",
          "data": {
            "text/plain": [
              "1.5"
            ]
          },
          "metadata": {
            "tags": []
          },
          "execution_count": 69
        }
      ]
    },
    {
      "cell_type": "markdown",
      "metadata": {
        "id": "FHg4kwfa9_Kw"
      },
      "source": [
        "Python usa el símbolo de doble multiplicación (`**`) para representar potencias."
      ]
    },
    {
      "cell_type": "code",
      "metadata": {
        "id": "lNygknc2971C",
        "outputId": "8f885faa-f1b1-4b6e-ec74-cc68f1be4b3d",
        "colab": {
          "base_uri": "https://localhost:8080/",
          "height": 34
        }
      },
      "source": [
        "3 ** 2"
      ],
      "execution_count": null,
      "outputs": [
        {
          "output_type": "execute_result",
          "data": {
            "text/plain": [
              "9"
            ]
          },
          "metadata": {
            "tags": []
          },
          "execution_count": 70
        }
      ]
    },
    {
      "cell_type": "code",
      "metadata": {
        "id": "IHCgyvIO-Hil",
        "outputId": "2155f019-7fbe-4b50-ccd2-d364fdd8befa",
        "colab": {
          "base_uri": "https://localhost:8080/",
          "height": 34
        }
      },
      "source": [
        "3 ** 3"
      ],
      "execution_count": null,
      "outputs": [
        {
          "output_type": "execute_result",
          "data": {
            "text/plain": [
              "27"
            ]
          },
          "metadata": {
            "tags": []
          },
          "execution_count": 71
        }
      ]
    },
    {
      "cell_type": "code",
      "metadata": {
        "id": "ImL6hI4d-Ikj",
        "outputId": "8bb28f89-b487-41bf-b79b-dffcbeba8295",
        "colab": {
          "base_uri": "https://localhost:8080/",
          "height": 34
        }
      },
      "source": [
        "10 ** 6"
      ],
      "execution_count": null,
      "outputs": [
        {
          "output_type": "execute_result",
          "data": {
            "text/plain": [
              "1000000"
            ]
          },
          "metadata": {
            "tags": []
          },
          "execution_count": 72
        }
      ]
    },
    {
      "cell_type": "markdown",
      "metadata": {
        "id": "4547o0AO-KxV"
      },
      "source": [
        "Python también admite el orden de las operaciones, por lo que podemos uasr varias operaciones en una sola expresión. Podemos usar paréntesis para modificar el orden de las operaciones para que Python puede evaluar su expresión en el orden que especifique"
      ]
    },
    {
      "cell_type": "code",
      "metadata": {
        "id": "8_1OnTjL-JWS",
        "outputId": "d88b55f1-f726-4573-f156-2ff5a71b4ffb",
        "colab": {
          "base_uri": "https://localhost:8080/",
          "height": 34
        }
      },
      "source": [
        "2 + 3 * 4"
      ],
      "execution_count": null,
      "outputs": [
        {
          "output_type": "execute_result",
          "data": {
            "text/plain": [
              "14"
            ]
          },
          "metadata": {
            "tags": []
          },
          "execution_count": 73
        }
      ]
    },
    {
      "cell_type": "code",
      "metadata": {
        "id": "aFSLdhms-eNd",
        "outputId": "1b87cfc3-537e-45fd-ac0b-2e3372f50c6b",
        "colab": {
          "base_uri": "https://localhost:8080/",
          "height": 34
        }
      },
      "source": [
        "(2 + 3) * 4"
      ],
      "execution_count": null,
      "outputs": [
        {
          "output_type": "execute_result",
          "data": {
            "text/plain": [
              "20"
            ]
          },
          "metadata": {
            "tags": []
          },
          "execution_count": 74
        }
      ]
    },
    {
      "cell_type": "markdown",
      "metadata": {
        "id": "hFQOrmS_-huT"
      },
      "source": [
        "Los espacios en blanco no tienen efecto en la evaluación por Python."
      ]
    },
    {
      "cell_type": "markdown",
      "metadata": {
        "id": "7Vb_pG_X-pvY"
      },
      "source": [
        "### Float\n",
        "\n",
        "Python llama a cualquier número con punto decimal *Float* o *flotante*. Se refiere al hecho de que un punto decimal puede aparecer en cualquier posición de un número.\n",
        "\n",
        "En la mayoría de ocasiones, podemos usar decimales sin preocuparnos por su comportamiento."
      ]
    },
    {
      "cell_type": "code",
      "metadata": {
        "id": "c0Dm_o1u-fQz",
        "outputId": "2387fc31-ee93-4247-947c-be552df55204",
        "colab": {
          "base_uri": "https://localhost:8080/",
          "height": 34
        }
      },
      "source": [
        "0.1 + 0.1"
      ],
      "execution_count": null,
      "outputs": [
        {
          "output_type": "execute_result",
          "data": {
            "text/plain": [
              "0.2"
            ]
          },
          "metadata": {
            "tags": []
          },
          "execution_count": 75
        }
      ]
    },
    {
      "cell_type": "code",
      "metadata": {
        "id": "BaBjm4qb_NqV",
        "outputId": "6bfd8564-5ceb-43f8-ee27-ffe85f3c55e2",
        "colab": {
          "base_uri": "https://localhost:8080/",
          "height": 34
        }
      },
      "source": [
        "0.2 + 0.2"
      ],
      "execution_count": null,
      "outputs": [
        {
          "output_type": "execute_result",
          "data": {
            "text/plain": [
              "0.4"
            ]
          },
          "metadata": {
            "tags": []
          },
          "execution_count": 76
        }
      ]
    },
    {
      "cell_type": "code",
      "metadata": {
        "id": "FIq4KfvM_OXT",
        "outputId": "2f9296c3-676b-4210-afa5-e671cd69c633",
        "colab": {
          "base_uri": "https://localhost:8080/",
          "height": 34
        }
      },
      "source": [
        "2 * 0.1"
      ],
      "execution_count": null,
      "outputs": [
        {
          "output_type": "execute_result",
          "data": {
            "text/plain": [
              "0.2"
            ]
          },
          "metadata": {
            "tags": []
          },
          "execution_count": 77
        }
      ]
    },
    {
      "cell_type": "code",
      "metadata": {
        "id": "qcz9vYmz_O9z",
        "outputId": "a3eeef77-f45f-4207-a20f-b34dea493c69",
        "colab": {
          "base_uri": "https://localhost:8080/",
          "height": 34
        }
      },
      "source": [
        "2 * 0.2"
      ],
      "execution_count": null,
      "outputs": [
        {
          "output_type": "execute_result",
          "data": {
            "text/plain": [
              "0.4"
            ]
          },
          "metadata": {
            "tags": []
          },
          "execution_count": 78
        }
      ]
    },
    {
      "cell_type": "markdown",
      "metadata": {
        "id": "rM4fYDa-_UJM"
      },
      "source": [
        "Aveces podemos obtener un número arbitrario de decimales en la respuesta"
      ]
    },
    {
      "cell_type": "code",
      "metadata": {
        "id": "gobZigl7_Prz",
        "outputId": "7476dbb4-3e8b-4766-8b7d-c848d249b022",
        "colab": {
          "base_uri": "https://localhost:8080/",
          "height": 34
        }
      },
      "source": [
        "0.2 + 0.1"
      ],
      "execution_count": null,
      "outputs": [
        {
          "output_type": "execute_result",
          "data": {
            "text/plain": [
              "0.30000000000000004"
            ]
          },
          "metadata": {
            "tags": []
          },
          "execution_count": 79
        }
      ]
    },
    {
      "cell_type": "code",
      "metadata": {
        "id": "G3l8EflD_ZL6",
        "outputId": "af7a6e6f-deb5-40d0-f1ae-fd5d23b7f81f",
        "colab": {
          "base_uri": "https://localhost:8080/",
          "height": 34
        }
      },
      "source": [
        "3 * 0.1"
      ],
      "execution_count": null,
      "outputs": [
        {
          "output_type": "execute_result",
          "data": {
            "text/plain": [
              "0.30000000000000004"
            ]
          },
          "metadata": {
            "tags": []
          },
          "execution_count": 80
        }
      ]
    },
    {
      "cell_type": "markdown",
      "metadata": {
        "id": "e2Z4pU3x_gCt"
      },
      "source": [
        "Esto sucede en todos los lenguajes de programación, por lo que no debemos preocuparnos. Python trata de encontrar la manera de representar el resultado con la mayor precisión posible, lo que aveces es dificil dado que las computadoras tienen que representar los números internamente."
      ]
    },
    {
      "cell_type": "markdown",
      "metadata": {
        "id": "oro9bjYR_uiQ"
      },
      "source": [
        "### Enteros y Float\n",
        "\n",
        "Cuando dividimos independientemente de si son enteros o floats, el resultado siempre será un float"
      ]
    },
    {
      "cell_type": "code",
      "metadata": {
        "id": "kCY8qvRB_aLM",
        "outputId": "500a1ab4-7cd0-4d64-ec97-2385eee606ec",
        "colab": {
          "base_uri": "https://localhost:8080/",
          "height": 34
        }
      },
      "source": [
        "4 / 2"
      ],
      "execution_count": null,
      "outputs": [
        {
          "output_type": "execute_result",
          "data": {
            "text/plain": [
              "2.0"
            ]
          },
          "metadata": {
            "tags": []
          },
          "execution_count": 83
        }
      ]
    },
    {
      "cell_type": "markdown",
      "metadata": {
        "id": "spqwvGca_-Fv"
      },
      "source": [
        "Si combinamos un entero y float en cualquier operación, el resultado será un float"
      ]
    },
    {
      "cell_type": "code",
      "metadata": {
        "id": "waU2eHgb_6Xz",
        "outputId": "4161f6ab-b7ab-4108-dcea-c01d1cec6d40",
        "colab": {
          "base_uri": "https://localhost:8080/",
          "height": 34
        }
      },
      "source": [
        "1 + 2.0"
      ],
      "execution_count": null,
      "outputs": [
        {
          "output_type": "execute_result",
          "data": {
            "text/plain": [
              "3.0"
            ]
          },
          "metadata": {
            "tags": []
          },
          "execution_count": 84
        }
      ]
    },
    {
      "cell_type": "code",
      "metadata": {
        "id": "4LPO3L-7AHhU",
        "outputId": "fd9b3376-dc51-4024-8b9a-8059fdf9edd8",
        "colab": {
          "base_uri": "https://localhost:8080/",
          "height": 34
        }
      },
      "source": [
        "2 * 3.0"
      ],
      "execution_count": null,
      "outputs": [
        {
          "output_type": "execute_result",
          "data": {
            "text/plain": [
              "6.0"
            ]
          },
          "metadata": {
            "tags": []
          },
          "execution_count": 85
        }
      ]
    },
    {
      "cell_type": "code",
      "metadata": {
        "id": "LjzDseZMAIYy",
        "outputId": "ee30c0b0-b2ac-465d-b930-425fd8968ab7",
        "colab": {
          "base_uri": "https://localhost:8080/",
          "height": 34
        }
      },
      "source": [
        "3.0 ** 2"
      ],
      "execution_count": null,
      "outputs": [
        {
          "output_type": "execute_result",
          "data": {
            "text/plain": [
              "9.0"
            ]
          },
          "metadata": {
            "tags": []
          },
          "execution_count": 86
        }
      ]
    },
    {
      "cell_type": "markdown",
      "metadata": {
        "id": "ruDNZtD5AMro"
      },
      "source": [
        "Python tiene como valor predeterminado un float en cualquier operación que participe un float, incluso si la salida es un número entero."
      ]
    },
    {
      "cell_type": "markdown",
      "metadata": {
        "id": "DFNGUa1jAXk8"
      },
      "source": [
        "### Guiones bajos en números\n",
        "\n",
        "Cuando escribimos números largos, podemos agrupar dígitos usando guiones bajos para que los números grandes sean más legibles"
      ]
    },
    {
      "cell_type": "code",
      "metadata": {
        "id": "SA0z11Z6AnGT"
      },
      "source": [
        "edad_universo = 14_000_000_000"
      ],
      "execution_count": null,
      "outputs": []
    },
    {
      "cell_type": "markdown",
      "metadata": {
        "id": "GP30AcfJAvXA"
      },
      "source": [
        "Python solo imprimirá los dígitos"
      ]
    },
    {
      "cell_type": "code",
      "metadata": {
        "id": "lHq5GadDAuxz",
        "outputId": "94e76828-48a1-4e3e-f4de-544c47ff114b",
        "colab": {
          "base_uri": "https://localhost:8080/",
          "height": 34
        }
      },
      "source": [
        "print(edad_universo)"
      ],
      "execution_count": null,
      "outputs": [
        {
          "output_type": "stream",
          "text": [
            "14000000000\n"
          ],
          "name": "stdout"
        }
      ]
    },
    {
      "cell_type": "markdown",
      "metadata": {
        "id": "bcZc6AUSA5BF"
      },
      "source": [
        "Python ignora los guiones bajos al almacenar este tipo de valores. Para Python es lo mismo `1000` que `1_000`. Esta función funciona tanto para enteros como floats"
      ]
    },
    {
      "cell_type": "markdown",
      "metadata": {
        "id": "GpcKaBzJCshZ"
      },
      "source": [
        "### Asignaciones múltiples\n",
        "\n",
        "Podemos asignar valores a más de una variable en una sola línea. Esto puede ayudarnos a acortar nuestros programas y hacerlos más fáciles de leer.\n",
        "\n",
        "Por ejemplo, vamos a inicializar la variables `x`, `y` y `z` a `0`\n"
      ]
    },
    {
      "cell_type": "code",
      "metadata": {
        "id": "HLBuUJ6oAyP8"
      },
      "source": [
        "x, y, z = 0, 0, 0"
      ],
      "execution_count": null,
      "outputs": []
    },
    {
      "cell_type": "code",
      "metadata": {
        "id": "6sK7r4iqBQgE",
        "outputId": "b22f22eb-3227-40ad-c23d-73ca5e5c2b80",
        "colab": {
          "base_uri": "https://localhost:8080/",
          "height": 68
        }
      },
      "source": [
        "print(x)\n",
        "print(y)\n",
        "print(z)"
      ],
      "execution_count": null,
      "outputs": [
        {
          "output_type": "stream",
          "text": [
            "0\n",
            "0\n",
            "0\n"
          ],
          "name": "stdout"
        }
      ]
    },
    {
      "cell_type": "markdown",
      "metadata": {
        "id": "aFKeCVDJDIjp"
      },
      "source": [
        "Debemos separar los nombres de las variables con `,` y hacer lo mismo con los valores. Python asignará cada valor a su variable posicionada correctamente. Deben de coincidir el número de valores con el número de variables."
      ]
    },
    {
      "cell_type": "markdown",
      "metadata": {
        "id": "rqhaQuFjDUdH"
      },
      "source": [
        "### Constantes\n",
        "\n",
        "Una constante no es más que una variable pero cuyo valor permanece igual en todas la vida del programa.\n",
        "\n",
        "Para identificar una constante se recomienda definir la variable en mayúsculas."
      ]
    },
    {
      "cell_type": "code",
      "metadata": {
        "id": "wPTz3zIODEwL"
      },
      "source": [
        "CONEXIONES_MAXIMAS = 5000"
      ],
      "execution_count": null,
      "outputs": []
    }
  ]
}